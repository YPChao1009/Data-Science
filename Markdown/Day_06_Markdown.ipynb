{
 "cells": [
  {
   "cell_type": "markdown",
   "id": "77352903",
   "metadata": {},
   "source": [
    "# 範例目標:\n",
    "\n",
    "運用 Numpy 讀取或輸出不同檔案格式\n",
    "\n",
    "\n",
    "# 範例重點:\n",
    "\n",
    "1. 注意不同檔案格式有不同的讀取、輸出方式\n",
    "2. .npy 與 .npz 格式是NumPy的檔案格式，透過 save()、savez()、load() 函式進行儲存與讀取\n",
    "3. 針對文字檔，可以使用 savetxt()、loadtxt()、genfromtxt() 來儲存與讀取\n",
    "\n",
    "# [教學目標]\n",
    "\n",
    "* 了解並且學會使用陣列中的統計方法\n",
    "* 了解並且學會使用陣列中的搜尋與排序方法\n",
    "* 了解並且學會使用陣列中的形狀方法\n"
   ]
  },
  {
   "cell_type": "code",
   "execution_count": 33,
   "id": "23ef1b82",
   "metadata": {},
   "outputs": [],
   "source": [
    "import numpy as np"
   ]
  },
  {
   "cell_type": "markdown",
   "id": "3c1e6fcf",
   "metadata": {},
   "source": [
    "## 1. `numpy.save()`、`numpy.savez()`、`numpy.load()`\n",
    "\n",
    "`numpy.save()` 是將**單一陣列儲存到 .npy 格式的函式，**\n",
    "\n",
    "而 `numpy.savez()` 可以將**多個陣列儲存到同一個 .npz 格式的檔案中。**\n",
    "\n",
    "讀取 .npy / .npz 檔案，使用 `numpy.load()` 函式來**開啟檔案，並回傳檔案中的陣列。**\n",
    "\n",
    "呼叫 `numpy.save()` 時，儲存多個陣列時，內容會依序附加 (append) 在該**檔案的最後。**\n",
    "\n",
    "使用 `numpy.savez()` 時，可以儲存多個陣列。\n",
    "\n",
    "當呼叫 `numpy.load()` 載入 .npz 檔案時，回傳的會是 **NpzFile 類別。**\n",
    "\n",
    "透過 `files` 屬性回傳的 List，可以看到載入的物件\n",
    "\n",
    "相較於 CSV 或 TXT 檔案，開啟 NumPy 格式的檔案在效能上快非常多。\n",
    "\n",
    "![](https://miro.medium.com/max/984/1*xwpjjSdZwiOMnPJtdp9L2w.png)\n",
    "\n",
    "來源網址：[URL](https://towardsdatascience.com/what-is-npy-files-and-why-you-should-use-them-603373c78883)"
   ]
  },
  {
   "cell_type": "markdown",
   "id": "5c4820de",
   "metadata": {},
   "source": [
    "儲存單一陣列到 .npy 檔案，並用 `numpy.load()` 載入回傳陣列。"
   ]
  },
  {
   "cell_type": "code",
   "execution_count": 34,
   "id": "8825e8f9",
   "metadata": {},
   "outputs": [],
   "source": [
    "with open('one_array.npy', 'wb') as f:\n",
    "    np.save(f, np.array([1, 2]))"
   ]
  },
  {
   "cell_type": "code",
   "execution_count": 35,
   "id": "059c826f",
   "metadata": {},
   "outputs": [
    {
     "data": {
      "text/plain": [
       "array([1, 2])"
      ]
     },
     "execution_count": 35,
     "metadata": {},
     "output_type": "execute_result"
    }
   ],
   "source": [
    "np.load('one_array.npy')"
   ]
  },
  {
   "cell_type": "markdown",
   "id": "3c99fb5f",
   "metadata": {},
   "source": [
    "**`numpy.save()` 只能存單一陣列**"
   ]
  },
  {
   "cell_type": "code",
   "execution_count": 36,
   "id": "c1dbf87c",
   "metadata": {},
   "outputs": [],
   "source": [
    "with open('test.npy', 'wb') as f:\n",
    "    np.save(f, np.array([1, 2]))\n",
    "    np.save(f, np.array([1, 3]))\n",
    "    np.save(f, np.array([1, 4]))\n",
    "    np.save(f, np.array([1, 3]))"
   ]
  },
  {
   "cell_type": "markdown",
   "id": "8fcc41bb",
   "metadata": {},
   "source": [
    "載入的時候每一次 `numpy.load()` 就載入一個陣列。"
   ]
  },
  {
   "cell_type": "code",
   "execution_count": 37,
   "id": "aeaa259c",
   "metadata": {},
   "outputs": [
    {
     "name": "stdout",
     "output_type": "stream",
     "text": [
      "[1 2] [1 3] [1 4] [1 3]\n"
     ]
    }
   ],
   "source": [
    "with open('test.npy', 'rb') as f:\n",
    "    a = np.load(f)\n",
    "    b = np.load(f)\n",
    "    c = np.load(f)\n",
    "    d = np.load(f)\n",
    "\n",
    "print(a, b, c, d)"
   ]
  },
  {
   "cell_type": "markdown",
   "id": "008d88aa",
   "metadata": {},
   "source": [
    "**`numpy.savez()` 時，可以儲存多個陣列**。下面範例在儲存陣列時並指定陣列關鍵字 (array1, array2...)，若未指定的話預設會以 arr_0, arr_1... 關鍵字設定。"
   ]
  },
  {
   "cell_type": "code",
   "execution_count": 38,
   "id": "37912d03",
   "metadata": {},
   "outputs": [],
   "source": [
    "x = np.arange(10)\n",
    "y = np.array([1, 2, 3])\n",
    "z = np.random.rand(10)\n",
    "\n",
    "with open('multi_array.npz', 'wb') as f:\n",
    "    np.savez(f, array1=x, array2=y, array3=z)"
   ]
  },
  {
   "cell_type": "markdown",
   "id": "1c035d74",
   "metadata": {},
   "source": [
    "當呼叫 `numpy.load()` 載入 .npz 檔案時，回傳的會是 NpzFile 類別。"
   ]
  },
  {
   "cell_type": "code",
   "execution_count": 39,
   "id": "2bdf6755",
   "metadata": {},
   "outputs": [
    {
     "data": {
      "text/plain": [
       "numpy.lib.npyio.NpzFile"
      ]
     },
     "execution_count": 39,
     "metadata": {},
     "output_type": "execute_result"
    }
   ],
   "source": [
    "npzfile = np.load('multi_array.npz')\n",
    "type(npzfile)"
   ]
  },
  {
   "cell_type": "markdown",
   "id": "7dcfabc5",
   "metadata": {},
   "source": [
    "透過 files 屬性回傳的 List，可以看到載入的物件裡面包含 3 個陣列，名稱分別為 array1, array2, array3"
   ]
  },
  {
   "cell_type": "code",
   "execution_count": 40,
   "id": "006a5636",
   "metadata": {},
   "outputs": [
    {
     "data": {
      "text/plain": [
       "['array1', 'array2', 'array3']"
      ]
     },
     "execution_count": 40,
     "metadata": {},
     "output_type": "execute_result"
    }
   ],
   "source": [
    "npzfile.files"
   ]
  },
  {
   "cell_type": "markdown",
   "id": "09c41346",
   "metadata": {},
   "source": [
    "**顯示每一個陣列的內容。**"
   ]
  },
  {
   "cell_type": "code",
   "execution_count": 41,
   "id": "c60722c2",
   "metadata": {},
   "outputs": [
    {
     "name": "stdout",
     "output_type": "stream",
     "text": [
      "[0 1 2 3 4 5 6 7 8 9]\n",
      "[1 2 3]\n",
      "[0.82271518 0.5898398  0.61418199 0.03843925 0.06787261 0.66983922\n",
      " 0.63174277 0.99515424 0.40559107 0.86778909]\n"
     ]
    }
   ],
   "source": [
    "print(npzfile['array1'])\n",
    "print(npzfile['array2'])\n",
    "print(npzfile['array3'])"
   ]
  },
  {
   "cell_type": "markdown",
   "id": "13f7f8ad",
   "metadata": {},
   "source": [
    "# 2. `savetxt()` 與 `loadtxt()`\n",
    "\n",
    "### 2.1 `numpy.savetxt()`\n",
    "\n",
    "`savetxt()` 可將一維或是二維陣列儲存到文字檔，<br>\n",
    "並且可以設定元素值的格式、分隔符號、換行字元、檔頭 (header)、檔尾 (footer)、檔案字元編碼... 等引數。\n",
    "\n",
    "函式的用法如下：\n",
    "\n",
    "```python\n",
    "numpy.savetxt(fname, X, fmt='%.18e', delimiter=' ', newline='n', header='', footer='', comments='# ', encoding=None)\n",
    "```\n",
    "\n",
    "   使用 `fmt` 引數可以指定輸出的格式\n",
    "\n",
    "   在存檔時也可以加入 header / footer 做為檔案註解說明。\n",
    "\n",
    "```\n",
    "ex: np.savetxt('test.out', x, fmt='%1.4e', delimiter=',', header='this is,\\nheader', footer='this is footer')\n",
    "```\n",
    "\n",
    "引數的定義如下表：其中僅 fname 是必輸欄位。\n",
    "\n",
    "|引數名稱|定義|預設值|\n",
    "|---|---|---|\n",
    "|fname|檔案名稱||\n",
    "|X|要儲存的一維或二維陣列||\n",
    "|fmt|陣列元素的格式，例如科學記號的格式定義(%1.4e)、整數(%d)、浮點數(%f)...|%.18e|\n",
    "|delimiter|分隔符號|空格|\n",
    "|newline|換行字元|n|\n",
    "|header|檔頭註解文字|空字串|\n",
    "|footer|檔尾註解文字|空字串|\n",
    "|comments|註解文字的前綴字元或字串|#加一空格|\n",
    "|encoding|檔案的字元編碼|`None`|<br>\n",
    "<br>\n",
    "\n",
    "**使用 `%load <filename>` magic command 來查看檔案內容。**\n",
    "\n",
    "副檔名為 .gz : 存檔時會存為壓縮的 gzip 檔案。<br>\n",
    "\n",
    "- 一維陣列<br>\n",
    "\n",
    "  **需注意，如果儲存的陣列是一維的話，須加上中括號才能正常產生符號分隔檔格式，否則分隔符號會被忽略。**<br>\n",
    "\n",
    "  \n",
    "  \n",
    "\n",
    "- 二維陣列則沒有上述的情況。<br>\n",
    "\n",
    "\n",
    "\n"
   ]
  },
  {
   "cell_type": "code",
   "execution_count": 42,
   "id": "02d22e4a",
   "metadata": {},
   "outputs": [
    {
     "data": {
      "text/plain": [
       "array([0., 1., 2., 3., 4.])"
      ]
     },
     "execution_count": 42,
     "metadata": {},
     "output_type": "execute_result"
    }
   ],
   "source": [
    "x = y = z = np.arange(0.0,5.0,1.0)\n",
    "x"
   ]
  },
  {
   "cell_type": "code",
   "execution_count": 43,
   "id": "a0c75c04",
   "metadata": {},
   "outputs": [
    {
     "data": {
      "text/plain": [
       "array([[0, 1, 2, 3, 4],\n",
       "       [5, 6, 7, 8, 9]])"
      ]
     },
     "execution_count": 43,
     "metadata": {},
     "output_type": "execute_result"
    }
   ],
   "source": [
    "y = np.arange(10).reshape(2, 5)\n",
    "y"
   ]
  },
  {
   "cell_type": "markdown",
   "id": "6bdf817b",
   "metadata": {},
   "source": [
    "**需注意，如果儲存的陣列是一維的話，須加上中括號才能正常產生符號分隔檔格式，否則分隔符號會被忽略。**"
   ]
  },
  {
   "cell_type": "code",
   "execution_count": 44,
   "id": "16b545d4",
   "metadata": {},
   "outputs": [],
   "source": [
    "np.savetxt('test.out', [x], delimiter=',')"
   ]
  },
  {
   "cell_type": "markdown",
   "id": "72b11511",
   "metadata": {},
   "source": [
    "使用 `%load <filename>` magic command 來查看檔案內容。"
   ]
  },
  {
   "cell_type": "code",
   "execution_count": null,
   "id": "c7b632c0",
   "metadata": {},
   "outputs": [],
   "source": [
    "# 此magic command會出現下面\n",
    "%load test.out      "
   ]
  },
  {
   "cell_type": "code",
   "execution_count": null,
   "id": "1d0b7d9a",
   "metadata": {},
   "outputs": [],
   "source": [
    "%load test.out\n",
    "0.000000000000000000e+00,1.000000000000000000e+00,2.000000000000000000e+00,3.000000000000000000e+00,4.000000000000000000e+00\n"
   ]
  },
  {
   "cell_type": "code",
   "execution_count": null,
   "id": "4cca45b6",
   "metadata": {},
   "outputs": [],
   "source": [
    "np.savetxt('test.gz', [x], delimiter=',')"
   ]
  },
  {
   "cell_type": "code",
   "execution_count": null,
   "id": "01d6b366",
   "metadata": {},
   "outputs": [],
   "source": [
    "np.savetxt('test.csv', y, delimiter=',')"
   ]
  },
  {
   "cell_type": "code",
   "execution_count": null,
   "id": "b84251ae",
   "metadata": {},
   "outputs": [],
   "source": [
    "#此magic command會出現下面\n",
    "%load test.csv       "
   ]
  },
  {
   "cell_type": "code",
   "execution_count": null,
   "id": "fdc35933",
   "metadata": {},
   "outputs": [],
   "source": [
    "# %load test.csv\n",
    "0.000000000000000000e+00,1.000000000000000000e+00,2.000000000000000000e+00,3.000000000000000000e+00,4.000000000000000000e+00\n",
    "5.000000000000000000e+00,6.000000000000000000e+00,7.000000000000000000e+00,8.000000000000000000e+00,9.000000000000000000e+00\n"
   ]
  },
  {
   "cell_type": "markdown",
   "id": "15485f5b",
   "metadata": {},
   "source": [
    "使用 `fmt` 引數可以指定輸出的格式，下例是指定科學記號的格式來輸出陣列值。\n",
    "\n",
    "在存檔時也可以加入 header / footer 做為檔案註解說明。"
   ]
  },
  {
   "cell_type": "code",
   "execution_count": null,
   "id": "657d4143",
   "metadata": {},
   "outputs": [],
   "source": [
    "np.savetxt('test.out', x, fmt='%1.4e', delimiter=',', header='this is,\\nheader', footer='this is footer')"
   ]
  },
  {
   "cell_type": "code",
   "execution_count": null,
   "id": "592db1c2",
   "metadata": {},
   "outputs": [],
   "source": [
    "#此magic command會出現下面\n",
    "%load test.out                     "
   ]
  },
  {
   "cell_type": "code",
   "execution_count": null,
   "id": "a7ffe7a7",
   "metadata": {},
   "outputs": [],
   "source": [
    "# %load test.out\n",
    "# this is,\n",
    "# header\n",
    "0.0000e+00\n",
    "1.0000e+00\n",
    "2.0000e+00\n",
    "3.0000e+00\n",
    "4.0000e+00\n",
    "# this is footer\n"
   ]
  },
  {
   "cell_type": "markdown",
   "id": "746865d6",
   "metadata": {},
   "source": [
    "### 2.2 `numpy.loadtxt()`\n",
    "\n",
    "函式的用法如下：\n",
    "\n",
    "```python\n",
    "numpy.loadtxt(fname, dtype=<class 'float'>, comments='#', delimiter=None, converters=None, skiprows=0, usecols=None, unpack=False, ndmin=0, encoding='bytes', max_rows=None)\n",
    "```\n",
    "\n",
    "引數的定義如下表：其中僅 fname 是必輸欄位。\n",
    "\n",
    "|引數名稱|定義|預設值|\n",
    "|---|---|---|\n",
    "|fname|檔案名稱||\n",
    "|dtype|陣列的資料型別|float|\n",
    "|comments|註解文字的前綴字元或字串|#|\n",
    "|delimiter|分隔符號|None|\n",
    "|converters|以字典型別定義 {column:轉換函式} key/value值|None|\n",
    "|skiprows|讀取時要略過開頭的row數目(例如註解的行數)|0|\n",
    "|usecols|要讀取的column|None|\n",
    "|unpack|bool值，如果是True的話，會轉置(transpose)輸出的陣列|False|\n",
    "|ndmin|設定傳回陣列的最低軸數|0|\n",
    "|encoding|檔案的字元編碼|bytes|\n",
    "|max_rows|在skiprows的row數目後，最大的讀取row數目，預設讀取所有資料|None|\n",
    "\n",
    "**如果檔案是 gz 或是 bz2 壓縮檔的話，可以直接讀取不需要先解壓縮。**\n",
    "\n",
    "`loadtxt()` 函式與 `genfromtxt()` 函式有一些相同的引數及功能，但是 `genfromtxt()` 功能更有彈性<br><br>"
   ]
  },
  {
   "cell_type": "markdown",
   "id": "d3c013d4",
   "metadata": {},
   "source": [
    "讀取儲存成文字檔的陣列時，使用 `loadtxt()` 載入，\n",
    "\n",
    "下面例子是載入我們上面儲存的 `test.out` 文字檔。\n",
    "\n",
    "這邊可以看到載入寺預設的資料型別是 `float`，而原先儲存時使用的科學記號格式，在載入時被轉換為浮點數格式。\n",
    "\n",
    "呼叫時可用 `delimiter` 引數指定分隔符號來正確載入陣列資料。\n",
    "\n",
    "在 `dtype` 引數中 `f4` 代表的是浮點數 4 bytes，也就是 `float32`。"
   ]
  },
  {
   "cell_type": "code",
   "execution_count": null,
   "id": "a19078f0",
   "metadata": {},
   "outputs": [],
   "source": [
    "np.loadtxt('test.out', delimiter=',', dtype='f4')"
   ]
  },
  {
   "cell_type": "markdown",
   "id": "ce2ed871",
   "metadata": {},
   "source": [
    "## 3. `genfromtxt()`\n",
    "\n",
    "跟 `loadtxt()` 相比，`genfromtxt()` 提供更 powerful 及更有彈性的功能，用來讀取文字檔格式的陣列。\n",
    "\n",
    "函式用法如下：\n",
    "\n",
    "```python\n",
    "numpy.genfromtxt(fname, dtype=<class 'float'>, comments='#', delimiter=None, skip_header=0, skip_footer=0, converters=None, missing_values=None, filling_values=None, usecols=None, names=None, excludelist=None, deletechars=\" !#$%&'()*+, -./:;<=>?@[\\]^{|}~\", replace_space='_', autostrip=False, case_sensitive=True, defaultfmt='f%i', unpack=None, usemask=False, loose=True, invalid_raise=True, max_rows=None, encoding='bytes')\n",
    "```\n",
    "\n",
    "引數的定義如下表：其中僅 fname 是必輸欄位。\n",
    "\n",
    "|引數名稱|定義|預設值|\n",
    "|---|---|---|\n",
    "|fname|檔案名稱或是輸入資料||\n",
    "|dtype|陣列的資料型別|float|\n",
    "|comments|註解文字的前綴字元或字串|#|\n",
    "|delimiter|分隔符號|None|\n",
    "|skip_header|讀取時忽略的檔頭行數|0|\n",
    "|skip_footer|讀取時忽略的檔尾行數|0|\n",
    "|converters|以字典型別定義 {column:轉換函式} key/value值|None|\n",
    "|missing_values|用來識別缺值的字串|None|\n",
    "|filling_values|用來填入缺值的值|None|\n",
    "|usecols|要讀取的column|None|\n",
    "|names|column名稱|None|\n",
    "|excludelist|要排除的column名稱|None|\n",
    "|deletechars|須從column名稱中刪除的字元|#$%&'()*+, -./:;<=>?@[\\]^{|}~|\n",
    "|replace_space|要取代空格的字元|_|\n",
    "|autostrip|是否自動去空格|False|\n",
    "|case_sensitive|欄位名稱是否區分大小寫，可以設定True/False/upper(轉為大寫)/lower(轉為小寫)|True|\n",
    "|defaultfmt|如果names未定義完整名稱，defaultfmt可用來定義structured dtype的column名稱|f%i|\n",
    "|unpack|bool值，如果是True的話，會轉置(transpose)輸出的陣列|False|\n",
    "|usemask|如果是True的話，回傳masked array；否則回傳正常的array|False|\n",
    "|loose|如果是True的話，無效的值不會導致錯誤|True|\n",
    "|invalid_raise|設為True時，如果column數目不合會拋出exception；如果設為False的話，拋出warning並且跳過不合數目的資料|True|\n",
    "|max_rows|在skiprows的row數目後，最大的讀取row數目，預設讀取所有資料|None|\n",
    "|encoding|檔案的字元編碼|bytes|\n",
    "                 \n",
    "**跟 `loadtxt()` 相同，如果檔案是 gz 或是 bz2 壓縮檔的話，可以直接讀取不需要先解壓縮。**\n",
    "                 \n"
   ]
  },
  {
   "cell_type": "markdown",
   "id": "be51e5d5",
   "metadata": {},
   "source": [
    "### 3.1 將文字檔內容讀取並正確分隔Column\n",
    "\n",
    "要將文字檔內容讀入並正確分隔Column，才能獲得預期中的陣列及元素值。\n",
    "\n",
    "常用的分隔符號有逗號、tab... \n",
    "\n",
    "下面的範例中分別示範了逗號分隔以及固定寛度的元素值，要如何讀取。\n",
    "\n",
    "最基本的用法就是讀取CSV檔案。預設的分隔符號為None，所以在這邊我們必須指定正確的分隔符號。\n",
    "\n",
    "除了單獨讀取文字檔，字串 List 也可以做為輸入。\n",
    "                 \n",
    "類檔案的物件都可以做為輸入，例如 `StringIO`。<br>\n",
    "\n",
    "  - 當 `delimiter` 給定的是一個整數、或是整數的序列時，可以用來將固定寬度的字串讀入。**固定寬度包含了空格。**\n",
    "                 \n",
    "  - 如果給定的是單一整數代表所有陣列元素都是同一寬度；如有不同寬度時，可以使用整數序列來定義。\n",
    "                 \n",
    "`autostrip` 引數如果設為 `True`，在讀取時會自動將元素值的空格去除。\n",
    "                 \n",
    "在檔案內容中包含了以 comments 啟始的 header / footer。\n",
    "                 \n",
    "設定要略過的行數就可以正確讀入欲讀取的陣列元素。\n",
    "\n",
    "與 `loadtxt()` 相同，讀取時可以略過註解文字，或是 header / footer。\n",
    "\n",
    "在檔案內容中包含了以 # 啟始的 header / footer。header 有 2 行而 footer 有 1 行，設定要略過的行數就可以正確讀入欲讀取的陣列元素。\n",
    "\n",
    "    ex: %load test.out\n",
    "        # this is,\n",
    "        # header\n",
    "        0.0000e+00\n",
    "        1.0000e+00\n",
    "        2.0000e+00\n",
    "        3.0000e+00\n",
    "        4.0000e+00\n",
    "        # this is footer\n",
    "     \n",
    "   `np.genfromtxt(\"test.out\", comments=None, skip_footer=1, skip_header=2)`"
   ]
  },
  {
   "cell_type": "code",
   "execution_count": null,
   "id": "0bc72c22",
   "metadata": {},
   "outputs": [],
   "source": [
    "np.genfromtxt(\"test.csv\", delimiter=\",\")"
   ]
  },
  {
   "cell_type": "markdown",
   "id": "84e60200",
   "metadata": {},
   "source": [
    "跟 `loadtxt()` 相同，如果檔案是 gz 或是 bz2 壓縮檔的話，可以直接讀取不需要先解壓縮。"
   ]
  },
  {
   "cell_type": "code",
   "execution_count": null,
   "id": "59503491",
   "metadata": {},
   "outputs": [],
   "source": [
    "np.genfromtxt(\"test.gz\", delimiter=\",\")"
   ]
  },
  {
   "cell_type": "markdown",
   "id": "d2b054dd",
   "metadata": {},
   "source": [
    "字串 List 也可以做為輸入。"
   ]
  },
  {
   "cell_type": "code",
   "execution_count": null,
   "id": "1356a5c6",
   "metadata": {},
   "outputs": [],
   "source": [
    "np.genfromtxt([\"1\", \"2\", \"abc\", \"4\", \"5\"])"
   ]
  },
  {
   "cell_type": "markdown",
   "id": "34833645",
   "metadata": {},
   "source": [
    "類檔案的物件都可以做為輸入，例如 `StringIO`。\n",
    "\n",
    "當 `delimiter` 給定的是一個整數、或是整數的序列時，可以用來將固定寬度的字串讀入，\n",
    "\n",
    "在下面的範例中，**固定寬度包含了空格。**"
   ]
  },
  {
   "cell_type": "markdown",
   "id": "f0a0c4ed",
   "metadata": {},
   "source": [
    "如果給定的是單一整數代表所有陣列元素都是同一寬度；如有不同寬度時，可以使用整數序列來定義。"
   ]
  },
  {
   "cell_type": "code",
   "execution_count": 53,
   "id": "d2c74663",
   "metadata": {},
   "outputs": [
    {
     "data": {
      "text/plain": [
       "array([[  1.,   2.,   3.],\n",
       "       [  4.,   5.,  67.],\n",
       "       [890., 123.,   4.]])"
      ]
     },
     "execution_count": 53,
     "metadata": {},
     "output_type": "execute_result"
    }
   ],
   "source": [
    "from io import StringIO\n",
    "\n",
    "data = u\"  1  2  3\\n  4  5 67\\n890123  4\"\n",
    "np.genfromtxt(StringIO(data), delimiter=3)"
   ]
  },
  {
   "cell_type": "code",
   "execution_count": 54,
   "id": "a1f25937",
   "metadata": {},
   "outputs": [
    {
     "data": {
      "text/plain": [
       "array([[1234.,  567.,   89.],\n",
       "       [   4.,    7.,    9.],\n",
       "       [   4.,  567.,    9.]])"
      ]
     },
     "execution_count": 54,
     "metadata": {},
     "output_type": "execute_result"
    }
   ],
   "source": [
    "data = u\"123456789\\n   4  7 9\\n   4567 9\"\n",
    "np.genfromtxt(StringIO(data), delimiter=(4, 3, 2))"
   ]
  },
  {
   "cell_type": "markdown",
   "id": "38871ddc",
   "metadata": {},
   "source": [
    "`autostrip` 引數如果設為 `True`，在讀取時會自動將元素值的空格去除。"
   ]
  },
  {
   "cell_type": "code",
   "execution_count": 55,
   "id": "710abccd",
   "metadata": {},
   "outputs": [
    {
     "data": {
      "text/plain": [
       "array([[1., 2., 4.],\n",
       "       [4., 5., 6.]])"
      ]
     },
     "execution_count": 55,
     "metadata": {},
     "output_type": "execute_result"
    }
   ],
   "source": [
    "data = u\"1, 2 , 4\\n 4, 5, 6\"\n",
    "np.genfromtxt(StringIO(data), delimiter=\",\", autostrip=True)"
   ]
  },
  {
   "cell_type": "markdown",
   "id": "327ed1f1",
   "metadata": {},
   "source": [
    "與 `loadtxt()` 相同，讀取時可以略過註解文字，或是 header / footer。"
   ]
  },
  {
   "cell_type": "code",
   "execution_count": 56,
   "id": "afe5dd16",
   "metadata": {},
   "outputs": [
    {
     "data": {
      "text/plain": [
       "array(nan)"
      ]
     },
     "execution_count": 56,
     "metadata": {},
     "output_type": "execute_result"
    }
   ],
   "source": [
    "np.genfromtxt(\"test.out\", comments=\"#\")"
   ]
  },
  {
   "cell_type": "markdown",
   "id": "c295809a",
   "metadata": {},
   "source": [
    "在檔案內容中包含了以 # 啟始的 header / footer。header 有 2 行而 footer 有 1 行，設定要略過的行數就可以正確讀入欲讀取的陣列元素。"
   ]
  },
  {
   "cell_type": "code",
   "execution_count": 57,
   "id": "6873c47b",
   "metadata": {},
   "outputs": [
    {
     "name": "stderr",
     "output_type": "stream",
     "text": [
      "D:\\Anaconda3\\envs\\PT\\lib\\site-packages\\ipykernel_launcher.py:1: UserWarning: genfromtxt: Empty input file: \"test.out\"\n",
      "  \"\"\"Entry point for launching an IPython kernel.\n"
     ]
    },
    {
     "data": {
      "text/plain": [
       "array([], dtype=float64)"
      ]
     },
     "execution_count": 57,
     "metadata": {},
     "output_type": "execute_result"
    }
   ],
   "source": [
    "np.genfromtxt(\"test.out\", comments=None, skip_footer=1, skip_header=2)"
   ]
  },
  {
   "cell_type": "markdown",
   "id": "857a3ad2",
   "metadata": {},
   "source": [
    "### 3.2 選擇要讀取的 Column\n",
    "\n",
    "`names` 引數是用來指明是否檔案內容中有Column名稱，\n",
    "\n",
    "或是如果原來內容沒有的話，可以給定Column名稱。\n",
    "\n",
    "`names=True` 代表這個讀入的內容中有Column名稱，也就是這個檔案中的第一行。若有指定 `skip_header` 的話則會是 header 後的第一行。\n",
    "\n",
    "若是原始資料中沒有名稱，可以透過 `names` 指定。\n",
    "\n",
    "透過 `usecols` 引數可以選擇要讀入的Column\n",
    "\n",
    "如果沒有Column名稱的話，可以使用整數指定要讀取的Column索引值。\n",
    "\n",
    "**但是若已有 `names` 的話，使用索引值會產生錯誤訊息。**\n",
    "\n",
    "如果沒有給定 `names` 或是給的數目少於Column，那麼在回傳結構化陣列時，會自動以 `f%i` 的命名規則產生 `names`。\n",
    "\n",
    "若要指定命名規則，可以使用 `defaultfmt` 引數。\n",
    "\n",
    "P.S. <br>\n",
    "   >int8, int16, int32, int64 四種數據類型可以使用字符串 'i1', 'i2','i4','i8' 代替<br>\n",
    "   字節順序是通過對數據類型預先設定 < 或 > 來決定的。 <br>\n",
    "   < 意味著小端法(最小值存儲在最小的地址，即低位組放在最前面)。<br> \n",
    "   \\> 意味著大端法(最重要的字節存儲在最小的地址，即高位組放在最前面)。<br>\n",
    "   \n"
   ]
  },
  {
   "cell_type": "code",
   "execution_count": null,
   "id": "bf49d261",
   "metadata": {},
   "outputs": [],
   "source": [
    "#此magic command會出現下面\n",
    "%load names.txt"
   ]
  },
  {
   "cell_type": "code",
   "execution_count": null,
   "id": "d86544a9",
   "metadata": {},
   "outputs": [],
   "source": [
    "# %load names.txt\n",
    "a,b,c\n",
    "1,2,3\n",
    "4,5,6\n",
    "7,8,9"
   ]
  },
  {
   "cell_type": "markdown",
   "id": "1105ad59",
   "metadata": {},
   "source": [
    "`names=True` 代表這個讀入的內容中有Column名稱，也就是這個檔案中的第一行。若有指定 `skip_header` 的話則會是 header 後的第一行。"
   ]
  },
  {
   "cell_type": "code",
   "execution_count": 58,
   "id": "e0cbd3d9",
   "metadata": {},
   "outputs": [
    {
     "data": {
      "text/plain": [
       "array([(1., 2., 3.), (4., 5., 6.), (7., 8., 9.)],\n",
       "      dtype=[('a', '<f8'), ('b', '<f8'), ('c', '<f8')])"
      ]
     },
     "execution_count": 58,
     "metadata": {},
     "output_type": "execute_result"
    }
   ],
   "source": [
    "np.genfromtxt(\"names.txt\", delimiter=\",\", names=True)"
   ]
  },
  {
   "cell_type": "markdown",
   "id": "081120a2",
   "metadata": {},
   "source": [
    "若是原始資料中沒有名稱，可以透過 `names` 指定。"
   ]
  },
  {
   "cell_type": "code",
   "execution_count": 63,
   "id": "4241a23c",
   "metadata": {},
   "outputs": [
    {
     "data": {
      "text/plain": [
       "array([(1., 2., 3.), (4., 5., 6.)],\n",
       "      dtype=[('a', '<f8'), ('b', '<f8'), ('c', '<f8')])"
      ]
     },
     "execution_count": 63,
     "metadata": {},
     "output_type": "execute_result"
    }
   ],
   "source": [
    "data = StringIO(\"1 2 3\\n 4 5 6\")\n",
    "np.genfromtxt(data, names=\"a, b, c\")"
   ]
  },
  {
   "cell_type": "markdown",
   "id": "f5352791",
   "metadata": {},
   "source": [
    "透過 `usecols` 引數可以選擇要讀入的Column，下面的例子是指定要讀入的Column名稱。"
   ]
  },
  {
   "cell_type": "code",
   "execution_count": 64,
   "id": "63310871",
   "metadata": {},
   "outputs": [
    {
     "data": {
      "text/plain": [
       "array([(1., 3.), (6., 8.)], dtype=[('a', '<f8'), ('c', '<f8')])"
      ]
     },
     "execution_count": 64,
     "metadata": {},
     "output_type": "execute_result"
    }
   ],
   "source": [
    "a = u\"1,2,3,4,5\\n6,7,8,9,10\"\n",
    "np.genfromtxt(StringIO(a), delimiter=\",\", names=\"a, b, c\", usecols=(\"a\", \"c\"))"
   ]
  },
  {
   "cell_type": "markdown",
   "id": "b2a513cb",
   "metadata": {},
   "source": [
    "如果沒有Column名稱的話，可以使用整數指定要讀取的Column索引值。"
   ]
  },
  {
   "cell_type": "code",
   "execution_count": 65,
   "id": "d221409d",
   "metadata": {},
   "outputs": [
    {
     "data": {
      "text/plain": [
       "array([[ 2.,  5.],\n",
       "       [ 7., 10.]])"
      ]
     },
     "execution_count": 65,
     "metadata": {},
     "output_type": "execute_result"
    }
   ],
   "source": [
    "a = u\"1 2 3 4 5\\n6 7 8 9 10\"\n",
    "np.genfromtxt(StringIO(a), usecols=(1, -1))"
   ]
  },
  {
   "cell_type": "markdown",
   "id": "f6dafffc",
   "metadata": {},
   "source": [
    "但是若已有 `names` 的話，使用索引值會產生錯誤訊息。"
   ]
  },
  {
   "cell_type": "code",
   "execution_count": 66,
   "id": "0566bbe1",
   "metadata": {},
   "outputs": [
    {
     "ename": "IndexError",
     "evalue": "list index out of range",
     "output_type": "error",
     "traceback": [
      "\u001b[1;31m---------------------------------------------------------------------------\u001b[0m",
      "\u001b[1;31mIndexError\u001b[0m                                Traceback (most recent call last)",
      "\u001b[1;32m<ipython-input-66-e3101b9bb0b4>\u001b[0m in \u001b[0;36m<module>\u001b[1;34m\u001b[0m\n\u001b[0;32m      1\u001b[0m \u001b[0ma\u001b[0m \u001b[1;33m=\u001b[0m \u001b[1;34mu\"1 2 3 4 5\\n6 7 8 9 10\"\u001b[0m\u001b[1;33m\u001b[0m\u001b[1;33m\u001b[0m\u001b[0m\n\u001b[1;32m----> 2\u001b[1;33m \u001b[0mnp\u001b[0m\u001b[1;33m.\u001b[0m\u001b[0mgenfromtxt\u001b[0m\u001b[1;33m(\u001b[0m\u001b[0mStringIO\u001b[0m\u001b[1;33m(\u001b[0m\u001b[0ma\u001b[0m\u001b[1;33m)\u001b[0m\u001b[1;33m,\u001b[0m \u001b[0mnames\u001b[0m\u001b[1;33m=\u001b[0m\u001b[1;34m\"a, b, c\"\u001b[0m\u001b[1;33m,\u001b[0m \u001b[0musecols\u001b[0m\u001b[1;33m=\u001b[0m\u001b[1;33m(\u001b[0m\u001b[1;36m1\u001b[0m\u001b[1;33m,\u001b[0m \u001b[1;33m-\u001b[0m\u001b[1;36m1\u001b[0m\u001b[1;33m)\u001b[0m\u001b[1;33m)\u001b[0m\u001b[1;33m\u001b[0m\u001b[1;33m\u001b[0m\u001b[0m\n\u001b[0m",
      "\u001b[1;32mD:\\Anaconda3\\envs\\PT\\lib\\site-packages\\numpy\\lib\\npyio.py\u001b[0m in \u001b[0;36mgenfromtxt\u001b[1;34m(fname, dtype, comments, delimiter, skip_header, skip_footer, converters, missing_values, filling_values, usecols, names, excludelist, deletechars, replace_space, autostrip, case_sensitive, defaultfmt, unpack, usemask, loose, invalid_raise, max_rows, encoding)\u001b[0m\n\u001b[0;32m   1834\u001b[0m             \u001b[1;32mif\u001b[0m \u001b[1;33m(\u001b[0m\u001b[0mdtype\u001b[0m \u001b[1;32mis\u001b[0m \u001b[1;32mnot\u001b[0m \u001b[1;32mNone\u001b[0m\u001b[1;33m)\u001b[0m \u001b[1;32mand\u001b[0m \u001b[1;33m(\u001b[0m\u001b[0mlen\u001b[0m\u001b[1;33m(\u001b[0m\u001b[0mdtype\u001b[0m\u001b[1;33m)\u001b[0m \u001b[1;33m>\u001b[0m \u001b[0mnbcols\u001b[0m\u001b[1;33m)\u001b[0m\u001b[1;33m:\u001b[0m\u001b[1;33m\u001b[0m\u001b[1;33m\u001b[0m\u001b[0m\n\u001b[0;32m   1835\u001b[0m                 \u001b[0mdescr\u001b[0m \u001b[1;33m=\u001b[0m \u001b[0mdtype\u001b[0m\u001b[1;33m.\u001b[0m\u001b[0mdescr\u001b[0m\u001b[1;33m\u001b[0m\u001b[1;33m\u001b[0m\u001b[0m\n\u001b[1;32m-> 1836\u001b[1;33m                 \u001b[0mdtype\u001b[0m \u001b[1;33m=\u001b[0m \u001b[0mnp\u001b[0m\u001b[1;33m.\u001b[0m\u001b[0mdtype\u001b[0m\u001b[1;33m(\u001b[0m\u001b[1;33m[\u001b[0m\u001b[0mdescr\u001b[0m\u001b[1;33m[\u001b[0m\u001b[0m_\u001b[0m\u001b[1;33m]\u001b[0m \u001b[1;32mfor\u001b[0m \u001b[0m_\u001b[0m \u001b[1;32min\u001b[0m \u001b[0musecols\u001b[0m\u001b[1;33m]\u001b[0m\u001b[1;33m)\u001b[0m\u001b[1;33m\u001b[0m\u001b[1;33m\u001b[0m\u001b[0m\n\u001b[0m\u001b[0;32m   1837\u001b[0m                 \u001b[0mnames\u001b[0m \u001b[1;33m=\u001b[0m \u001b[0mlist\u001b[0m\u001b[1;33m(\u001b[0m\u001b[0mdtype\u001b[0m\u001b[1;33m.\u001b[0m\u001b[0mnames\u001b[0m\u001b[1;33m)\u001b[0m\u001b[1;33m\u001b[0m\u001b[1;33m\u001b[0m\u001b[0m\n\u001b[0;32m   1838\u001b[0m             \u001b[1;31m# If `names` is not None, update the names\u001b[0m\u001b[1;33m\u001b[0m\u001b[1;33m\u001b[0m\u001b[1;33m\u001b[0m\u001b[0m\n",
      "\u001b[1;32mD:\\Anaconda3\\envs\\PT\\lib\\site-packages\\numpy\\lib\\npyio.py\u001b[0m in \u001b[0;36m<listcomp>\u001b[1;34m(.0)\u001b[0m\n\u001b[0;32m   1834\u001b[0m             \u001b[1;32mif\u001b[0m \u001b[1;33m(\u001b[0m\u001b[0mdtype\u001b[0m \u001b[1;32mis\u001b[0m \u001b[1;32mnot\u001b[0m \u001b[1;32mNone\u001b[0m\u001b[1;33m)\u001b[0m \u001b[1;32mand\u001b[0m \u001b[1;33m(\u001b[0m\u001b[0mlen\u001b[0m\u001b[1;33m(\u001b[0m\u001b[0mdtype\u001b[0m\u001b[1;33m)\u001b[0m \u001b[1;33m>\u001b[0m \u001b[0mnbcols\u001b[0m\u001b[1;33m)\u001b[0m\u001b[1;33m:\u001b[0m\u001b[1;33m\u001b[0m\u001b[1;33m\u001b[0m\u001b[0m\n\u001b[0;32m   1835\u001b[0m                 \u001b[0mdescr\u001b[0m \u001b[1;33m=\u001b[0m \u001b[0mdtype\u001b[0m\u001b[1;33m.\u001b[0m\u001b[0mdescr\u001b[0m\u001b[1;33m\u001b[0m\u001b[1;33m\u001b[0m\u001b[0m\n\u001b[1;32m-> 1836\u001b[1;33m                 \u001b[0mdtype\u001b[0m \u001b[1;33m=\u001b[0m \u001b[0mnp\u001b[0m\u001b[1;33m.\u001b[0m\u001b[0mdtype\u001b[0m\u001b[1;33m(\u001b[0m\u001b[1;33m[\u001b[0m\u001b[0mdescr\u001b[0m\u001b[1;33m[\u001b[0m\u001b[0m_\u001b[0m\u001b[1;33m]\u001b[0m \u001b[1;32mfor\u001b[0m \u001b[0m_\u001b[0m \u001b[1;32min\u001b[0m \u001b[0musecols\u001b[0m\u001b[1;33m]\u001b[0m\u001b[1;33m)\u001b[0m\u001b[1;33m\u001b[0m\u001b[1;33m\u001b[0m\u001b[0m\n\u001b[0m\u001b[0;32m   1837\u001b[0m                 \u001b[0mnames\u001b[0m \u001b[1;33m=\u001b[0m \u001b[0mlist\u001b[0m\u001b[1;33m(\u001b[0m\u001b[0mdtype\u001b[0m\u001b[1;33m.\u001b[0m\u001b[0mnames\u001b[0m\u001b[1;33m)\u001b[0m\u001b[1;33m\u001b[0m\u001b[1;33m\u001b[0m\u001b[0m\n\u001b[0;32m   1838\u001b[0m             \u001b[1;31m# If `names` is not None, update the names\u001b[0m\u001b[1;33m\u001b[0m\u001b[1;33m\u001b[0m\u001b[1;33m\u001b[0m\u001b[0m\n",
      "\u001b[1;31mIndexError\u001b[0m: list index out of range"
     ]
    }
   ],
   "source": [
    "a = u\"1 2 3 4 5\\n6 7 8 9 10\"\n",
    "np.genfromtxt(StringIO(a), names=\"a, b, c\", usecols=(1, -1))"
   ]
  },
  {
   "cell_type": "markdown",
   "id": "65c72b55",
   "metadata": {},
   "source": [
    "如果沒有給定 `names` 或是給的數目少於Column，那麼在回傳結構化陣列時，會自動以 `f%i` 的命名規則產生 `names`。"
   ]
  },
  {
   "cell_type": "code",
   "execution_count": 67,
   "id": "f0efb43d",
   "metadata": {},
   "outputs": [
    {
     "data": {
      "text/plain": [
       "array([(1, 2., 3), (4, 5., 6)],\n",
       "      dtype=[('f0', '<i4'), ('f1', '<f8'), ('f2', '<i4')])"
      ]
     },
     "execution_count": 67,
     "metadata": {},
     "output_type": "execute_result"
    }
   ],
   "source": [
    "a = StringIO(\"1 2 3\\n 4 5 6\")\n",
    "np.genfromtxt(a, dtype=(int, float, int))"
   ]
  },
  {
   "cell_type": "markdown",
   "id": "5f914f9f",
   "metadata": {},
   "source": [
    "若要指定命名規則，可以使用 `defaultfmt` 引數。"
   ]
  },
  {
   "cell_type": "code",
   "execution_count": 68,
   "id": "d952bbba",
   "metadata": {},
   "outputs": [
    {
     "data": {
      "text/plain": [
       "array([(1, 2., 3), (4, 5., 6)],\n",
       "      dtype=[('var_0', '<i4'), ('var_1', '<f8'), ('var_2', '<i4')])"
      ]
     },
     "execution_count": 68,
     "metadata": {},
     "output_type": "execute_result"
    }
   ],
   "source": [
    "a = StringIO(\"1 2 3\\n 4 5 6\")\n",
    "np.genfromtxt(a, dtype=(int, float, int), defaultfmt=\"var_%i\")"
   ]
  },
  {
   "cell_type": "markdown",
   "id": "16017370",
   "metadata": {},
   "source": [
    "### 3.3 缺值處理\n",
    "\n",
    "預設空值都被視為缺值 (missing value)，用 `filling_values` 可以指定要填值 (filling value)。"
   ]
  },
  {
   "cell_type": "code",
   "execution_count": 69,
   "id": "64a1d06e",
   "metadata": {},
   "outputs": [
    {
     "data": {
      "text/plain": [
       "array([[nan,  2.,  3.],\n",
       "       [ 4., nan, nan]])"
      ]
     },
     "execution_count": 69,
     "metadata": {},
     "output_type": "execute_result"
    }
   ],
   "source": [
    "a = u\", 2, 3\\n4, ,\"\n",
    "np.genfromtxt(StringIO(a), delimiter=\",\", filling_values=np.nan)"
   ]
  },
  {
   "cell_type": "markdown",
   "id": "590c9a54",
   "metadata": {},
   "source": [
    "除了空值之外，若有**特定字串應被視為缺值的話，使用 `missing_values` 引數可以指定，而且可以使用序列來指定缺值與填值。**\n",
    "\n",
    "要留意的是，使用字串序列的話，要每個Column依序指定。"
   ]
  },
  {
   "cell_type": "code",
   "execution_count": 70,
   "id": "2d7d21ef",
   "metadata": {},
   "outputs": [
    {
     "data": {
      "text/plain": [
       "array([   0.,    2.,    3., -999.])"
      ]
     },
     "execution_count": 70,
     "metadata": {},
     "output_type": "execute_result"
    }
   ],
   "source": [
    "a = u\"N/A, 2, 3, ???\"\n",
    "np.genfromtxt(StringIO(a), delimiter=\",\", \n",
    "              missing_values=[\"N/A\", \"N/A\", \"N/A\", \"???\"], \n",
    "              filling_values=[0, 0, 0, -999])"
   ]
  },
  {
   "cell_type": "markdown",
   "id": "96c12355",
   "metadata": {},
   "source": [
    "針對不同的 `dtype`，如果沒有指定填值的話，根據不同的型別的缺值有不同的預設填值。\n",
    "\n",
    "|dtype|預設填值|\n",
    "|---|---|\n",
    "|bool|False|\n",
    "|int|-1|\n",
    "|float|np.nan|\n",
    "|complex|np.nan+0j|\n",
    "|string|''|"
   ]
  },
  {
   "cell_type": "code",
   "execution_count": 71,
   "id": "0620ee17",
   "metadata": {},
   "outputs": [
    {
     "data": {
      "text/plain": [
       "array([( 1, nan, ''), (-1,  5., '')],\n",
       "      dtype=[('f0', '<i4'), ('f1', '<f8'), ('f2', '<U')])"
      ]
     },
     "execution_count": 71,
     "metadata": {},
     "output_type": "execute_result"
    }
   ],
   "source": [
    "a = u\"1, , \\n , 5, 6\"\n",
    "np.genfromtxt(StringIO(a), delimiter=',', dtype=\"int, float, str\")"
   ]
  },
  {
   "cell_type": "markdown",
   "id": "4d836fe2",
   "metadata": {},
   "source": [
    "### 3.4 資料轉換\n",
    "\n",
    "在讀取檔案時使用 `converters` 引數可以同時轉換資料。在範例檔案中，資料包含Yes/No與百分比，將在讀取時進行轉換。\n",
    "\n",
    "P.S.\n",
    "\n",
    ">在字串的前面加上 b or u : <br>\n",
    "「b」表示「bytes」，表示內容是bytes，而非字串（str）<br>\n",
    "「u」的意思是：unicode，它是從python 2就存在的，為了讓這個字串可以有準確的編碼。但在python 3的預設文字編碼方式就是unicode，所以在python 3可以不用特別設定這個，如果不放心還是可加上u"
   ]
  },
  {
   "cell_type": "code",
   "execution_count": 73,
   "id": "673e5248",
   "metadata": {},
   "outputs": [
    {
     "data": {
      "text/plain": [
       "array([(1, 2, 'Yes', '87%'), (3, 4, 'No', '3%'), (5, 6, 'Yes', '55%')],\n",
       "      dtype=[('f0', '<i8'), ('f1', '<i8'), ('f2', '<U3'), ('f3', '<U3')])"
      ]
     },
     "execution_count": 73,
     "metadata": {},
     "output_type": "execute_result"
    }
   ],
   "source": [
    "np.genfromtxt(\"transform.txt\", delimiter=',', dtype=\"i8, i8, U3, U3\")"
   ]
  },
  {
   "cell_type": "markdown",
   "id": "d5733849",
   "metadata": {},
   "source": [
    "舉例來說，如果我們想將資料中的Yes/No與百分比進行轉換，使用自訂函式來進行。"
   ]
  },
  {
   "cell_type": "code",
   "execution_count": 78,
   "id": "fd8fc885",
   "metadata": {},
   "outputs": [],
   "source": [
    "def trans(s):\n",
    "    if s == b'Yes':\n",
    "        return 1\n",
    "    else:\n",
    "        return 0"
   ]
  },
  {
   "cell_type": "code",
   "execution_count": 79,
   "id": "8bc161b1",
   "metadata": {},
   "outputs": [],
   "source": [
    "def conversion(x):\n",
    "    return float(x.strip(b\"%\"))/100"
   ]
  },
  {
   "cell_type": "markdown",
   "id": "42ff0e14",
   "metadata": {},
   "source": [
    "`converters` 引數接收的是字典型別 (dictionary)，key 代表的是Column，可以使用索引或是names定義的Column名稱。下面的例子是使用索引。"
   ]
  },
  {
   "cell_type": "code",
   "execution_count": 80,
   "id": "0fd35408",
   "metadata": {},
   "outputs": [
    {
     "data": {
      "text/plain": [
       "array([(1., 2., 1, 0.87), (3., 4., 0, 0.03), (5., 6., 1, 0.55)],\n",
       "      dtype=[('f0', '<f8'), ('f1', '<f8'), ('f2', '<i4'), ('f3', '<f8')])"
      ]
     },
     "execution_count": 80,
     "metadata": {},
     "output_type": "execute_result"
    }
   ],
   "source": [
    "np.genfromtxt(\"transform.txt\", delimiter=',', converters={2:trans, 3:conversion})"
   ]
  },
  {
   "cell_type": "markdown",
   "id": "ad16effe",
   "metadata": {},
   "source": [
    "# NumPy 運算"
   ]
  },
  {
   "cell_type": "markdown",
   "id": "b7621650",
   "metadata": {},
   "source": [
    "**陣列中的統計方法 :**\n",
    "\n",
    "`.sum()`<br>\n",
    "`.min()`<br>\n",
    "`.max()`<br>"
   ]
  },
  {
   "cell_type": "code",
   "execution_count": 81,
   "id": "49522e0d",
   "metadata": {},
   "outputs": [
    {
     "name": "stdout",
     "output_type": "stream",
     "text": [
      "[0 1 2 3 4 5]\n",
      "15\n",
      "0\n",
      "5\n"
     ]
    }
   ],
   "source": [
    "# 陣列中的統計方法\n",
    "\n",
    "\n",
    "a = np.arange(6)\n",
    "print(a)\n",
    "\n",
    "print(a.sum()) \n",
    "print(a.min()) \n",
    "print(a.max()) \n"
   ]
  },
  {
   "cell_type": "markdown",
   "id": "3658a154",
   "metadata": {},
   "source": [
    "**一種功能，三種函式**"
   ]
  },
  {
   "cell_type": "code",
   "execution_count": 82,
   "id": "5f77517a",
   "metadata": {},
   "outputs": [
    {
     "name": "stdout",
     "output_type": "stream",
     "text": [
      "15\n",
      "15\n",
      "15\n"
     ]
    }
   ],
   "source": [
    "# 一種功能，三種函式\n",
    "\n",
    "\n",
    "a = np.arange(6)\n",
    "\n",
    "print(a.sum()) \n",
    "print(np.sum(a))\n",
    "print(sum(a)) "
   ]
  },
  {
   "cell_type": "markdown",
   "id": "0814bf40",
   "metadata": {},
   "source": [
    "**陣列中的軸參數**"
   ]
  },
  {
   "cell_type": "code",
   "execution_count": 83,
   "id": "dd51233e",
   "metadata": {},
   "outputs": [
    {
     "name": "stdout",
     "output_type": "stream",
     "text": [
      "[[ 0  1  2  3]\n",
      " [ 4  5  6  7]\n",
      " [ 8  9 10 11]]\n",
      "66\n",
      "[12 15 18 21]\n",
      "[ 6 22 38]\n"
     ]
    }
   ],
   "source": [
    "# 陣列中的軸參數\n",
    "\n",
    "b = np.arange(12).reshape(3, 4)\n",
    "\n",
    "print(b)\n",
    "print(b.sum())\n",
    "print(b.sum(axis=0))\n",
    "print(b.sum(axis=1))"
   ]
  },
  {
   "cell_type": "markdown",
   "id": "1817b6f0",
   "metadata": {},
   "source": [
    "**搜尋與排序方法**"
   ]
  },
  {
   "cell_type": "code",
   "execution_count": 84,
   "id": "a4dab166",
   "metadata": {},
   "outputs": [
    {
     "name": "stdout",
     "output_type": "stream",
     "text": [
      "None\n",
      "[1 2 3 4 5]\n"
     ]
    }
   ],
   "source": [
    "# 搜尋與排序方法\n",
    "\n",
    "import numpy as np \n",
    "\n",
    "a = np.array([1, 3, 2, 5, 4])\n",
    "print(a.sort())\n",
    "print(a)"
   ]
  },
  {
   "cell_type": "markdown",
   "id": "e865b6fe",
   "metadata": {},
   "source": [
    "`np.sort`"
   ]
  },
  {
   "cell_type": "code",
   "execution_count": 85,
   "id": "74a90fb9",
   "metadata": {},
   "outputs": [
    {
     "name": "stdout",
     "output_type": "stream",
     "text": [
      "[1 2 3 4 5]\n",
      "[1 3 2 5 4]\n"
     ]
    }
   ],
   "source": [
    "import numpy as np \n",
    "\n",
    "a = np.array([1, 3, 2, 5, 4])\n",
    "print(np.sort(a))\n",
    "print(a)"
   ]
  },
  {
   "cell_type": "markdown",
   "id": "1c8b41f2",
   "metadata": {},
   "source": [
    "`np.searchsorted`"
   ]
  },
  {
   "cell_type": "code",
   "execution_count": 86,
   "id": "fab58079",
   "metadata": {},
   "outputs": [
    {
     "name": "stdout",
     "output_type": "stream",
     "text": [
      "2\n",
      "[0 5 2 4]\n"
     ]
    }
   ],
   "source": [
    "import numpy as np \n",
    "\n",
    "print(np.searchsorted([1,2,3,4,5], 3))\n",
    "print(np.searchsorted(\n",
    "    [1, 2, 3, 4, 5],\n",
    "    [-10, 10, 3, 5]\n",
    "))\n"
   ]
  },
  {
   "cell_type": "markdown",
   "id": "6531f5b1",
   "metadata": {},
   "source": [
    "**reshape 和 resize**"
   ]
  },
  {
   "cell_type": "code",
   "execution_count": 87,
   "id": "b8c58f34",
   "metadata": {},
   "outputs": [
    {
     "name": "stdout",
     "output_type": "stream",
     "text": [
      "[0 1 2 3 4 5]\n",
      "[[0 1]\n",
      " [2 3]\n",
      " [4 5]]\n",
      "[0 1 2 3 4 5]\n"
     ]
    }
   ],
   "source": [
    "# reshape 和 resize\n",
    "\n",
    "import numpy as np \n",
    "\n",
    "a = np.arange(6)\n",
    "\n",
    "print(a)\n",
    "print(a.reshape(3, 2))\n",
    "print(a)\n"
   ]
  },
  {
   "cell_type": "code",
   "execution_count": 88,
   "id": "c680ca5f",
   "metadata": {},
   "outputs": [
    {
     "name": "stdout",
     "output_type": "stream",
     "text": [
      "[0 1 2 3 4 5]\n",
      "None\n",
      "[[0 1]\n",
      " [2 3]\n",
      " [4 5]]\n"
     ]
    }
   ],
   "source": [
    "import numpy as np \n",
    "\n",
    "a = np.arange(6)\n",
    "\n",
    "print(a)\n",
    "print(a.resize((3, 2)))\n",
    "print(a)\n"
   ]
  },
  {
   "cell_type": "markdown",
   "id": "d46a074b",
   "metadata": {},
   "source": [
    "**三種陣列攤平用法**"
   ]
  },
  {
   "cell_type": "code",
   "execution_count": 89,
   "id": "27f22183",
   "metadata": {},
   "outputs": [
    {
     "name": "stdout",
     "output_type": "stream",
     "text": [
      "[0 1 2 3 4 5]\n",
      "[0 1 2 3 4 5]\n",
      "<numpy.flatiter object at 0x00000198CF1FDEA0>\n",
      "[0, 1, 2, 3, 4, 5]\n"
     ]
    }
   ],
   "source": [
    "# 三種陣列攤平用法\n",
    "\n",
    "import numpy as np \n",
    "\n",
    "a = np.arange(6).reshape((3, 2))\n",
    "\n",
    "print(a.ravel() )\n",
    "print(a.flatten())\n",
    "print(a.flat)\n",
    "print(list(a.flat))"
   ]
  },
  {
   "cell_type": "code",
   "execution_count": null,
   "id": "5f494d8f",
   "metadata": {},
   "outputs": [],
   "source": []
  }
 ],
 "metadata": {
  "kernelspec": {
   "display_name": "Python 3",
   "language": "python",
   "name": "python3"
  },
  "language_info": {
   "codemirror_mode": {
    "name": "ipython",
    "version": 3
   },
   "file_extension": ".py",
   "mimetype": "text/x-python",
   "name": "python",
   "nbconvert_exporter": "python",
   "pygments_lexer": "ipython3",
   "version": "3.6.13"
  }
 },
 "nbformat": 4,
 "nbformat_minor": 5
}
