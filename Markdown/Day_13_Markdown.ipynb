{
 "cells": [
  {
   "cell_type": "markdown",
   "id": "3b138f2c",
   "metadata": {},
   "source": [
    "# 範例目標:\n",
    "1. 實做統計函式\n",
    "2. 實做自定義的行或列函式應用\n",
    "\n",
    "# 範例重點:\n",
    "1. 統計函數使用方式與 Numpy 類似，不同之處為 Pandas 的資料型態是 DataFrame\n",
    "2. 使用自定義函數時lambda x 與數學中的 f(x) 是相同的意思\n",
    "\n",
    "# [教學目標]\n",
    "\n",
    "* 正確的從 DataFrame 中插入或刪除資料\n",
    "* 正確的對 DataFrame 進行合併與重組\n",
    "* 了解 DataFrame 中合併的方法差異\n",
    "  - 從 DataFrame 中插入或刪除資料\n",
    "    - 刪除 : `del`、`.pop()`\n",
    "  - DataFrame 的合併與重組\n",
    "    - 合併 : `.concat([one, two])`、`.merge(one, two, on=)`、`one.join(two)`\n",
    "    - `.reset_index(drop=True)` **concat後重排index**\n",
    "  - `.groupby('A').sum()` : 根據某個（多個）字段劃分為不同的群體（group）<br>\n",
    "    Groupby https://zhuanlan.zhihu.com/p/101284491"
   ]
  },
  {
   "cell_type": "code",
   "execution_count": 1,
   "id": "a676d563",
   "metadata": {},
   "outputs": [],
   "source": [
    "import pandas as pd"
   ]
  },
  {
   "cell_type": "code",
   "execution_count": 3,
   "id": "ea7a69c8",
   "metadata": {},
   "outputs": [
    {
     "data": {
      "text/html": [
       "<div>\n",
       "<style scoped>\n",
       "    .dataframe tbody tr th:only-of-type {\n",
       "        vertical-align: middle;\n",
       "    }\n",
       "\n",
       "    .dataframe tbody tr th {\n",
       "        vertical-align: top;\n",
       "    }\n",
       "\n",
       "    .dataframe thead th {\n",
       "        text-align: right;\n",
       "    }\n",
       "</style>\n",
       "<table border=\"1\" class=\"dataframe\">\n",
       "  <thead>\n",
       "    <tr style=\"text-align: right;\">\n",
       "      <th></th>\n",
       "      <th>math_score</th>\n",
       "      <th>english_score</th>\n",
       "      <th>chinese_score</th>\n",
       "    </tr>\n",
       "    <tr>\n",
       "      <th>student_id</th>\n",
       "      <th></th>\n",
       "      <th></th>\n",
       "      <th></th>\n",
       "    </tr>\n",
       "  </thead>\n",
       "  <tbody>\n",
       "    <tr>\n",
       "      <th>1</th>\n",
       "      <td>50</td>\n",
       "      <td>80</td>\n",
       "      <td>70</td>\n",
       "    </tr>\n",
       "    <tr>\n",
       "      <th>2</th>\n",
       "      <td>60</td>\n",
       "      <td>45</td>\n",
       "      <td>50</td>\n",
       "    </tr>\n",
       "    <tr>\n",
       "      <th>3</th>\n",
       "      <td>98</td>\n",
       "      <td>43</td>\n",
       "      <td>55</td>\n",
       "    </tr>\n",
       "    <tr>\n",
       "      <th>4</th>\n",
       "      <td>70</td>\n",
       "      <td>69</td>\n",
       "      <td>89</td>\n",
       "    </tr>\n",
       "    <tr>\n",
       "      <th>5</th>\n",
       "      <td>56</td>\n",
       "      <td>79</td>\n",
       "      <td>60</td>\n",
       "    </tr>\n",
       "    <tr>\n",
       "      <th>6</th>\n",
       "      <td>60</td>\n",
       "      <td>68</td>\n",
       "      <td>55</td>\n",
       "    </tr>\n",
       "    <tr>\n",
       "      <th>7</th>\n",
       "      <td>45</td>\n",
       "      <td>70</td>\n",
       "      <td>77</td>\n",
       "    </tr>\n",
       "    <tr>\n",
       "      <th>8</th>\n",
       "      <td>55</td>\n",
       "      <td>77</td>\n",
       "      <td>76</td>\n",
       "    </tr>\n",
       "    <tr>\n",
       "      <th>9</th>\n",
       "      <td>25</td>\n",
       "      <td>57</td>\n",
       "      <td>60</td>\n",
       "    </tr>\n",
       "    <tr>\n",
       "      <th>10</th>\n",
       "      <td>88</td>\n",
       "      <td>40</td>\n",
       "      <td>43</td>\n",
       "    </tr>\n",
       "  </tbody>\n",
       "</table>\n",
       "</div>"
      ],
      "text/plain": [
       "            math_score  english_score  chinese_score\n",
       "student_id                                          \n",
       "1                   50             80             70\n",
       "2                   60             45             50\n",
       "3                   98             43             55\n",
       "4                   70             69             89\n",
       "5                   56             79             60\n",
       "6                   60             68             55\n",
       "7                   45             70             77\n",
       "8                   55             77             76\n",
       "9                   25             57             60\n",
       "10                  88             40             43"
      ]
     },
     "execution_count": 3,
     "metadata": {},
     "output_type": "execute_result"
    }
   ],
   "source": [
    "score_df = pd.DataFrame([[1,50,80,70], \n",
    "              [2,60,45,50],\n",
    "              [3,98,43,55],\n",
    "              [4,70,69,89],\n",
    "              [5,56,79,60],\n",
    "              [6,60,68,55],\n",
    "              [7,45,70,77],\n",
    "              [8,55,77,76],\n",
    "              [9,25,57,60],\n",
    "              [10,88,40,43]],columns=['student_id','math_score','english_score','chinese_score'])\n",
    "score_df = score_df.set_index('student_id')\n",
    "score_df"
   ]
  },
  {
   "cell_type": "markdown",
   "id": "fd009a3c",
   "metadata": {},
   "source": [
    "**指定欄位算平均**"
   ]
  },
  {
   "cell_type": "code",
   "execution_count": 4,
   "id": "bec56b11",
   "metadata": {},
   "outputs": [
    {
     "data": {
      "text/plain": [
       "60.7"
      ]
     },
     "execution_count": 4,
     "metadata": {},
     "output_type": "execute_result"
    }
   ],
   "source": [
    "score_df.math_score.mean()"
   ]
  },
  {
   "cell_type": "markdown",
   "id": "fe98c5b7",
   "metadata": {},
   "source": [
    "**全欄位算平均**"
   ]
  },
  {
   "cell_type": "code",
   "execution_count": 5,
   "id": "589943c1",
   "metadata": {},
   "outputs": [
    {
     "data": {
      "text/plain": [
       "math_score       60.7\n",
       "english_score    62.8\n",
       "chinese_score    63.5\n",
       "dtype: float64"
      ]
     },
     "execution_count": 5,
     "metadata": {},
     "output_type": "execute_result"
    }
   ],
   "source": [
    "score_df.mean()"
   ]
  },
  {
   "cell_type": "code",
   "execution_count": 7,
   "id": "49edb8ea",
   "metadata": {},
   "outputs": [
    {
     "data": {
      "text/plain": [
       "math_score       60.7\n",
       "english_score    62.8\n",
       "chinese_score    63.5\n",
       "dtype: float64"
      ]
     },
     "execution_count": 7,
     "metadata": {},
     "output_type": "execute_result"
    }
   ],
   "source": [
    "score_df.mean(axis=0)"
   ]
  },
  {
   "cell_type": "markdown",
   "id": "2f77dbfe",
   "metadata": {},
   "source": [
    "**學生平均分數**"
   ]
  },
  {
   "cell_type": "code",
   "execution_count": 6,
   "id": "d42c6528",
   "metadata": {},
   "outputs": [
    {
     "data": {
      "text/plain": [
       "student_id\n",
       "1     66.666667\n",
       "2     51.666667\n",
       "3     65.333333\n",
       "4     76.000000\n",
       "5     65.000000\n",
       "6     61.000000\n",
       "7     64.000000\n",
       "8     69.333333\n",
       "9     47.333333\n",
       "10    57.000000\n",
       "dtype: float64"
      ]
     },
     "execution_count": 6,
     "metadata": {},
     "output_type": "execute_result"
    }
   ],
   "source": [
    "score_df.mean(axis=1)"
   ]
  },
  {
   "cell_type": "markdown",
   "id": "01b2a690",
   "metadata": {},
   "source": [
    "**學生3科總分數**"
   ]
  },
  {
   "cell_type": "code",
   "execution_count": 8,
   "id": "06715ac9",
   "metadata": {},
   "outputs": [
    {
     "data": {
      "text/plain": [
       "student_id\n",
       "1     200\n",
       "2     155\n",
       "3     196\n",
       "4     228\n",
       "5     195\n",
       "6     183\n",
       "7     192\n",
       "8     208\n",
       "9     142\n",
       "10    171\n",
       "dtype: int64"
      ]
     },
     "execution_count": 8,
     "metadata": {},
     "output_type": "execute_result"
    }
   ],
   "source": [
    "score_df.sum(axis=1)"
   ]
  },
  {
   "cell_type": "markdown",
   "id": "eb01a353",
   "metadata": {},
   "source": [
    "**本次各科考試人數**"
   ]
  },
  {
   "cell_type": "code",
   "execution_count": 9,
   "id": "43ed11ba",
   "metadata": {},
   "outputs": [
    {
     "data": {
      "text/plain": [
       "math_score       10\n",
       "english_score    10\n",
       "chinese_score    10\n",
       "dtype: int64"
      ]
     },
     "execution_count": 9,
     "metadata": {},
     "output_type": "execute_result"
    }
   ],
   "source": [
    "score_df.count()"
   ]
  },
  {
   "cell_type": "markdown",
   "id": "938e4326",
   "metadata": {},
   "source": [
    "**各科中位數分佈**"
   ]
  },
  {
   "cell_type": "code",
   "execution_count": 10,
   "id": "c93c3e09",
   "metadata": {},
   "outputs": [
    {
     "data": {
      "text/plain": [
       "math_score       58.0\n",
       "english_score    68.5\n",
       "chinese_score    60.0\n",
       "dtype: float64"
      ]
     },
     "execution_count": 10,
     "metadata": {},
     "output_type": "execute_result"
    }
   ],
   "source": [
    "score_df.median()"
   ]
  },
  {
   "cell_type": "markdown",
   "id": "329f349c",
   "metadata": {},
   "source": [
    "**各科百分位數分佈(75%)**\n",
    "\n",
    "百分位數 : `.quantile()`"
   ]
  },
  {
   "cell_type": "code",
   "execution_count": 11,
   "id": "eaa8379d",
   "metadata": {},
   "outputs": [
    {
     "data": {
      "text/plain": [
       "math_score       67.50\n",
       "english_score    75.25\n",
       "chinese_score    74.50\n",
       "Name: 0.75, dtype: float64"
      ]
     },
     "execution_count": 11,
     "metadata": {},
     "output_type": "execute_result"
    }
   ],
   "source": [
    "score_df.quantile(0.75)"
   ]
  },
  {
   "cell_type": "markdown",
   "id": "c481dcbf",
   "metadata": {},
   "source": [
    "**各科最大值**\n",
    "\n",
    "`.max()`"
   ]
  },
  {
   "cell_type": "code",
   "execution_count": 12,
   "id": "d25f026d",
   "metadata": {},
   "outputs": [
    {
     "data": {
      "text/plain": [
       "math_score       98\n",
       "english_score    80\n",
       "chinese_score    89\n",
       "dtype: int64"
      ]
     },
     "execution_count": 12,
     "metadata": {},
     "output_type": "execute_result"
    }
   ],
   "source": [
    "score_df.max()"
   ]
  },
  {
   "cell_type": "markdown",
   "id": "0077160e",
   "metadata": {},
   "source": [
    "**各科最小值**\n",
    "\n",
    "`.min()`"
   ]
  },
  {
   "cell_type": "code",
   "execution_count": 13,
   "id": "e27d1d12",
   "metadata": {},
   "outputs": [
    {
     "data": {
      "text/plain": [
       "math_score       25\n",
       "english_score    40\n",
       "chinese_score    43\n",
       "dtype: int64"
      ]
     },
     "execution_count": 13,
     "metadata": {},
     "output_type": "execute_result"
    }
   ],
   "source": [
    "score_df.min()"
   ]
  },
  {
   "cell_type": "markdown",
   "id": "085e5417",
   "metadata": {},
   "source": [
    "**各科標準差**\n",
    "\n",
    "`.std()`"
   ]
  },
  {
   "cell_type": "code",
   "execution_count": 14,
   "id": "c5ba6e19",
   "metadata": {},
   "outputs": [
    {
     "data": {
      "text/plain": [
       "math_score       20.854256\n",
       "english_score    15.418603\n",
       "chinese_score    14.151953\n",
       "dtype: float64"
      ]
     },
     "execution_count": 14,
     "metadata": {},
     "output_type": "execute_result"
    }
   ],
   "source": [
    "score_df.std()"
   ]
  },
  {
   "cell_type": "markdown",
   "id": "f45cf78c",
   "metadata": {},
   "source": [
    "**各科變異數**\n",
    "\n",
    "`.var()`"
   ]
  },
  {
   "cell_type": "code",
   "execution_count": 15,
   "id": "400e19d8",
   "metadata": {},
   "outputs": [
    {
     "data": {
      "text/plain": [
       "math_score       434.900000\n",
       "english_score    237.733333\n",
       "chinese_score    200.277778\n",
       "dtype: float64"
      ]
     },
     "execution_count": 15,
     "metadata": {},
     "output_type": "execute_result"
    }
   ],
   "source": [
    "score_df.var()"
   ]
  },
  {
   "cell_type": "markdown",
   "id": "1f4c0ac0",
   "metadata": {},
   "source": [
    "**各科之間的相關係數**\n",
    "\n",
    "`.corr()`"
   ]
  },
  {
   "cell_type": "code",
   "execution_count": 16,
   "id": "825a6075",
   "metadata": {},
   "outputs": [
    {
     "data": {
      "text/html": [
       "<div>\n",
       "<style scoped>\n",
       "    .dataframe tbody tr th:only-of-type {\n",
       "        vertical-align: middle;\n",
       "    }\n",
       "\n",
       "    .dataframe tbody tr th {\n",
       "        vertical-align: top;\n",
       "    }\n",
       "\n",
       "    .dataframe thead th {\n",
       "        text-align: right;\n",
       "    }\n",
       "</style>\n",
       "<table border=\"1\" class=\"dataframe\">\n",
       "  <thead>\n",
       "    <tr style=\"text-align: right;\">\n",
       "      <th></th>\n",
       "      <th>math_score</th>\n",
       "      <th>english_score</th>\n",
       "      <th>chinese_score</th>\n",
       "    </tr>\n",
       "  </thead>\n",
       "  <tbody>\n",
       "    <tr>\n",
       "      <th>math_score</th>\n",
       "      <td>1.000000</td>\n",
       "      <td>-0.532708</td>\n",
       "      <td>-0.314552</td>\n",
       "    </tr>\n",
       "    <tr>\n",
       "      <th>english_score</th>\n",
       "      <td>-0.532708</td>\n",
       "      <td>1.000000</td>\n",
       "      <td>0.682340</td>\n",
       "    </tr>\n",
       "    <tr>\n",
       "      <th>chinese_score</th>\n",
       "      <td>-0.314552</td>\n",
       "      <td>0.682340</td>\n",
       "      <td>1.000000</td>\n",
       "    </tr>\n",
       "  </tbody>\n",
       "</table>\n",
       "</div>"
      ],
      "text/plain": [
       "               math_score  english_score  chinese_score\n",
       "math_score       1.000000      -0.532708      -0.314552\n",
       "english_score   -0.532708       1.000000       0.682340\n",
       "chinese_score   -0.314552       0.682340       1.000000"
      ]
     },
     "execution_count": 16,
     "metadata": {},
     "output_type": "execute_result"
    }
   ],
   "source": [
    "score_df.corr()"
   ]
  },
  {
   "cell_type": "markdown",
   "id": "9094e555",
   "metadata": {},
   "source": [
    "**各科開根號乘以十**"
   ]
  },
  {
   "cell_type": "code",
   "execution_count": 17,
   "id": "1075e756",
   "metadata": {},
   "outputs": [
    {
     "data": {
      "text/html": [
       "<div>\n",
       "<style scoped>\n",
       "    .dataframe tbody tr th:only-of-type {\n",
       "        vertical-align: middle;\n",
       "    }\n",
       "\n",
       "    .dataframe tbody tr th {\n",
       "        vertical-align: top;\n",
       "    }\n",
       "\n",
       "    .dataframe thead th {\n",
       "        text-align: right;\n",
       "    }\n",
       "</style>\n",
       "<table border=\"1\" class=\"dataframe\">\n",
       "  <thead>\n",
       "    <tr style=\"text-align: right;\">\n",
       "      <th></th>\n",
       "      <th>math_score</th>\n",
       "      <th>english_score</th>\n",
       "      <th>chinese_score</th>\n",
       "    </tr>\n",
       "    <tr>\n",
       "      <th>student_id</th>\n",
       "      <th></th>\n",
       "      <th></th>\n",
       "      <th></th>\n",
       "    </tr>\n",
       "  </thead>\n",
       "  <tbody>\n",
       "    <tr>\n",
       "      <th>1</th>\n",
       "      <td>70.710678</td>\n",
       "      <td>89.442719</td>\n",
       "      <td>83.666003</td>\n",
       "    </tr>\n",
       "    <tr>\n",
       "      <th>2</th>\n",
       "      <td>77.459667</td>\n",
       "      <td>67.082039</td>\n",
       "      <td>70.710678</td>\n",
       "    </tr>\n",
       "    <tr>\n",
       "      <th>3</th>\n",
       "      <td>98.994949</td>\n",
       "      <td>65.574385</td>\n",
       "      <td>74.161985</td>\n",
       "    </tr>\n",
       "    <tr>\n",
       "      <th>4</th>\n",
       "      <td>83.666003</td>\n",
       "      <td>83.066239</td>\n",
       "      <td>94.339811</td>\n",
       "    </tr>\n",
       "    <tr>\n",
       "      <th>5</th>\n",
       "      <td>74.833148</td>\n",
       "      <td>88.881944</td>\n",
       "      <td>77.459667</td>\n",
       "    </tr>\n",
       "    <tr>\n",
       "      <th>6</th>\n",
       "      <td>77.459667</td>\n",
       "      <td>82.462113</td>\n",
       "      <td>74.161985</td>\n",
       "    </tr>\n",
       "    <tr>\n",
       "      <th>7</th>\n",
       "      <td>67.082039</td>\n",
       "      <td>83.666003</td>\n",
       "      <td>87.749644</td>\n",
       "    </tr>\n",
       "    <tr>\n",
       "      <th>8</th>\n",
       "      <td>74.161985</td>\n",
       "      <td>87.749644</td>\n",
       "      <td>87.177979</td>\n",
       "    </tr>\n",
       "    <tr>\n",
       "      <th>9</th>\n",
       "      <td>50.000000</td>\n",
       "      <td>75.498344</td>\n",
       "      <td>77.459667</td>\n",
       "    </tr>\n",
       "    <tr>\n",
       "      <th>10</th>\n",
       "      <td>93.808315</td>\n",
       "      <td>63.245553</td>\n",
       "      <td>65.574385</td>\n",
       "    </tr>\n",
       "  </tbody>\n",
       "</table>\n",
       "</div>"
      ],
      "text/plain": [
       "            math_score  english_score  chinese_score\n",
       "student_id                                          \n",
       "1            70.710678      89.442719      83.666003\n",
       "2            77.459667      67.082039      70.710678\n",
       "3            98.994949      65.574385      74.161985\n",
       "4            83.666003      83.066239      94.339811\n",
       "5            74.833148      88.881944      77.459667\n",
       "6            77.459667      82.462113      74.161985\n",
       "7            67.082039      83.666003      87.749644\n",
       "8            74.161985      87.749644      87.177979\n",
       "9            50.000000      75.498344      77.459667\n",
       "10           93.808315      63.245553      65.574385"
      ]
     },
     "execution_count": 17,
     "metadata": {},
     "output_type": "execute_result"
    }
   ],
   "source": [
    "score_df.apply(lambda x : x**(0.5)*10)"
   ]
  },
  {
   "cell_type": "markdown",
   "id": "a335a9a5",
   "metadata": {},
   "source": [
    "# Numpy 運算"
   ]
  },
  {
   "cell_type": "markdown",
   "id": "6fafe112",
   "metadata": {},
   "source": [
    "**從 DataFrame 中插入或刪除資料**"
   ]
  },
  {
   "cell_type": "code",
   "execution_count": 18,
   "id": "56bf000e",
   "metadata": {},
   "outputs": [
    {
     "name": "stdout",
     "output_type": "stream",
     "text": [
      "   a\n",
      "0  1\n",
      "1  2\n",
      "   a  b\n",
      "0  1  3\n",
      "1  2  4\n"
     ]
    }
   ],
   "source": [
    "import pandas as pd\n",
    "\n",
    "df = pd.DataFrame([[1], [2]], columns = ['a'])\n",
    "print(df)\n",
    "\n",
    "df['b'] = pd.Series([3, 4])\n",
    "print(df)"
   ]
  },
  {
   "cell_type": "markdown",
   "id": "d82d44aa",
   "metadata": {},
   "source": [
    "**新增之後，index重複**"
   ]
  },
  {
   "cell_type": "code",
   "execution_count": 19,
   "id": "e25e611d",
   "metadata": {},
   "outputs": [
    {
     "name": "stdout",
     "output_type": "stream",
     "text": [
      "   a  b\n",
      "0  1  2\n",
      "   a  b\n",
      "0  1  2\n",
      "0  3  4\n"
     ]
    }
   ],
   "source": [
    "import pandas as pd\n",
    "\n",
    "df = pd.DataFrame([[1, 2]], columns = ['a', 'b'])\n",
    "print(df)\n",
    "\n",
    "\n",
    "df = df.append(pd.DataFrame([[3, 4]], columns = ['a', 'b']))\n",
    "print(df)\n"
   ]
  },
  {
   "cell_type": "markdown",
   "id": "8342d9d3",
   "metadata": {},
   "source": [
    "`.reset_index(drop=True)`**重排index**"
   ]
  },
  {
   "cell_type": "code",
   "execution_count": 20,
   "id": "91f2beab",
   "metadata": {},
   "outputs": [
    {
     "name": "stdout",
     "output_type": "stream",
     "text": [
      "   a  b\n",
      "0  1  2\n",
      "   a  b\n",
      "0  1  2\n",
      "1  3  4\n"
     ]
    }
   ],
   "source": [
    "import pandas as pd\n",
    "\n",
    "df = pd.DataFrame([[1, 2]], columns = ['a', 'b'])\n",
    "print(df)\n",
    "\n",
    "\n",
    "df = df.append(pd.DataFrame([[3, 4]], columns = ['a', 'b']))\n",
    "df = df.reset_index(drop=True)\n",
    "print(df)"
   ]
  },
  {
   "cell_type": "markdown",
   "id": "396e95f7",
   "metadata": {},
   "source": [
    "**刪除 :**<br>\n",
    "\n",
    "`del`<br>\n",
    "`.pop()`<br>"
   ]
  },
  {
   "cell_type": "code",
   "execution_count": 21,
   "id": "ae30a5d3",
   "metadata": {},
   "outputs": [
    {
     "name": "stdout",
     "output_type": "stream",
     "text": [
      "   a  b  c\n",
      "0  1  2  3\n"
     ]
    },
    {
     "data": {
      "text/plain": [
       "0    3\n",
       "Name: c, dtype: int64"
      ]
     },
     "execution_count": 21,
     "metadata": {},
     "output_type": "execute_result"
    }
   ],
   "source": [
    "import pandas as pd\n",
    "\n",
    "df = pd.DataFrame([[1, 2, 3]], columns = ['a', 'b', 'c'])\n",
    "print(df)\n",
    "\n",
    "\n",
    "\n",
    "del df['a']\n",
    "df.pop('c')"
   ]
  },
  {
   "cell_type": "code",
   "execution_count": 22,
   "id": "e55c32b3",
   "metadata": {},
   "outputs": [
    {
     "name": "stdout",
     "output_type": "stream",
     "text": [
      "   a\n",
      "0  1\n",
      "1  2\n",
      "   a\n",
      "0  1\n"
     ]
    }
   ],
   "source": [
    "import pandas as pd\n",
    "\n",
    "df = pd.DataFrame([[1], [2]], columns = ['a'])\n",
    "print(df)\n",
    "\n",
    "\n",
    "\n",
    "df = df.drop(1)\n",
    "print(df)"
   ]
  },
  {
   "cell_type": "markdown",
   "id": "8e620360",
   "metadata": {},
   "source": [
    "**DataFrame 的合併與重組**"
   ]
  },
  {
   "cell_type": "markdown",
   "id": "4114a208",
   "metadata": {},
   "source": [
    "**合併 :**\n",
    "    \n",
    "`.concat([one, two])`"
   ]
  },
  {
   "cell_type": "code",
   "execution_count": 23,
   "id": "ab485eb1",
   "metadata": {},
   "outputs": [
    {
     "data": {
      "text/html": [
       "<div>\n",
       "<style scoped>\n",
       "    .dataframe tbody tr th:only-of-type {\n",
       "        vertical-align: middle;\n",
       "    }\n",
       "\n",
       "    .dataframe tbody tr th {\n",
       "        vertical-align: top;\n",
       "    }\n",
       "\n",
       "    .dataframe thead th {\n",
       "        text-align: right;\n",
       "    }\n",
       "</style>\n",
       "<table border=\"1\" class=\"dataframe\">\n",
       "  <thead>\n",
       "    <tr style=\"text-align: right;\">\n",
       "      <th></th>\n",
       "      <th>id</th>\n",
       "      <th>Name</th>\n",
       "    </tr>\n",
       "  </thead>\n",
       "  <tbody>\n",
       "    <tr>\n",
       "      <th>0</th>\n",
       "      <td>1</td>\n",
       "      <td>Alex</td>\n",
       "    </tr>\n",
       "    <tr>\n",
       "      <th>1</th>\n",
       "      <td>2</td>\n",
       "      <td>Amy</td>\n",
       "    </tr>\n",
       "    <tr>\n",
       "      <th>0</th>\n",
       "      <td>1</td>\n",
       "      <td>Bob</td>\n",
       "    </tr>\n",
       "    <tr>\n",
       "      <th>1</th>\n",
       "      <td>2</td>\n",
       "      <td>Tom</td>\n",
       "    </tr>\n",
       "  </tbody>\n",
       "</table>\n",
       "</div>"
      ],
      "text/plain": [
       "   id  Name\n",
       "0   1  Alex\n",
       "1   2   Amy\n",
       "0   1   Bob\n",
       "1   2   Tom"
      ]
     },
     "execution_count": 23,
     "metadata": {},
     "output_type": "execute_result"
    }
   ],
   "source": [
    "one = pd.DataFrame({\n",
    "    'id':[1, 2],\n",
    "    'Name': ['Alex', 'Amy'],\n",
    "})\n",
    "two = pd.DataFrame({\n",
    "    'id':[1, 2],\n",
    "    'Name': ['Bob', 'Tom']\n",
    "})\n",
    "\n",
    "pd.concat([one, two])\n"
   ]
  },
  {
   "cell_type": "markdown",
   "id": "78f5851d",
   "metadata": {},
   "source": [
    "`.reset_index(drop=True)` **concat後重排index**"
   ]
  },
  {
   "cell_type": "code",
   "execution_count": 24,
   "id": "be91eefb",
   "metadata": {},
   "outputs": [
    {
     "data": {
      "text/html": [
       "<div>\n",
       "<style scoped>\n",
       "    .dataframe tbody tr th:only-of-type {\n",
       "        vertical-align: middle;\n",
       "    }\n",
       "\n",
       "    .dataframe tbody tr th {\n",
       "        vertical-align: top;\n",
       "    }\n",
       "\n",
       "    .dataframe thead th {\n",
       "        text-align: right;\n",
       "    }\n",
       "</style>\n",
       "<table border=\"1\" class=\"dataframe\">\n",
       "  <thead>\n",
       "    <tr style=\"text-align: right;\">\n",
       "      <th></th>\n",
       "      <th>id</th>\n",
       "      <th>Name</th>\n",
       "    </tr>\n",
       "  </thead>\n",
       "  <tbody>\n",
       "    <tr>\n",
       "      <th>0</th>\n",
       "      <td>1</td>\n",
       "      <td>Alex</td>\n",
       "    </tr>\n",
       "    <tr>\n",
       "      <th>1</th>\n",
       "      <td>2</td>\n",
       "      <td>Amy</td>\n",
       "    </tr>\n",
       "    <tr>\n",
       "      <th>2</th>\n",
       "      <td>1</td>\n",
       "      <td>Bob</td>\n",
       "    </tr>\n",
       "    <tr>\n",
       "      <th>3</th>\n",
       "      <td>2</td>\n",
       "      <td>Tom</td>\n",
       "    </tr>\n",
       "  </tbody>\n",
       "</table>\n",
       "</div>"
      ],
      "text/plain": [
       "   id  Name\n",
       "0   1  Alex\n",
       "1   2   Amy\n",
       "2   1   Bob\n",
       "3   2   Tom"
      ]
     },
     "execution_count": 24,
     "metadata": {},
     "output_type": "execute_result"
    }
   ],
   "source": [
    "one = pd.DataFrame({\n",
    "    'id':[1, 2],\n",
    "    'Name': ['Alex', 'Amy'],\n",
    "})\n",
    "two = pd.DataFrame({\n",
    "    'id':[1, 2],\n",
    "    'Name': ['Bob', 'Tom']\n",
    "})\n",
    "\n",
    "pd.concat([one, two]).reset_index(drop=True)"
   ]
  },
  {
   "cell_type": "markdown",
   "id": "3fff5d98",
   "metadata": {},
   "source": [
    "`.merge(one, two, on=)`"
   ]
  },
  {
   "cell_type": "code",
   "execution_count": 25,
   "id": "d376b1c6",
   "metadata": {},
   "outputs": [
    {
     "data": {
      "text/html": [
       "<div>\n",
       "<style scoped>\n",
       "    .dataframe tbody tr th:only-of-type {\n",
       "        vertical-align: middle;\n",
       "    }\n",
       "\n",
       "    .dataframe tbody tr th {\n",
       "        vertical-align: top;\n",
       "    }\n",
       "\n",
       "    .dataframe thead th {\n",
       "        text-align: right;\n",
       "    }\n",
       "</style>\n",
       "<table border=\"1\" class=\"dataframe\">\n",
       "  <thead>\n",
       "    <tr style=\"text-align: right;\">\n",
       "      <th></th>\n",
       "      <th>id</th>\n",
       "      <th>Name</th>\n",
       "      <th>Score</th>\n",
       "    </tr>\n",
       "  </thead>\n",
       "  <tbody>\n",
       "    <tr>\n",
       "      <th>0</th>\n",
       "      <td>1</td>\n",
       "      <td>Alex</td>\n",
       "      <td>98</td>\n",
       "    </tr>\n",
       "    <tr>\n",
       "      <th>1</th>\n",
       "      <td>2</td>\n",
       "      <td>Amy</td>\n",
       "      <td>60</td>\n",
       "    </tr>\n",
       "  </tbody>\n",
       "</table>\n",
       "</div>"
      ],
      "text/plain": [
       "   id  Name  Score\n",
       "0   1  Alex     98\n",
       "1   2   Amy     60"
      ]
     },
     "execution_count": 25,
     "metadata": {},
     "output_type": "execute_result"
    }
   ],
   "source": [
    "one = pd.DataFrame({\n",
    "    'id':[1, 2],\n",
    "    'Name': ['Alex', 'Amy'],\n",
    "})\n",
    "two = pd.DataFrame({\n",
    "    'id':[1, 2],\n",
    "    'Score': [98, 60]\n",
    "})\n",
    "\n",
    "pd.merge(one, two, on='id')\n"
   ]
  },
  {
   "cell_type": "markdown",
   "id": "157c3891",
   "metadata": {},
   "source": [
    "`one.join(two)`"
   ]
  },
  {
   "cell_type": "code",
   "execution_count": 26,
   "id": "22af4a91",
   "metadata": {},
   "outputs": [
    {
     "data": {
      "text/html": [
       "<div>\n",
       "<style scoped>\n",
       "    .dataframe tbody tr th:only-of-type {\n",
       "        vertical-align: middle;\n",
       "    }\n",
       "\n",
       "    .dataframe tbody tr th {\n",
       "        vertical-align: top;\n",
       "    }\n",
       "\n",
       "    .dataframe thead th {\n",
       "        text-align: right;\n",
       "    }\n",
       "</style>\n",
       "<table border=\"1\" class=\"dataframe\">\n",
       "  <thead>\n",
       "    <tr style=\"text-align: right;\">\n",
       "      <th></th>\n",
       "      <th>Name</th>\n",
       "      <th>Score</th>\n",
       "    </tr>\n",
       "  </thead>\n",
       "  <tbody>\n",
       "    <tr>\n",
       "      <th>0</th>\n",
       "      <td>Alex</td>\n",
       "      <td>98</td>\n",
       "    </tr>\n",
       "    <tr>\n",
       "      <th>1</th>\n",
       "      <td>Amy</td>\n",
       "      <td>60</td>\n",
       "    </tr>\n",
       "  </tbody>\n",
       "</table>\n",
       "</div>"
      ],
      "text/plain": [
       "   Name  Score\n",
       "0  Alex     98\n",
       "1   Amy     60"
      ]
     },
     "execution_count": 26,
     "metadata": {},
     "output_type": "execute_result"
    }
   ],
   "source": [
    "one = pd.DataFrame({\n",
    "    'Name': ['Alex', 'Amy'],\n",
    "})\n",
    "two = pd.DataFrame({\n",
    "    'Score': [98, 60]\n",
    "})\n",
    "\n",
    "one.join(two)\n"
   ]
  },
  {
   "cell_type": "markdown",
   "id": "324f7bad",
   "metadata": {},
   "source": [
    "`.groupby('A').sum()` : 根據某個（多個）字段劃分為不同的群體（group）"
   ]
  },
  {
   "cell_type": "code",
   "execution_count": 29,
   "id": "739e3a4c",
   "metadata": {},
   "outputs": [
    {
     "data": {
      "text/html": [
       "<div>\n",
       "<style scoped>\n",
       "    .dataframe tbody tr th:only-of-type {\n",
       "        vertical-align: middle;\n",
       "    }\n",
       "\n",
       "    .dataframe tbody tr th {\n",
       "        vertical-align: top;\n",
       "    }\n",
       "\n",
       "    .dataframe thead th {\n",
       "        text-align: right;\n",
       "    }\n",
       "</style>\n",
       "<table border=\"1\" class=\"dataframe\">\n",
       "  <thead>\n",
       "    <tr style=\"text-align: right;\">\n",
       "      <th></th>\n",
       "      <th>C</th>\n",
       "      <th>D</th>\n",
       "    </tr>\n",
       "    <tr>\n",
       "      <th>A</th>\n",
       "      <th></th>\n",
       "      <th></th>\n",
       "    </tr>\n",
       "  </thead>\n",
       "  <tbody>\n",
       "    <tr>\n",
       "      <th>bar</th>\n",
       "      <td>6</td>\n",
       "      <td>60</td>\n",
       "    </tr>\n",
       "    <tr>\n",
       "      <th>foo</th>\n",
       "      <td>4</td>\n",
       "      <td>40</td>\n",
       "    </tr>\n",
       "  </tbody>\n",
       "</table>\n",
       "</div>"
      ],
      "text/plain": [
       "     C   D\n",
       "A         \n",
       "bar  6  60\n",
       "foo  4  40"
      ]
     },
     "execution_count": 29,
     "metadata": {},
     "output_type": "execute_result"
    }
   ],
   "source": [
    "df = pd.DataFrame({\n",
    "  'A' : ['foo', 'bar', 'foo', 'bar'],\n",
    "  'B' : ['one', 'one', 'two', 'three'],\n",
    "  'C' : [1,2,3,4],\n",
    "  'D' : [10, 20, 30, 40]\n",
    "})\n",
    "\n",
    "df.groupby('A').sum()\n",
    "\n"
   ]
  },
  {
   "cell_type": "code",
   "execution_count": 30,
   "id": "148f4722",
   "metadata": {},
   "outputs": [
    {
     "data": {
      "text/html": [
       "<div>\n",
       "<style scoped>\n",
       "    .dataframe tbody tr th:only-of-type {\n",
       "        vertical-align: middle;\n",
       "    }\n",
       "\n",
       "    .dataframe tbody tr th {\n",
       "        vertical-align: top;\n",
       "    }\n",
       "\n",
       "    .dataframe thead th {\n",
       "        text-align: right;\n",
       "    }\n",
       "</style>\n",
       "<table border=\"1\" class=\"dataframe\">\n",
       "  <thead>\n",
       "    <tr style=\"text-align: right;\">\n",
       "      <th></th>\n",
       "      <th>C</th>\n",
       "      <th>D</th>\n",
       "    </tr>\n",
       "    <tr>\n",
       "      <th>A</th>\n",
       "      <th></th>\n",
       "      <th></th>\n",
       "    </tr>\n",
       "  </thead>\n",
       "  <tbody>\n",
       "    <tr>\n",
       "      <th>bar</th>\n",
       "      <td>6</td>\n",
       "      <td>60</td>\n",
       "    </tr>\n",
       "    <tr>\n",
       "      <th>foo</th>\n",
       "      <td>4</td>\n",
       "      <td>40</td>\n",
       "    </tr>\n",
       "  </tbody>\n",
       "</table>\n",
       "</div>"
      ],
      "text/plain": [
       "     C   D\n",
       "A         \n",
       "bar  6  60\n",
       "foo  4  40"
      ]
     },
     "execution_count": 30,
     "metadata": {},
     "output_type": "execute_result"
    }
   ],
   "source": [
    "df.groupby('A').agg(sum)"
   ]
  },
  {
   "cell_type": "code",
   "execution_count": 31,
   "id": "6c610df3",
   "metadata": {},
   "outputs": [
    {
     "data": {
      "text/html": [
       "<div>\n",
       "<style scoped>\n",
       "    .dataframe tbody tr th:only-of-type {\n",
       "        vertical-align: middle;\n",
       "    }\n",
       "\n",
       "    .dataframe tbody tr th {\n",
       "        vertical-align: top;\n",
       "    }\n",
       "\n",
       "    .dataframe thead th {\n",
       "        text-align: right;\n",
       "    }\n",
       "</style>\n",
       "<table border=\"1\" class=\"dataframe\">\n",
       "  <thead>\n",
       "    <tr style=\"text-align: right;\">\n",
       "      <th></th>\n",
       "      <th></th>\n",
       "      <th>C</th>\n",
       "      <th>D</th>\n",
       "    </tr>\n",
       "    <tr>\n",
       "      <th>A</th>\n",
       "      <th>B</th>\n",
       "      <th></th>\n",
       "      <th></th>\n",
       "    </tr>\n",
       "  </thead>\n",
       "  <tbody>\n",
       "    <tr>\n",
       "      <th rowspan=\"2\" valign=\"top\">bar</th>\n",
       "      <th>one</th>\n",
       "      <td>2</td>\n",
       "      <td>20</td>\n",
       "    </tr>\n",
       "    <tr>\n",
       "      <th>three</th>\n",
       "      <td>4</td>\n",
       "      <td>40</td>\n",
       "    </tr>\n",
       "    <tr>\n",
       "      <th rowspan=\"2\" valign=\"top\">foo</th>\n",
       "      <th>one</th>\n",
       "      <td>1</td>\n",
       "      <td>10</td>\n",
       "    </tr>\n",
       "    <tr>\n",
       "      <th>two</th>\n",
       "      <td>3</td>\n",
       "      <td>30</td>\n",
       "    </tr>\n",
       "  </tbody>\n",
       "</table>\n",
       "</div>"
      ],
      "text/plain": [
       "           C   D\n",
       "A   B           \n",
       "bar one    2  20\n",
       "    three  4  40\n",
       "foo one    1  10\n",
       "    two    3  30"
      ]
     },
     "execution_count": 31,
     "metadata": {},
     "output_type": "execute_result"
    }
   ],
   "source": [
    "df.groupby(['A','B']).sum()"
   ]
  },
  {
   "cell_type": "code",
   "execution_count": null,
   "id": "832fadeb",
   "metadata": {},
   "outputs": [],
   "source": []
  }
 ],
 "metadata": {
  "kernelspec": {
   "display_name": "Python 3",
   "language": "python",
   "name": "python3"
  },
  "language_info": {
   "codemirror_mode": {
    "name": "ipython",
    "version": 3
   },
   "file_extension": ".py",
   "mimetype": "text/x-python",
   "name": "python",
   "nbconvert_exporter": "python",
   "pygments_lexer": "ipython3",
   "version": "3.6.13"
  }
 },
 "nbformat": 4,
 "nbformat_minor": 5
}
