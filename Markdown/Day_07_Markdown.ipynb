{
 "cells": [
  {
   "cell_type": "markdown",
   "id": "36e8efda",
   "metadata": {},
   "source": [
    "# NumPy 的矩陣函式與線性代數應用\n",
    "\n",
    "# 範例目標:\n",
    "\n",
    "1. 矩陣乘積 : 點積、內積、外積、矩陣乘法<br>\n",
    "   - 點積：`numpy.dot(a, b)`\n",
    "   - 內積(純量積)：`numpy.inner()`\n",
    "   - 外積：`numpy.outer()`\n",
    "   - 矩陣乘法：`numpy.matmul()` 與 `@`\n",
    "     * **如果2個都是二維陣列的話，`matmul`與 `dot` 相同。**\n",
    "     * 在 `matmul` 中，多維的矩陣，將前 n-2 維視為後2维的元素後，進行乘法運算。\n",
    "     * **`matmul` 不允許矩陣與純量相乘。**<br>\n",
    "     \n",
    "\n",
    "\n",
    "2. 矩陣操作 :　跡、行列式、反矩陣、轉置、特徵值與特徵向量、秩、線性系統求解<br>\n",
    "   - 跡：`numpy.trace()`\n",
    "     $\n",
    "     A = \\begin{bmatrix}\n",
    "     a_{11} & a_{12} & a_{13} \\\\\n",
    "     a_{21} & a_{22} & a_{23} \\\\\n",
    "     a_{31} & a_{32} & a_{33}\n",
    "     \\end{bmatrix}\n",
    "     $\n",
    "\n",
    "     $\n",
    "     trace(A) = a_{11} + a_{22} + a_{33}\n",
    "     $\n",
    "   <br>\n",
    "   - 行列式 (Determinant)：`numpy.linalg.det()`\n",
    "\n",
    "     **矩陣必為方陣 (square)**\n",
    "\n",
    "     $\\vert A \\vert= \\begin{vmatrix}\n",
    "     a_{11} & a_{12} & a_{13} \\\\\n",
    "     a_{21} & a_{22} & a_{23} \\\\\n",
    "     a_{31} & a_{32} & a_{33}\n",
    "     \\end{vmatrix}\\\\\n",
    "     = a_{11}\\space a_{22}\\space a_{33} + a_{12}\\space a_{23}\\space a_{31} + a_{13}\\space a_{21}\\space a_{32}\n",
    "     - a_{13}\\space a_{22}\\space a_{31} - a_{23}\\space a_{32}\\space a_{11} - a_{33}\\space a_{12}\\space a_{21}\n",
    "     $\n",
    "\n",
    "     圖解行列式運算 \n",
    "     ![](https://upload.wikimedia.org/wikipedia/commons/4/4d/Determinant-columns.png)\n",
    "<br>\n",
    "   - 反矩陣：`numpy.linalg.inv()`\n",
    "\n",
    "     **矩陣必為方陣 (square)**\n",
    "\n",
    "     $\n",
    "     A = \\left[\\begin{array}{ccc|ccc}\n",
    "     a_{11} & a_{12} & a_{13} & 1 & 0 & 0\\\\\n",
    "     a_{21} & a_{22} & a_{23} & 0 & 1 & 0\\\\\n",
    "     a_{31} & a_{32} & a_{33} & 0 & 0 & 1\n",
    "     \\end{array}\\right]\n",
    "     $\n",
    "\n",
    "     透過高斯消去法 (Gaussian Elimination)，可以得到右邊的矩陣即為 A 的反矩陣\n",
    "\n",
    "     $\n",
    "     A^{-1} = \\left[\\begin{array}{ccc|ccc}\n",
    "     1 & 0 & 0 & b_{11} & b_{12} & b_{13} \\\\\n",
    "     0 & 1 & 0 & b_{21} & b_{22} & b_{23}\\\\\n",
    "     0 & 0 & 1 & b_{31} & b_{32} & b_{33}\n",
    "     \\end{array}\\right]\n",
    "     $ \n",
    "     <br>\n",
    "   - 轉置 (Transpose)：`numpy.transpose()`\n",
    "\n",
    "     $\n",
    "     A = \\begin{bmatrix}\n",
    "     a_{11} & a_{12} & a_{13} \\\\\n",
    "     a_{21} & a_{22} & a_{23} \\\\\n",
    "     a_{31} & a_{32} & a_{33}\n",
    "     \\end{bmatrix}\n",
    "     $\n",
    "\n",
    "     $\n",
    "     A^T = \\begin{bmatrix}\n",
    "     a_{11} & a_{21} & a_{31} \\\\\n",
    "     a_{12} & a_{22} & a_{23} \\\\\n",
    "     a_{13} & a_{23} & a_{33}\n",
    "     \\end{bmatrix}\n",
    "     $\n",
    "     <br>\n",
    "   - 特徵值(eigenvalues)與特徵向量(eigenvectors)：`numpy.linalg.eig()`\n",
    "\n",
    "     ```python\n",
    "     eigenvalues, eigenvectors = np.linalg.eig(x)\n",
    "     ```\n",
    "\n",
    "     `eigvals()` 函式也可以計算特徵值。\n",
    "    <br>\n",
    "     \n",
    "   - 秩：`numpy.linalg.matrix_rank()`\n",
    "      \n",
    "      呼叫 `matrix_rank()` 回傳矩陣的秩(rank)，\n",
    "\n",
    "      NumPy是使用SVD(奇異值分解；singular value decomposition)來計算秩。\n",
    "   <br>\n",
    "   - 解線性方程式：`numpy.linalg.solve()`\n",
    "\n",
    "     \n",
    "3. 特殊矩陣 : 單位矩陣(identity)、單位矩陣(eye)、三角矩陣、單對角陣列、上三角矩陣、下三角矩陣\n",
    "\n",
    "   - 單位矩陣：`numpy.identity()`\n",
    "\n",
    "     單位矩陣是對角線元素值為1的方陣。\n",
    "    \n",
    "   - 單位矩陣：`numpy.eye()`\n",
    "\n",
    "     ```python\n",
    "     numpy.eye(N, M=None, k=0, dtype=<class 'float'>, order='C)\n",
    "     ```\n",
    "\n",
    "    |參數|說明|\n",
    "    |---|---|\n",
    "    |N|輸出的行數|\n",
    "    |M|輸出的列數，如果沒有就默認爲 N|\n",
    "    |k|對角線的下標，默認爲0：表示的是主對角線，負數表示的是低對角，正數表示的是高對角|\n",
    "    |dtype|數據的類型|\n",
    "    |order|{‘C’，‘F'}：輸出的數組的形式是按照C語言的行優先’C'，還是按照Fortran形式的列優先‘F'存儲在內存中|\n",
    "\n",
    "     `eye()` 也是用來產生對角線元素值為1的陣列，\n",
    "\n",
    "    與 `identity()` 不同的地方在於 `eye()` 產生的**可以不是方陣**，也可以指定對角線開始的索引。\n",
    "\n",
    "    可以從指定的Column索引開始。\n",
    "<br>\n",
    "    \n",
    "   - 三角矩陣：`numpy.tri()`\n",
    "\n",
    "     `tri()` 可以用來產生對角線以下都是1的元素\n",
    "<br>\n",
    "     \n",
    "   - 上三角矩陣 (Upper Triangular)、下三角矩陣 (Lower Triangular)：`numpy.triu()`、`numpy.tril()`\n",
    "\n",
    "     `triu()`、`numpy.tril()` 可將對角線以上或以下的元素值設為0，也可以指定對角線起始的索引。\n",
    "\n",
    "<br>\n",
    "4. 矩陣分解 : Cholesky、QR、SVD\n",
    "\n",
    "   NumPy 線性代數函式中提供3種矩陣分解的函式：\n",
    "* Cholesky Decomposition：`numpy.linalg.cholesky()`\n",
    "  - 將一個 positive-definite 的 Hermitian matrix 分解成一個下三角矩陣與其共軛轉置之乘積。<br>\n",
    "\n",
    "\n",
    "* QR Factorization：`numpy.linalg.qr()`\n",
    "  - 把矩陣分解成一個正交矩陣與一個上三角矩陣的積。<br>\n",
    "\n",
    "\n",
    "* Singular Value Decomposition (SVD)：`numpy.linalg.svd()`\n",
    "  ```python\n",
    "  u, s, v = np.linalg.svd(a,full_matrices=1,compute_uv=1)\n",
    "  ```\n",
    "  \n",
    "  |參數|說明|\n",
    "  |---|---|\n",
    "  |a|(M,N)矩陣|\n",
    "  |full_matrices|取值是為0或者1，默認值為1，這時u的大小為(M,M)，v的大小為(N,N) 。否則u的大小為(M,K)，v的大小為(K,N) ，K=min(M,N)|\n",
    "  |compute_uv|取值是為0或者1，默認值為1，表示計算u,s,v。為0的時候只計算s|\n",
    "\n",
    "  \n",
    "    u大小為(M,M)，s大小為(M,N)，v大小為(N,N)\n",
    "  \n",
    "    A = u * s * v\n",
    "\n",
    "    其中s是對矩陣a的奇異值分解。 \n",
    "    s除了對角元素不為0，其他元素都為0，並且對角元素從大到小排列。 \n",
    "    s中有n個奇異值，一般排在後面的比較接近0，所以僅保留比較大的r個奇異值。\n",
    "\n",
    "\n",
    "\n",
    "# 範例重點:\n",
    "1. 矩陣乘積時，必須注意形狀 (shape)\n",
    "2. 矩陣操作、特殊矩陣與矩陣分解在線性代數中是會時常使用到的方法\n",
    "\n",
    "\n",
    "# [教學目標]\n",
    "\n",
    "* 知道如何從 NumPy 陣列存取元素\n",
    "* 了解一維與多維陣列的迴圈用法\n",
    "* 初步理解陣列與其迭代物件\n",
    "  - 從陣列中存取元素\n",
    "  - 一維陣列的切片與索引\n",
    "  - 一維陣列的的迭代\n",
    "  - 多維陣列的多層迴圈\n",
    "  - 攤平後再迭代多維陣列\n",
    "  - np.nditer 迭代物件\n",
    "  - 迭代物件的儲存方向"
   ]
  },
  {
   "cell_type": "code",
   "execution_count": 74,
   "id": "40a0f8c8",
   "metadata": {},
   "outputs": [],
   "source": [
    "import numpy as np"
   ]
  },
  {
   "cell_type": "markdown",
   "id": "6a923826",
   "metadata": {},
   "source": [
    "## 1. 矩陣乘積"
   ]
  },
  {
   "cell_type": "markdown",
   "id": "cb6d9859",
   "metadata": {},
   "source": [
    "## 1.1 點積 (dot product)：`numpy.dot(a, b)`\n",
    "\n",
    "進行點積運算須注意形狀必須注意形狀 (shape)。\n",
    "\n",
    "若是兩個向量的點積，兩個向量的元素數目也須相同，或其中一個數目為 1 (廣播)。\n",
    "\n",
    "若是兩個多維陣列 (矩陣) 的點積，則中間兩個大小要相同才能進行點積，例如：\n",
    "\n",
    "$(2, 3) \\cdot (3, 4) \\to $ 成為 $(2, 4)$\n",
    "\n",
    "點積的運算如下，假設 A 和 B：\n",
    "\n",
    "$ A = \n",
    "\\begin{bmatrix}\n",
    "a_{11} & a_{12} & a_{13}\\\\\n",
    "a_{21} & a_{22} & a_{23}\n",
    "\\end{bmatrix}\n",
    "$\n",
    "\n",
    "$ B =\n",
    "\\begin{bmatrix}\n",
    "b_{11} & b_{12} & b_{13} & b_{14}\\\\\n",
    "b_{21} & b_{22} & b_{23} & b_{24}\\\\\n",
    "b_{31} & b_{32} & b_{33} & b_{34}\n",
    "\\end{bmatrix}\n",
    "$\n",
    "\n",
    "兩個矩陣進行點積\n",
    "\n",
    "![](dot_product.png)"
   ]
  },
  {
   "cell_type": "code",
   "execution_count": 75,
   "id": "9e5c8815",
   "metadata": {},
   "outputs": [],
   "source": [
    "np.random.seed(9)\n",
    "A = np.arange(6).reshape(2, 3)\n",
    "B = np.arange(12).reshape(3, 4)"
   ]
  },
  {
   "cell_type": "code",
   "execution_count": 76,
   "id": "1e68849f",
   "metadata": {},
   "outputs": [
    {
     "data": {
      "text/plain": [
       "array([[0, 1, 2],\n",
       "       [3, 4, 5]])"
      ]
     },
     "execution_count": 76,
     "metadata": {},
     "output_type": "execute_result"
    }
   ],
   "source": [
    "A"
   ]
  },
  {
   "cell_type": "code",
   "execution_count": 77,
   "id": "d87552f1",
   "metadata": {},
   "outputs": [
    {
     "data": {
      "text/plain": [
       "array([[ 0,  1,  2,  3],\n",
       "       [ 4,  5,  6,  7],\n",
       "       [ 8,  9, 10, 11]])"
      ]
     },
     "execution_count": 77,
     "metadata": {},
     "output_type": "execute_result"
    }
   ],
   "source": [
    "B"
   ]
  },
  {
   "cell_type": "code",
   "execution_count": 78,
   "id": "6fd99be3",
   "metadata": {},
   "outputs": [
    {
     "data": {
      "text/plain": [
       "array([[20, 23, 26, 29],\n",
       "       [56, 68, 80, 92]])"
      ]
     },
     "execution_count": 78,
     "metadata": {},
     "output_type": "execute_result"
    }
   ],
   "source": [
    "np.dot(A, B)"
   ]
  },
  {
   "cell_type": "markdown",
   "id": "4c5c64d6",
   "metadata": {},
   "source": [
    "如果形狀不符合則無法進行點積"
   ]
  },
  {
   "cell_type": "code",
   "execution_count": 79,
   "id": "f515faab",
   "metadata": {},
   "outputs": [
    {
     "ename": "ValueError",
     "evalue": "shapes (5,) and (3,) not aligned: 5 (dim 0) != 3 (dim 0)",
     "output_type": "error",
     "traceback": [
      "\u001b[1;31m---------------------------------------------------------------------------\u001b[0m",
      "\u001b[1;31mValueError\u001b[0m                                Traceback (most recent call last)",
      "\u001b[1;32m<ipython-input-79-0ed6812b0fa5>\u001b[0m in \u001b[0;36m<module>\u001b[1;34m\u001b[0m\n\u001b[1;32m----> 1\u001b[1;33m \u001b[0mnp\u001b[0m\u001b[1;33m.\u001b[0m\u001b[0mdot\u001b[0m\u001b[1;33m(\u001b[0m\u001b[0mnp\u001b[0m\u001b[1;33m.\u001b[0m\u001b[0marange\u001b[0m\u001b[1;33m(\u001b[0m\u001b[1;36m5\u001b[0m\u001b[1;33m)\u001b[0m\u001b[1;33m,\u001b[0m \u001b[0mnp\u001b[0m\u001b[1;33m.\u001b[0m\u001b[0marange\u001b[0m\u001b[1;33m(\u001b[0m\u001b[1;36m3\u001b[0m\u001b[1;33m)\u001b[0m\u001b[1;33m)\u001b[0m\u001b[1;33m\u001b[0m\u001b[1;33m\u001b[0m\u001b[0m\n\u001b[0m",
      "\u001b[1;32m<__array_function__ internals>\u001b[0m in \u001b[0;36mdot\u001b[1;34m(*args, **kwargs)\u001b[0m\n",
      "\u001b[1;31mValueError\u001b[0m: shapes (5,) and (3,) not aligned: 5 (dim 0) != 3 (dim 0)"
     ]
    }
   ],
   "source": [
    "np.dot(np.arange(5), np.arange(3))"
   ]
  },
  {
   "cell_type": "markdown",
   "id": "8c942cfd",
   "metadata": {},
   "source": [
    "## 1.2 內積：`numpy.inner()`\n",
    "\n",
    "又稱純量積\n",
    "\n",
    "一般來說內積是2個一維陣列(向量)做內積，公式如下：\n",
    "\n",
    "$\\vec a=[a_0, a_1, ..., a_{j-1}]$\n",
    "\n",
    "$\\vec b=[b_0, b_1, ..., b_{j-1}]$\n",
    "\n",
    "$\n",
    "\\vec a \\cdot \\vec b=\\sum a_0b_0+a_1b_1+...+a_{j-1}b_{j-1}\n",
    "$\n",
    "\n",
    "如果是多維陣列做乘積，那麼最後維度必須要符合，而內積結果就是其元素相乘之和。"
   ]
  },
  {
   "cell_type": "code",
   "execution_count": null,
   "id": "28c6b769",
   "metadata": {},
   "outputs": [],
   "source": [
    "np.random.seed(9)\n",
    "a = np.random.randint(10, size=(5))\n",
    "b = np.random.randint(10, size=(5))"
   ]
  },
  {
   "cell_type": "code",
   "execution_count": null,
   "id": "177b9968",
   "metadata": {},
   "outputs": [],
   "source": [
    "a"
   ]
  },
  {
   "cell_type": "code",
   "execution_count": null,
   "id": "cd6e2ffc",
   "metadata": {},
   "outputs": [],
   "source": [
    "b"
   ]
  },
  {
   "cell_type": "code",
   "execution_count": null,
   "id": "ec7536c3",
   "metadata": {},
   "outputs": [],
   "source": [
    "np.inner(a, b)"
   ]
  },
  {
   "cell_type": "markdown",
   "id": "1e493b52",
   "metadata": {},
   "source": [
    "## 1.3 外積：`numpy.outer()`\n",
    "\n",
    "在線性代數中外積也稱為張量積。\n",
    "\n",
    "外積是2個一維陣列(向量)做計算，若非一維陣列的話會先進行展平(flatten)再進行外積。公式如下：\n",
    "\n",
    "$\\vec a=[a_0, a_1, ..., a_{i-1}]$\n",
    "\n",
    "$\\vec b=[b_0, b_1, ..., b_{j-1}]$\n",
    "\n",
    "$\\vec a \\otimes \\vec b =\n",
    "\\begin{bmatrix}\n",
    "a_0b_0 & a_0b_1 & ... & a_0b_{j-1} \\\\\n",
    "a_1b_0 & a_1b_1 & ... & a_1b_{j-1} \\\\\n",
    ": & : & &: \\\\\n",
    ": & : & &: \\\\\n",
    "a_{i-1}b_0 & a_{i-1}b_1 & ... & a_{i-1}b_{j-1} \\\\\n",
    "\\end{bmatrix}\n",
    "$"
   ]
  },
  {
   "cell_type": "code",
   "execution_count": null,
   "id": "ebf3339e",
   "metadata": {},
   "outputs": [],
   "source": [
    "np.random.seed(9)\n",
    "a = np.random.randint(10, size=(5))\n",
    "b = np.random.randint(10, size=(6))"
   ]
  },
  {
   "cell_type": "code",
   "execution_count": null,
   "id": "3106608c",
   "metadata": {},
   "outputs": [],
   "source": [
    "a"
   ]
  },
  {
   "cell_type": "code",
   "execution_count": null,
   "id": "2b06517c",
   "metadata": {},
   "outputs": [],
   "source": [
    "b"
   ]
  },
  {
   "cell_type": "code",
   "execution_count": null,
   "id": "78bc9d5c",
   "metadata": {},
   "outputs": [],
   "source": [
    "np.outer(a, b)"
   ]
  },
  {
   "cell_type": "markdown",
   "id": "e6b1eea2",
   "metadata": {},
   "source": [
    "## 1.4 矩陣乘法：`numpy.matmul()` 與 `@`\n",
    "\n",
    "`matmul`與 `dot` 都是矩陣乘法 (Matrix Multiplication)，兩者非常類似，其相同及不同點如下：\n",
    "\n",
    "* **如果2個都是二維陣列的話，`matmul`與 `dot` 相同。**\n",
    "* 在 `matmul` 中，多維的矩陣，將前 n-2 維視為後2维的元素後，進行乘法運算。\n",
    "* **`matmul` 不允許矩陣與純量相乘。**\n",
    "\n",
    "在 Python 3.5 版本之後提供 `@` 做為矩陣相乘運算子，在多個矩陣相乘時提供更簡潔的語法。"
   ]
  },
  {
   "cell_type": "code",
   "execution_count": null,
   "id": "23d4c184",
   "metadata": {},
   "outputs": [],
   "source": [
    "np.random.seed(9)\n",
    "A = np.arange(6).reshape(2, 3)\n",
    "B = np.arange(12).reshape(3, 4)\n",
    "\n",
    "print('A',A,'\\n')\n",
    "print('B',B,'\\n')\n",
    "\n",
    "np.matmul(A, B)"
   ]
  },
  {
   "cell_type": "code",
   "execution_count": null,
   "id": "53336dfd",
   "metadata": {},
   "outputs": [],
   "source": [
    "A @ B"
   ]
  },
  {
   "cell_type": "markdown",
   "id": "f071b0c2",
   "metadata": {},
   "source": [
    "使用 `matmul` 進行矩陣與純量相乘時會產生錯誤。"
   ]
  },
  {
   "cell_type": "code",
   "execution_count": null,
   "id": "e6d038d7",
   "metadata": {},
   "outputs": [],
   "source": [
    "np.matmul(A, 2)"
   ]
  },
  {
   "cell_type": "code",
   "execution_count": null,
   "id": "ac362598",
   "metadata": {},
   "outputs": [],
   "source": [
    "np.dot(A, 2)"
   ]
  },
  {
   "cell_type": "markdown",
   "id": "e178526b",
   "metadata": {},
   "source": [
    "## 2. 矩陣操作"
   ]
  },
  {
   "cell_type": "code",
   "execution_count": null,
   "id": "7ac20b8b",
   "metadata": {},
   "outputs": [],
   "source": [
    "A = np.array([[3, 0, -1],[2, 4, 1],[7, 2, 3]])\n",
    "A"
   ]
  },
  {
   "cell_type": "markdown",
   "id": "683960ec",
   "metadata": {},
   "source": [
    "## 2.1 跡：`numpy.trace()`\n",
    "\n",
    "$\n",
    "A = \\begin{bmatrix}\n",
    "a_{11} & a_{12} & a_{13} \\\\\n",
    "a_{21} & a_{22} & a_{23} \\\\\n",
    "a_{31} & a_{32} & a_{33}\n",
    "\\end{bmatrix}\n",
    "$\n",
    "\n",
    "$\n",
    "trace(A) = a_{11} + a_{22} + a_{33}\n",
    "$\n",
    "\n",
    "跡的運算可以透過 `trace()` 函式求得："
   ]
  },
  {
   "cell_type": "code",
   "execution_count": null,
   "id": "cbae990d",
   "metadata": {},
   "outputs": [],
   "source": [
    "np.trace(A)"
   ]
  },
  {
   "cell_type": "markdown",
   "id": "4730de6f",
   "metadata": {},
   "source": [
    "## 2.2 行列式 (Determinant)：`numpy.linalg.det()`\n",
    "\n",
    "**矩陣必為方陣 (square)**\n",
    "\n",
    "$\\vert A \\vert= \\begin{vmatrix}\n",
    "a_{11} & a_{12} & a_{13} \\\\\n",
    "a_{21} & a_{22} & a_{23} \\\\\n",
    "a_{31} & a_{32} & a_{33}\n",
    "\\end{vmatrix}\\\\\n",
    "= a_{11}\\space a_{22}\\space a_{33} + a_{12}\\space a_{23}\\space a_{31} + a_{13}\\space a_{21}\\space a_{32}\n",
    "- a_{13}\\space a_{22}\\space a_{31} - a_{23}\\space a_{32}\\space a_{11} - a_{33}\\space a_{12}\\space a_{21}\n",
    "$\n",
    "\n",
    "圖解行列式運算 \n",
    "![](https://upload.wikimedia.org/wikipedia/commons/4/4d/Determinant-columns.png)\n",
    "\n",
    "行列式的運算可以透過 `numpy.linalg.det()` 函式求得："
   ]
  },
  {
   "cell_type": "code",
   "execution_count": null,
   "id": "eb5331d4",
   "metadata": {},
   "outputs": [],
   "source": [
    "np.linalg.det(A)"
   ]
  },
  {
   "cell_type": "markdown",
   "id": "0d6c3e39",
   "metadata": {},
   "source": [
    "若矩陣非方陣 (square)，則會產生錯誤"
   ]
  },
  {
   "cell_type": "code",
   "execution_count": null,
   "id": "97e6392e",
   "metadata": {},
   "outputs": [],
   "source": [
    "np.linalg.det(np.arange(6).reshape(3,2))"
   ]
  },
  {
   "cell_type": "markdown",
   "id": "e5864807",
   "metadata": {},
   "source": [
    "## 2.3 反矩陣：`numpy.linalg.inv()`\n",
    "\n",
    "**矩陣必為方陣 (square)**\n",
    "\n",
    "以三階矩陣為例：\n",
    "\n",
    "$\n",
    "A = \\left[\\begin{array}{ccc|ccc}\n",
    "a_{11} & a_{12} & a_{13} & 1 & 0 & 0\\\\\n",
    "a_{21} & a_{22} & a_{23} & 0 & 1 & 0\\\\\n",
    "a_{31} & a_{32} & a_{33} & 0 & 0 & 1\n",
    "\\end{array}\\right]\n",
    "$\n",
    "\n",
    "透過高斯消去法 (Gaussian Elimination)，可以得到右邊的矩陣即為 A 的反矩陣\n",
    "\n",
    "$\n",
    "A^{-1} = \\left[\\begin{array}{ccc|ccc}\n",
    "1 & 0 & 0 & b_{11} & b_{12} & b_{13} \\\\\n",
    "0 & 1 & 0 & b_{21} & b_{22} & b_{23}\\\\\n",
    "0 & 0 & 1 & b_{31} & b_{32} & b_{33}\n",
    "\\end{array}\\right]\n",
    "$\n",
    "\n",
    "呼叫 `inv()` 函式可以得到反矩陣。"
   ]
  },
  {
   "cell_type": "code",
   "execution_count": null,
   "id": "6324505f",
   "metadata": {},
   "outputs": [],
   "source": [
    "np.linalg.inv(A)"
   ]
  },
  {
   "cell_type": "markdown",
   "id": "2241a873",
   "metadata": {},
   "source": [
    "若矩陣非方陣 (square)，則會產生錯誤"
   ]
  },
  {
   "cell_type": "code",
   "execution_count": null,
   "id": "a6f246b1",
   "metadata": {},
   "outputs": [],
   "source": [
    "np.linalg.inv(np.arange(6).reshape(3,2))"
   ]
  },
  {
   "cell_type": "markdown",
   "id": "bba5b39e",
   "metadata": {},
   "source": [
    "## 2.4 轉置 (Transpose)：`numpy.transpose()`\n",
    "\n",
    "$\n",
    "A = \\begin{bmatrix}\n",
    "a_{11} & a_{12} & a_{13} \\\\\n",
    "a_{21} & a_{22} & a_{23} \\\\\n",
    "a_{31} & a_{32} & a_{33}\n",
    "\\end{bmatrix}\n",
    "$\n",
    "\n",
    "$\n",
    "A^T = \\begin{bmatrix}\n",
    "a_{11} & a_{21} & a_{31} \\\\\n",
    "a_{12} & a_{22} & a_{23} \\\\\n",
    "a_{13} & a_{23} & a_{33}\n",
    "\\end{bmatrix}\n",
    "$\n",
    "\n",
    "轉置矩陣可透過呼叫 `numpy.transpose()` 函式達成。"
   ]
  },
  {
   "cell_type": "code",
   "execution_count": null,
   "id": "e9fa7c55",
   "metadata": {},
   "outputs": [],
   "source": [
    "np.transpose(A)"
   ]
  },
  {
   "cell_type": "markdown",
   "id": "68e4ca48",
   "metadata": {},
   "source": [
    "## 2.5 `numpy.linalg.eig()`\n",
    "\n",
    "```python\n",
    "eigenvalues, eigenvectors = np.linalg.eig(x)\n",
    "```\n",
    "\n",
    "`eig()` 函式可以用來計算方陣的特徵值(eigenvalue)與特徵向量(eigenvector)。\n",
    "\n",
    "`eig()` 回傳值有2個：eigenvalue與eigenvector。\n",
    "\n",
    "另外 `eigvals()` 函式也可以計算特徵值。"
   ]
  },
  {
   "cell_type": "code",
   "execution_count": 80,
   "id": "0c388c29",
   "metadata": {},
   "outputs": [
    {
     "data": {
      "text/plain": [
       "array([[-2, -4,  2],\n",
       "       [-2,  1,  2],\n",
       "       [ 4,  2,  5]])"
      ]
     },
     "execution_count": 80,
     "metadata": {},
     "output_type": "execute_result"
    }
   ],
   "source": [
    "B = np.array([[-2, -4, 2],[-2, 1, 2],[4, 2, 5]])\n",
    "B"
   ]
  },
  {
   "cell_type": "code",
   "execution_count": 81,
   "id": "f0c1e105",
   "metadata": {},
   "outputs": [],
   "source": [
    "w, v = np.linalg.eig(B)"
   ]
  },
  {
   "cell_type": "code",
   "execution_count": 82,
   "id": "14a204d8",
   "metadata": {},
   "outputs": [
    {
     "data": {
      "text/plain": [
       "array([-5.,  3.,  6.])"
      ]
     },
     "execution_count": 82,
     "metadata": {},
     "output_type": "execute_result"
    }
   ],
   "source": [
    "# eigenvalues\n",
    "w"
   ]
  },
  {
   "cell_type": "code",
   "execution_count": 83,
   "id": "3733b391",
   "metadata": {},
   "outputs": [
    {
     "data": {
      "text/plain": [
       "array([[ 0.81649658,  0.53452248,  0.05842062],\n",
       "       [ 0.40824829, -0.80178373,  0.35052374],\n",
       "       [-0.40824829, -0.26726124,  0.93472998]])"
      ]
     },
     "execution_count": 83,
     "metadata": {},
     "output_type": "execute_result"
    }
   ],
   "source": [
    "# eigenvectors\n",
    "v"
   ]
  },
  {
   "cell_type": "markdown",
   "id": "08b9696d",
   "metadata": {},
   "source": [
    "另外 `eigvals()` 函式也可以計算特徵值。"
   ]
  },
  {
   "cell_type": "code",
   "execution_count": 84,
   "id": "18a3e21b",
   "metadata": {},
   "outputs": [
    {
     "data": {
      "text/plain": [
       "array([-5.,  3.,  6.])"
      ]
     },
     "execution_count": 84,
     "metadata": {},
     "output_type": "execute_result"
    }
   ],
   "source": [
    "np.linalg.eigvals(B)"
   ]
  },
  {
   "cell_type": "markdown",
   "id": "e0936719",
   "metadata": {},
   "source": [
    "## 2.6 秩：`numpy.linalg.matrix_rank()`\n",
    "\n",
    "\n",
    "\n",
    "呼叫 `matrix_rank()` 回傳矩陣的秩(rank)，\n",
    "\n",
    "NumPy是使用SVD(奇異值分解；singular value decomposition)來計算秩。"
   ]
  },
  {
   "cell_type": "code",
   "execution_count": 85,
   "id": "8af62e33",
   "metadata": {},
   "outputs": [
    {
     "data": {
      "text/plain": [
       "3"
      ]
     },
     "execution_count": 85,
     "metadata": {},
     "output_type": "execute_result"
    }
   ],
   "source": [
    "A = np.array([[3, 0, -1],[2, 4, 1],[7, 2, 3]])\n",
    "np.linalg.matrix_rank(A)"
   ]
  },
  {
   "cell_type": "markdown",
   "id": "867c60ac",
   "metadata": {},
   "source": [
    "## 2.7 `numpy.linalg.solve()`\n",
    "\n",
    "求解線性系統可以使用 `solve()` 函式。"
   ]
  },
  {
   "cell_type": "code",
   "execution_count": 86,
   "id": "4d10dea6",
   "metadata": {},
   "outputs": [
    {
     "data": {
      "text/plain": [
       "array([2., 3.])"
      ]
     },
     "execution_count": 86,
     "metadata": {},
     "output_type": "execute_result"
    }
   ],
   "source": [
    "a = np.array([[3,1], [1,2]])\n",
    "b = np.array([9,8])\n",
    "x = np.linalg.solve(a, b)\n",
    "x"
   ]
  },
  {
   "cell_type": "markdown",
   "id": "48ba96b7",
   "metadata": {},
   "source": [
    "## 3. 特殊矩陣"
   ]
  },
  {
   "cell_type": "markdown",
   "id": "3811b5eb",
   "metadata": {},
   "source": [
    "## 3.1 單位矩陣：`numpy.identity()`\n",
    "\n",
    "單位矩陣是對角線元素值為1的方陣。"
   ]
  },
  {
   "cell_type": "code",
   "execution_count": 87,
   "id": "6fa3b998",
   "metadata": {},
   "outputs": [
    {
     "data": {
      "text/plain": [
       "array([[1., 0., 0., 0., 0.],\n",
       "       [0., 1., 0., 0., 0.],\n",
       "       [0., 0., 1., 0., 0.],\n",
       "       [0., 0., 0., 1., 0.],\n",
       "       [0., 0., 0., 0., 1.]])"
      ]
     },
     "execution_count": 87,
     "metadata": {},
     "output_type": "execute_result"
    }
   ],
   "source": [
    "np.identity(5)"
   ]
  },
  {
   "cell_type": "markdown",
   "id": "7657bbe9",
   "metadata": {},
   "source": [
    "## 3.2 單位矩陣：`numpy.eye()`\n",
    "\n",
    "```python\n",
    "numpy.eye(N, M=None, k=0, dtype=<class 'float'>, order='C)\n",
    "```\n",
    "\n",
    "|參數|說明|\n",
    "|---|---|\n",
    "|N|輸出的行數|\n",
    "|M|輸出的列數，如果沒有就默認爲 N|\n",
    "|k|對角線的下標，默認爲0：表示的是主對角線，負數表示的是低對角，正數表示的是高對角|\n",
    "|dtype|數據的類型|\n",
    "|order|{‘C’，‘F'}：輸出的數組的形式是按照C語言的行優先’C'，還是按照Fortran形式的列優先‘F'存儲在內存中|\n",
    "\n",
    "`eye()` 也是用來產生對角線元素值為1的陣列，\n",
    "\n",
    "與 `identity()` 不同的地方在於 `eye()` 產生的**可以不是方陣**，也可以指定對角線開始的索引。\n",
    "\n",
    "可以從指定的Column索引開始。"
   ]
  },
  {
   "cell_type": "code",
   "execution_count": 88,
   "id": "5dce019e",
   "metadata": {},
   "outputs": [
    {
     "data": {
      "text/plain": [
       "array([[1, 0, 0, 0],\n",
       "       [0, 1, 0, 0],\n",
       "       [0, 0, 1, 0],\n",
       "       [0, 0, 0, 1],\n",
       "       [0, 0, 0, 0]])"
      ]
     },
     "execution_count": 88,
     "metadata": {},
     "output_type": "execute_result"
    }
   ],
   "source": [
    "np.eye(5, 4, dtype=int)"
   ]
  },
  {
   "cell_type": "markdown",
   "id": "f315bb49",
   "metadata": {},
   "source": [
    "可以從指定的Column索引開始。"
   ]
  },
  {
   "cell_type": "code",
   "execution_count": 89,
   "id": "f860cb11",
   "metadata": {},
   "outputs": [
    {
     "data": {
      "text/plain": [
       "array([[0., 1., 0.],\n",
       "       [0., 0., 1.],\n",
       "       [0., 0., 0.]])"
      ]
     },
     "execution_count": 89,
     "metadata": {},
     "output_type": "execute_result"
    }
   ],
   "source": [
    "np.eye(3, k=1)"
   ]
  },
  {
   "cell_type": "markdown",
   "id": "19ffbfc7",
   "metadata": {},
   "source": [
    "## 3.3 單對角陣列 (Diagonal)：`numpy.diagonal()` 與 `numpy.diag()`\n",
    "\n",
    "`diagonal()` 與 `diag()` 語法基本上功能相同，\n",
    "\n",
    "差別在於 `diagonal()` 可以另行指定軸做為第一個軸或第二個軸。\n",
    "\n",
    "也可以使用 `array.diagonal()` 語法。"
   ]
  },
  {
   "cell_type": "code",
   "execution_count": 90,
   "id": "a00834c1",
   "metadata": {},
   "outputs": [
    {
     "data": {
      "text/plain": [
       "array([[3, 4, 0],\n",
       "       [4, 4, 6],\n",
       "       [0, 6, 5]])"
      ]
     },
     "execution_count": 90,
     "metadata": {},
     "output_type": "execute_result"
    }
   ],
   "source": [
    "A = np.array([[3, 4, 0], [4, 4, 6], [0, 6, 5]])\n",
    "A"
   ]
  },
  {
   "cell_type": "code",
   "execution_count": 91,
   "id": "8d250e80",
   "metadata": {},
   "outputs": [
    {
     "data": {
      "text/plain": [
       "array([4, 6])"
      ]
     },
     "execution_count": 91,
     "metadata": {},
     "output_type": "execute_result"
    }
   ],
   "source": [
    "np.diagonal(A, offset=1)"
   ]
  },
  {
   "cell_type": "markdown",
   "id": "8c23436a",
   "metadata": {},
   "source": [
    "也可以使用 `array.diagonal()` 語法。"
   ]
  },
  {
   "cell_type": "code",
   "execution_count": 92,
   "id": "e00260d3",
   "metadata": {},
   "outputs": [
    {
     "data": {
      "text/plain": [
       "array([4, 6])"
      ]
     },
     "execution_count": 92,
     "metadata": {},
     "output_type": "execute_result"
    }
   ],
   "source": [
    "A.diagonal(offset=1)"
   ]
  },
  {
   "cell_type": "markdown",
   "id": "de2d7244",
   "metadata": {},
   "source": [
    "要特別留意的是在不同版本的 NumPy 單對角陣列的回傳值有所不同。\n",
    "\n",
    "> In versions of NumPy prior to 1.7, this function always returned a new, independent array containing a copy of the values in the diagonal.\n",
    "\n",
    "> In NumPy 1.7 and 1.8, it continues to return a copy of the diagonal, but depending on this fact is deprecated. Writing to the resulting array continues to work as it used to, but a FutureWarning is issued.\n",
    "\n",
    "> Starting in NumPy 1.9 it returns a read-only view on the original array. Attempting to write to the resulting array will produce an error.\n",
    "\n",
    "若要覆寫回傳的陣列，建議使用 `np.diagonal(a).copy()` 會是各版本相容性最高的語法。"
   ]
  },
  {
   "cell_type": "markdown",
   "id": "2bef6d6f",
   "metadata": {},
   "source": [
    "## 3.4 三角矩陣：`numpy.tri()`\n",
    "\n",
    "`tri()` 可以用來產生對角線以下都是1的元素"
   ]
  },
  {
   "cell_type": "markdown",
   "id": "805b5cfe",
   "metadata": {},
   "source": [
    "下面的例子是產生形狀(3,5)的陣列，從Column索引1開始的對角線以下元素值均為1。"
   ]
  },
  {
   "cell_type": "code",
   "execution_count": 93,
   "id": "d3c45e58",
   "metadata": {},
   "outputs": [
    {
     "data": {
      "text/plain": [
       "array([[1, 1, 0, 0, 0],\n",
       "       [1, 1, 1, 0, 0],\n",
       "       [1, 1, 1, 1, 0]])"
      ]
     },
     "execution_count": 93,
     "metadata": {},
     "output_type": "execute_result"
    }
   ],
   "source": [
    "np.tri(3, 5, 1, dtype=int)"
   ]
  },
  {
   "cell_type": "markdown",
   "id": "c567138b",
   "metadata": {},
   "source": [
    "## 3.5 上三角矩陣 (Upper Triangular)、下三角矩陣 (Lower Triangular)：`numpy.triu()`、`numpy.tril()`\n",
    "\n",
    "`triu()`、`numpy.tril()` 可將對角線以上或以下的元素值設為0，也可以指定對角線起始的索引。"
   ]
  },
  {
   "cell_type": "code",
   "execution_count": 94,
   "id": "c12a6738",
   "metadata": {},
   "outputs": [
    {
     "data": {
      "text/plain": [
       "array([[3, 4, 0],\n",
       "       [4, 4, 6],\n",
       "       [0, 6, 5]])"
      ]
     },
     "execution_count": 94,
     "metadata": {},
     "output_type": "execute_result"
    }
   ],
   "source": [
    "A = np.array([[3, 4, 0], [4, 4, 6], [0, 6, 5]])\n",
    "A"
   ]
  },
  {
   "cell_type": "code",
   "execution_count": 95,
   "id": "9e2e9de2",
   "metadata": {},
   "outputs": [
    {
     "data": {
      "text/plain": [
       "array([[3, 4, 0],\n",
       "       [0, 4, 6],\n",
       "       [0, 0, 5]])"
      ]
     },
     "execution_count": 95,
     "metadata": {},
     "output_type": "execute_result"
    }
   ],
   "source": [
    "np.triu(A)"
   ]
  },
  {
   "cell_type": "code",
   "execution_count": 96,
   "id": "42a14297",
   "metadata": {},
   "outputs": [
    {
     "data": {
      "text/plain": [
       "array([[3, 4, 0],\n",
       "       [4, 4, 6],\n",
       "       [0, 6, 5]])"
      ]
     },
     "execution_count": 96,
     "metadata": {},
     "output_type": "execute_result"
    }
   ],
   "source": [
    "np.tril(A, 1)"
   ]
  },
  {
   "cell_type": "markdown",
   "id": "699fbd82",
   "metadata": {},
   "source": [
    "## 4. 矩陣分解 (Matrix Decomposition)\n",
    "\n",
    "NumPy 線性代數函式中提供3種矩陣分解的函式：\n",
    "* Cholesky Decomposition：`numpy.linalg.cholesky()`\n",
    "  - 將一個 positive-definite 的 Hermitian matrix 分解成一個下三角矩陣與其共軛轉置之乘積。<br>\n",
    "\n",
    "\n",
    "* QR Factorization：`numpy.linalg.qr()`\n",
    "  - 把矩陣分解成一個正交矩陣與一個上三角矩陣的積。<br>\n",
    "\n",
    "\n",
    "* Singular Value Decomposition (SVD)：`numpy.linalg.svd()`\n",
    "  ```python\n",
    "  u, s, v = np.linalg.svd(a,full_matrices=1,compute_uv=1)\n",
    "  ```\n",
    "  \n",
    "  |參數|說明|\n",
    "  |---|---|\n",
    "  |a|(M,N)矩陣|\n",
    "  |full_matrices|取值是為0或者1，默認值為1，這時u的大小為(M,M)，v的大小為(N,N) 。否則u的大小為(M,K)，v的大小為(K,N) ，K=min(M,N)|\n",
    "  |compute_uv|取值是為0或者1，默認值為1，表示計算u,s,v。為0的時候只計算s|\n",
    "\n",
    "  \n",
    "    u大小為(M,M)，s大小為(M,N)，v大小為(N,N)\n",
    "  \n",
    "    A = u * s * v\n",
    "\n",
    "    其中s是對矩陣a的奇異值分解。 \n",
    "    s除了對角元素不為0，其他元素都為0，並且對角元素從大到小排列。 \n",
    "    s中有n個奇異值，一般排在後面的比較接近0，所以僅保留比較大的r個奇異值。"
   ]
  },
  {
   "cell_type": "code",
   "execution_count": 97,
   "id": "83e6c920",
   "metadata": {},
   "outputs": [
    {
     "data": {
      "text/plain": [
       "array([[ 1,  2],\n",
       "       [ 2, 50]])"
      ]
     },
     "execution_count": 97,
     "metadata": {},
     "output_type": "execute_result"
    }
   ],
   "source": [
    "B = np.array([[1, 2],[2, 50]])\n",
    "B"
   ]
  },
  {
   "cell_type": "markdown",
   "id": "3d356ead",
   "metadata": {},
   "source": [
    "## 4.1 `numpy.linalg.cholesky()`"
   ]
  },
  {
   "cell_type": "code",
   "execution_count": 98,
   "id": "d106c66f",
   "metadata": {},
   "outputs": [
    {
     "data": {
      "text/plain": [
       "array([[1.        , 0.        ],\n",
       "       [2.        , 6.78232998]])"
      ]
     },
     "execution_count": 98,
     "metadata": {},
     "output_type": "execute_result"
    }
   ],
   "source": [
    "np.linalg.cholesky(B)"
   ]
  },
  {
   "cell_type": "markdown",
   "id": "5778edbf",
   "metadata": {},
   "source": [
    "## 4.2 `numpy.linalg.qr()`"
   ]
  },
  {
   "cell_type": "code",
   "execution_count": 99,
   "id": "f58d7bc3",
   "metadata": {},
   "outputs": [],
   "source": [
    "q, r = np.linalg.qr(B)"
   ]
  },
  {
   "cell_type": "code",
   "execution_count": 100,
   "id": "594faa63",
   "metadata": {},
   "outputs": [
    {
     "data": {
      "text/plain": [
       "array([[-0.4472136 , -0.89442719],\n",
       "       [-0.89442719,  0.4472136 ]])"
      ]
     },
     "execution_count": 100,
     "metadata": {},
     "output_type": "execute_result"
    }
   ],
   "source": [
    "q"
   ]
  },
  {
   "cell_type": "code",
   "execution_count": 101,
   "id": "85079cec",
   "metadata": {},
   "outputs": [
    {
     "data": {
      "text/plain": [
       "array([[ -2.23606798, -45.61578674],\n",
       "       [  0.        ,  20.57182539]])"
      ]
     },
     "execution_count": 101,
     "metadata": {},
     "output_type": "execute_result"
    }
   ],
   "source": [
    "r"
   ]
  },
  {
   "cell_type": "markdown",
   "id": "f508e29e",
   "metadata": {},
   "source": [
    "## 4.3 `numpy.linalg.svd()`"
   ]
  },
  {
   "cell_type": "code",
   "execution_count": 102,
   "id": "b6c6ad65",
   "metadata": {},
   "outputs": [],
   "source": [
    "u, s, vh = np.linalg.svd(B)"
   ]
  },
  {
   "cell_type": "code",
   "execution_count": 103,
   "id": "ba0d0925",
   "metadata": {},
   "outputs": [
    {
     "data": {
      "text/plain": [
       "array([[ 0.04071476,  0.99917081],\n",
       "       [ 0.99917081, -0.04071476]])"
      ]
     },
     "execution_count": 103,
     "metadata": {},
     "output_type": "execute_result"
    }
   ],
   "source": [
    "u"
   ]
  },
  {
   "cell_type": "code",
   "execution_count": 104,
   "id": "dfe77aec",
   "metadata": {},
   "outputs": [
    {
     "data": {
      "text/plain": [
       "array([50.08149711,  0.91850289])"
      ]
     },
     "execution_count": 104,
     "metadata": {},
     "output_type": "execute_result"
    }
   ],
   "source": [
    "s"
   ]
  },
  {
   "cell_type": "code",
   "execution_count": 105,
   "id": "ba97b8bf",
   "metadata": {},
   "outputs": [
    {
     "data": {
      "text/plain": [
       "array([[ 0.04071476,  0.99917081],\n",
       "       [ 0.99917081, -0.04071476]])"
      ]
     },
     "execution_count": 105,
     "metadata": {},
     "output_type": "execute_result"
    }
   ],
   "source": [
    "vh"
   ]
  },
  {
   "cell_type": "markdown",
   "id": "9140b7e7",
   "metadata": {},
   "source": [
    "# Numpy 運算"
   ]
  },
  {
   "cell_type": "markdown",
   "id": "f810e869",
   "metadata": {},
   "source": [
    "從陣列中存取元素"
   ]
  },
  {
   "cell_type": "code",
   "execution_count": 106,
   "id": "8d01219b",
   "metadata": {},
   "outputs": [
    {
     "name": "stdout",
     "output_type": "stream",
     "text": [
      "[0, 1, 8]\n",
      "8\n",
      "0\n",
      "[1, 8]\n"
     ]
    }
   ],
   "source": [
    "# 從陣列中存取元素\n",
    "\n",
    "\n",
    "\n",
    "L = [0, 1, 8]\n",
    "\n",
    "print(L)\n",
    "print(L[-1]) # 8\n",
    "print(L[0]) # 0\n",
    "print(L[1:3]) # [1, 8]\n"
   ]
  },
  {
   "cell_type": "code",
   "execution_count": 107,
   "id": "d5c7c145",
   "metadata": {},
   "outputs": [
    {
     "name": "stdout",
     "output_type": "stream",
     "text": [
      "[0 1 8]\n",
      "8\n",
      "0\n",
      "[1 8]\n"
     ]
    }
   ],
   "source": [
    "a = np.arange(3) ** 3\n",
    "\n",
    "print(a)\n",
    "print(a[-1]) # 8\n",
    "print(a[0]) # 0\n",
    "print(a[1:3]) # [1 8]"
   ]
  },
  {
   "cell_type": "markdown",
   "id": "af14d4aa",
   "metadata": {},
   "source": [
    "一維陣列的切片與索引"
   ]
  },
  {
   "cell_type": "code",
   "execution_count": 108,
   "id": "45da7318",
   "metadata": {},
   "outputs": [
    {
     "name": "stdout",
     "output_type": "stream",
     "text": [
      "1\n",
      "2\n",
      "[1 2]\n",
      "[2 3]\n",
      "[2 3]\n"
     ]
    }
   ],
   "source": [
    "# 一維陣列的切片與索引\n",
    "\n",
    "import numpy as np \n",
    "\n",
    "data = np.array([1, 2, 3])\n",
    "\n",
    "print(data[0]) # 取出第 0 個\n",
    "print(data[1]) # 取出第 1 個\n",
    "print(data[0:2]) # 第 0 - 1 個\n",
    "print(data[1:]) # 第 1 到最後一個\n",
    "print(data[-2:]) # 倒數第二到最後一個"
   ]
  },
  {
   "cell_type": "markdown",
   "id": "1b591b09",
   "metadata": {},
   "source": [
    "一維陣列的的迭代"
   ]
  },
  {
   "cell_type": "code",
   "execution_count": 109,
   "id": "59a1e5c9",
   "metadata": {},
   "outputs": [
    {
     "name": "stdout",
     "output_type": "stream",
     "text": [
      "0\n",
      "1\n",
      "8\n"
     ]
    }
   ],
   "source": [
    "# 一維陣列的的迭代\n",
    "\n",
    "import numpy as np \n",
    "\n",
    "a = np.arange(3) ** 3\n",
    "\n",
    "for i in a:\n",
    "    print(i)\n",
    "# 0\n",
    "# 1 \n",
    "# 8"
   ]
  },
  {
   "cell_type": "markdown",
   "id": "b703dd4d",
   "metadata": {},
   "source": [
    "多維陣列的多層迴圈"
   ]
  },
  {
   "cell_type": "code",
   "execution_count": 110,
   "id": "bb04b348",
   "metadata": {},
   "outputs": [
    {
     "name": "stdout",
     "output_type": "stream",
     "text": [
      "[0 1]\n",
      "[2 3]\n",
      "[4 5]\n"
     ]
    }
   ],
   "source": [
    "# 多維陣列的多層迴圈\n",
    "\n",
    "import numpy as np \n",
    "\n",
    "a = np.arange(6).reshape(3, 2)\n",
    "\n",
    "for row in a:\n",
    "    print(row)\n",
    "# [0 1]\n",
    "# [2 3]\n",
    "# [4 5]"
   ]
  },
  {
   "cell_type": "code",
   "execution_count": 111,
   "id": "885932eb",
   "metadata": {},
   "outputs": [
    {
     "name": "stdout",
     "output_type": "stream",
     "text": [
      "0\n",
      "1\n",
      "2\n",
      "3\n",
      "4\n",
      "5\n"
     ]
    }
   ],
   "source": [
    "for row in a:\n",
    "    for d in row:\n",
    "        print(d)\n",
    "# 0\n",
    "# 1\n",
    "# 2\n",
    "# 3\n",
    "# 4\n",
    "# 5"
   ]
  },
  {
   "cell_type": "markdown",
   "id": "9bb41a02",
   "metadata": {},
   "source": [
    "攤平後再迭代多維陣列"
   ]
  },
  {
   "cell_type": "code",
   "execution_count": 112,
   "id": "e2a2c690",
   "metadata": {},
   "outputs": [
    {
     "name": "stdout",
     "output_type": "stream",
     "text": [
      "0\n",
      "1\n",
      "2\n",
      "3\n",
      "4\n",
      "5\n"
     ]
    }
   ],
   "source": [
    "# 攤平後再迭代多維陣列\n",
    "\n",
    "import numpy as np \n",
    "\n",
    "a = np.arange(6).reshape(3, 2)\n",
    "\n",
    "for d in a.flat:\n",
    "    print(d)"
   ]
  },
  {
   "cell_type": "markdown",
   "id": "f99870ff",
   "metadata": {},
   "source": [
    "np.nditer 迭代物件"
   ]
  },
  {
   "cell_type": "code",
   "execution_count": 113,
   "id": "af9655a0",
   "metadata": {},
   "outputs": [
    {
     "name": "stdout",
     "output_type": "stream",
     "text": [
      "0\n",
      "1\n",
      "2\n",
      "3\n",
      "4\n",
      "5\n"
     ]
    }
   ],
   "source": [
    "# np.nditer 迭代物件\n",
    "\n",
    "import numpy as np \n",
    "\n",
    "a = np.arange(6).reshape(3, 2)\n",
    "\n",
    "for d in np.nditer(a):\n",
    "    print(d)"
   ]
  },
  {
   "cell_type": "markdown",
   "id": "c19b62bb",
   "metadata": {},
   "source": [
    "迭代物件的儲存方向"
   ]
  },
  {
   "cell_type": "code",
   "execution_count": 114,
   "id": "ba3ed061",
   "metadata": {},
   "outputs": [
    {
     "name": "stdout",
     "output_type": "stream",
     "text": [
      "0\n",
      "1\n",
      "2\n",
      "3\n",
      "4\n",
      "5\n"
     ]
    }
   ],
   "source": [
    "# 迭代物件的儲存方向\n",
    "\n",
    "a = np.arange(6).reshape(3, 2)\n",
    "\n",
    "for d in np.nditer(a, order='C'):\n",
    "    print(d)\n"
   ]
  },
  {
   "cell_type": "code",
   "execution_count": 115,
   "id": "dfe298d4",
   "metadata": {},
   "outputs": [
    {
     "name": "stdout",
     "output_type": "stream",
     "text": [
      "0\n",
      "2\n",
      "4\n",
      "1\n",
      "3\n",
      "5\n"
     ]
    }
   ],
   "source": [
    "a = np.arange(6).reshape(3, 2)\n",
    "\n",
    "for d in np.nditer(a, order='F'):\n",
    "    print(d)\n"
   ]
  },
  {
   "cell_type": "code",
   "execution_count": null,
   "id": "8f04527d",
   "metadata": {},
   "outputs": [],
   "source": []
  }
 ],
 "metadata": {
  "kernelspec": {
   "display_name": "Python 3",
   "language": "python",
   "name": "python3"
  },
  "language_info": {
   "codemirror_mode": {
    "name": "ipython",
    "version": 3
   },
   "file_extension": ".py",
   "mimetype": "text/x-python",
   "name": "python",
   "nbconvert_exporter": "python",
   "pygments_lexer": "ipython3",
   "version": "3.6.13"
  }
 },
 "nbformat": 4,
 "nbformat_minor": 5
}
