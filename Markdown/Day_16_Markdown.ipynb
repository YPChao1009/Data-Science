{
 "cells": [
  {
   "cell_type": "markdown",
   "id": "48a960b3",
   "metadata": {},
   "source": [
    "# 範例目標:\n",
    "1. 實做時間序列資料操作\n",
    "2. 實做時間上的四則運算與操作\n",
    "\n",
    "# 範例重點:\n",
    "1. 時間序列的資料非常注重時間的間隔(年、月、日、時、分、秒)\n",
    "2. 時間也有分不同資料型態，在這邊使用timestamps的資料型態，須注意不同資料型態是不可以一起運算的"
   ]
  },
  {
   "cell_type": "code",
   "execution_count": 1,
   "id": "dba56a67",
   "metadata": {},
   "outputs": [],
   "source": [
    "import pandas as pd\n",
    "import numpy as np"
   ]
  },
  {
   "cell_type": "markdown",
   "id": "ad75b101",
   "metadata": {},
   "source": [
    "\n",
    "`\n",
    "pandas.date_range(start=None, end=None, periods=None, freq=’D’, tz=None, normalize=False, name=None, closed=None, **kwargs)\n",
    "`\n",
    "\n",
    "\n",
    "|參數|型別|\n",
    "|---|---|\n",
    "|start|string或datetime-like，默認值是None，表示日期的起點|\n",
    "|end|string或datetime-like，默認值是None，表示日期的終點|\n",
    "|periods|integer或None，默認值是None，表示你要從這個函數產生多少個日期索引值；如果是None的話，那麼start和end必須不能為None|\n",
    "|freq|string或DateOffset，(Y:年、M:月、D:日、H:小時)，默認值是’D’，表示以自然日為單位，這個參數用來指定計時單位，比如’5H’表示每隔5個小時計算一次|\n",
    "|tz|string或None，表示時區，例如：’Asia/Hong_Kong’|\n",
    "|normalize|bool，默認值為False，如果為True的話，那麼在產生時間索引值之前會先把start和end都轉化為當日的午夜0點|\n",
    "|name|str，默認值為None，給返回的時間索引指定一個名字|\n",
    "|closed|string或者None，默認值為None，表示start和end這個區間端點是否包含在區間內，可以有三個值，’left’表示左閉右開區間，’right’表示左開右閉區間，None表示兩邊都是閉區間|"
   ]
  },
  {
   "cell_type": "markdown",
   "id": "e9dfd1b3",
   "metadata": {},
   "source": [
    "**同樣差一個月，但是相差的天數不同**\n",
    "\n",
    "**所以時間序列的資料非常注重時間的間隔**"
   ]
  },
  {
   "cell_type": "code",
   "execution_count": 3,
   "id": "84d9d5ee",
   "metadata": {},
   "outputs": [
    {
     "data": {
      "text/plain": [
       "DatetimeIndex(['2020-01-31', '2020-02-29', '2020-03-31', '2020-04-30',\n",
       "               '2020-05-31', '2020-06-30', '2020-07-31', '2020-08-31',\n",
       "               '2020-09-30', '2020-10-31'],\n",
       "              dtype='datetime64[ns]', freq='M')"
      ]
     },
     "execution_count": 3,
     "metadata": {},
     "output_type": "execute_result"
    }
   ],
   "source": [
    "rng = pd.date_range('1/1/2020', periods=10, freq='M')\n",
    "rng"
   ]
  },
  {
   "cell_type": "code",
   "execution_count": 2,
   "id": "102e6d72",
   "metadata": {},
   "outputs": [
    {
     "data": {
      "text/plain": [
       "2020-01-31   -0.252017\n",
       "2020-02-29   -0.012751\n",
       "2020-03-31    0.120922\n",
       "2020-04-30   -0.606202\n",
       "2020-05-31   -0.067104\n",
       "2020-06-30    0.740778\n",
       "2020-07-31    1.806956\n",
       "2020-08-31   -0.129697\n",
       "2020-09-30    0.161174\n",
       "2020-10-31    1.053694\n",
       "Freq: M, dtype: float64"
      ]
     },
     "execution_count": 2,
     "metadata": {},
     "output_type": "execute_result"
    }
   ],
   "source": [
    "rng = pd.date_range('1/1/2020', periods=10, freq='M')\n",
    "ts = pd.Series(np.random.randn(len(rng)), index=rng)\n",
    "ts"
   ]
  },
  {
   "cell_type": "markdown",
   "id": "071592ec",
   "metadata": {},
   "source": [
    "**時間間隔很重要，可以藉由`.to_period()`控制時間長度，參數freq代表時間頻率(Y:年、M:月、D:日、H:小時)**\n",
    "\n",
    "\n",
    "更改時間頻率:年"
   ]
  },
  {
   "cell_type": "code",
   "execution_count": 4,
   "id": "82803528",
   "metadata": {},
   "outputs": [
    {
     "data": {
      "text/plain": [
       "2020   -0.252017\n",
       "2020   -0.012751\n",
       "2020    0.120922\n",
       "2020   -0.606202\n",
       "2020   -0.067104\n",
       "2020    0.740778\n",
       "2020    1.806956\n",
       "2020   -0.129697\n",
       "2020    0.161174\n",
       "2020    1.053694\n",
       "Freq: A-DEC, dtype: float64"
      ]
     },
     "execution_count": 4,
     "metadata": {},
     "output_type": "execute_result"
    }
   ],
   "source": [
    "ts.to_period(freq=\"Y\")"
   ]
  },
  {
   "cell_type": "markdown",
   "id": "4bd01c46",
   "metadata": {},
   "source": [
    "更改時間頻率:月"
   ]
  },
  {
   "cell_type": "code",
   "execution_count": 5,
   "id": "4eb0c802",
   "metadata": {},
   "outputs": [
    {
     "data": {
      "text/plain": [
       "2020-01   -0.252017\n",
       "2020-02   -0.012751\n",
       "2020-03    0.120922\n",
       "2020-04   -0.606202\n",
       "2020-05   -0.067104\n",
       "2020-06    0.740778\n",
       "2020-07    1.806956\n",
       "2020-08   -0.129697\n",
       "2020-09    0.161174\n",
       "2020-10    1.053694\n",
       "Freq: M, dtype: float64"
      ]
     },
     "execution_count": 5,
     "metadata": {},
     "output_type": "execute_result"
    }
   ],
   "source": [
    "ts.to_period(freq=\"M\")"
   ]
  },
  {
   "cell_type": "markdown",
   "id": "77214fc0",
   "metadata": {},
   "source": [
    "更改時間頻率:周"
   ]
  },
  {
   "cell_type": "code",
   "execution_count": 34,
   "id": "882927bf",
   "metadata": {},
   "outputs": [
    {
     "data": {
      "text/plain": [
       "2020-01-27/2020-02-02   -0.252017\n",
       "2020-02-24/2020-03-01   -0.012751\n",
       "2020-03-30/2020-04-05    0.120922\n",
       "2020-04-27/2020-05-03   -0.606202\n",
       "2020-05-25/2020-05-31   -0.067104\n",
       "2020-06-29/2020-07-05    0.740778\n",
       "2020-07-27/2020-08-02    1.806956\n",
       "2020-08-31/2020-09-06   -0.129697\n",
       "2020-09-28/2020-10-04    0.161174\n",
       "2020-10-26/2020-11-01    1.053694\n",
       "Freq: W-SUN, dtype: float64"
      ]
     },
     "execution_count": 34,
     "metadata": {},
     "output_type": "execute_result"
    }
   ],
   "source": [
    "ts.to_period(freq=\"W\")"
   ]
  },
  {
   "cell_type": "markdown",
   "id": "6ab435a1",
   "metadata": {},
   "source": [
    "更改時間頻率:日"
   ]
  },
  {
   "cell_type": "code",
   "execution_count": 6,
   "id": "4b12083c",
   "metadata": {},
   "outputs": [
    {
     "data": {
      "text/plain": [
       "2020-01-31   -0.252017\n",
       "2020-02-29   -0.012751\n",
       "2020-03-31    0.120922\n",
       "2020-04-30   -0.606202\n",
       "2020-05-31   -0.067104\n",
       "2020-06-30    0.740778\n",
       "2020-07-31    1.806956\n",
       "2020-08-31   -0.129697\n",
       "2020-09-30    0.161174\n",
       "2020-10-31    1.053694\n",
       "Freq: D, dtype: float64"
      ]
     },
     "execution_count": 6,
     "metadata": {},
     "output_type": "execute_result"
    }
   ],
   "source": [
    "ts.to_period(freq=\"D\")"
   ]
  },
  {
   "cell_type": "markdown",
   "id": "d036a8e0",
   "metadata": {},
   "source": [
    "更改時間頻率:小時"
   ]
  },
  {
   "cell_type": "code",
   "execution_count": 7,
   "id": "a19f9f7a",
   "metadata": {},
   "outputs": [
    {
     "data": {
      "text/plain": [
       "2020-01-31 00:00   -0.252017\n",
       "2020-02-29 00:00   -0.012751\n",
       "2020-03-31 00:00    0.120922\n",
       "2020-04-30 00:00   -0.606202\n",
       "2020-05-31 00:00   -0.067104\n",
       "2020-06-30 00:00    0.740778\n",
       "2020-07-31 00:00    1.806956\n",
       "2020-08-31 00:00   -0.129697\n",
       "2020-09-30 00:00    0.161174\n",
       "2020-10-31 00:00    1.053694\n",
       "Freq: H, dtype: float64"
      ]
     },
     "execution_count": 7,
     "metadata": {},
     "output_type": "execute_result"
    }
   ],
   "source": [
    "ts.to_period(freq=\"H\")"
   ]
  },
  {
   "cell_type": "markdown",
   "id": "b5a3796e",
   "metadata": {},
   "source": [
    "**可運用索引的方式取出需要的時間點**"
   ]
  },
  {
   "cell_type": "code",
   "execution_count": 11,
   "id": "f4a130c7",
   "metadata": {},
   "outputs": [
    {
     "data": {
      "text/plain": [
       "2020-03-31    0.120922\n",
       "2020-04-30   -0.606202\n",
       "2020-05-31   -0.067104\n",
       "2020-06-30    0.740778\n",
       "2020-07-31    1.806956\n",
       "Freq: M, dtype: float64"
      ]
     },
     "execution_count": 11,
     "metadata": {},
     "output_type": "execute_result"
    }
   ],
   "source": [
    "ts['2020-03-31': '2020-07-31']"
   ]
  },
  {
   "cell_type": "markdown",
   "id": "3c271b7c",
   "metadata": {},
   "source": [
    "**也可以用月的方式做索引操作**"
   ]
  },
  {
   "cell_type": "code",
   "execution_count": 12,
   "id": "9216cf99",
   "metadata": {},
   "outputs": [
    {
     "data": {
      "text/plain": [
       "2020-02-29   -0.012751\n",
       "2020-03-31    0.120922\n",
       "2020-04-30   -0.606202\n",
       "2020-05-31   -0.067104\n",
       "Freq: M, dtype: float64"
      ]
     },
     "execution_count": 12,
     "metadata": {},
     "output_type": "execute_result"
    }
   ],
   "source": [
    "ts['2020-02': '2020-05']"
   ]
  },
  {
   "cell_type": "markdown",
   "id": "4a29c644",
   "metadata": {},
   "source": [
    "**分時間資料以及字串差別，時間需要使用`pd.Timestamp()`做設定，並不是只使用字串就可以代表時間**"
   ]
  },
  {
   "cell_type": "code",
   "execution_count": 13,
   "id": "2ca0d72e",
   "metadata": {},
   "outputs": [],
   "source": [
    "str_date = '2020-10-10'\n",
    "date = pd.Timestamp(2020,10,10)"
   ]
  },
  {
   "cell_type": "code",
   "execution_count": 14,
   "id": "cc441ef4",
   "metadata": {},
   "outputs": [
    {
     "data": {
      "text/plain": [
       "('2020-10-10', str)"
      ]
     },
     "execution_count": 14,
     "metadata": {},
     "output_type": "execute_result"
    }
   ],
   "source": [
    "str_date, type(str_date)"
   ]
  },
  {
   "cell_type": "code",
   "execution_count": 15,
   "id": "c3fe3edb",
   "metadata": {},
   "outputs": [
    {
     "data": {
      "text/plain": [
       "(Timestamp('2020-10-10 00:00:00'), pandas._libs.tslibs.timestamps.Timestamp)"
      ]
     },
     "execution_count": 15,
     "metadata": {},
     "output_type": "execute_result"
    }
   ],
   "source": [
    "date,type(date)"
   ]
  },
  {
   "cell_type": "markdown",
   "id": "f73813ca",
   "metadata": {},
   "source": [
    "**時間轉字串**\n",
    "\n",
    "`.strftime()`"
   ]
  },
  {
   "cell_type": "code",
   "execution_count": 16,
   "id": "e5cb0fc5",
   "metadata": {},
   "outputs": [
    {
     "data": {
      "text/plain": [
       "('2020-10-10', str)"
      ]
     },
     "execution_count": 16,
     "metadata": {},
     "output_type": "execute_result"
    }
   ],
   "source": [
    "date2str = date.strftime('%Y-%m-%d')\n",
    "date2str, type(date2str)"
   ]
  },
  {
   "cell_type": "markdown",
   "id": "d430835b",
   "metadata": {},
   "source": [
    "**字串轉時間**\n",
    "\n",
    "`.to_datetime()`"
   ]
  },
  {
   "cell_type": "code",
   "execution_count": 17,
   "id": "78be1ebc",
   "metadata": {},
   "outputs": [
    {
     "data": {
      "text/plain": [
       "(Timestamp('2020-10-10 00:00:00'), pandas._libs.tslibs.timestamps.Timestamp)"
      ]
     },
     "execution_count": 17,
     "metadata": {},
     "output_type": "execute_result"
    }
   ],
   "source": [
    "str2date = pd.to_datetime(str_date)\n",
    "str2date, type(str2date)"
   ]
  },
  {
   "cell_type": "code",
   "execution_count": 18,
   "id": "512554ac",
   "metadata": {},
   "outputs": [
    {
     "data": {
      "text/plain": [
       "2020-01-31   -0.252017\n",
       "2020-02-29   -0.012751\n",
       "2020-03-31    0.120922\n",
       "2020-04-30   -0.606202\n",
       "2020-05-31   -0.067104\n",
       "2020-06-30    0.740778\n",
       "2020-07-31    1.806956\n",
       "2020-08-31   -0.129697\n",
       "2020-09-30    0.161174\n",
       "2020-10-31    1.053694\n",
       "Freq: M, dtype: float64"
      ]
     },
     "execution_count": 18,
     "metadata": {},
     "output_type": "execute_result"
    }
   ],
   "source": [
    "ts"
   ]
  },
  {
   "cell_type": "markdown",
   "id": "ec4d7e7b",
   "metadata": {},
   "source": [
    "**移動（shifting）指的是沿著時間軸將資料前移或後移。**\n",
    "\n",
    "**Series 和 DataFrame 都有一個 `.shift()` 方法用於執行單純的移動操作**"
   ]
  },
  {
   "cell_type": "code",
   "execution_count": 20,
   "id": "489e3037",
   "metadata": {},
   "outputs": [
    {
     "data": {
      "text/plain": [
       "2020-02-02   -0.252017\n",
       "2020-03-02   -0.012751\n",
       "2020-04-02    0.120922\n",
       "2020-05-02   -0.606202\n",
       "2020-06-02   -0.067104\n",
       "2020-07-02    0.740778\n",
       "2020-08-02    1.806956\n",
       "2020-09-02   -0.129697\n",
       "2020-10-02    0.161174\n",
       "2020-11-02    1.053694\n",
       "dtype: float64"
      ]
     },
     "execution_count": 20,
     "metadata": {},
     "output_type": "execute_result"
    }
   ],
   "source": [
    "ts.shift(2,freq='D')"
   ]
  },
  {
   "cell_type": "markdown",
   "id": "e1261f4a",
   "metadata": {},
   "source": [
    "**直接呼叫出年月日，在timestamps後面加上回傳的year, month, day即可**\n",
    "\n",
    "`.year`\n",
    "`.month`\n",
    "`.day`"
   ]
  },
  {
   "cell_type": "code",
   "execution_count": 21,
   "id": "5b2cb15b",
   "metadata": {},
   "outputs": [
    {
     "data": {
      "text/plain": [
       "(2020, 10, 10)"
      ]
     },
     "execution_count": 21,
     "metadata": {},
     "output_type": "execute_result"
    }
   ],
   "source": [
    "date.year,date.month,date.day"
   ]
  },
  {
   "cell_type": "markdown",
   "id": "c64462f0",
   "metadata": {},
   "source": [
    "**也可以呼叫星期與周數**\n",
    "\n",
    "星期:`.day_name()`<br>\n",
    "週數:`weekofyear`"
   ]
  },
  {
   "cell_type": "code",
   "execution_count": 22,
   "id": "54be2106",
   "metadata": {},
   "outputs": [
    {
     "data": {
      "text/plain": [
       "('Saturday', 41)"
      ]
     },
     "execution_count": 22,
     "metadata": {},
     "output_type": "execute_result"
    }
   ],
   "source": [
    "date.day_name(), date.weekofyear"
   ]
  },
  {
   "cell_type": "code",
   "execution_count": 23,
   "id": "06cd70fe",
   "metadata": {},
   "outputs": [],
   "source": [
    "date1 = pd.Timestamp(2020,10,10)\n",
    "date2 = pd.Timestamp(2020,11,10)"
   ]
  },
  {
   "cell_type": "markdown",
   "id": "21d237cd",
   "metadata": {},
   "source": [
    "**Timestamps可以直接加時間或是計算時間差距**"
   ]
  },
  {
   "cell_type": "code",
   "execution_count": 24,
   "id": "e6c94245",
   "metadata": {},
   "outputs": [
    {
     "data": {
      "text/plain": [
       "Timedelta('31 days 00:00:00')"
      ]
     },
     "execution_count": 24,
     "metadata": {},
     "output_type": "execute_result"
    }
   ],
   "source": [
    "date2 - date1"
   ]
  },
  {
   "cell_type": "markdown",
   "id": "b9fe4ea2",
   "metadata": {},
   "source": [
    "時間差 : `pd.Timedelta()`\n",
    "\n",
    "https://www.yiibai.com/pandas/python_pandas_timedelta.html"
   ]
  },
  {
   "cell_type": "code",
   "execution_count": 29,
   "id": "26412d1a",
   "metadata": {},
   "outputs": [
    {
     "data": {
      "text/plain": [
       "Timestamp('2020-10-11 00:00:00')"
      ]
     },
     "execution_count": 29,
     "metadata": {},
     "output_type": "execute_result"
    }
   ],
   "source": [
    "date1 + pd.Timedelta(days=1)"
   ]
  },
  {
   "cell_type": "markdown",
   "id": "e4c17b39",
   "metadata": {},
   "source": [
    "**也可以加工作日天數**"
   ]
  },
  {
   "cell_type": "markdown",
   "id": "b7cd35a8",
   "metadata": {},
   "source": [
    "日期偏移 : `pd.offsets.BDay()`\n",
    "\n",
    "https://www.gairuo.com/p/pandas-date-offset"
   ]
  },
  {
   "cell_type": "code",
   "execution_count": 26,
   "id": "30527633",
   "metadata": {},
   "outputs": [
    {
     "data": {
      "text/plain": [
       "('Saturday', 'Tuesday')"
      ]
     },
     "execution_count": 26,
     "metadata": {},
     "output_type": "execute_result"
    }
   ],
   "source": [
    "two_business_days = 2 * pd.offsets.BDay()\n",
    "date1_add_two_business_days = date1 + two_business_days\n",
    "date1.day_name(), date1_add_two_business_days.day_name()"
   ]
  },
  {
   "cell_type": "code",
   "execution_count": 27,
   "id": "dfd800c8",
   "metadata": {},
   "outputs": [
    {
     "data": {
      "text/plain": [
       "2018    1\n",
       "2019    2\n",
       "Freq: A-DEC, dtype: int64"
      ]
     },
     "execution_count": 27,
     "metadata": {},
     "output_type": "execute_result"
    }
   ],
   "source": [
    "s = pd.Series([1, 2], index=pd.period_range('2018-01-01',freq='Y',periods=2))\n",
    "s"
   ]
  },
  {
   "cell_type": "markdown",
   "id": "5b573fb1",
   "metadata": {},
   "source": [
    "**更改時間頻率如果從年轉成季該怎麼做?可以運用`resample`函數將年轉成季，如沒有值的填上nan**\n",
    "\n",
    "`.resample('').asfreq()`"
   ]
  },
  {
   "cell_type": "code",
   "execution_count": 32,
   "id": "b6a1f913",
   "metadata": {},
   "outputs": [
    {
     "data": {
      "text/plain": [
       "2018Q1    1.0\n",
       "2018Q2    NaN\n",
       "2018Q3    NaN\n",
       "2018Q4    NaN\n",
       "2019Q1    2.0\n",
       "2019Q2    NaN\n",
       "2019Q3    NaN\n",
       "2019Q4    NaN\n",
       "Freq: Q-DEC, dtype: float64"
      ]
     },
     "execution_count": 32,
     "metadata": {},
     "output_type": "execute_result"
    }
   ],
   "source": [
    "s.resample('Q').asfreq()"
   ]
  },
  {
   "cell_type": "code",
   "execution_count": null,
   "id": "c912bd8d",
   "metadata": {},
   "outputs": [],
   "source": []
  }
 ],
 "metadata": {
  "kernelspec": {
   "display_name": "Python 3",
   "language": "python",
   "name": "python3"
  },
  "language_info": {
   "codemirror_mode": {
    "name": "ipython",
    "version": 3
   },
   "file_extension": ".py",
   "mimetype": "text/x-python",
   "name": "python",
   "nbconvert_exporter": "python",
   "pygments_lexer": "ipython3",
   "version": "3.6.13"
  }
 },
 "nbformat": 4,
 "nbformat_minor": 5
}
