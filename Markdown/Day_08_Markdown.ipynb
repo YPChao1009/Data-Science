{
 "cells": [
  {
   "cell_type": "markdown",
   "id": "41a95f47",
   "metadata": {},
   "source": [
    "# 範例目標:\n",
    "\n",
    "NumPy陣列也可以儲存**複合式資料**，也就是包含不同資料型別的元素。這就是結構化陣列 (Structured Arrays) 的功能，<br>\n",
    "可以在陣列資料中指定名稱、型別，以進行後續的資料存取及處理\n",
    "\n",
    "1. 分辨不同資料型別 dtype，並注意與 python 資料行別的對應<br>\n",
    "\n",
    "   資料型別 (dtype)\n",
    "\n",
    "   |資料型別|字母|Python資料型別|NumPy通用資料型別|\n",
    "   |---|---|---|---|\n",
    "   |boolean | '?'|bool|np.bool_|\n",
    "   |signed byte | 'b'|bytes|np.bytes_|\n",
    "   |unsigned byte | 'B'|bytes|np.bytes_|\n",
    "   |signed integer | 'i'|int|np.int_|\n",
    "   |unsigned integer | 'u'||np.uint|\n",
    "   |floating-point | 'f'|float|np.float_|\n",
    "   |complex-floating point | 'c'|complex|np.cfloat|\n",
    "   |timedelta | 'm'|datetime.timedelta|np.timedelta64|\n",
    "   |datetime | 'M'|datetime.datetime|np.datetime64|\n",
    "   |string|'S', 'a'|str|np.str_|\n",
    "   |Unicode string | 'U'|str|np.str_|\n",
    "\n",
    "   可以指定各個Column的資料型別。<br>\n",
    "\n",
    "   透過 `numpy.dtype` 物件，指定要讀入各Column的資料型別，\n",
    "\n",
    "   資料型別及字母代表的型別 :\n",
    "   - 其中字母後的數字代表其長度，例如 f8 代表 float64 (8 bytes)，U5代表長度5以下的unicode字串。\n",
    "\n",
    "   - 資料型別也可以使用NumPy的資料型別，例如 `np.int32`。\n",
    "      \n",
    "      \n",
    "2. 實做結構化陣列 (Structured Arrays)\n",
    "\n",
    "   - 從檔案中讀取資料建立結構化陣列 (Structured Arrays)\n",
    "\n",
    "     建立結構化陣列可透過**dictionary**型別的資料建立 `np.dtype` 物件，並指定 `dtype` 給陣列。\n",
    "\n",
    "     這邊的資料型別可以使用Python的資料型別、NumPy的資料型別、或是字母代表的型別皆可。\n",
    "\n",
    "     存取元素資料：\n",
    "\n",
    "     - 索引的方式。\n",
    "\n",
    "     - Column名稱。\n",
    "\n",
    "     - 單筆資料的欄位值。\n",
    "\n",
    "     - 進行邏輯操作，取得對應的結果。<br>\n",
    "     \n",
    "    - 新建立一個結構化陣列<br>\n",
    "    \n",
    "\n",
    "\n",
    "3. RecordArray：`numpy.recarray()`\n",
    "\n",
    "   RecordArray 與 Structured Array 非常類似，但是提供**更多的屬性**可以用來存取結構化陣列。\n",
    "\n",
    "   **RecordArray 雖然方便但是在效能上會比原來的陣列差。**\n",
    "\n",
    "   原先是透過**索引或是名稱存取元素值**，但是 **RecordArray** 可以使用**屬性**的方式來取得。\n",
    "\n",
    "# 範例重點:\n",
    "\n",
    "1. 注意 Numpy 與 python 資料行別的對應\n",
    "2. 結構化陣列可透過dictionary型別的資料建立 np.dtype 物件，並指定 dtype 給陣列\n",
    "3. RecordArray 提供更多的屬性可以用來存取結構化陣列，但是相對的效能上較差於Structured Array\n",
    "\n",
    "\n",
    "# [教學目標]\n",
    "\n",
    "* 知道 Pandas 的特性與貢獻\n",
    "* 能夠使用 DataFrame 與 Series 當中的屬性\n",
    "* 初步理解 Seies、DataFrame 與 NdArray 的比較\n",
    "  - 從 **Series** 和 **DataFrame** 開始\n",
    "  - Series 的常用屬性\n",
    "  - DataFrame 的常用屬性"
   ]
  },
  {
   "cell_type": "code",
   "execution_count": 35,
   "id": "f0694055",
   "metadata": {},
   "outputs": [],
   "source": [
    "import numpy as np"
   ]
  },
  {
   "cell_type": "markdown",
   "id": "0dd81638",
   "metadata": {},
   "source": [
    "## 1. 資料型別 (dtype)\n",
    "\n",
    "|資料型別|字母|Python資料型別|NumPy通用資料型別|\n",
    "|---|---|---|---|\n",
    "|boolean | '?'|bool|np.bool_|\n",
    "|signed byte | 'b'|bytes|np.bytes_|\n",
    "|unsigned byte | 'B'|bytes|np.bytes_|\n",
    "|signed integer | 'i'|int|np.int_|\n",
    "|unsigned integer | 'u'||np.uint|\n",
    "|floating-point | 'f'|float|np.float_|\n",
    "|complex-floating point | 'c'|complex|np.cfloat|\n",
    "|timedelta | 'm'|datetime.timedelta|np.timedelta64|\n",
    "|datetime | 'M'|datetime.datetime|np.datetime64|\n",
    "|string|'S', 'a'|str|np.str_|\n",
    "|Unicode string | 'U'|str|np.str_|\n",
    "\n",
    "例如在CSV檔中有不同型別的資料要讀取。我們可以指定各個Column的資料型別。<br>\n",
    "\n",
    "透過 `numpy.dtype` 物件，指定要讀入各Column的資料型別，\n",
    "\n",
    "下面的例子分別示範Python的資料型別及字母代表的型別，\n",
    "\n",
    "其中字母後的數字代表其長度，例如 f8 代表 float64 (8 bytes)，U5代表長度5以下的unicode字串。\n",
    "\n",
    "資料型別也可以使用NumPy的資料型別，例如 `np.int32`。"
   ]
  },
  {
   "cell_type": "code",
   "execution_count": null,
   "id": "90eb2af4",
   "metadata": {},
   "outputs": [],
   "source": [
    "%load structured.txt"
   ]
  },
  {
   "cell_type": "code",
   "execution_count": 37,
   "id": "c7064361",
   "metadata": {},
   "outputs": [
    {
     "ename": "NameError",
     "evalue": "name 'Jay' is not defined",
     "output_type": "error",
     "traceback": [
      "\u001b[1;31m---------------------------------------------------------------------------\u001b[0m",
      "\u001b[1;31mNameError\u001b[0m                                 Traceback (most recent call last)",
      "\u001b[1;32m<ipython-input-37-5f843acd20ec>\u001b[0m in \u001b[0;36m<module>\u001b[1;34m\u001b[0m\n\u001b[0;32m      1\u001b[0m \u001b[1;31m# %load structured.txt\u001b[0m\u001b[1;33m\u001b[0m\u001b[1;33m\u001b[0m\u001b[1;33m\u001b[0m\u001b[0m\n\u001b[1;32m----> 2\u001b[1;33m \u001b[0mJay\u001b[0m\u001b[1;33m,\u001b[0m\u001b[1;36m1\u001b[0m\u001b[1;33m,\u001b[0m\u001b[1;36m2\u001b[0m\u001b[1;33m,\u001b[0m\u001b[0mYes\u001b[0m\u001b[1;33m\u001b[0m\u001b[1;33m\u001b[0m\u001b[0m\n\u001b[0m\u001b[0;32m      3\u001b[0m \u001b[0mJames\u001b[0m\u001b[1;33m,\u001b[0m\u001b[1;36m3\u001b[0m\u001b[1;33m,\u001b[0m\u001b[1;36m4\u001b[0m\u001b[1;33m,\u001b[0m\u001b[0mNo\u001b[0m\u001b[1;33m\u001b[0m\u001b[1;33m\u001b[0m\u001b[0m\n\u001b[0;32m      4\u001b[0m \u001b[0mJoe\u001b[0m\u001b[1;33m,\u001b[0m\u001b[1;36m5\u001b[0m\u001b[1;33m,\u001b[0m\u001b[1;36m6\u001b[0m\u001b[1;33m,\u001b[0m\u001b[0mYes\u001b[0m\u001b[1;33m\u001b[0m\u001b[1;33m\u001b[0m\u001b[0m\n",
      "\u001b[1;31mNameError\u001b[0m: name 'Jay' is not defined"
     ]
    }
   ],
   "source": [
    "# %load structured.txt\n",
    "Jay,1,2,Yes\n",
    "James,3,4,No\n",
    "Joe,5,6,Yes"
   ]
  },
  {
   "cell_type": "code",
   "execution_count": 38,
   "id": "4296b9e3",
   "metadata": {},
   "outputs": [],
   "source": [
    "# 使用字母代表的資料型別\n",
    "dt = np.dtype('U5, i8, i8, U3')"
   ]
  },
  {
   "cell_type": "code",
   "execution_count": 39,
   "id": "cd004e2f",
   "metadata": {},
   "outputs": [
    {
     "data": {
      "text/plain": [
       "array([('Jay', 1, 2, 'Yes'), ('James', 3, 4, 'No'), ('Joe', 5, 6, 'Yes')],\n",
       "      dtype=[('f0', '<U5'), ('f1', '<i8'), ('f2', '<i8'), ('f3', '<U3')])"
      ]
     },
     "execution_count": 39,
     "metadata": {},
     "output_type": "execute_result"
    }
   ],
   "source": [
    "a = np.genfromtxt(\"structured.txt\", delimiter=',', dtype=dt)\n",
    "a"
   ]
  },
  {
   "cell_type": "markdown",
   "id": "71bcc3aa",
   "metadata": {},
   "source": [
    "## 2. 結構化陣列 (Structured Arrays)\n",
    "\n",
    "從檔案中讀取的資料建立結構化陣列 :\n",
    "\n",
    "建立結構化陣列可透過**dictionary**型別的資料建立 `np.dtype` 物件，並指定 `dtype` 給陣列。\n",
    "\n",
    "這邊的資料型別可以使用Python的資料型別、NumPy的資料型別、或是字母代表的型別皆可。\n",
    "\n",
    "在範例中混用了3種型別的表示方式。\n",
    "\n",
    "存取元素資料：\n",
    "\n",
    "1. 索引的方式。\n",
    "\n",
    "2. Column名稱。\n",
    "\n",
    "3. 單筆資料的欄位值。\n",
    "\n",
    "4. 進行邏輯操作，取得對應的結果。"
   ]
  },
  {
   "cell_type": "code",
   "execution_count": 40,
   "id": "0699b431",
   "metadata": {},
   "outputs": [],
   "source": [
    "dt = np.dtype({'names':('Name', 'num1', 'num2', 'True'), 'formats':((np.str_, 5), np.int32, int, 'U3')})"
   ]
  },
  {
   "cell_type": "code",
   "execution_count": 41,
   "id": "16aebbee",
   "metadata": {},
   "outputs": [
    {
     "data": {
      "text/plain": [
       "array([('Jay', 1, 2, 'Yes'), ('James', 3, 4, 'No'), ('Joe', 5, 6, 'Yes')],\n",
       "      dtype=[('Name', '<U5'), ('num1', '<i4'), ('num2', '<i4'), ('True', '<U3')])"
      ]
     },
     "execution_count": 41,
     "metadata": {},
     "output_type": "execute_result"
    }
   ],
   "source": [
    "b = np.genfromtxt(\"structured.txt\", delimiter=',', dtype=dt)\n",
    "b"
   ]
  },
  {
   "cell_type": "markdown",
   "id": "e1281d5e",
   "metadata": {},
   "source": [
    "建立陣列後，可以用索引的方式存取元素資料。"
   ]
  },
  {
   "cell_type": "code",
   "execution_count": 42,
   "id": "06aa8564",
   "metadata": {},
   "outputs": [
    {
     "data": {
      "text/plain": [
       "('Jay', 1, 2, 'Yes')"
      ]
     },
     "execution_count": 42,
     "metadata": {},
     "output_type": "execute_result"
    }
   ],
   "source": [
    "b[0]"
   ]
  },
  {
   "cell_type": "markdown",
   "id": "bf2bd36e",
   "metadata": {},
   "source": [
    "也可以用Column名稱，取得Column所有元素值。"
   ]
  },
  {
   "cell_type": "code",
   "execution_count": 43,
   "id": "73410082",
   "metadata": {},
   "outputs": [
    {
     "data": {
      "text/plain": [
       "array(['Jay', 'James', 'Joe'], dtype='<U5')"
      ]
     },
     "execution_count": 43,
     "metadata": {},
     "output_type": "execute_result"
    }
   ],
   "source": [
    "b['Name']"
   ]
  },
  {
   "cell_type": "markdown",
   "id": "18140a99",
   "metadata": {},
   "source": [
    "或是單筆資料的欄位值。"
   ]
  },
  {
   "cell_type": "code",
   "execution_count": 44,
   "id": "4cfc7c92",
   "metadata": {},
   "outputs": [
    {
     "data": {
      "text/plain": [
       "'No'"
      ]
     },
     "execution_count": 44,
     "metadata": {},
     "output_type": "execute_result"
    }
   ],
   "source": [
    "b[1]['True']"
   ]
  },
  {
   "cell_type": "markdown",
   "id": "3155c759",
   "metadata": {},
   "source": [
    "也可以進行邏輯操作，取得對應的結果。"
   ]
  },
  {
   "cell_type": "code",
   "execution_count": 45,
   "id": "49cf0d17",
   "metadata": {},
   "outputs": [
    {
     "data": {
      "text/plain": [
       "array(['James', 'Joe'], dtype='<U5')"
      ]
     },
     "execution_count": 45,
     "metadata": {},
     "output_type": "execute_result"
    }
   ],
   "source": [
    "b[b['num2'] >= 3]['Name']"
   ]
  },
  {
   "cell_type": "markdown",
   "id": "b5976aad",
   "metadata": {},
   "source": [
    "### 建立結構化陣列\n",
    "\n",
    "上面的範例是從檔案中讀取的資料建立結構化陣列，如果要新建立一個結構化陣列，方式跟建立陣列非常類似。\n",
    "\n",
    "下例使用 `zeros()` 初始化陣列，並指定 `dtype`。"
   ]
  },
  {
   "cell_type": "code",
   "execution_count": 46,
   "id": "f86b84f9",
   "metadata": {},
   "outputs": [
    {
     "data": {
      "text/plain": [
       "array([('', 0, 0, ''), ('', 0, 0, ''), ('', 0, 0, '')],\n",
       "      dtype=[('Name', '<U5'), ('num1', '<i4'), ('num2', '<i4'), ('True', '<U3')])"
      ]
     },
     "execution_count": 46,
     "metadata": {},
     "output_type": "execute_result"
    }
   ],
   "source": [
    "c = np.zeros(3, dtype=dt)\n",
    "c"
   ]
  },
  {
   "cell_type": "code",
   "execution_count": 47,
   "id": "32996a68",
   "metadata": {},
   "outputs": [
    {
     "name": "stdout",
     "output_type": "stream",
     "text": [
      "[('Name', '<U5'), ('num1', '<i4'), ('num2', '<i4'), ('True', '<U3')]\n"
     ]
    }
   ],
   "source": [
    "print(c.dtype)"
   ]
  },
  {
   "cell_type": "code",
   "execution_count": 48,
   "id": "bb0051c0",
   "metadata": {},
   "outputs": [],
   "source": [
    "name = ['Chloe', 'Charlotte', 'Clara']\n",
    "num_1 = [11, 12, 13]\n",
    "num_2 = [14, 15, 16]\n",
    "check = ['Y', 'Y', 'N']"
   ]
  },
  {
   "cell_type": "code",
   "execution_count": 49,
   "id": "90b5d167",
   "metadata": {},
   "outputs": [],
   "source": [
    "c['Name'] = name\n",
    "c['num1'] = num_1\n",
    "c['num2'] = num_2\n",
    "c['True'] = check"
   ]
  },
  {
   "cell_type": "code",
   "execution_count": 50,
   "id": "1918fa93",
   "metadata": {},
   "outputs": [
    {
     "name": "stdout",
     "output_type": "stream",
     "text": [
      "[('Chloe', 11, 14, 'Y') ('Charl', 12, 15, 'Y') ('Clara', 13, 16, 'N')]\n"
     ]
    }
   ],
   "source": [
    "print(c)"
   ]
  },
  {
   "cell_type": "markdown",
   "id": "55f287a5",
   "metadata": {},
   "source": [
    "## 3. RecordArray：`numpy.recarray()`\n",
    "\n",
    "RecordArray 與 Structured Array 非常類似，但是提供**更多的屬性**可以用來存取結構化陣列。\n",
    "\n",
    "不過 **RecordArray 雖然方便但是在效能上會比原來的陣列差。**\n",
    "\n",
    "原先是透過**索引或是名稱存取元素值**，但是 **RecordArray** 可以使用**屬性**的方式來取得。"
   ]
  },
  {
   "cell_type": "code",
   "execution_count": 51,
   "id": "6d1f1ac5",
   "metadata": {},
   "outputs": [
    {
     "data": {
      "text/plain": [
       "rec.array([('Chloe', 11, 14, 'Y'), ('Charl', 12, 15, 'Y'),\n",
       "           ('Clara', 13, 16, 'N')],\n",
       "          dtype=[('Name', '<U5'), ('num1', '<i4'), ('num2', '<i4'), ('True', '<U3')])"
      ]
     },
     "execution_count": 51,
     "metadata": {},
     "output_type": "execute_result"
    }
   ],
   "source": [
    "c_rec = c.view(np.recarray)\n",
    "c_rec"
   ]
  },
  {
   "cell_type": "markdown",
   "id": "0df3fb0b",
   "metadata": {},
   "source": [
    "原先我們是透過索引或是名稱存取元素值，但是 RecordArray 可以使用屬性的方式來取得。"
   ]
  },
  {
   "cell_type": "code",
   "execution_count": 52,
   "id": "9659aecc",
   "metadata": {},
   "outputs": [
    {
     "data": {
      "text/plain": [
       "array(['Chloe', 'Charl', 'Clara'], dtype='<U5')"
      ]
     },
     "execution_count": 52,
     "metadata": {},
     "output_type": "execute_result"
    }
   ],
   "source": [
    "c_rec.Name"
   ]
  },
  {
   "cell_type": "markdown",
   "id": "2ecac170",
   "metadata": {},
   "source": [
    "# Numpy 運算"
   ]
  },
  {
   "cell_type": "code",
   "execution_count": 53,
   "id": "5f3aa06d",
   "metadata": {},
   "outputs": [
    {
     "name": "stdout",
     "output_type": "stream",
     "text": [
      "<module 'numpy' from 'D:\\\\Anaconda3\\\\envs\\\\PT\\\\lib\\\\site-packages\\\\numpy\\\\__init__.py'>\n",
      "1.19.2\n",
      "<module 'pandas' from 'D:\\\\Anaconda3\\\\envs\\\\PT\\\\lib\\\\site-packages\\\\pandas\\\\__init__.py'>\n",
      "1.1.5\n"
     ]
    }
   ],
   "source": [
    "# 載入 NumPy, Pandas 套件\n",
    "import numpy as np\n",
    "import pandas as pd\n",
    "\n",
    "# 檢查正確載入與版本\n",
    "print(np)\n",
    "print(np.__version__)\n",
    "print(pd)\n",
    "print(pd.__version__)"
   ]
  },
  {
   "cell_type": "markdown",
   "id": "2e3cd4dc",
   "metadata": {},
   "source": [
    "從 **Series** 和 **DataFrame** 開始"
   ]
  },
  {
   "cell_type": "code",
   "execution_count": 59,
   "id": "8ba5f312",
   "metadata": {},
   "outputs": [
    {
     "name": "stdout",
     "output_type": "stream",
     "text": [
      "0    1\n",
      "1    2\n",
      "2    3\n",
      "dtype: int64\n",
      "<class 'pandas.core.series.Series'>\n"
     ]
    }
   ],
   "source": [
    "# 從 Series 和 DataFrame 開始\n",
    "\n",
    "s = pd.Series([1, 2, 3])\n",
    "print(s)\n",
    "print(type(s))\n"
   ]
  },
  {
   "cell_type": "code",
   "execution_count": 60,
   "id": "a5d900bd",
   "metadata": {},
   "outputs": [
    {
     "data": {
      "text/plain": [
       "0    1\n",
       "1    2\n",
       "2    3\n",
       "dtype: int64"
      ]
     },
     "execution_count": 60,
     "metadata": {},
     "output_type": "execute_result"
    }
   ],
   "source": [
    "s"
   ]
  },
  {
   "cell_type": "markdown",
   "id": "445dc443",
   "metadata": {},
   "source": [
    "DataFrame 從0開始"
   ]
  },
  {
   "cell_type": "code",
   "execution_count": 55,
   "id": "d3b30ffb",
   "metadata": {},
   "outputs": [
    {
     "name": "stdout",
     "output_type": "stream",
     "text": [
      "   0\n",
      "0  1\n",
      "1  2\n",
      "2  3\n",
      "<class 'pandas.core.frame.DataFrame'>\n"
     ]
    }
   ],
   "source": [
    "df = pd.DataFrame([1, 2, 3])\n",
    "print(df)\n",
    "print(type(df))"
   ]
  },
  {
   "cell_type": "code",
   "execution_count": 61,
   "id": "b2bd321b",
   "metadata": {},
   "outputs": [
    {
     "data": {
      "text/html": [
       "<div>\n",
       "<style scoped>\n",
       "    .dataframe tbody tr th:only-of-type {\n",
       "        vertical-align: middle;\n",
       "    }\n",
       "\n",
       "    .dataframe tbody tr th {\n",
       "        vertical-align: top;\n",
       "    }\n",
       "\n",
       "    .dataframe thead th {\n",
       "        text-align: right;\n",
       "    }\n",
       "</style>\n",
       "<table border=\"1\" class=\"dataframe\">\n",
       "  <thead>\n",
       "    <tr style=\"text-align: right;\">\n",
       "      <th></th>\n",
       "      <th>0</th>\n",
       "    </tr>\n",
       "  </thead>\n",
       "  <tbody>\n",
       "    <tr>\n",
       "      <th>0</th>\n",
       "      <td>1</td>\n",
       "    </tr>\n",
       "    <tr>\n",
       "      <th>1</th>\n",
       "      <td>2</td>\n",
       "    </tr>\n",
       "    <tr>\n",
       "      <th>2</th>\n",
       "      <td>3</td>\n",
       "    </tr>\n",
       "  </tbody>\n",
       "</table>\n",
       "</div>"
      ],
      "text/plain": [
       "   0\n",
       "0  1\n",
       "1  2\n",
       "2  3"
      ]
     },
     "execution_count": 61,
     "metadata": {},
     "output_type": "execute_result"
    }
   ],
   "source": [
    "df"
   ]
  },
  {
   "cell_type": "markdown",
   "id": "3237d652",
   "metadata": {},
   "source": [
    "Series 的常用屬性<br>\n",
    "`.shape`<br>\n",
    "`.size`<br>\n",
    "`.dtype`<br>"
   ]
  },
  {
   "cell_type": "code",
   "execution_count": 56,
   "id": "c08124ff",
   "metadata": {},
   "outputs": [
    {
     "name": "stdout",
     "output_type": "stream",
     "text": [
      "(3,)\n",
      "3\n",
      "int64\n"
     ]
    }
   ],
   "source": [
    "# Series 的常用屬性\n",
    "\n",
    "s = pd.Series([1, 2, 3])\n",
    "print(s.shape) # (3, )\n",
    "print(s.size) # 3\n",
    "print(s.dtype) # int64"
   ]
  },
  {
   "cell_type": "markdown",
   "id": "919305c9",
   "metadata": {},
   "source": [
    "DataFrame 的常用屬性"
   ]
  },
  {
   "cell_type": "code",
   "execution_count": 57,
   "id": "30731c7a",
   "metadata": {},
   "outputs": [
    {
     "name": "stdout",
     "output_type": "stream",
     "text": [
      "(3, 1)\n",
      "3\n",
      "0    int64\n",
      "dtype: object\n"
     ]
    }
   ],
   "source": [
    "# DataFrame 的常用屬性\n",
    "\n",
    "df = pd.DataFrame([1, 2, 3])\n",
    "print(df.shape) # (3, 1)\n",
    "print(df.size) # 3\n",
    "print(df.dtypes) "
   ]
  }
 ],
 "metadata": {
  "kernelspec": {
   "display_name": "Python 3",
   "language": "python",
   "name": "python3"
  },
  "language_info": {
   "codemirror_mode": {
    "name": "ipython",
    "version": 3
   },
   "file_extension": ".py",
   "mimetype": "text/x-python",
   "name": "python",
   "nbconvert_exporter": "python",
   "pygments_lexer": "ipython3",
   "version": "3.6.13"
  }
 },
 "nbformat": 4,
 "nbformat_minor": 5
}
