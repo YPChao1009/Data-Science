{
 "cells": [
  {
   "cell_type": "markdown",
   "id": "47d411cd",
   "metadata": {},
   "source": [
    "# 運用 python 語法計算貝式定理"
   ]
  },
  {
   "cell_type": "markdown",
   "id": "9c045a41",
   "metadata": {},
   "source": [
    "**貝式定理**\n",
    "\n",
    "$ P(A|B)=\\frac{P(A)|P(B|A)}{P(B)}$\n",
    "\n",
    "\n",
    "$ P(A|B)$ : 在事件 B 發生的情況下事件 A 發生的機率。\n",
    "\n",
    "- $ P(A|B)$是已知 B 發生後，A 的條件機率。也稱作 A 的事後機率。\n",
    "- $P(A)$是 A 的的先驗機率（或邊際機率）。其不考慮任何 B 方面的因素。\n",
    "- $P(B|A)$是已知 A 發生後，B 的條件機率。也可稱爲 B 的先驗機率。\n",
    "- $P(B)$的先驗機率。\n",
    "\n",
    "\n",
    "從條件機率推導貝氏定理 :\n",
    "\n",
    "$ P(A|B)=\\frac{P({A}\\bigcap{B})}{P(B)}$ : 在事件B發生的條件下事件A發生的機率\n",
    "\n",
    " A與B的聯合機率表示為$P({A}\\bigcap{B})$或者$P(A,B)$或者$P(AB)$\n",
    " \n",
    "$ P(B|A)=\\frac{P({A}\\bigcap{B})}{P(A)}$ : 在事件A發生的條件下事件B發生的機率\n",
    "\n",
    "$ P(A|B)P(B) = P({A}\\bigcap{B}) = P(B|A)P(A) $\n",
    "\n",
    "$ P(A|B)=\\frac{P(A)|P(B|A)}{P(B)}$\n",
    "\n",
    "\n",
    "貝式定理（Bayes Theorem）<br>\n",
    "$$P(A|B)=\\frac{P(A \\cap B)}{P(B)}=\\frac{P(B|A) \\times P(A)}{P(B|A) \\times P(A) + P(B|A^c) \\times P(A^c)} $$\n",
    "\n",
    "\n",
    "https://zh.wikipedia.org/zh-tw/%E8%B4%9D%E5%8F%B6%E6%96%AF%E5%AE%9A%E7%90%86"
   ]
  },
  {
   "cell_type": "markdown",
   "id": "f0bfc936",
   "metadata": {},
   "source": [
    "### 例子1:\n",
    "電影院裡通常都是成對情侶一起去看，\n",
    "\n",
    "假設有一半是女的，有一半是男的。\n",
    "\n",
    "假設電影院中有 100 個人裡面，有 50 名男性和 50 名女性。\n",
    "\n",
    "在這 50 名女性裡，有一半的人有長髮（25 人），另一半有短髮（25 人）；\n",
    "\n",
    "在 50 名男性當中，45 個人有短髮，5個人有長髮。\n",
    "\n"
   ]
  },
  {
   "cell_type": "code",
   "execution_count": 1,
   "id": "4a50102f",
   "metadata": {},
   "outputs": [
    {
     "name": "stdout",
     "output_type": "stream",
     "text": [
      "P(A|B) = 83.33\n"
     ]
    }
   ],
   "source": [
    "#寫法2:\n",
    "# calculate P(A|B) given P(A), P(B|A), P(B|not A)\n",
    "def bayes_theorem(p_a, p_b_given_a, p_b_given_not_a):\n",
    "\t# calculate P(not A)\n",
    "\tnot_a = 1 - p_a\n",
    "\t# calculate P(B)\n",
    "\tp_b = p_b_given_a * p_a + p_b_given_not_a * not_a\n",
    "\t# calculate P(A|B)\n",
    "\tp_a_given_b = (p_b_given_a * p_a) / p_b\n",
    "\treturn p_a_given_b\n",
    " \n",
    "# P(A): P(女生)\n",
    "# P(not A): P(男生)\n",
    "p_a = 0.5\n",
    "# P(B|A): P(長髮|女生)\n",
    "p_b_given_a = 0.5\n",
    "# P(B|not A): P(長髮|男生)\n",
    "p_b_given_not_a = 0.1\n",
    "# calculate P(A|B): P(女生|長髮)\n",
    "result = bayes_theorem(p_a, p_b_given_a, p_b_given_not_a)\n",
    "# summarize\n",
    "# P(女生|長髮)\n",
    "print('P(A|B) = {0}'.format(round(result * 100,2)))"
   ]
  },
  {
   "cell_type": "code",
   "execution_count": null,
   "id": "670878eb",
   "metadata": {},
   "outputs": [],
   "source": []
  }
 ],
 "metadata": {
  "kernelspec": {
   "display_name": "Python 3",
   "language": "python",
   "name": "python3"
  },
  "language_info": {
   "codemirror_mode": {
    "name": "ipython",
    "version": 3
   },
   "file_extension": ".py",
   "mimetype": "text/x-python",
   "name": "python",
   "nbconvert_exporter": "python",
   "pygments_lexer": "ipython3",
   "version": "3.6.13"
  }
 },
 "nbformat": 4,
 "nbformat_minor": 5
}
