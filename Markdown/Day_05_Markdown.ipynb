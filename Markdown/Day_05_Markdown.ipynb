{
 "cells": [
  {
   "cell_type": "markdown",
   "id": "06e2648d",
   "metadata": {},
   "source": [
    "# 範例目標:\n",
    "\n",
    "1. 順序統計量 (Order Statistics)<br>\n",
    "\n",
    "   - 最大值和最小值\n",
    "     - `numpy.maximum()`, `numpy.minimum()`\n",
    "     - `numpy.fmax()`, `numpy.fmin()`\n",
    "     - `numpy.nanmax()`, `numpy.nanmin()`<br>\n",
    "   - 百分位數：`percentile()`, `nanpercentile()`<br>\n",
    "   - 分位數：`quantile()`, `nanquantile()`<br>\n",
    "\n",
    "   \n",
    "\n",
    "2. 平均數與變異數<br>\n",
    "   - 平均值：`mean()`, `nanmean()`  **(後者會忽略 nan)**<br> \n",
    "   - 平均值：`average()`  **(可以輸入權重值做為引數)**<br>\n",
    "   - 中位數：`median()`, `nanmedian()`<br>\n",
    "   - 標準差：`std()`, `nanstd()`<br>\n",
    "   - 變異數：`var()`, `nanvar()`<br>\n",
    "   - 共變異數：`cov()`<br>\n",
    "   \n",
    "   \n",
    "3. 相關性<br>\n",
    "   - 相關係數：`corrcoef()`<br>\n",
    "   - 互相關 (Cross-correlation)：`correlate()`<br>\n",
    "   - 共變異數：`cov()`<br>\n",
    "   \n",
    "\n",
    "4. 直方圖 (Histogram)<br>\n",
    "   - 直方圖：`np.histogram()`<br>\n",
    "   - matplotlib：`plt.hist()`<br>\n",
    "   \n",
    "   \n",
    "5. `digitize()`\n",
    "\n",
    "   `digitize()` 是用來**將連續數值離散化**的函式，傳入陣列及 bins **(必須為一維陣列)**\n",
    "\n",
    "# 範例重點:\n",
    "\n",
    "1. 統計函式也須注意針對計算的**軸 (axis) 與維度 (dimension)** \n",
    "2. 直方圖 (Histogram) 需要配合套件 matplotlib.pyplot 使用\n",
    "   \n",
    "   \n",
    "# [教學目標]\n",
    "\n",
    "* 正確的使用 NumPy 中的比較與邏輯運算\n",
    "* 掌握 NumPy 陣列的遮罩特性與使用\n",
    "* 知道 NumPy 陣列與 Python 列表的用法差異\n",
    " - 陣列中的比較運算\n",
    " - 陣列中的邏輯運算\n",
    " - 利用布林值作為篩選的條件：遮罩\n",
    " - 從比較/邏輯運算到遮罩特性\n",
    " - 遮罩特性背後的強大之處\n",
    " - 補充：any() 和 all()"
   ]
  },
  {
   "cell_type": "code",
   "execution_count": 56,
   "id": "615e93d9",
   "metadata": {},
   "outputs": [],
   "source": [
    "import numpy as np"
   ]
  },
  {
   "cell_type": "code",
   "execution_count": 57,
   "id": "e011c0d8",
   "metadata": {},
   "outputs": [
    {
     "name": "stdout",
     "output_type": "stream",
     "text": [
      "a\n",
      " [[6 9 6]\n",
      " [1 1 2]] \n",
      "\n",
      "b\n",
      " [1 4 2] \n",
      "\n"
     ]
    }
   ],
   "source": [
    "np.random.seed(1)\n",
    "a = np.random.randint(1, 10, 6).reshape(2, 3)\n",
    "b = np.random.randint(1, 5, 3)\n",
    "\n",
    "print('a\\n',a,'\\n')\n",
    "print('b\\n',b,'\\n')"
   ]
  },
  {
   "cell_type": "markdown",
   "id": "f05e3488",
   "metadata": {},
   "source": [
    "## 1. 順序統計量 (Order Statistics)"
   ]
  },
  {
   "cell_type": "markdown",
   "id": "81b70e9b",
   "metadata": {},
   "source": [
    "### 1.1 最大值和最小值\n",
    "\n",
    "曾介紹過找出陣列中的最大值 (`ndarray.max()`, `np.amax()`) 和最小值 (`ndarray.min()`, `np.amin()`)，針對單一陣列中取得最大值或最小值。\n",
    "\n",
    "在 NumPy 順序統計量的相關函式中，最大值與最小值相關的函式還有：\n",
    "- `numpy.maximum()`, `numpy.minimum()`\n",
    "- `numpy.fmax()`, `numpy.fmin()`\n",
    "- `numpy.nanmax()`, `numpy.nanmin()`"
   ]
  },
  {
   "cell_type": "markdown",
   "id": "fe44434f",
   "metadata": {},
   "source": [
    "#### 1.1.1 `numpy.maximum()`, `numpy.minimum()`\n",
    "\n",
    "以 **element-wise** 比較 2 個陣列並回傳各元素的最大值或最小值。\n",
    "\n",
    "**如果比較的元素中的 nan 的話，則會回傳 nan。**\n",
    "\n",
    "`maximum()` 與 `minimum()` 在進行比較時，若有需要會利用到廣播 (bradcasting)。"
   ]
  },
  {
   "cell_type": "code",
   "execution_count": 58,
   "id": "be6a0833",
   "metadata": {},
   "outputs": [
    {
     "data": {
      "text/plain": [
       "array([[6, 9, 6],\n",
       "       [1, 4, 2]])"
      ]
     },
     "execution_count": 58,
     "metadata": {},
     "output_type": "execute_result"
    }
   ],
   "source": [
    "np.maximum(a,b)"
   ]
  },
  {
   "cell_type": "code",
   "execution_count": 59,
   "id": "2dca5420",
   "metadata": {},
   "outputs": [
    {
     "data": {
      "text/plain": [
       "array([[1, 4, 2],\n",
       "       [1, 1, 2]])"
      ]
     },
     "execution_count": 59,
     "metadata": {},
     "output_type": "execute_result"
    }
   ],
   "source": [
    "np.minimum(a,b)"
   ]
  },
  {
   "cell_type": "code",
   "execution_count": 60,
   "id": "230a4af0",
   "metadata": {},
   "outputs": [
    {
     "data": {
      "text/plain": [
       "array([[nan,  9., nan],\n",
       "       [nan,  1., nan]])"
      ]
     },
     "execution_count": 60,
     "metadata": {},
     "output_type": "execute_result"
    }
   ],
   "source": [
    "np.maximum(a, [np.nan, 0, np.nan])"
   ]
  },
  {
   "cell_type": "markdown",
   "id": "3280a5c4",
   "metadata": {},
   "source": [
    "#### 1.1.2 `numpy.fmax()`, `numpy.fmin()`\n",
    "\n",
    "以 element-wise 比較 2 個陣列並回傳各元素的最大值或最小值。\n",
    "\n",
    "與 `maximum()` / `minimum()` 不同的是，\n",
    "\n",
    "**如果比較的元素中只有一個是 nan 的話，回傳非 nan 的值，如果兩個元素都是 nan 則回傳 nan。**\n",
    "\n",
    "同樣在進行比較時，若有需要會利用到廣播 (bradcasting)。"
   ]
  },
  {
   "cell_type": "code",
   "execution_count": 61,
   "id": "425a0928",
   "metadata": {},
   "outputs": [
    {
     "data": {
      "text/plain": [
       "array([[6, 9, 6],\n",
       "       [1, 4, 2]])"
      ]
     },
     "execution_count": 61,
     "metadata": {},
     "output_type": "execute_result"
    }
   ],
   "source": [
    "np.fmax(a, b)"
   ]
  },
  {
   "cell_type": "code",
   "execution_count": 62,
   "id": "1b281d32",
   "metadata": {},
   "outputs": [
    {
     "data": {
      "text/plain": [
       "array([nan,  3., nan])"
      ]
     },
     "execution_count": 62,
     "metadata": {},
     "output_type": "execute_result"
    }
   ],
   "source": [
    "np.fmin([np.nan, 3, np.nan], [np.nan, np.nan, np.nan])"
   ]
  },
  {
   "cell_type": "markdown",
   "id": "e20239a9",
   "metadata": {},
   "source": [
    "#### 1.1.3 `numpy.nanmax()`, `numpy.nanmin()`\n",
    "\n",
    "**回傳陣列中有非 nan 元素值的最大值或最小值。**\n",
    "\n",
    "可以指定要比較的軸，以及回傳值是否要保留維度。\n",
    "\n",
    "常用語法如下：\n",
    "\n",
    "```python\n",
    "numpy.nanmax(a, axis=None, keepdims=<no value>)\n",
    "numpy.nanmin(a, axis=None, keepdims=<no value>)\n",
    "```\n",
    "\n",
    "如果元素中都是 nan 值則會產生 RuntimeWarning。"
   ]
  },
  {
   "cell_type": "code",
   "execution_count": 63,
   "id": "330dbaab",
   "metadata": {},
   "outputs": [
    {
     "data": {
      "text/plain": [
       "3.0"
      ]
     },
     "execution_count": 63,
     "metadata": {},
     "output_type": "execute_result"
    }
   ],
   "source": [
    "np.nanmax([1, 2, np.nan, 3])"
   ]
  },
  {
   "cell_type": "code",
   "execution_count": 64,
   "id": "08116b13",
   "metadata": {},
   "outputs": [
    {
     "name": "stderr",
     "output_type": "stream",
     "text": [
      "D:\\Anaconda3\\envs\\PT\\lib\\site-packages\\ipykernel_launcher.py:1: RuntimeWarning: All-NaN axis encountered\n",
      "  \"\"\"Entry point for launching an IPython kernel.\n"
     ]
    },
    {
     "data": {
      "text/plain": [
       "nan"
      ]
     },
     "execution_count": 64,
     "metadata": {},
     "output_type": "execute_result"
    }
   ],
   "source": [
    "np.nanmax([np.nan, np.nan])"
   ]
  },
  {
   "cell_type": "markdown",
   "id": "b572451b",
   "metadata": {},
   "source": [
    "### 1.2 百分位數：`percentile()`, `nanpercentile()`\n",
    "\n",
    "計算百分位數，`percentile()` 與 `nanpercentile()` 不同的地方在於後者會**忽略 nan。**\n",
    "\n",
    "欲取得的百分位數引數，可以傳入**純量或是陣列的值 (介於0 - 100 之間)**，也可以指定要比較的軸，以及回傳值是否要保留維度。\n",
    "\n",
    "常用語法如下：\n",
    "\n",
    "```python\n",
    "numpy.percentile(a, q, axis=None, keepdims=<no value>)\n",
    "numpy.nanpercentile(a, q, axis=None, keepdims=<no value>)\n",
    "```\n",
    "\n",
    "如果元素中包含 nan 的話，則 `percentile()` 會回傳 nan。"
   ]
  },
  {
   "cell_type": "code",
   "execution_count": 65,
   "id": "fae1a13d",
   "metadata": {},
   "outputs": [
    {
     "data": {
      "text/plain": [
       "array([ 1.,  2.,  3.,  4.,  5.,  6.,  7.,  8.,  9., 10., 11., 12., 13.,\n",
       "       14., 15., 16., 17., 18., 19.], dtype=float32)"
      ]
     },
     "execution_count": 65,
     "metadata": {},
     "output_type": "execute_result"
    }
   ],
   "source": [
    "p = np.arange(1, 20).astype('float32')\n",
    "p"
   ]
  },
  {
   "cell_type": "code",
   "execution_count": 66,
   "id": "944bbca6",
   "metadata": {},
   "outputs": [
    {
     "data": {
      "text/plain": [
       "array([ 6.4, 11.8])"
      ]
     },
     "execution_count": 66,
     "metadata": {},
     "output_type": "execute_result"
    }
   ],
   "source": [
    "np.percentile(p, [30, 60])"
   ]
  },
  {
   "cell_type": "code",
   "execution_count": 67,
   "id": "98c5f6c3",
   "metadata": {},
   "outputs": [],
   "source": [
    "p[5] = np.nan\n",
    "p[9] = np.nan\n",
    "p[15] = np.nan"
   ]
  },
  {
   "cell_type": "code",
   "execution_count": 68,
   "id": "6ddf6632",
   "metadata": {},
   "outputs": [
    {
     "data": {
      "text/plain": [
       "array([ 1.,  2.,  3.,  4.,  5., nan,  7.,  8.,  9., nan, 11., 12., 13.,\n",
       "       14., 15., nan, 17., 18., 19.], dtype=float32)"
      ]
     },
     "execution_count": 68,
     "metadata": {},
     "output_type": "execute_result"
    }
   ],
   "source": [
    "p"
   ]
  },
  {
   "cell_type": "code",
   "execution_count": 69,
   "id": "9d8c75fa",
   "metadata": {},
   "outputs": [
    {
     "data": {
      "text/plain": [
       "10.0"
      ]
     },
     "execution_count": 69,
     "metadata": {},
     "output_type": "execute_result"
    }
   ],
   "source": [
    "np.nanpercentile(p, 50)"
   ]
  },
  {
   "cell_type": "code",
   "execution_count": 70,
   "id": "14db0e74",
   "metadata": {},
   "outputs": [
    {
     "data": {
      "text/plain": [
       "nan"
      ]
     },
     "execution_count": 70,
     "metadata": {},
     "output_type": "execute_result"
    }
   ],
   "source": [
    "np.percentile(p, 50)"
   ]
  },
  {
   "cell_type": "markdown",
   "id": "2a0cc268",
   "metadata": {},
   "source": [
    "### 1.3 分位數：`quantile()`, `nanquantile()`\n",
    "\n",
    "計算分位數，`quantile()` 與 `nanquantile()` 不同的地方在於後者會**忽略 nan。**\n",
    "\n",
    "如果元素中包含 nan 的話，則 `quantile()` 會回傳 nan。\n",
    "\n",
    "欲取得的分位數引數，可以傳入純量或是陣列的值 (介於0 - 1 之間)，也可以指定要比較的軸，以及回傳值是否要保留維度。\n",
    "\n",
    "常用語法如下：\n",
    "\n",
    "```python\n",
    "numpy.quantile(a, q, axis=None, keepdims=<no value>)\n",
    "numpy.nanquantile(a, q, axis=None, keepdims=<no value>)\n",
    "```"
   ]
  },
  {
   "cell_type": "code",
   "execution_count": 71,
   "id": "6b4d0679",
   "metadata": {},
   "outputs": [
    {
     "data": {
      "text/plain": [
       "array([23,  2,  1, 18,  9, 25, 14, 48, 43,  9, 31,  8,  4,  7, 22,  4,  5,\n",
       "       25, 44, 13])"
      ]
     },
     "execution_count": 71,
     "metadata": {},
     "output_type": "execute_result"
    }
   ],
   "source": [
    "q = np.array([23,  2,  1, 18,  9, 25, 14, 48, 43,  9, 31,  8,  4,  7, 22,  4,  5, 25, 44, 13])\n",
    "q"
   ]
  },
  {
   "cell_type": "code",
   "execution_count": 72,
   "id": "21fa44f2",
   "metadata": {},
   "outputs": [
    {
     "data": {
      "text/plain": [
       "6.5"
      ]
     },
     "execution_count": 72,
     "metadata": {},
     "output_type": "execute_result"
    }
   ],
   "source": [
    "np.quantile(q, 0.25)"
   ]
  },
  {
   "cell_type": "code",
   "execution_count": 73,
   "id": "c1868586",
   "metadata": {},
   "outputs": [
    {
     "data": {
      "text/plain": [
       "array([[23.,  2.,  1., nan],\n",
       "       [ 9., 25., nan, 48.],\n",
       "       [43.,  9., 31., nan],\n",
       "       [ 4.,  7., nan,  4.],\n",
       "       [ 5., 25., 44., 13.]])"
      ]
     },
     "execution_count": 73,
     "metadata": {},
     "output_type": "execute_result"
    }
   ],
   "source": [
    "q = np.array([23,  2,  1, np.nan,  9, 25, np.nan, 48, 43,  9, 31,  np.nan,  4,  7, np.nan,  4,  5, 25, 44, 13]).reshape(5, 4)\n",
    "q"
   ]
  },
  {
   "cell_type": "markdown",
   "id": "7962239b",
   "metadata": {},
   "source": [
    "下例是沿 axis 0 計算分位數，並且保留二維的維度。"
   ]
  },
  {
   "cell_type": "code",
   "execution_count": 74,
   "id": "e50f8efd",
   "metadata": {},
   "outputs": [
    {
     "data": {
      "text/plain": [
       "array([[ 5. ,  7. , 16. ,  8.5]])"
      ]
     },
     "execution_count": 74,
     "metadata": {},
     "output_type": "execute_result"
    }
   ],
   "source": [
    "np.nanquantile(q, 0.25, axis=0, keepdims=True)"
   ]
  },
  {
   "cell_type": "markdown",
   "id": "ed985d52",
   "metadata": {},
   "source": [
    "## 2. 平均數與變異數"
   ]
  },
  {
   "cell_type": "markdown",
   "id": "1b490f66",
   "metadata": {},
   "source": [
    "### 2.1 平均值：`mean()`, `nanmean()`\n",
    "\n",
    "`mean()` 和 `nanmean()` 不同的地方在於後者會**忽略 nan。**\n",
    "\n",
    "如果元素中包含 nan 的話，則 `mean()` 會回傳 nan。\n",
    "\n",
    "下面的例子使用 `np.isnan()` 判斷陣列中是否包含 nan，如果無 nan 的話就呼叫 `mean()` 計算平均值，反之則呼叫 `nanmean()` 進行計算。\n",
    "\n",
    "可以指定要計算平均數的軸，以及回傳值是否要保留維度。\n",
    "\n",
    "`dtype` 引數是計算使用的型別，若輸入陣列是整數的話，則會用 `float64` 型別計算，若輸入的是浮點數的話，則是依輸入陣列的型別做為 `dtype`。\n",
    "\n",
    "常用語法如下：\n",
    "\n",
    "```python\n",
    "numpy.mean(a, axis=None, dtype=None, keepdims=<no value>)\n",
    "numpy.nanmean(a, axis=None, dtype=None, keepdims=<no value>)\n",
    "```"
   ]
  },
  {
   "cell_type": "code",
   "execution_count": 75,
   "id": "eb37fe55",
   "metadata": {},
   "outputs": [],
   "source": [
    "a = np.array([23,  2,  1, np.nan,  9, 25, np.nan, \n",
    "              48, 43,  9, 31,  np.nan]).reshape(3, 4)"
   ]
  },
  {
   "cell_type": "code",
   "execution_count": 76,
   "id": "a07f8cc2",
   "metadata": {},
   "outputs": [
    {
     "data": {
      "text/plain": [
       "nan"
      ]
     },
     "execution_count": 76,
     "metadata": {},
     "output_type": "execute_result"
    }
   ],
   "source": [
    "np.mean(a)"
   ]
  },
  {
   "cell_type": "code",
   "execution_count": 77,
   "id": "a5db0097",
   "metadata": {},
   "outputs": [
    {
     "name": "stdout",
     "output_type": "stream",
     "text": [
      "陣列中有 nan，忽略 nan 後的平均值為： 21.22222222222222\n"
     ]
    }
   ],
   "source": [
    "if not np.isnan(np.sum(a)):\n",
    "    print(\"陣列中無 nan，忽略 nan 後的平均值為：\", np.mean(a))\n",
    "else:\n",
    "    print(\"陣列中有 nan，忽略 nan 後的平均值為：\", np.nanmean(a))"
   ]
  },
  {
   "cell_type": "markdown",
   "id": "e3e66752",
   "metadata": {},
   "source": [
    "### 2.2 平均值：`average()`\n",
    "\n",
    "使用 `average()` 計算平均值的話，**可以輸入權重值做為引數。**\n",
    "\n",
    "常用語法：\n",
    "```python\n",
    "numpy.average(a, axis=None, weights=None)\n",
    "```\n",
    "\n",
    "權重平均值的計算公式為：\n",
    "\n",
    "> avg = sum(a * weights) / sum(weights)\n",
    "\n",
    "須注意**權重的總和不能為 0**，否則會產生錯誤。"
   ]
  },
  {
   "cell_type": "code",
   "execution_count": 78,
   "id": "056cee46",
   "metadata": {},
   "outputs": [
    {
     "data": {
      "text/plain": [
       "array([[0, 1],\n",
       "       [2, 3],\n",
       "       [4, 5]])"
      ]
     },
     "execution_count": 78,
     "metadata": {},
     "output_type": "execute_result"
    }
   ],
   "source": [
    "a = np.arange(6).reshape((3,2))\n",
    "a"
   ]
  },
  {
   "cell_type": "code",
   "execution_count": 79,
   "id": "bad6026d",
   "metadata": {},
   "outputs": [
    {
     "data": {
      "text/plain": [
       "array([0.75, 2.75, 4.75])"
      ]
     },
     "execution_count": 79,
     "metadata": {},
     "output_type": "execute_result"
    }
   ],
   "source": [
    "np.average(a, axis=1, weights=[0.25, 0.75])"
   ]
  },
  {
   "cell_type": "code",
   "execution_count": 80,
   "id": "f823cb3e",
   "metadata": {},
   "outputs": [
    {
     "ename": "ZeroDivisionError",
     "evalue": "Weights sum to zero, can't be normalized",
     "output_type": "error",
     "traceback": [
      "\u001b[1;31m---------------------------------------------------------------------------\u001b[0m",
      "\u001b[1;31mZeroDivisionError\u001b[0m                         Traceback (most recent call last)",
      "\u001b[1;32m<ipython-input-80-f756f92594e8>\u001b[0m in \u001b[0;36m<module>\u001b[1;34m\u001b[0m\n\u001b[1;32m----> 1\u001b[1;33m \u001b[0mnp\u001b[0m\u001b[1;33m.\u001b[0m\u001b[0maverage\u001b[0m\u001b[1;33m(\u001b[0m\u001b[0ma\u001b[0m\u001b[1;33m,\u001b[0m \u001b[0maxis\u001b[0m\u001b[1;33m=\u001b[0m\u001b[1;36m1\u001b[0m\u001b[1;33m,\u001b[0m \u001b[0mweights\u001b[0m\u001b[1;33m=\u001b[0m\u001b[1;33m[\u001b[0m\u001b[1;36m0\u001b[0m\u001b[1;33m,\u001b[0m \u001b[1;36m0\u001b[0m\u001b[1;33m]\u001b[0m\u001b[1;33m)\u001b[0m\u001b[1;33m\u001b[0m\u001b[1;33m\u001b[0m\u001b[0m\n\u001b[0m",
      "\u001b[1;32m<__array_function__ internals>\u001b[0m in \u001b[0;36maverage\u001b[1;34m(*args, **kwargs)\u001b[0m\n",
      "\u001b[1;32mD:\\Anaconda3\\envs\\PT\\lib\\site-packages\\numpy\\lib\\function_base.py\u001b[0m in \u001b[0;36maverage\u001b[1;34m(a, axis, weights, returned)\u001b[0m\n\u001b[0;32m    408\u001b[0m         \u001b[1;32mif\u001b[0m \u001b[0mnp\u001b[0m\u001b[1;33m.\u001b[0m\u001b[0many\u001b[0m\u001b[1;33m(\u001b[0m\u001b[0mscl\u001b[0m \u001b[1;33m==\u001b[0m \u001b[1;36m0.0\u001b[0m\u001b[1;33m)\u001b[0m\u001b[1;33m:\u001b[0m\u001b[1;33m\u001b[0m\u001b[1;33m\u001b[0m\u001b[0m\n\u001b[0;32m    409\u001b[0m             raise ZeroDivisionError(\n\u001b[1;32m--> 410\u001b[1;33m                 \"Weights sum to zero, can't be normalized\")\n\u001b[0m\u001b[0;32m    411\u001b[0m \u001b[1;33m\u001b[0m\u001b[0m\n\u001b[0;32m    412\u001b[0m         \u001b[0mavg\u001b[0m \u001b[1;33m=\u001b[0m \u001b[0mnp\u001b[0m\u001b[1;33m.\u001b[0m\u001b[0mmultiply\u001b[0m\u001b[1;33m(\u001b[0m\u001b[0ma\u001b[0m\u001b[1;33m,\u001b[0m \u001b[0mwgt\u001b[0m\u001b[1;33m,\u001b[0m \u001b[0mdtype\u001b[0m\u001b[1;33m=\u001b[0m\u001b[0mresult_dtype\u001b[0m\u001b[1;33m)\u001b[0m\u001b[1;33m.\u001b[0m\u001b[0msum\u001b[0m\u001b[1;33m(\u001b[0m\u001b[0maxis\u001b[0m\u001b[1;33m)\u001b[0m\u001b[1;33m/\u001b[0m\u001b[0mscl\u001b[0m\u001b[1;33m\u001b[0m\u001b[1;33m\u001b[0m\u001b[0m\n",
      "\u001b[1;31mZeroDivisionError\u001b[0m: Weights sum to zero, can't be normalized"
     ]
    }
   ],
   "source": [
    "np.average(a, axis=1, weights=[0, 0])"
   ]
  },
  {
   "cell_type": "markdown",
   "id": "a4cc0111",
   "metadata": {},
   "source": [
    "### 2.3 計算中位數：`median()`, `nanmedian()`\n",
    "\n",
    "`median()` 和 `nanmedian()` 不同的地方在於後者會**忽略 nan。**\n",
    "\n",
    "如果元素中包含 nan 的話，則 `median()` 會回傳 nan。\n",
    "\n",
    "可以指定要計算中位數的軸，以及回傳值是否要保留維度。\n",
    "\n",
    "**要留意的是，如果軸或是陣列總數不是單數的話，中位數的值會是中間 2 個元素值相加除以 2。**\n",
    "\n",
    "常用語法如下：\n",
    "\n",
    "```python\n",
    "numpy.median(a, axis=None, keepdims=False)\n",
    "numpy.nanmedian(a, axis=None, keepdims=False)\n",
    "```"
   ]
  },
  {
   "cell_type": "code",
   "execution_count": null,
   "id": "d5aa5b16",
   "metadata": {},
   "outputs": [],
   "source": [
    "np.random.seed(5)\n",
    "m = np.random.randint(1, 50, 15).reshape(3, 5)\n",
    "m"
   ]
  },
  {
   "cell_type": "code",
   "execution_count": null,
   "id": "31fd1399",
   "metadata": {},
   "outputs": [],
   "source": [
    "np.median(m, axis=1)"
   ]
  },
  {
   "cell_type": "code",
   "execution_count": null,
   "id": "59ec88f1",
   "metadata": {},
   "outputs": [],
   "source": [
    "np.nanmedian(np.array([[36, 15, np.nan, 39, 17],\n",
    "                       [np.nan,  9, 37, np.nan, 28],\n",
    "                       [49, np.nan, 17,  8, 13]]), axis=1)"
   ]
  },
  {
   "cell_type": "markdown",
   "id": "9aab8778",
   "metadata": {},
   "source": [
    "### 2.4 計算標準差：`std()`, `nanstd()`\n",
    "\n",
    "`std()` 和 `nanstd()` 不同的地方在於後者會**忽略 nan。**\n",
    "\n",
    "如果元素中包含 nan 的話，則 `std()` 會回傳 nan。\n",
    "\n",
    "可以指定要計算標準差的軸，以及回傳值是否要保留維度。\n",
    "\n",
    "**若是對於精度可能造成的誤差影響，可以改變 `dtype` 提高精度。**\n",
    "\n",
    "如果要計算樣本標準差的話，可將 `ddof` (自由度) 引數傳入 1，在計算平均方差 (mean squared deviation) 時分母就會以 N - ddof 做計算。\n",
    "\n",
    "常用語法如下：\n",
    "\n",
    "```python\n",
    "numpy.std(a, axis=None, dtype=None, ddof=0, keepdims=<no value>)\n",
    "numpy.nanstd(a, axis=None, dtype=None, ddof=0, keepdims=<no value>)\n",
    "```"
   ]
  },
  {
   "cell_type": "code",
   "execution_count": null,
   "id": "7bf7417f",
   "metadata": {},
   "outputs": [],
   "source": [
    "s = np.array([[1, 2], [3, 4]])\n",
    "np.std(s)"
   ]
  },
  {
   "cell_type": "markdown",
   "id": "6dd58a4c",
   "metadata": {},
   "source": [
    "### 2.5 計算變異數：`var()`, `nanvar()`\n",
    "\n",
    "`var()` 和 `nanvar()` 不同的地方在於後者會**忽略 nan。**\n",
    "\n",
    "如果元素中包含 nan 的話，則 `var()` 會回傳 nan。\n",
    "\n",
    "可以指定要計算變異數的軸，以及回傳值是否要保留維度。若是對於精度可能造成的誤差影響，可以改變 `dtype` 提高精度。\n",
    "\n",
    "如果要計算樣本變異數的話，可將 `ddof` (自由度) 引數傳入 1，在計算平均方差 (mean squared deviation) 時分母就會以 N - ddof 做計算。\n",
    "\n",
    "常用語法如下：\n",
    "\n",
    "```python\n",
    "numpy.var(a, axis=None, dtype=None, ddof=0, keepdims=<no value>)\n",
    "numpy.nanvar(a, axis=None, dtype=None, ddof=0, keepdims=<no value>\n",
    "```"
   ]
  },
  {
   "cell_type": "code",
   "execution_count": null,
   "id": "437a4920",
   "metadata": {},
   "outputs": [],
   "source": [
    "np.var(a)"
   ]
  },
  {
   "cell_type": "code",
   "execution_count": null,
   "id": "0d230f40",
   "metadata": {},
   "outputs": [],
   "source": [
    "np.var(a, axis=0)"
   ]
  },
  {
   "cell_type": "code",
   "execution_count": null,
   "id": "a4f0f598",
   "metadata": {},
   "outputs": [],
   "source": [
    "np.var(a, axis=1)"
   ]
  },
  {
   "cell_type": "markdown",
   "id": "38997b9a",
   "metadata": {},
   "source": [
    "## 3. 相關性"
   ]
  },
  {
   "cell_type": "markdown",
   "id": "500578e5",
   "metadata": {},
   "source": [
    "### 3.1 相關係數：`corrcoef()`\n",
    "\n",
    "`corrcoef()` 計算 **Pearson 積差相關係數。**\n",
    "\n",
    "補充:\n",
    "\n",
    "皮爾森積動差相關係數（Pearson product-moment correlation coefficient）用於度量兩組數據的變數 X 和 Y 之間的**線性相關的程度。**\n",
    "\n",
    "母體和樣本皮爾森係數的**絕對值小於或等於1。**\n",
    "\n",
    "如果樣本數據點精確的落在直線上，或者雙變數分布完全在直線上（計算母體皮爾森係數的情況），則相關係數等於1或-1。\n",
    "\n",
    "皮爾森係數是對稱的：corr(X,Y) = corr(Y,X)。<br>\n",
    "\n",
    "\n",
    "\n",
    "引數 `rowvar` 預設值為 `True`，代表將每一個 row 當做是一筆變數。\n",
    "`False`，代表將每一個 column 當做是一筆變數。\n",
    "\n",
    "語法如下：\n",
    "\n",
    "```python\n",
    "numpy.corrcoef(x, y=None, rowvar=True)\n",
    "```"
   ]
  },
  {
   "cell_type": "code",
   "execution_count": null,
   "id": "4b0a5e6b",
   "metadata": {},
   "outputs": [],
   "source": [
    "x = np.random.randint(1, 20, 10).reshape(2, 5)\n",
    "x"
   ]
  },
  {
   "cell_type": "code",
   "execution_count": null,
   "id": "1b239cb0",
   "metadata": {},
   "outputs": [],
   "source": [
    "np.corrcoef(x)"
   ]
  },
  {
   "cell_type": "markdown",
   "id": "6fccf472",
   "metadata": {},
   "source": [
    "### 3.2 互相關 (Cross-correlation)：`correlate()`\n",
    "\n",
    "計算 2 個一維序列的互相關。\n",
    "\n",
    "`mode` 引數及回傳序列形狀如下表：\n",
    "\n",
    "|mode|回傳序列形狀|\n",
    "|---|---|\n",
    "|valid|max(M, N)|\n",
    "|full|(N+M-1,)|\n",
    "|same|max(M, N) - min(M, N) + 1|\n",
    "\n",
    "_N 為第1個序列的元素數，M為第2個序列的元素數。_\n",
    "\n",
    "`correlate()` 語法如下：\n",
    "```python\n",
    "numpy.correlate(a, v, mode='valid')\n",
    "```"
   ]
  },
  {
   "cell_type": "code",
   "execution_count": null,
   "id": "dabf5b3a",
   "metadata": {},
   "outputs": [],
   "source": [
    "np.correlate([1, 2, 3], [0, 1])"
   ]
  },
  {
   "cell_type": "markdown",
   "id": "c8526598",
   "metadata": {},
   "source": [
    "### 3.3 共變異數：`cov()`\n",
    "\n",
    "引數說明如下：\n",
    "\n",
    "|引數|說明|\n",
    "|---|---|\n",
    "|m|一維或二維陣列|\n",
    "|y|額外資料，形狀須與m相同|\n",
    "|rowvar|每一個 row 當做是一筆變數，預設值為 True|\n",
    "|bias|樣本共變異數的話設為 False (預設值)，母體設為 True|\n",
    "|ddof|自由度，預設值為 None|\n",
    "|fweights|頻率加權，預設值為 None|\n",
    "|aweights|觀測向量加權，預設值為 None|\n",
    "\n",
    "語法如下：\n",
    "```python\n",
    "numpy.cov(m, y=None, rowvar=True, bias=False, ddof=None, fweights=None, aweights=None)\n",
    "```"
   ]
  },
  {
   "cell_type": "code",
   "execution_count": null,
   "id": "fa272369",
   "metadata": {},
   "outputs": [],
   "source": [
    "x = np.array([[0, 1, 2],\n",
    "              [2, 1, 0]])\n",
    "\n",
    "np.cov(x)"
   ]
  },
  {
   "cell_type": "markdown",
   "id": "2ccece8b",
   "metadata": {},
   "source": [
    "## 4. Histogram\n",
    "\n",
    "數據的頻率分佈的圖形表示。水平尺寸相等的矩形對應於類間隔，稱爲 bin，變量 height 對應於頻率。\n",
    "\n",
    "NumPy 提供 `np.histogram()` 函式來計算 histogram，基本語法如下：\n",
    "\n",
    "```python\n",
    "numpy.histogram(a, bins=10, range=None, normed=None, weights=None, density=None)\n",
    "```\n",
    "\n",
    "bins若為陣列，陣列中的連續元素用作每個bin的邊界。<br>\n",
    "\n",
    "|引數|說明|\n",
    "|---|---|\n",
    "|a|輸入陣列|\n",
    "|bins|bins的定義，可傳入純量、序列、或是不同的方法 (例如：auto)|\n",
    "|range|bins的範圍，預設是 a.min() 與 a.max() 之間，或是依照傳入的範圍|\n",
    "|weights|權重值，陣列形狀須與a相同|\n",
    "|density|False：回傳各bin的count<br />True：回傳各bins的probability density|<br>\n",
    "\n",
    "Ouput:hist(此範圍內個數), bin_edges(所有bin的邊界)\n",
    "\n",
    "下面的例子是隨機產生包含 100 個 0 - 9 數字的二維陣列，計算 histogram。"
   ]
  },
  {
   "cell_type": "code",
   "execution_count": null,
   "id": "8e0faa30",
   "metadata": {},
   "outputs": [],
   "source": [
    "a = np.random.randint(0, 10, 100).reshape(10, 10)\n",
    "a"
   ]
  },
  {
   "cell_type": "code",
   "execution_count": null,
   "id": "00361560",
   "metadata": {},
   "outputs": [],
   "source": [
    "hist, bin_edges = np.histogram(a, bins=9)\n",
    "hist, bin_edges"
   ]
  },
  {
   "cell_type": "markdown",
   "id": "5fec7cbe",
   "metadata": {},
   "source": [
    "比較 `histogram()` 的結果與實際元素值的 count，下面的範例使用 `np.unique()` 來得到所有出現過的值與其 count (出現的次數)。"
   ]
  },
  {
   "cell_type": "code",
   "execution_count": null,
   "id": "62d98606",
   "metadata": {},
   "outputs": [],
   "source": [
    "unique, counts = np.unique(a, return_counts=True)"
   ]
  },
  {
   "cell_type": "code",
   "execution_count": null,
   "id": "d825b9ed",
   "metadata": {},
   "outputs": [],
   "source": [
    "unique, counts"
   ]
  },
  {
   "cell_type": "markdown",
   "id": "492e04d8",
   "metadata": {},
   "source": [
    "若使用資料視覺化進行比較並觀察其分佈，可以產出下面的圖表，其結果與上面使用 `np.histogram()` 產生的數值是完全相同的。"
   ]
  },
  {
   "cell_type": "code",
   "execution_count": null,
   "id": "c6e7d942",
   "metadata": {},
   "outputs": [],
   "source": [
    "#IPython有一組預先定義好的magic function，“%matplotlib inline”就是模仿命令行来訪問magic function在IPython中獨有的形式\n",
    "#%matplotlib inline 可以在Ipython編譯器裡直接使用，功能是可以内嵌繪圖，並且可以省略掉plt.show()这一步\n",
    "%matplotlib inline           \n",
    "import matplotlib.pyplot as plt\n",
    "\n",
    "plt.hist(a.reshape(-1), bins=9)            #要.reshape(-1)"
   ]
  },
  {
   "cell_type": "markdown",
   "id": "b3843d47",
   "metadata": {},
   "source": [
    "## 5. `digitize()`\n",
    "\n",
    "`digitize()` 是用來**將連續數值離散化**的函式，傳入陣列及 bins **(必須為一維陣列)**，得到輸入陣的各元素值是屬於哪一個 bins，並回傳對應的 bin 索引。\n",
    "\n",
    "語法如下：\n",
    "```python\n",
    "numpy.digitize(x, bins, right=False)\n",
    "```\n",
    "\n",
    "其中引數 `right` 的傳入值影響到是否包含 bin 的左或右邊界，符合下列條件則 x 屬於 $i^{th}$ bin：\n",
    "\n",
    "|bins元素排序|引數值|說明|\n",
    "|---|---|---|\n",
    "|漸增|right=False|包含左邊界但不包含右邊界<br />bins[i-1] <= x < bins[i]|\n",
    "|漸增|right=True|不包含左邊界但包含右邊界<br />bins[i-1] < x <= bins[i]|\n",
    "|漸減|right=False|包含左邊界但不包含右邊界<br />bins[i-1] > x >= bins[i]|\n",
    "|漸減|right=True|不包含左邊界但包含右邊界<br />bins[i-1] >= x > bins[i]|"
   ]
  },
  {
   "cell_type": "code",
   "execution_count": null,
   "id": "3d3793b5",
   "metadata": {},
   "outputs": [],
   "source": [
    "x = np.array([0.5, 6.2, 3.0, 1.7])\n",
    "bins = np.array([0.0, 1.0, 2.5, 4.0, 10.0])"
   ]
  },
  {
   "cell_type": "code",
   "execution_count": null,
   "id": "3a7bfe99",
   "metadata": {},
   "outputs": [],
   "source": [
    "inds = np.digitize(x, bins)   #x可以在幾個bin裡面\n",
    "inds"
   ]
  },
  {
   "cell_type": "markdown",
   "id": "3c1ea39a",
   "metadata": {},
   "source": [
    "# NumPy 運算"
   ]
  },
  {
   "cell_type": "markdown",
   "id": "9c575914",
   "metadata": {},
   "source": [
    "**陣列中的比較運算**"
   ]
  },
  {
   "cell_type": "code",
   "execution_count": 118,
   "id": "7e382bb1",
   "metadata": {},
   "outputs": [
    {
     "name": "stdout",
     "output_type": "stream",
     "text": [
      "[ True  True  True  True]\n",
      "[False False False False]\n",
      "[False False False False]\n",
      "[ True  True  True  True]\n"
     ]
    }
   ],
   "source": [
    "# 陣列中的比較運算\n",
    "\n",
    "a = np.array( [20,30,40,50] )\n",
    "b = np.arange(4)\n",
    "\n",
    "print(a > b) # [ True  True  True  True]\n",
    "print(a < b) # [False False False False]\n",
    "print(a == b) # [False False False False]\n",
    "print(a != b) # [ True  True  True  True]"
   ]
  },
  {
   "cell_type": "markdown",
   "id": "604c3af5",
   "metadata": {},
   "source": [
    "**陣列中的邏輯運算**"
   ]
  },
  {
   "cell_type": "code",
   "execution_count": 82,
   "id": "ffa03ddf",
   "metadata": {},
   "outputs": [
    {
     "ename": "ValueError",
     "evalue": "The truth value of an array with more than one element is ambiguous. Use a.any() or a.all()",
     "output_type": "error",
     "traceback": [
      "\u001b[1;31m---------------------------------------------------------------------------\u001b[0m",
      "\u001b[1;31mValueError\u001b[0m                                Traceback (most recent call last)",
      "\u001b[1;32m<ipython-input-82-55f88f2d97bb>\u001b[0m in \u001b[0;36m<module>\u001b[1;34m\u001b[0m\n\u001b[0;32m      6\u001b[0m \u001b[0mb\u001b[0m \u001b[1;33m=\u001b[0m \u001b[0mnp\u001b[0m\u001b[1;33m.\u001b[0m\u001b[0marray\u001b[0m\u001b[1;33m(\u001b[0m \u001b[1;33m[\u001b[0m\u001b[1;32mTrue\u001b[0m\u001b[1;33m,\u001b[0m \u001b[1;32mFalse\u001b[0m\u001b[1;33m,\u001b[0m \u001b[1;32mTrue\u001b[0m\u001b[1;33m,\u001b[0m \u001b[1;32mFalse\u001b[0m\u001b[1;33m]\u001b[0m  \u001b[1;33m)\u001b[0m\u001b[1;33m\u001b[0m\u001b[1;33m\u001b[0m\u001b[0m\n\u001b[0;32m      7\u001b[0m \u001b[1;33m\u001b[0m\u001b[0m\n\u001b[1;32m----> 8\u001b[1;33m \u001b[0mprint\u001b[0m\u001b[1;33m(\u001b[0m\u001b[0ma\u001b[0m \u001b[1;32mand\u001b[0m \u001b[0mb\u001b[0m\u001b[1;33m)\u001b[0m\u001b[1;33m\u001b[0m\u001b[1;33m\u001b[0m\u001b[0m\n\u001b[0m",
      "\u001b[1;31mValueError\u001b[0m: The truth value of an array with more than one element is ambiguous. Use a.any() or a.all()"
     ]
    }
   ],
   "source": [
    "# 陣列中的邏輯運算\n",
    "\n",
    "import numpy as np\n",
    "\n",
    "a = np.array( [True, True, False, False] )\n",
    "b = np.array( [True, False, True, False]  )\n",
    "\n",
    "print(a and b)\n"
   ]
  },
  {
   "cell_type": "code",
   "execution_count": 84,
   "id": "adfb97f2",
   "metadata": {},
   "outputs": [
    {
     "name": "stdout",
     "output_type": "stream",
     "text": [
      "[ True False False False]\n",
      "[ True  True  True False]\n"
     ]
    }
   ],
   "source": [
    "a = np.array( [True, True, False, False] )\n",
    "b = np.array( [True, False, True, False]  )\n",
    "\n",
    "print(a & b) # [ True False False False]\n",
    "print(a | b) # [ True  True  True False]"
   ]
  },
  {
   "cell_type": "markdown",
   "id": "ee4fbad7",
   "metadata": {},
   "source": [
    "**利用布林值作為篩選的條件：遮罩**"
   ]
  },
  {
   "cell_type": "code",
   "execution_count": 85,
   "id": "a4d72658",
   "metadata": {},
   "outputs": [
    {
     "name": "stdout",
     "output_type": "stream",
     "text": [
      "[10 20 30 40]\n",
      "[10 30]\n",
      "[]\n"
     ]
    }
   ],
   "source": [
    "# 利用布林值作為篩選的條件：遮罩\n",
    "\n",
    "import numpy as np\n",
    "\n",
    "a = np.array( [10, 20, 30, 40] )\n",
    "\n",
    "print(a[ [True, True, True, True] ])\n",
    "print(a[ [True, False, True, False] ])\n",
    "print(a[ [False, False, False, False] ])\n"
   ]
  },
  {
   "cell_type": "markdown",
   "id": "22d09baa",
   "metadata": {},
   "source": [
    "**從比較/邏輯運算到遮罩特性**"
   ]
  },
  {
   "cell_type": "code",
   "execution_count": 86,
   "id": "06b6a1ff",
   "metadata": {},
   "outputs": [
    {
     "name": "stdout",
     "output_type": "stream",
     "text": [
      "[False False  True  True]\n",
      "[30 40]\n",
      "[30 40]\n"
     ]
    }
   ],
   "source": [
    "# 從比較/邏輯運算到遮罩特性\n",
    "\n",
    "import numpy as np\n",
    "\n",
    "a = np.array( [10, 20, 30, 40] )\n",
    "\n",
    "print(a > 20)\n",
    "print(a[ [False, False, True, True] ])\n",
    "print(a[ a > 20 ])\n"
   ]
  },
  {
   "cell_type": "markdown",
   "id": "b4920c5d",
   "metadata": {},
   "source": [
    "**遮罩特性背後的強大之處**"
   ]
  },
  {
   "cell_type": "code",
   "execution_count": 90,
   "id": "ec8df226",
   "metadata": {},
   "outputs": [
    {
     "name": "stdout",
     "output_type": "stream",
     "text": [
      "[2 3]\n",
      "[2, 3]\n"
     ]
    }
   ],
   "source": [
    "# 遮罩特性背後的強大之處\n",
    "\n",
    "a = np.arange(4)\n",
    "print(a[a > 1])\n",
    "\n",
    "a = np.arange(4)\n",
    "b = []\n",
    "for i in a:\n",
    "    if i > 1:\n",
    "        b.append(i)\n",
    "print(b)"
   ]
  },
  {
   "cell_type": "markdown",
   "id": "b33b3105",
   "metadata": {},
   "source": [
    "**補充：any() 和 all()**"
   ]
  },
  {
   "cell_type": "code",
   "execution_count": 88,
   "id": "bd9a2029",
   "metadata": {},
   "outputs": [
    {
     "name": "stdout",
     "output_type": "stream",
     "text": [
      "True\n",
      "True\n",
      "False\n"
     ]
    }
   ],
   "source": [
    "# 補充：any() 和 all()\n",
    "\n",
    "print(np.any([True, True, True]))\n",
    "print(np.any([True, False, False]))\n",
    "print(np.any([False, False, False]))"
   ]
  },
  {
   "cell_type": "code",
   "execution_count": 89,
   "id": "7d4bdb5c",
   "metadata": {},
   "outputs": [
    {
     "name": "stdout",
     "output_type": "stream",
     "text": [
      "True\n",
      "False\n",
      "False\n"
     ]
    }
   ],
   "source": [
    "\n",
    "print(np.all([True, True, True]))\n",
    "print(np.all([True, False, False]))\n",
    "print(np.all([False, False, False]))"
   ]
  },
  {
   "cell_type": "code",
   "execution_count": null,
   "id": "65a896cf",
   "metadata": {},
   "outputs": [],
   "source": []
  }
 ],
 "metadata": {
  "kernelspec": {
   "display_name": "Python 3",
   "language": "python",
   "name": "python3"
  },
  "language_info": {
   "codemirror_mode": {
    "name": "ipython",
    "version": 3
   },
   "file_extension": ".py",
   "mimetype": "text/x-python",
   "name": "python",
   "nbconvert_exporter": "python",
   "pygments_lexer": "ipython3",
   "version": "3.6.13"
  }
 },
 "nbformat": 4,
 "nbformat_minor": 5
}
