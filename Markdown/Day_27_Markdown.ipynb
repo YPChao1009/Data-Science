{
 "cells": [
  {
   "cell_type": "markdown",
   "id": "9ae5646d",
   "metadata": {},
   "source": [
    "# 運用python 裡面的套件\n",
    "\n",
    "* 如何模擬這些分布的樣本點\n",
    "* 進行一些機率的運算\n",
    "\n",
    "包含以下離散型分布        \n",
    "\n",
    "1. 離散均勻分布( Discrete Uniform Distribution ) : `stats.randint`     \n",
    "2. 伯努利分布( Bernoulli Distribution ) : `stats.bernoulli`    \n",
    "3. 二項分布(Binomial Distribution) : `stats.binom`   \n",
    "\n",
    "https://www.stat.nuk.edu.tw/cbme/math/statistic/sta2/s2_2/bud.html\n"
   ]
  },
  {
   "cell_type": "code",
   "execution_count": 65,
   "id": "c405ec94",
   "metadata": {},
   "outputs": [],
   "source": [
    "# library\n",
    "import matplotlib.pyplot as plt\n",
    "import numpy as np\n",
    "import pandas as pd\n",
    "from scipy import stats\n",
    "import math\n",
    "import statistics"
   ]
  },
  {
   "cell_type": "markdown",
   "id": "d9fab426",
   "metadata": {},
   "source": [
    "### 1. 離散均勻分布( Discrete Uniform Distribution )\n",
    "\n",
    "其中有限個數值擁有相同的機率。離散型均匀分佈的另一種說法為**「有限個結果，各結果的機率均相同」**\n",
    "\n",
    "例子 :\n",
    "\n",
    "均勻的骰子就是離散型均勻分布的例子，可能的值為1, 2, 3, 4, 5, 6，而每一個數字的機率都是1/6\n",
    "\n",
    "但若同時丟二個均勻骰子，將其值相加，就不是離散型均勻分布了，因為各個和的機率不同\n",
    "\n",
    "https://zh.wikipedia.org/zh-tw/%E9%9B%A2%E6%95%A3%E5%9E%8B%E5%9D%87%E5%8B%BB%E5%88%86%E4%BD%88\n",
    "\n",
    "\n",
    "- 機率質量函數（Probability Mass Function，PMF）又稱為離散密度函數 :\n",
    "\n",
    "  是離散隨機變數在各特定取值上的機率\n",
    "\n",
    "  Probability Mass Function (PMF):<br>\n",
    "  `stats.randint.pmf()`<br>\n",
    "\n",
    "\n",
    "- 累積分布函數（Cumulative Distribution Function，CDF）又叫分布函數 :\n",
    "\n",
    "  是機率密度函數的積分，能完整描述一個實隨機變量X的機率分佈，**PMF 的累加**\n",
    "\n",
    "  Cumulative Distribution Function(CDF):<br>\n",
    "  `stats.randint.cdf()`<br>\n",
    "  \n",
    "\n",
    "- 百分位函數（Percent Point Function，PPF) \n",
    "\n",
    "  累積分佈函數(cumulative density function, CDF)的反函數<br>\n",
    "  https://flag-editors.medium.com/%E6%A9%9F%E5%99%A8%E5%AD%B8%E7%BF%92%E5%8B%95%E6%89%8B%E5%81%9Alesson-3-%E5%88%A9%E7%94%A8quantile-transform%E8%AE%93%E8%B3%87%E6%96%99%E5%88%86%E5%B8%83%E8%B6%A8%E8%BF%91%E6%96%BC%E5%B8%B8%E6%85%8B%E5%88%86%E5%B8%83-cb9eb793e013\n",
    "  \n",
    "  Percent Point Function(PPF):<br>\n",
    "  `stats.randint.ppf()`\n",
    "\n",
    "https://docs.scipy.org/doc/scipy/reference/generated/scipy.stats.randint.html<br>\n",
    "\n",
    "**平均數、變異數、偏度和峰度**\n",
    "\n",
    "`mean, var, skew, kurt = randint.stats(low, high, moments='mvsk')`\n",
    "\n",
    "https://blog.csdn.net/dkkfff/article/details/115912758\n",
    "\n",
    "理論上而言，只要偏態或峰態的數值不等於0，即是偏離常態的分配，<br>\n",
    "但現實生活中蒐集到的資料，不太可能呈現完美的常態分配，因此何種程度的偏態或峰態才屬於實質上偏離常態呢？<br>\n",
    "對於**偏態**而言，**大於0表示正偏態，小於0表示負偏態**；<br>\n",
    "對於**峰態**而言，**大於0代表高狹峰，小於0代表低闊峰**。<br>\n",
    "\n",
    "https://drfishstats.com/descriptive-stats/skewness-kurtosis/\n",
    "\n",
    "\n",
    "\n",
    "**機率質量函數通常是定義離散機率分布的主要方法**，並且此類函數存在於其定義域是離散的純量變數或多元隨機變數。\n",
    "\n",
    "\n",
    "* 機率質量函數和機率密度函數的一個不同之處在於：<br>\n",
    "  機率質量函數是對**離散**隨機變數定義的，**本身代表該值的機率**<br>\n",
    "  機率密度函數本身不是機率，只有對**連續**隨機變數的機率密度函數必須**在某一個區間內被積分**後才能產生出機率\n",
    "  \n",
    "  "
   ]
  },
  {
   "cell_type": "markdown",
   "id": "8ed1200b",
   "metadata": {},
   "source": [
    "**計算離散均勻分布的概率質量分佈 (probability mass function)**"
   ]
  },
  {
   "cell_type": "code",
   "execution_count": 66,
   "id": "24ec7f0b",
   "metadata": {},
   "outputs": [
    {
     "name": "stdout",
     "output_type": "stream",
     "text": [
      "[1 2 3 4 5 6]\n",
      "[0.16666667 0.16666667 0.16666667 0.16666667 0.16666667 0.16666667]\n"
     ]
    },
    {
     "data": {
      "image/png": "[encoded data removed]",
      "text/plain": [
       "<Figure size 432x288 with 1 Axes>"
      ]
     },
     "metadata": {
      "needs_background": "light"
     },
     "output_type": "display_data"
    }
   ],
   "source": [
    "'''\n",
    "# 離散均勻分布 (Discrete Uniform Distribution)\n",
    "# 前提：其中有限個數值擁有相同的機率。\n",
    "'''\n",
    "# 1.定義離散均勻分布的基本資訊\n",
    "\n",
    "low=1 \n",
    "high=7\n",
    "r = np.arange(low,high)\n",
    "# 2.計算離散均勻分布的概率質量分佈 (probability mass function)\n",
    "# 之所以稱為質量，是因為離散的點\n",
    "# 產生 x 軸的點\n",
    "#r = np.arange(stats.randint.ppf(0.01, low, high),\n",
    "#              stats.randint.ppf(0.99, low, high),1)\n",
    "print(r)\n",
    "# P(X=x) --> 是機率\n",
    "probs = stats.randint.pmf(r,low,high)\n",
    "print(probs)\n",
    "plt.bar(r, probs)\n",
    "plt.ylabel('P(X=x)')\n",
    "plt.xlabel('x')\n",
    "plt.title('pmf of DU(1,6)')\n",
    "plt.show()"
   ]
  },
  {
   "cell_type": "markdown",
   "id": "448d9678",
   "metadata": {},
   "source": [
    "**計算離散均勻分布的累積機率 (cumulative density function)，pmf 的累加**"
   ]
  },
  {
   "cell_type": "code",
   "execution_count": 67,
   "id": "cc43dbd9",
   "metadata": {},
   "outputs": [
    {
     "data": {
      "image/png": "[encoded data removed]",
      "text/plain": [
       "<Figure size 432x288 with 1 Axes>"
      ]
     },
     "metadata": {
      "needs_background": "light"
     },
     "output_type": "display_data"
    }
   ],
   "source": [
    "# 3.計算離散均勻分布的累積機率 (cumulative density function)，pmf 的累加\n",
    "# P(X=x) --> 是機率\n",
    "cumsum_probs = stats.randint.cdf(r, low,high)\n",
    "plt.ylabel('P(X<=x)')\n",
    "plt.xlabel('x')\n",
    "plt.title(' cdf of DU(1,6)')\n",
    "plt.plot(r, cumsum_probs)\n",
    "plt.show()"
   ]
  },
  {
   "cell_type": "markdown",
   "id": "c01442ad",
   "metadata": {},
   "source": [
    "**百分位函數（Percent Point Function，PPF)** \n",
    "\n",
    "累積分佈函數(cumulative density function, CDF)的反函數\n",
    "\n",
    "透過 cdf ，給定一個 機率值，反推出對應到的 x"
   ]
  },
  {
   "cell_type": "code",
   "execution_count": 68,
   "id": "0f24fa0e",
   "metadata": {},
   "outputs": [
    {
     "name": "stdout",
     "output_type": "stream",
     "text": [
      "[1. 2. 3. 4. 5. 6.]\n"
     ]
    }
   ],
   "source": [
    "# 4.透過 cdf ，給定一個 機率值，反推出對應到的 x\n",
    "k = stats.randint.ppf(cumsum_probs , low, high)\n",
    "print(k)\n",
    "#看上圖看結果"
   ]
  },
  {
   "cell_type": "markdown",
   "id": "d9957a9a",
   "metadata": {},
   "source": [
    "**產生符合隨機樣本點 (random sample)**\n",
    "\n",
    "`stats.randint.rvs()`"
   ]
  },
  {
   "cell_type": "code",
   "execution_count": 69,
   "id": "2a0cd9ea",
   "metadata": {},
   "outputs": [
    {
     "name": "stdout",
     "output_type": "stream",
     "text": [
      "[6 4 1 4 5 4 6 3 5 2 1 3 6 6 1 1 5 6 5 1]\n"
     ]
    },
    {
     "data": {
      "image/png": "[encoded data removed]",
      "text/plain": [
       "<Figure size 432x288 with 1 Axes>"
      ]
     },
     "metadata": {
      "needs_background": "light"
     },
     "output_type": "display_data"
    }
   ],
   "source": [
    "# 5.產生符合隨機樣本點 (random sample)\n",
    "X = stats.randint.rvs(low,high,size=20)\n",
    "print(X)\n",
    "plt.hist(X,bins=13)\n",
    "plt.show()\n",
    "#試試看，，每一次的結果一樣嗎?"
   ]
  },
  {
   "cell_type": "markdown",
   "id": "0c20bab1",
   "metadata": {},
   "source": [
    "**計算固定參數下，隨機變數的平均數、變異數、偏度和峰度**\n",
    "\n",
    "`mean, var, skew, kurt = randint.stats(low, high, moments='mvsk')`"
   ]
  },
  {
   "cell_type": "code",
   "execution_count": 70,
   "id": "b1eae74c",
   "metadata": {},
   "outputs": [
    {
     "name": "stdout",
     "output_type": "stream",
     "text": [
      "(array(3.5), array(2.91666667), array(0.), array(-1.26857143))\n",
      "<class 'tuple'>\n",
      "randint mean= 3.5\n",
      "randint variance= 2.9166666666666665\n",
      "randint kurtosis= 0.0\n",
      "randint skew= -1.2685714285714285\n"
     ]
    }
   ],
   "source": [
    "#6.計算固定參數下，隨機變數的平均數、變異數、偏度和峰度。\n",
    "stat_randint=stats.randint.stats(low,high,moments='mvks')\n",
    "print(stat_randint)\n",
    "print(type(stat_randint))\n",
    "print(\"randint mean=\",float(stat_randint[0]))\n",
    "print(\"randint variance=\",float(stat_randint[1]))\n",
    "print(\"randint kurtosis=\",float(stat_randint[2]))\n",
    "print(\"randint skew=\",float(stat_randint[3]))"
   ]
  },
  {
   "cell_type": "markdown",
   "id": "52a82f78",
   "metadata": {},
   "source": [
    "### 2. 伯努利分布( Bernoulli Distribution )\n",
    "\n",
    "又名兩點分布或者0-1分布\n",
    "\n",
    "是只有兩種可能結果（成功或失敗）的單次隨機試驗<br>\n",
    "若伯努利試驗成功，則伯努利隨機變數取值為1。若伯努利試驗失敗，則伯努利隨機變數取值為0<br>\n",
    "成功機率 : p (0 $\\leq$ p $\\leq$ 1)<br>\n",
    "失敗機率 : q = 1 - p\n",
    "\n",
    "\n",
    "- 機率質量函數（Probability Mass Function，PMF）:\n",
    "\n",
    "  是離散隨機變數在各特定取值上的機率\n",
    "\n",
    "  Probability Mass Function (PMF):<br>\n",
    "  `stats.bernoulli.pmf(r,p)`<br>\n",
    "\n",
    "\n",
    "- 累積分布函數（Cumulative Distribution Function，CDF）又叫分布函數 :\n",
    "\n",
    "  是機率密度函數的積分，能完整描述一個實隨機變量X的機率分佈，**PMF 的累加**\n",
    "\n",
    "  Cumulative Distribution Function(CDF):<br>\n",
    "  `stats.bernoulli.cdf(r,p)`<br>\n",
    "  \n",
    "\n",
    "- 百分位函數（Percent Point Function，PPF) \n",
    "\n",
    "  累積分佈函數(cumulative density function, CDF)的反函數<br>\n",
    "  https://flag-editors.medium.com/%E6%A9%9F%E5%99%A8%E5%AD%B8%E7%BF%92%E5%8B%95%E6%89%8B%E5%81%9Alesson-3-%E5%88%A9%E7%94%A8quantile-transform%E8%AE%93%E8%B3%87%E6%96%99%E5%88%86%E5%B8%83%E8%B6%A8%E8%BF%91%E6%96%BC%E5%B8%B8%E6%85%8B%E5%88%86%E5%B8%83-cb9eb793e013\n",
    "  \n",
    "  Percent Point Function(PPF):<br>\n",
    "  `stats.bernoulli.ppf(cumsum_probs, p)`\n",
    "  \n",
    "**平均數、變異數、偏度和峰度**\n",
    "\n",
    "`mean, var, skew, kurt = stats.bernoulli.stats(p,moments='mvks')`\n",
    "\n",
    "理論上而言，只要偏態或峰態的數值不等於0，即是偏離常態的分配，<br>\n",
    "但現實生活中蒐集到的資料，不太可能呈現完美的常態分配，因此何種程度的偏態或峰態才屬於實質上偏離常態呢？<br>\n",
    "對於**偏態**而言，**大於0表示正偏態，小於0表示負偏態**；<br>\n",
    "對於**峰態**而言，**大於0代表高狹峰，小於0代表低闊峰**。<br>\n",
    "\n",
    "https://drfishstats.com/descriptive-stats/skewness-kurtosis/\n"
   ]
  },
  {
   "cell_type": "markdown",
   "id": "005c15f1",
   "metadata": {},
   "source": [
    "**計算伯努利分佈的概率質量分佈 (probability mass function)**"
   ]
  },
  {
   "cell_type": "code",
   "execution_count": 71,
   "id": "8bb9fa28",
   "metadata": {},
   "outputs": [
    {
     "data": {
      "image/png": "[encoded data removed]",
      "text/plain": [
       "<Figure size 432x288 with 1 Axes>"
      ]
     },
     "metadata": {
      "needs_background": "light"
     },
     "output_type": "display_data"
    }
   ],
   "source": [
    "'''\n",
    "# 伯努利分布( Bernoulli Distribution )\n",
    "# 前提：是只有兩種可能結果（成功或失敗）的單次隨機試驗，成功的機率為p\n",
    "'''\n",
    "# ①定義伯努利分布的基本資訊\n",
    "\n",
    "# ①定義伯努利分布基本資訊\n",
    "p = 0.4 # 事件A 機率 0.4\n",
    "r = np.arange(0,2) # 可以出現的範圍為 0、1,2種可能出現的結果\n",
    "\n",
    "# ②計算伯努利分佈的概率質量分佈 (probability mass function)\n",
    "# 之所以稱為質量，是因為離散的點\n",
    "# P(X=x) --> 是機率\n",
    "probs = stats.bernoulli.pmf(r,p)\n",
    "#array([ 0.07776, 0.2592 , 0.3456 , 0.2304 , 0.0768 , 0.01024])\n",
    "plt.bar(r, probs)\n",
    "plt.ylabel('P(X=x)')\n",
    "plt.xlabel('x')\n",
    "plt.title('Bernoulli(p=0.4)')\n",
    "plt.show()\n"
   ]
  },
  {
   "cell_type": "markdown",
   "id": "bf16f3e7",
   "metadata": {},
   "source": [
    "**計算伯努利分布的累積機率 (cumulative density function)，pmf 的累加**"
   ]
  },
  {
   "cell_type": "code",
   "execution_count": 72,
   "id": "62d386d3",
   "metadata": {},
   "outputs": [
    {
     "data": {
      "image/png": "[encoded data removed]",
      "text/plain": [
       "<Figure size 432x288 with 1 Axes>"
      ]
     },
     "metadata": {
      "needs_background": "light"
     },
     "output_type": "display_data"
    }
   ],
   "source": [
    "# ③計算伯努利分布的累積機率 (cumulative density function)，pmf 的累加\n",
    "# P(X=x) --> 是機率\n",
    "cumsum_probs = stats.bernoulli.cdf(r,p)\n",
    "plt.ylabel('P(X<=x)')\n",
    "plt.xlabel('x')\n",
    "plt.title('bernoulli(p=0.4)')\n",
    "plt.plot(r, cumsum_probs)\n",
    "plt.show()"
   ]
  },
  {
   "cell_type": "markdown",
   "id": "35a7cd84",
   "metadata": {},
   "source": [
    "**百分位函數（Percent Point Function，PPF)** \n",
    "\n",
    "累積分佈函數(cumulative density function, CDF)的反函數\n",
    "\n",
    "透過 cdf ，給定一個 機率值，反推出對應到的 x"
   ]
  },
  {
   "cell_type": "code",
   "execution_count": 73,
   "id": "7a3ed2a8",
   "metadata": {},
   "outputs": [
    {
     "name": "stdout",
     "output_type": "stream",
     "text": [
      "[0. 1.]\n"
     ]
    }
   ],
   "source": [
    "# ④ 透過 cdf ，給定一個 機率值，反推出對應到的 x\n",
    "p_loc = stats.bernoulli.ppf(cumsum_probs, p)\n",
    "print(p_loc)\n",
    "#看上圖看結果"
   ]
  },
  {
   "cell_type": "markdown",
   "id": "a4cddedd",
   "metadata": {},
   "source": [
    "**產生符合隨機樣本點 (random sample)**\n",
    "\n",
    "`stats.bernoulli.rvs()`"
   ]
  },
  {
   "cell_type": "code",
   "execution_count": 74,
   "id": "17ec69a5",
   "metadata": {},
   "outputs": [
    {
     "name": "stdout",
     "output_type": "stream",
     "text": [
      "[0 1 0 0 0 0 0 0 0 0 0 1 0 1 0 0 0 1 1 0]\n"
     ]
    },
    {
     "data": {
      "image/png": "[encoded data removed]",
      "text/plain": [
       "<Figure size 432x288 with 1 Axes>"
      ]
     },
     "metadata": {
      "needs_background": "light"
     },
     "output_type": "display_data"
    }
   ],
   "source": [
    "# ⑤產生符合伯努利分布的隨機樣本點 (random sample)\n",
    "X = stats.bernoulli.rvs(p,size=20)\n",
    "print(X)\n",
    "plt.hist(X)\n",
    "plt.show()\n"
   ]
  },
  {
   "cell_type": "markdown",
   "id": "5b214600",
   "metadata": {},
   "source": [
    "**計算固定參數下，隨機變數的平均數、變異數、偏度和峰度**\n",
    "\n",
    "`mean, var, skew, kurt = stats.bernoulli.stats(p,moments='mvks')`"
   ]
  },
  {
   "cell_type": "code",
   "execution_count": 75,
   "id": "129ae706",
   "metadata": {},
   "outputs": [
    {
     "name": "stdout",
     "output_type": "stream",
     "text": [
      "(array(0.4), array(0.24), array(0.40824829), array(-1.83333333))\n",
      "<class 'tuple'>\n",
      "bernoulli mean= 0.4\n",
      "bernoulli variance= 0.24\n",
      "bernoulli kurtosis= 0.40824829046386296\n",
      "bernoulli skew= -1.8333333333333337\n"
     ]
    }
   ],
   "source": [
    "#6.計算固定參數下，隨機變數的平均數、變異數、偏度和峰度。\n",
    "stat_ber=stats.bernoulli.stats(p,moments='mvks')\n",
    "print(stat_ber)\n",
    "print(type(stat_ber))\n",
    "#E(X)\n",
    "print(\"bernoulli mean=\",float(stat_ber[0]))\n",
    "print(\"bernoulli variance=\",float(stat_ber[1]))\n",
    "print(\"bernoulli kurtosis=\",float(stat_ber[2]))\n",
    "print(\"bernoulli skew=\",float(stat_ber[3]))"
   ]
  },
  {
   "cell_type": "markdown",
   "id": "3a384c1b",
   "metadata": {},
   "source": [
    "### 3. 二項分布(Binomial Distribution)\n",
    "\n",
    "**二項分布即重複n次獨立的伯努利試驗**\n",
    "\n",
    "是n個獨立的是/非試驗中成功的次數的離散機率分布，其中每次試驗的成功機率為p\n",
    "\n",
    "這樣的單次成功/失敗試驗又稱為伯努利試驗。實際上，當 n = 1 時，二項式分布就是伯努利分布\n",
    "\n",
    "\n",
    "- 機率質量函數（Probability Mass Function，PMF）:\n",
    "\n",
    "  是離散隨機變數在各特定取值上的機率\n",
    "\n",
    "  Probability Mass Function (PMF):<br>\n",
    "  `stats.binom.pmf(r, n, p)`                    #重複實驗n次<br>\n",
    "\n",
    "\n",
    "- 累積分布函數（Cumulative Distribution Function，CDF）又叫分布函數 :\n",
    "\n",
    "  是機率密度函數的積分，能完整描述一個實隨機變量X的機率分佈，**PMF 的累加**\n",
    "\n",
    "  Cumulative Distribution Function(CDF):<br>\n",
    "  `stats.binom.cdf(r, n, p)`<br>\n",
    "  \n",
    "\n",
    "- 百分位函數（Percent Point Function，PPF) \n",
    "\n",
    "  累積分佈函數(cumulative density function, CDF)的反函數<br>\n",
    "  https://flag-editors.medium.com/%E6%A9%9F%E5%99%A8%E5%AD%B8%E7%BF%92%E5%8B%95%E6%89%8B%E5%81%9Alesson-3-%E5%88%A9%E7%94%A8quantile-transform%E8%AE%93%E8%B3%87%E6%96%99%E5%88%86%E5%B8%83%E8%B6%A8%E8%BF%91%E6%96%BC%E5%B8%B8%E6%85%8B%E5%88%86%E5%B8%83-cb9eb793e013\n",
    "  \n",
    "  Percent Point Function(PPF):<br>\n",
    "  `stats.binom.ppf(cumsum_probs, n, p)`\n",
    "  \n",
    "**平均數、變異數、偏度和峰度**\n",
    "\n",
    "`mean, var, skew, kurt = mean, var, skew, kurt = stats.binom.stats(n,p,moments='mvks')`\n",
    "\n",
    "理論上而言，只要偏態或峰態的數值不等於0，即是偏離常態的分配，<br>\n",
    "但現實生活中蒐集到的資料，不太可能呈現完美的常態分配，因此何種程度的偏態或峰態才屬於實質上偏離常態呢？<br>\n",
    "對於**偏態**而言，**大於0表示正偏態，小於0表示負偏態**；<br>\n",
    "對於**峰態**而言，**大於0代表高狹峰，小於0代表低闊峰**。<br>\n",
    "\n",
    "https://drfishstats.com/descriptive-stats/skewness-kurtosis/\n",
    "\n"
   ]
  },
  {
   "cell_type": "code",
   "execution_count": 76,
   "id": "081762fe",
   "metadata": {},
   "outputs": [
    {
     "data": {
      "image/png": "[encoded data removed]",
      "text/plain": [
       "<Figure size 432x288 with 1 Axes>"
      ]
     },
     "metadata": {
      "needs_background": "light"
     },
     "output_type": "display_data"
    }
   ],
   "source": [
    "'''\n",
    "# 二項分布 (binomial distribution)\n",
    "# 前提：獨立重複試驗、有放回、只有兩個結果\n",
    "# 二項分布指出，隨機一次試驗出現事件A的機率如果為p，那麼在重複 n 次試驗中出現 x 次事件A的機率為：\n",
    "# f(n,x,p) = choose(n, x) * p**x * (1-p)**(n-x)\n",
    "'''\n",
    "# 1.定義二項分佈的基本資訊\n",
    "p = 0.5 # 事件A 機率 0.4\n",
    "n = 5  # 重複實驗5次,\n",
    "r = np.arange(0,6) # 可以出現的範圍為 0,1,2,...,5-->6種可能出現的結果\n",
    "#print(type(k))\n",
    "\n",
    "# 2.計算二項分佈的概率質量分佈 (probability mass function)\n",
    "# 之所以稱為質量，是因為離散的點\n",
    "# P(X=x) --> 是機率\n",
    "probs = stats.binom.pmf(r, n, p)\n",
    "#array([ 0.07776, 0.2592 , 0.3456 , 0.2304 , 0.0768 , 0.01024])\n",
    "plt.bar(r, probs)\n",
    "plt.ylabel('P(X=x)')\n",
    "plt.xlabel('x')\n",
    "plt.title('binomial(n=5,p=0.5)')\n",
    "plt.show()\n",
    "\n",
    "#學生額外小練習: 可以調整 p 的不同值，p接近於1 時，p=0.5, p 接近於 0時，看 pmf 的變化。"
   ]
  },
  {
   "cell_type": "markdown",
   "id": "37876941",
   "metadata": {},
   "source": [
    "**p = 0**"
   ]
  },
  {
   "cell_type": "code",
   "execution_count": 77,
   "id": "dd5bbade",
   "metadata": {},
   "outputs": [
    {
     "data": {
      "image/png": "[encoded data removed]",
      "text/plain": [
       "<Figure size 432x288 with 1 Axes>"
      ]
     },
     "metadata": {
      "needs_background": "light"
     },
     "output_type": "display_data"
    }
   ],
   "source": [
    "'''\n",
    "# 二項分布 (binomial distribution)\n",
    "# 前提：獨立重複試驗、有放回、只有兩個結果\n",
    "# 二項分布指出，隨機一次試驗出現事件A的機率如果為p，那麼在重複 n 次試驗中出現 x 次事件A的機率為：\n",
    "# f(n,x,p) = choose(n, x) * p**x * (1-p)**(n-x)\n",
    "'''\n",
    "# 1.定義二項分佈的基本資訊\n",
    "p = 0 # 事件A 機率 0.4\n",
    "n = 5  # 重複實驗5次,\n",
    "r = np.arange(0,6) # 可以出現的範圍為 0,1,2,...,5-->6種可能出現的結果\n",
    "#print(type(k))\n",
    "\n",
    "# 2.計算二項分佈的概率質量分佈 (probability mass function)\n",
    "# 之所以稱為質量，是因為離散的點\n",
    "# P(X=x) --> 是機率\n",
    "probs = stats.binom.pmf(r, n, p)\n",
    "#array([ 0.07776, 0.2592 , 0.3456 , 0.2304 , 0.0768 , 0.01024])\n",
    "plt.bar(r, probs)\n",
    "plt.ylabel('P(X=x)')\n",
    "plt.xlabel('x')\n",
    "plt.title('binomial(n=5,p=0.5)')\n",
    "plt.show()\n",
    "\n",
    "#學生額外小練習: 可以調整 p 的不同值，p接近於1 時，p=0.5, p 接近於 0時，看 pmf 的變化。"
   ]
  },
  {
   "cell_type": "markdown",
   "id": "589a8732",
   "metadata": {},
   "source": [
    "**p = 0.5**"
   ]
  },
  {
   "cell_type": "code",
   "execution_count": 78,
   "id": "bfba64ef",
   "metadata": {},
   "outputs": [
    {
     "data": {
      "image/png": "[encoded data removed]",
      "text/plain": [
       "<Figure size 432x288 with 1 Axes>"
      ]
     },
     "metadata": {
      "needs_background": "light"
     },
     "output_type": "display_data"
    }
   ],
   "source": [
    "'''\n",
    "# 二項分布 (binomial distribution)\n",
    "# 前提：獨立重複試驗、有放回、只有兩個結果\n",
    "# 二項分布指出，隨機一次試驗出現事件A的機率如果為p，那麼在重複 n 次試驗中出現 x 次事件A的機率為：\n",
    "# f(n,x,p) = choose(n, x) * p**x * (1-p)**(n-x)\n",
    "'''\n",
    "# 1.定義二項分佈的基本資訊\n",
    "p = 0.5 # 事件A 機率 0.4\n",
    "n = 5  # 重複實驗5次,\n",
    "r = np.arange(0,6) # 可以出現的範圍為 0,1,2,...,5-->6種可能出現的結果\n",
    "#print(type(k))\n",
    "\n",
    "# 2.計算二項分佈的概率質量分佈 (probability mass function)\n",
    "# 之所以稱為質量，是因為離散的點\n",
    "# P(X=x) --> 是機率\n",
    "probs = stats.binom.pmf(r, n, p)\n",
    "#array([ 0.07776, 0.2592 , 0.3456 , 0.2304 , 0.0768 , 0.01024])\n",
    "plt.bar(r, probs)\n",
    "plt.ylabel('P(X=x)')\n",
    "plt.xlabel('x')\n",
    "plt.title('binomial(n=5,p=0.5)')\n",
    "plt.show()\n",
    "\n",
    "#學生額外小練習: 可以調整 p 的不同值，p接近於1 時，p=0.5, p 接近於 0時，看 pmf 的變化。"
   ]
  },
  {
   "cell_type": "markdown",
   "id": "867f1cba",
   "metadata": {},
   "source": [
    "**p = 1**"
   ]
  },
  {
   "cell_type": "code",
   "execution_count": 79,
   "id": "b75d0da1",
   "metadata": {},
   "outputs": [
    {
     "data": {
      "image/png": "[encoded data removed]",
      "text/plain": [
       "<Figure size 432x288 with 1 Axes>"
      ]
     },
     "metadata": {
      "needs_background": "light"
     },
     "output_type": "display_data"
    }
   ],
   "source": [
    "'''\n",
    "# 二項分布 (binomial distribution)\n",
    "# 前提：獨立重複試驗、有放回、只有兩個結果\n",
    "# 二項分布指出，隨機一次試驗出現事件A的機率如果為p，那麼在重複 n 次試驗中出現 x 次事件A的機率為：\n",
    "# f(n,x,p) = choose(n, x) * p**x * (1-p)**(n-x)\n",
    "'''\n",
    "# 1.定義二項分佈的基本資訊\n",
    "p = 1 # 事件A 機率 0.4\n",
    "n = 5  # 重複實驗5次,\n",
    "r = np.arange(0,6) # 可以出現的範圍為 0,1,2,...,5-->6種可能出現的結果\n",
    "#print(type(k))\n",
    "\n",
    "# 2.計算二項分佈的概率質量分佈 (probability mass function)\n",
    "# 之所以稱為質量，是因為離散的點\n",
    "# P(X=x) --> 是機率\n",
    "probs = stats.binom.pmf(r, n, p)\n",
    "#array([ 0.07776, 0.2592 , 0.3456 , 0.2304 , 0.0768 , 0.01024])\n",
    "plt.bar(r, probs)\n",
    "plt.ylabel('P(X=x)')\n",
    "plt.xlabel('x')\n",
    "plt.title('binomial(n=5,p=0.5)')\n",
    "plt.show()\n",
    "\n",
    "#學生額外小練習: 可以調整 p 的不同值，p接近於1 時，p=0.5, p 接近於 0時，看 pmf 的變化。"
   ]
  },
  {
   "cell_type": "code",
   "execution_count": 80,
   "id": "04590045",
   "metadata": {},
   "outputs": [
    {
     "data": {
      "image/png": "[encoded data removed]",
      "text/plain": [
       "<Figure size 432x288 with 1 Axes>"
      ]
     },
     "metadata": {
      "needs_background": "light"
     },
     "output_type": "display_data"
    }
   ],
   "source": [
    "'''\n",
    "# 二項分布 (binomial distribution)\n",
    "# 前提：獨立重複試驗、有放回、只有兩個結果\n",
    "# 二項分布指出，隨機一次試驗出現事件A的機率如果為p，那麼在重複 n 次試驗中出現 x 次事件A的機率為：\n",
    "# f(n,x,p) = choose(n, x) * p**x * (1-p)**(n-x)\n",
    "'''\n",
    "# 1.定義二項分佈的基本資訊\n",
    "p = 0.5 # 事件A 機率 0.4\n",
    "n = 5  # 重複實驗5次,\n",
    "r = np.arange(0,6) # 可以出現的範圍為 0,1,2,...,5-->6種可能出現的結果\n",
    "#print(type(k))\n",
    "\n",
    "# 2.計算二項分佈的概率質量分佈 (probability mass function)\n",
    "# 之所以稱為質量，是因為離散的點\n",
    "# P(X=x) --> 是機率\n",
    "probs = stats.binom.pmf(r, n, p)\n",
    "#array([ 0.07776, 0.2592 , 0.3456 , 0.2304 , 0.0768 , 0.01024])\n",
    "plt.bar(r, probs)\n",
    "plt.ylabel('P(X=x)')\n",
    "plt.xlabel('x')\n",
    "plt.title('binomial(n=5,p=0.5)')\n",
    "plt.show()\n",
    "\n",
    "#學生額外小練習: 可以調整 p 的不同值，p接近於1 時，p=0.5, p 接近於 0時，看 pmf 的變化。"
   ]
  },
  {
   "cell_type": "markdown",
   "id": "450c82fb",
   "metadata": {},
   "source": [
    "**計算二項分佈的累積機率 (cumulative density function)，pmf 的累加**"
   ]
  },
  {
   "cell_type": "code",
   "execution_count": 81,
   "id": "de8b52fe",
   "metadata": {},
   "outputs": [
    {
     "data": {
      "image/png": "[encoded data removed]",
      "text/plain": [
       "<Figure size 432x288 with 1 Axes>"
      ]
     },
     "metadata": {
      "needs_background": "light"
     },
     "output_type": "display_data"
    }
   ],
   "source": [
    "# 3.計算二項分佈的累積機率 (cumulative density function)，pmf 的累加\n",
    "# 之所以稱為質量，是因為離散的點，預設體積（即寬度）為1\n",
    "# P(X=x) --> 是機率\n",
    "cumsum_probs = stats.binom.cdf(r, n, p)\n",
    "#array([ 0.07776, 0.2592 , 0.3456 , 0.2304 , 0.0768 , 0.01024])\n",
    "plt.show()\n",
    "plt.ylabel('P(X<=x)')\n",
    "plt.xlabel('x')\n",
    "plt.title('binomial(n=5,p=0.4)')\n",
    "plt.plot(r, cumsum_probs)\n",
    "plt.show()"
   ]
  },
  {
   "cell_type": "markdown",
   "id": "651f8133",
   "metadata": {},
   "source": [
    "**百分位函數（Percent Point Function，PPF)** \n",
    "\n",
    "累積分佈函數(cumulative density function, CDF)的反函數\n",
    "\n",
    "透過 cdf ，給定一個 機率值，反推出對應到的 x"
   ]
  },
  {
   "cell_type": "code",
   "execution_count": 82,
   "id": "fd9a8fc9",
   "metadata": {},
   "outputs": [
    {
     "name": "stdout",
     "output_type": "stream",
     "text": [
      "[0. 1. 2. 3. 4. 5.]\n"
     ]
    }
   ],
   "source": [
    "# 4.透過 cdf ，給定一個 機率值，反推出對應到的 x\n",
    "p_loc= stats.binom.ppf(cumsum_probs, n, p)\n",
    "print(p_loc)\n",
    "#看上圖看結果"
   ]
  },
  {
   "cell_type": "markdown",
   "id": "e49e55f9",
   "metadata": {},
   "source": [
    "**產生符合隨機樣本點 (random sample)**\n",
    "\n",
    "`stats.binom.rvs()`"
   ]
  },
  {
   "cell_type": "code",
   "execution_count": 83,
   "id": "40bcec6d",
   "metadata": {},
   "outputs": [
    {
     "name": "stdout",
     "output_type": "stream",
     "text": [
      "[2 3 3 3 1 1 4 3 2 2 2 4 2 1 4 5 2 3 3 3]\n"
     ]
    },
    {
     "data": {
      "image/png": "[encoded data removed]",
      "text/plain": [
       "<Figure size 432x288 with 1 Axes>"
      ]
     },
     "metadata": {
      "needs_background": "light"
     },
     "output_type": "display_data"
    }
   ],
   "source": [
    "# 5.產生符合二項分佈的隨機樣本點 (random sample)\n",
    "X = stats.binom.rvs(n,p,size=20)\n",
    "#array([2, 3, 1, 2, 2, 2, 1, 2, 2, 3, 3, 0, 1, 1, 1, 2, 3, 4, 0, 3])\n",
    "print(X)\n",
    "plt.hist(X)\n",
    "plt.show()\n",
    "#試試看，，每一次的結果一樣嗎?"
   ]
  },
  {
   "cell_type": "markdown",
   "id": "add63487",
   "metadata": {},
   "source": [
    "**計算固定參數下，隨機變數的平均數、變異數、偏度和峰度**\n",
    "\n",
    "`mean, var, skew, kurt = stats.binom.stats(n,p,moments='mvks')`"
   ]
  },
  {
   "cell_type": "code",
   "execution_count": 84,
   "id": "820b63e6",
   "metadata": {},
   "outputs": [
    {
     "name": "stdout",
     "output_type": "stream",
     "text": [
      "(array(2.5), array(1.25), array(0.), array(-0.4))\n",
      "<class 'tuple'>\n",
      "binomial mean= 2.5\n",
      "binomial variance= 1.25\n",
      "binomial kurtosis= 0.0\n",
      "binomial skew= -0.4\n"
     ]
    }
   ],
   "source": [
    "#6.計算固定參數下，隨機變數的平均數、變異數、偏度和峰度。\n",
    "stat_bin=stats.binom.stats(n,p,moments='mvks')\n",
    "print(stat_bin)\n",
    "print(type(stat_bin))\n",
    "#E(X)\n",
    "print(\"binomial mean=\",float(stat_bin[0]))\n",
    "print(\"binomial variance=\",float(stat_bin[1]))\n",
    "print(\"binomial kurtosis=\",float(stat_bin[2]))\n",
    "print(\"binomial skew=\",float(stat_bin[3]))"
   ]
  },
  {
   "cell_type": "code",
   "execution_count": null,
   "id": "2d9b8e24",
   "metadata": {},
   "outputs": [],
   "source": []
  }
 ],
 "metadata": {
  "kernelspec": {
   "display_name": "Python 3",
   "language": "python",
   "name": "python3"
  },
  "language_info": {
   "codemirror_mode": {
    "name": "ipython",
    "version": 3
   },
   "file_extension": ".py",
   "mimetype": "text/x-python",
   "name": "python",
   "nbconvert_exporter": "python",
   "pygments_lexer": "ipython3",
   "version": "3.6.13"
  }
 },
 "nbformat": 4,
 "nbformat_minor": 5
}
