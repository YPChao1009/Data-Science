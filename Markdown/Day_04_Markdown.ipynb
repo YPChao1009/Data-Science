{
 "cells": [
  {
   "cell_type": "markdown",
   "id": "353bea82",
   "metadata": {},
   "source": [
    "# 範例目標:\n",
    "\n",
    "1. 陣列內容 (Array contents)<br>\n",
    "   - nan判斷：`isnan()`\n",
    "   - 有限數 (finite number)判斷：`isfinite()`\n",
    "   - 無限數判斷：`isinf()`、`isposinf()`、`isneginf()`\n",
    "   - 時間(nat(NaT) = not a time)判斷：`isnat()`<br>\n",
    "   \n",
    "\n",
    "2. 陣列型別偵測 (Array type testing)<br>\n",
    "   - `isscalar()` (傳入值須為**元素**)<br>\n",
    "   - 實數複數判斷：`isreal()`、`iscomplex()`、`isrealobj()`、`iscomplexobj（）`<br>\n",
    "     - 判斷整個**陣列物件**是否為實數或是複數物件\n",
    "   \n",
    "   \n",
    "   \n",
    "3. 比較 (Comparison)<br>\n",
    "   - 2 個陣列是否相同：`np.array_equal()`、`np.array_equiv()`<br>\n",
    "   - 等於/不等於、大於/大於或等於、小於/小於或等於\n",
    "\n",
    "|函式|說明|\n",
    "|---|---|\n",
    "|np.equal()|等於|\n",
    "|np.not_equal()|不等於|\n",
    "|np.greater()|大於|\n",
    "|np.greater_equal()|大於或等於|\n",
    "|np.less()|小於|\n",
    "|np.less_equal()|小於或等於|\n",
    "\n",
    "4. 邏輯操作 (Logical operations)\n",
    "\n",
    "   邏輯比較函式都是 element-wise，比較 2 個陣列元素。如果 2 個陣列的形狀不同的話，必須符合廣播 (broadcasting) 規則。\n",
    "\n",
    "|Logical operation|函式|\n",
    "|---|---|\n",
    "|AND|np.logical_and()|\n",
    "|OR|np.logical_or()|\n",
    "|NOT|np.logical_not()|\n",
    "|XOR|np.logical_xor()|\n",
    "\n",
    "5. Truth 值測試 (Truth value testing)\n",
    "   - `np.all()` 是 AND 邏輯的比較<br>\n",
    "   - `np.any()` 是 OR 邏輯的比較\n",
    "\n",
    "# 範例重點:\n",
    "1. 在此介紹的函數應注意是否為 element-wise 的比較邏輯，因不同邏輯產生的輸出會不相同<br>\n",
    "\n",
    "\n",
    "2. np.inf 表示**無限數**，np.nan表示 **Not a Number**<br>\n",
    "\n",
    "\n",
    "3. 廣播 (broadcasting) 規則:<br>\n",
    "\n",
    "   對兩個數組，分別比較他們的每一個維度（若其中一個數組沒有當前維度則忽略），滿足：\n",
    "\n",
    "   - 數組擁有相同形狀。\n",
    "   - 當前維度的值相等。\n",
    "   - **當前維度的值有一個是 1。**\n",
    "   \n",
    "   \n",
    "# [教學目標]\n",
    "\n",
    "* 正確的使用 NumPy 中的算術運算\n",
    "* 了解 NumPy 陣列與數學矩陣的關係\n",
    "* 知道 NumPy 與 SciPy 差異為何<br>\n",
    " - 相同大小的陣列運算\n",
    " - 常數與陣列運算\n",
    " - 不同大小的陣列運算\n",
    " - 陣列運算與容器運算的差異\n",
    " - 用於陣列的矩陣運算\n",
    " - 轉置矩陣\n",
    " - 逆矩陣\n",
    " - 矩陣對角線和\n",
    " - 解線性矩陣方程式\n",
    " - 內積"
   ]
  },
  {
   "cell_type": "code",
   "execution_count": 1,
   "id": "6ffc33d7",
   "metadata": {},
   "outputs": [],
   "source": [
    "import numpy as np"
   ]
  },
  {
   "cell_type": "markdown",
   "id": "fb9f8c63",
   "metadata": {},
   "source": [
    "## 1. 陣列內容"
   ]
  },
  {
   "cell_type": "markdown",
   "id": "51b51578",
   "metadata": {},
   "source": [
    "## 1.1 `isnan()`\n",
    "\n",
    "呼叫 `isnan()` 函式判斷陣列元素是否為 nan，如果是的話回傳 True，否則回傳 False。\n",
    "\n",
    "`numpy.nan` 與 `numpy.NAN` 都是 NumPy 常數，代表 Not a Number (在官方文件中建議統一使用小寫的 `nan`)。"
   ]
  },
  {
   "cell_type": "code",
   "execution_count": 2,
   "id": "300515fb",
   "metadata": {},
   "outputs": [
    {
     "data": {
      "text/plain": [
       "array([False,  True, False])"
      ]
     },
     "execution_count": 2,
     "metadata": {},
     "output_type": "execute_result"
    }
   ],
   "source": [
    "np.isnan(np.array([1.0, np.nan, 3.0]))"
   ]
  },
  {
   "cell_type": "markdown",
   "id": "fc9f3ad5",
   "metadata": {},
   "source": [
    "### 1.2 `isfinite()`\n",
    "\n",
    "判斷陣列元素是否為有限數 (finite number)，如果是的話回傳 True，如果元素值為正無限數、負無限數、或是 nan 則回傳 False。"
   ]
  },
  {
   "cell_type": "code",
   "execution_count": 3,
   "id": "f718ec62",
   "metadata": {},
   "outputs": [
    {
     "data": {
      "text/plain": [
       "True"
      ]
     },
     "execution_count": 3,
     "metadata": {},
     "output_type": "execute_result"
    }
   ],
   "source": [
    "np.isfinite(1.0)"
   ]
  },
  {
   "cell_type": "code",
   "execution_count": 4,
   "id": "61937c0d",
   "metadata": {},
   "outputs": [
    {
     "data": {
      "text/plain": [
       "False"
      ]
     },
     "execution_count": 4,
     "metadata": {},
     "output_type": "execute_result"
    }
   ],
   "source": [
    "np.isfinite(np.nan)"
   ]
  },
  {
   "cell_type": "markdown",
   "id": "d2aa727b",
   "metadata": {},
   "source": [
    "## 1.3 `isinf()`、`isposinf()`、`isneginf()`\n",
    "\n",
    "判別元素是否為無限數。\n",
    "\n",
    "|函式|說明|\n",
    "|---|---|\n",
    "|isinf()|判斷陣列元素是否為正無限數或負無限數|\n",
    "|isposinf()|判斷陣列元素是否為正無限數|\n",
    "|isneginf()|判斷陣列元素是否為負無限數|\n",
    "<br>\n",
    "\n",
    "在下列範例中我們會用到 NumPy 內建常數 (Constants) 來示範，無限數相關的常數如下表：\n",
    "\n",
    "|常數|說明|別名|\n",
    "|---|---|---|\n",
    "|np.inf|正無限數| np.Inf, np.Infinity, np.PINF, np.infty|\n",
    "|np.Inf|正無限數||\n",
    "|np.Infinity|正無限數||\n",
    "|np.PINF|正無限數||\n",
    "|np.infty|正無限數||\n",
    "|np.NINF|負無限數||\n",
    "\n",
    "\n",
    "NumPy 文件建議正無限數使用 `np.inf` (小寫)。"
   ]
  },
  {
   "cell_type": "code",
   "execution_count": 5,
   "id": "62d8f244",
   "metadata": {},
   "outputs": [
    {
     "data": {
      "text/plain": [
       "array([ True,  True, False, False,  True])"
      ]
     },
     "execution_count": 5,
     "metadata": {},
     "output_type": "execute_result"
    }
   ],
   "source": [
    "np.isinf([np.inf, -np.inf, 1.0, np.nan, np.PINF])"
   ]
  },
  {
   "cell_type": "code",
   "execution_count": 6,
   "id": "b263b51f",
   "metadata": {},
   "outputs": [
    {
     "data": {
      "text/plain": [
       "True"
      ]
     },
     "execution_count": 6,
     "metadata": {},
     "output_type": "execute_result"
    }
   ],
   "source": [
    "np.isposinf(np.PINF)"
   ]
  },
  {
   "cell_type": "code",
   "execution_count": 7,
   "id": "0638cc56",
   "metadata": {},
   "outputs": [
    {
     "data": {
      "text/plain": [
       "(True, False)"
      ]
     },
     "execution_count": 7,
     "metadata": {},
     "output_type": "execute_result"
    }
   ],
   "source": [
    "np.isneginf(np.NINF), np.isneginf(np.nan)"
   ]
  },
  {
   "cell_type": "markdown",
   "id": "5f0efee4",
   "metadata": {},
   "source": [
    "## 1.4 `isnat()`\n",
    "\n",
    "`isnat()` 的 nat (NaT) 是 **not a time** 的意思，用來判別陣列元素是否為日期時間。若非日期時間 (包括 datetime 或 timedelta) 的話回傳 True，若是的話則回傳 False。"
   ]
  },
  {
   "cell_type": "code",
   "execution_count": 8,
   "id": "1d9ac9c5",
   "metadata": {},
   "outputs": [
    {
     "data": {
      "text/plain": [
       "array([ True, False])"
      ]
     },
     "execution_count": 8,
     "metadata": {},
     "output_type": "execute_result"
    }
   ],
   "source": [
    "np.isnat(np.array([\"NaT\", \"2020-06-26\"], dtype=\"datetime64[ns]\"))"
   ]
  },
  {
   "cell_type": "markdown",
   "id": "35a3afdc",
   "metadata": {},
   "source": [
    "## 2. 陣列型別偵測"
   ]
  },
  {
   "cell_type": "markdown",
   "id": "f98cdfa9",
   "metadata": {},
   "source": [
    "## 2.1 `isscalar()`\n",
    "\n",
    "如果陣列元素為純量或是數字物件 (例如實數、複數、有理數) 、內建常數、字串的話，`isscalar()` 回傳 True 。<br>\n",
    "\n",
    "需要留意的是 `isscalar()` 不是 element - wise 的，所以傳入值須為**元素**。\n",
    "\n",
    "數字物件的詳細說明，參照 [PEP 3141](https://www.python.org/dev/peps/pep-3141/)。\n",
    "\n",
    "如果傳傳整個陣列的話，會回傳 False。\n",
    "\n",
    "傳入 0 維陣列的話，仍然會回傳 False。"
   ]
  },
  {
   "cell_type": "code",
   "execution_count": 9,
   "id": "5ae1843a",
   "metadata": {},
   "outputs": [],
   "source": [
    "a = np.array([1, 2, 3])"
   ]
  },
  {
   "cell_type": "code",
   "execution_count": 10,
   "id": "84717580",
   "metadata": {},
   "outputs": [
    {
     "data": {
      "text/plain": [
       "False"
      ]
     },
     "execution_count": 10,
     "metadata": {},
     "output_type": "execute_result"
    }
   ],
   "source": [
    "np.isscalar(a)"
   ]
  },
  {
   "cell_type": "code",
   "execution_count": 11,
   "id": "547de1c9",
   "metadata": {},
   "outputs": [
    {
     "data": {
      "text/plain": [
       "False"
      ]
     },
     "execution_count": 11,
     "metadata": {},
     "output_type": "execute_result"
    }
   ],
   "source": [
    "np.isscalar(np.array(3.0))"
   ]
  },
  {
   "cell_type": "markdown",
   "id": "7972d4eb",
   "metadata": {},
   "source": [
    "傳入內建常數 `np.pi`，回傳 True。"
   ]
  },
  {
   "cell_type": "code",
   "execution_count": 12,
   "id": "09ca8219",
   "metadata": {},
   "outputs": [
    {
     "data": {
      "text/plain": [
       "True"
      ]
     },
     "execution_count": 12,
     "metadata": {},
     "output_type": "execute_result"
    }
   ],
   "source": [
    "np.isscalar(np.pi)"
   ]
  },
  {
   "cell_type": "markdown",
   "id": "3a5e5082",
   "metadata": {},
   "source": [
    "## 2.2 `isreal()`、`iscomplex()`、`isrealobj()`、`iscomplexobj（）`\n",
    "\n",
    "判斷輸入的陣列元素為實數 (`isreal()`) 或是複數 (`iscomplex()`)。\n",
    "\n",
    "與上面 2 個函式類似的 `isrealobj()`、`iscomplexobj（）`，不同之處在於是判斷整個**陣列物件**是否為實數或是複數物件。"
   ]
  },
  {
   "cell_type": "code",
   "execution_count": 13,
   "id": "e2f08d3b",
   "metadata": {},
   "outputs": [],
   "source": [
    "# 包含實數與複數的陣列\n",
    "b = np.array([1+1j, 1+0j, 4.5, 3, 2, 2j])"
   ]
  },
  {
   "cell_type": "code",
   "execution_count": 14,
   "id": "461fbc7c",
   "metadata": {},
   "outputs": [
    {
     "data": {
      "text/plain": [
       "array([False,  True,  True,  True,  True, False])"
      ]
     },
     "execution_count": 14,
     "metadata": {},
     "output_type": "execute_result"
    }
   ],
   "source": [
    "np.isreal(b)"
   ]
  },
  {
   "cell_type": "code",
   "execution_count": 15,
   "id": "5d5f4d0f",
   "metadata": {},
   "outputs": [
    {
     "data": {
      "text/plain": [
       "array([ True, False, False, False, False,  True])"
      ]
     },
     "execution_count": 15,
     "metadata": {},
     "output_type": "execute_result"
    }
   ],
   "source": [
    "np.iscomplex(b)"
   ]
  },
  {
   "cell_type": "code",
   "execution_count": 16,
   "id": "3c330eb8",
   "metadata": {},
   "outputs": [
    {
     "data": {
      "text/plain": [
       "False"
      ]
     },
     "execution_count": 16,
     "metadata": {},
     "output_type": "execute_result"
    }
   ],
   "source": [
    "# 陣列中有複數，所以回傳 False\n",
    "np.isrealobj(b)"
   ]
  },
  {
   "cell_type": "code",
   "execution_count": 17,
   "id": "ca6a6be7",
   "metadata": {},
   "outputs": [
    {
     "data": {
      "text/plain": [
       "True"
      ]
     },
     "execution_count": 17,
     "metadata": {},
     "output_type": "execute_result"
    }
   ],
   "source": [
    "np.iscomplexobj(b)"
   ]
  },
  {
   "cell_type": "code",
   "execution_count": 18,
   "id": "665f7fbd",
   "metadata": {},
   "outputs": [
    {
     "data": {
      "text/plain": [
       "True"
      ]
     },
     "execution_count": 18,
     "metadata": {},
     "output_type": "execute_result"
    }
   ],
   "source": [
    "# 陣列中全部是實數\n",
    "np.isrealobj(np.array([1, 2.0, 3.1]))"
   ]
  },
  {
   "cell_type": "markdown",
   "id": "cf01c3cd",
   "metadata": {},
   "source": [
    "## 3. 比較"
   ]
  },
  {
   "cell_type": "markdown",
   "id": "89a5e29e",
   "metadata": {},
   "source": [
    "## 3.1 比較 2 個陣列是否相同：`np.array_equal()`、`np.array_equiv()`\n",
    "\n",
    "|函式|說明|\n",
    "|---|---|\n",
    "|np.array_equal()|若兩個陣列形狀與元素值均相同，回傳 True|\n",
    "|np.array_equiv()|兩個陣列形狀元素值均相同，回傳 True；<br />如果兩個陣列維度不同的話，須符合廣播規則，且元素值均相同，則回傳 True|\n",
    "\n",
    "兩個函式不同之處在於 `array_equal()` 需要**形狀完全一樣且元素值皆相同才為 True**。"
   ]
  },
  {
   "cell_type": "code",
   "execution_count": 19,
   "id": "c5ad52ea",
   "metadata": {},
   "outputs": [
    {
     "data": {
      "text/plain": [
       "True"
      ]
     },
     "execution_count": 19,
     "metadata": {},
     "output_type": "execute_result"
    }
   ],
   "source": [
    "#array_equal()形狀完全一樣且元素值皆相同\n",
    "np.array_equal(np.array([1, 2, 3]), np.array([1, 2, 3]))"
   ]
  },
  {
   "cell_type": "code",
   "execution_count": 20,
   "id": "f26e8cb6",
   "metadata": {},
   "outputs": [
    {
     "data": {
      "text/plain": [
       "True"
      ]
     },
     "execution_count": 20,
     "metadata": {},
     "output_type": "execute_result"
    }
   ],
   "source": [
    "np.array_equiv(np.array([1, 2, 3]), np.array([[1, 2, 3], [1, 2, 3]]))"
   ]
  },
  {
   "cell_type": "code",
   "execution_count": 21,
   "id": "799e9a57",
   "metadata": {},
   "outputs": [
    {
     "data": {
      "text/plain": [
       "True"
      ]
     },
     "execution_count": 21,
     "metadata": {},
     "output_type": "execute_result"
    }
   ],
   "source": [
    "np.array_equiv(np.array([1, 1, 1]), np.array([1]))"
   ]
  },
  {
   "cell_type": "markdown",
   "id": "9581c45f",
   "metadata": {},
   "source": [
    "## 3.2 比較：等於/不等於、大於/大於或等於、小於/小於或等於\n",
    "\n",
    "|函式|說明|\n",
    "|---|---|\n",
    "|np.equal()|等於|\n",
    "|np.not_equal()|不等於|\n",
    "|np.greater()|大於|\n",
    "|np.greater_equal()|大於或等於|\n",
    "|np.less()|小於|\n",
    "|np.less_equal()|小於或等於|\n",
    "\n",
    "上列的函式均可以比較兩個形狀相同的陣列，或是比較符合廣播規則的兩個陣列，若元素值相同的話就回傳 True。\n",
    "\n",
    "比較時均是 element-wise 的比較。"
   ]
  },
  {
   "cell_type": "code",
   "execution_count": 22,
   "id": "676d261f",
   "metadata": {},
   "outputs": [
    {
     "data": {
      "text/plain": [
       "array([ True,  True,  True])"
      ]
     },
     "execution_count": 22,
     "metadata": {},
     "output_type": "execute_result"
    }
   ],
   "source": [
    "# 形狀與元素值均相同\n",
    "np.equal(np.array([1, 2, 3]), np.array([1, 2, 3]))"
   ]
  },
  {
   "cell_type": "code",
   "execution_count": 23,
   "id": "5fc506ba",
   "metadata": {},
   "outputs": [
    {
     "data": {
      "text/plain": [
       "array([ True,  True,  True])"
      ]
     },
     "execution_count": 23,
     "metadata": {},
     "output_type": "execute_result"
    }
   ],
   "source": [
    "# 符合廣播規則的相等\n",
    "np.equal(np.array([1, 1, 1]), np.ones(1))"
   ]
  },
  {
   "cell_type": "code",
   "execution_count": 24,
   "id": "3f30eadb",
   "metadata": {},
   "outputs": [
    {
     "data": {
      "text/plain": [
       "array([[False,  True],\n",
       "       [False,  True]])"
      ]
     },
     "execution_count": 24,
     "metadata": {},
     "output_type": "execute_result"
    }
   ],
   "source": [
    "# 不等於的比較，符合廣播規則\n",
    "np.not_equal([1, 2], [[1, 3],[1, 4]])"
   ]
  },
  {
   "cell_type": "markdown",
   "id": "cbe0dc85",
   "metadata": {},
   "source": [
    "## 4. 邏輯操作\n",
    "\n",
    "邏輯比較函式都是 element-wise，比較 2 個陣列元素。如果 2 個陣列的形狀不同的話，必須符合廣播 (broadcasting) 規則。\n",
    "\n",
    "|Logical operation|函式|\n",
    "|---|---|\n",
    "|AND|np.logical_and()|\n",
    "|OR|np.logical_or()|\n",
    "|NOT|np.logical_not()|\n",
    "|XOR|np.logical_xor()|"
   ]
  },
  {
   "cell_type": "code",
   "execution_count": 25,
   "id": "9d44a122",
   "metadata": {},
   "outputs": [],
   "source": [
    "x = np.array([True, True, False, False])\n",
    "y = np.array([True, False, True, False])"
   ]
  },
  {
   "cell_type": "code",
   "execution_count": 26,
   "id": "1fa733b1",
   "metadata": {},
   "outputs": [
    {
     "data": {
      "text/plain": [
       "array([ True, False, False, False])"
      ]
     },
     "execution_count": 26,
     "metadata": {},
     "output_type": "execute_result"
    }
   ],
   "source": [
    "np.logical_and(x, y)"
   ]
  },
  {
   "cell_type": "code",
   "execution_count": 27,
   "id": "773c9782",
   "metadata": {},
   "outputs": [
    {
     "data": {
      "text/plain": [
       "array([ True,  True,  True, False])"
      ]
     },
     "execution_count": 27,
     "metadata": {},
     "output_type": "execute_result"
    }
   ],
   "source": [
    "np.logical_or(x, y)"
   ]
  },
  {
   "cell_type": "code",
   "execution_count": 28,
   "id": "57745b5a",
   "metadata": {},
   "outputs": [
    {
     "data": {
      "text/plain": [
       "array([False, False,  True,  True])"
      ]
     },
     "execution_count": 28,
     "metadata": {},
     "output_type": "execute_result"
    }
   ],
   "source": [
    "np.logical_not(x)"
   ]
  },
  {
   "cell_type": "code",
   "execution_count": 29,
   "id": "5648c509",
   "metadata": {},
   "outputs": [
    {
     "data": {
      "text/plain": [
       "array([False,  True,  True, False])"
      ]
     },
     "execution_count": 29,
     "metadata": {},
     "output_type": "execute_result"
    }
   ],
   "source": [
    "np.logical_xor(x, y)"
   ]
  },
  {
   "cell_type": "markdown",
   "id": "9f4cf6dd",
   "metadata": {},
   "source": [
    "## 5. `np.all()`、`np.any()`\n",
    "\n",
    "針對軸 (axis) 進行比較，兩個函式不同的地方在於:\n",
    "\n",
    "`np.all()` 是 AND 邏輯的比較，<br>\n",
    "`np.any()` 是 OR 邏輯的比較。\n",
    "\n",
    "以下的值均認定為非 0，也就是屬於 True：True、NaN、正無限值、負無限值"
   ]
  },
  {
   "cell_type": "code",
   "execution_count": 30,
   "id": "cfc0c982",
   "metadata": {},
   "outputs": [
    {
     "data": {
      "text/plain": [
       "True"
      ]
     },
     "execution_count": 30,
     "metadata": {},
     "output_type": "execute_result"
    }
   ],
   "source": [
    "np.all([-1, np.nan, 5])"
   ]
  },
  {
   "cell_type": "code",
   "execution_count": 31,
   "id": "27737204",
   "metadata": {},
   "outputs": [
    {
     "data": {
      "text/plain": [
       "False"
      ]
     },
     "execution_count": 31,
     "metadata": {},
     "output_type": "execute_result"
    }
   ],
   "source": [
    "np.all([-1, 4, 0])"
   ]
  },
  {
   "cell_type": "code",
   "execution_count": 32,
   "id": "13987470",
   "metadata": {},
   "outputs": [
    {
     "data": {
      "text/plain": [
       "True"
      ]
     },
     "execution_count": 32,
     "metadata": {},
     "output_type": "execute_result"
    }
   ],
   "source": [
    "np.any([[True, False], [True, True]])"
   ]
  },
  {
   "cell_type": "code",
   "execution_count": 33,
   "id": "f52d9076",
   "metadata": {},
   "outputs": [
    {
     "data": {
      "text/plain": [
       "array([ True, False])"
      ]
     },
     "execution_count": 33,
     "metadata": {},
     "output_type": "execute_result"
    }
   ],
   "source": [
    "np.any([[True, False], [False, False]], axis=0)"
   ]
  },
  {
   "cell_type": "markdown",
   "id": "d3b1dd52",
   "metadata": {},
   "source": [
    "# NumPy 運算"
   ]
  },
  {
   "cell_type": "markdown",
   "id": "b3ee9714",
   "metadata": {},
   "source": [
    "**相同大小的陣列運算**"
   ]
  },
  {
   "cell_type": "code",
   "execution_count": 34,
   "id": "4dc288c5",
   "metadata": {},
   "outputs": [
    {
     "name": "stdout",
     "output_type": "stream",
     "text": [
      "[20 31 42 53]\n",
      "[  0  30  80 150]\n"
     ]
    }
   ],
   "source": [
    "# 相同大小的陣列運算\n",
    "\n",
    "import numpy as np\n",
    "\n",
    "a = np.array( [20,30,40,50] )\n",
    "b = np.arange( 4 )\n",
    "\n",
    "print(a + b)\n",
    "print(a * b)"
   ]
  },
  {
   "cell_type": "markdown",
   "id": "a58ab8e3",
   "metadata": {},
   "source": [
    "**常數與陣列運算**"
   ]
  },
  {
   "cell_type": "code",
   "execution_count": 35,
   "id": "aa125329",
   "metadata": {},
   "outputs": [
    {
     "name": "stdout",
     "output_type": "stream",
     "text": [
      "[18 28 38 48]\n",
      "[2. 3. 4. 5.]\n"
     ]
    }
   ],
   "source": [
    "# 常數與陣列運算\n",
    "\n",
    "import numpy as np\n",
    "\n",
    "a = np.array( [20,30,40,50] )\n",
    "\n",
    "print(a - 2)\n",
    "print(a / 10)"
   ]
  },
  {
   "cell_type": "markdown",
   "id": "446d1b21",
   "metadata": {},
   "source": [
    "**不同大小的陣列運算**"
   ]
  },
  {
   "cell_type": "code",
   "execution_count": 36,
   "id": "bf0a61bc",
   "metadata": {},
   "outputs": [
    {
     "name": "stdout",
     "output_type": "stream",
     "text": [
      "[[2 3]\n",
      " [4 5]\n",
      " [6 7]]\n"
     ]
    }
   ],
   "source": [
    "# 不同大小的陣列運算\n",
    "\n",
    "import numpy as np\n",
    "\n",
    "data = np.array([[1, 2], [3, 4], [5, 6]])\n",
    "ones_row = np.array([[1, 1]])\n",
    "\n",
    "print(data + ones_row)"
   ]
  },
  {
   "cell_type": "markdown",
   "id": "8880a2f8",
   "metadata": {},
   "source": [
    "**陣列運算與容器運算的差異**"
   ]
  },
  {
   "cell_type": "code",
   "execution_count": 37,
   "id": "83e2d2ac",
   "metadata": {},
   "outputs": [
    {
     "name": "stdout",
     "output_type": "stream",
     "text": [
      "[21 31 41 51]\n",
      "[21, 31, 41, 51]\n"
     ]
    }
   ],
   "source": [
    "# 陣列運算與容器運算的差異\n",
    "\n",
    "a = np.array( [20,30,40,50] )\n",
    "print(a + 1)\n",
    "\n",
    "a = [20, 30, 40, 50]\n",
    "b = []\n",
    "for i in a:\n",
    "    b.append(i+1)\n",
    "print(b)"
   ]
  },
  {
   "cell_type": "markdown",
   "id": "6fd56ec5",
   "metadata": {},
   "source": [
    "**用於陣列的矩陣運算**"
   ]
  },
  {
   "cell_type": "code",
   "execution_count": 38,
   "id": "6cf8cbcd",
   "metadata": {},
   "outputs": [
    {
     "name": "stdout",
     "output_type": "stream",
     "text": [
      "[[1. 2.]\n",
      " [3. 4.]]\n",
      "[[5.]\n",
      " [7.]]\n"
     ]
    }
   ],
   "source": [
    "# 用於陣列的矩陣運算\n",
    "\n",
    "a = np.array([[1.0, 2.0], [3.0, 4.0]])\n",
    "print(a)\n",
    "y = np.array([[5.], [7.]])\n",
    "print(y)"
   ]
  },
  {
   "cell_type": "code",
   "execution_count": 39,
   "id": "6c7cf2bb",
   "metadata": {},
   "outputs": [
    {
     "name": "stdout",
     "output_type": "stream",
     "text": [
      "[[1. 3.]\n",
      " [2. 4.]]\n",
      "[[-2.   1. ]\n",
      " [ 1.5 -0.5]]\n",
      "5.0\n",
      "[[-3.]\n",
      " [ 4.]]\n"
     ]
    }
   ],
   "source": [
    "#轉置矩陣\n",
    "print(a.transpose())\n",
    "\n",
    "#逆矩陣\n",
    "print(np.linalg.inv(a))\n",
    "\n",
    "#矩陣對角線和\n",
    "print(np.trace(a))\n",
    "\n",
    "#解線性矩陣方程式\n",
    "print(np.linalg.solve(a, y))"
   ]
  },
  {
   "cell_type": "markdown",
   "id": "ba6036b3",
   "metadata": {},
   "source": [
    "**內積:**\n",
    "\n",
    "矩陣元素相乘（element - wise）只有numpy.multiply() 及 *。\n",
    "\n",
    "`np.multiply(A, B)` == `A * B`\n",
    "\n",
    "其他np.dot()，np.matmul()均是矩陣乘法。"
   ]
  },
  {
   "cell_type": "code",
   "execution_count": null,
   "id": "24c5331d",
   "metadata": {},
   "outputs": [],
   "source": []
  }
 ],
 "metadata": {
  "kernelspec": {
   "display_name": "Python 3",
   "language": "python",
   "name": "python3"
  },
  "language_info": {
   "codemirror_mode": {
    "name": "ipython",
    "version": 3
   },
   "file_extension": ".py",
   "mimetype": "text/x-python",
   "name": "python",
   "nbconvert_exporter": "python",
   "pygments_lexer": "ipython3",
   "version": "3.6.13"
  }
 },
 "nbformat": 4,
 "nbformat_minor": 5
}
