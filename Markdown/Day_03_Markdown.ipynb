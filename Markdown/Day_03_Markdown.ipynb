{
 "cells": [
  {
   "cell_type": "markdown",
   "id": "3c5038d1",
   "metadata": {},
   "source": [
    "# 範例重點:\n",
    "\n",
    "陣列進行 element-wise 的操作，並回傳陣列，稱為 Universal Functions (ufunc)\n",
    "\n",
    "在做四則運算時，應注意**維度需要相等**\n",
    "\n",
    "##  四則運算\n",
    "\n",
    "陣列的加減乘除四則運算，可以使用運算子 (+, -, *, /) 或是呼叫函式來進行，語法及對照如下表：\n",
    "\n",
    "|運算子|函式||\n",
    "|---|---|---|\n",
    "|a + b |np.add(a, b)|加法|\n",
    "|a - b |np.substract(a, b)|減法|\n",
    "|a * b |np.multiply(a, b)|乘法|\n",
    "|a / b |np.divide(a, b)|除法|\n",
    "|a % b |np.mod(a, b)|求餘數|\n",
    "\n",
    "以上運算子的部分，使用與 Python 相同的運算子。\n",
    "\n",
    "運算的時候，陣列的形狀 (shape) 必須相同，或是遵循廣播 (broadcastiing) 規則，才能正確進行 **element-wise 運算**。\n",
    "\n",
    "規則如下：\n",
    "- 兩個陣列形狀完全相同\n",
    "- 比較兩個陣列的維度，如果維度的形狀相同的話，可以進行廣播\n",
    "- 比較兩個陣列的維度，其中一個維度為1的話，可以進行廣播\n",
    "\n",
    "若是兩個陣列形狀不相同的話，遵循廣播規則，下面的例子可以正常運算。<br>\n",
    "\n",
    "\n",
    "- `sum()`\n",
    "- 次方 `np.power()`\n",
    "\n",
    "|運算子|函式|a 的 b 次方|\n",
    "|---|---|---|\n",
    "|a ** b |np.power(a, b)|$a^b$|\n",
    "\n",
    "- 平方根 `np.sqrt()`\n",
    "- 歐拉數 (Euler's number) 及指數函式 `np.exp()`\n",
    "  - NumPy 提供歐拉常數 $e$，以及指數函式 `np.exp()`，表示 $e^x$<br>\n",
    "  \n",
    "- 對數函式\n",
    "\n",
    "|函式||\n",
    "|---|---|\n",
    "|np.log(x)|底數為e|\n",
    "|np.log2(x)|底數為2|\n",
    "|np.log10(x)|底數為10|\n",
    "|np.log1p(x)|底數為e，計算log(1+x)|\n",
    "\n",
    "- 近似值\n",
    "\n",
    "|函式|常用語法|說明|\n",
    "|---|---|---|\n",
    "|round(), around()|ndarray.round(decimals=0)<br />numpy.round(a, decimals=0)<br />numpy.around(a, decimals=0)|在 Rounding 的方法部分，與 Python 同樣採用 IEEE 754 規範，<br />四捨、五取最近偶數、六入，而非我們一般講的四捨五入。<br /><br />round 與 around 用法及結果相同|\n",
    "|rint()|numpy.rint(a)|Round至最近的整數|\n",
    "|trunc()|numpy.trunc(a)|無條件捨去小數點|\n",
    "|floor()|numpy.floor(a)|向下取整數|\n",
    "|ceil()|numpy.ceil(a)|向上取整數|\n",
    "|fix()|numpy.ceil(a)|向0的方向取整數|\n",
    "\n",
    "- 取絕對值：`np.abs()`, `np.absolute()`, `np.fabs()`<br>\n",
    "`np.abs()`==`np.absolute()` <br>\n",
    "`np.fabs()` 無法處理複數 (Complex)\n",
    "\n",
    "# [教學目標]\n",
    "\n",
    "* 能夠使用不同的方法初始化一個陣列\n",
    "* 知道固定大小對於陣列的意義\n",
    "* 了解不同的亂數陣列有什麼差異\n",
    " - 內建型態做轉換\n",
    " - 會自動轉換成範圍比較大的型態，也可以指定成想要的型態\n",
    " - 字典型態被轉成陣列不符合期待，正確的寫法應該寫**轉成有序的 List 再作轉換**\n",
    " - 從固定大小的初始值開始\n",
    " - np.zeros 和 np.empty\n",
    " - 從固定大小的序列值開始\n",
    " - 從固定大小的亂數值開始（新版）\n",
    " - 從固定大小的亂數值開始（舊版）"
   ]
  },
  {
   "cell_type": "markdown",
   "id": "b029b2cb",
   "metadata": {},
   "source": [
    "若是兩個陣列形狀不相同的話，遵循廣播規則，下面的例子可以正常運算。<br>\n",
    "雖然 c 跟 e 的形狀不同，但是從各個維度的形狀比較後發現也是符合規則，還是可以進行運算。"
   ]
  },
  {
   "cell_type": "code",
   "execution_count": 36,
   "id": "f7f077ee",
   "metadata": {},
   "outputs": [],
   "source": [
    "import numpy as np"
   ]
  },
  {
   "cell_type": "code",
   "execution_count": 37,
   "id": "c44f9876",
   "metadata": {},
   "outputs": [
    {
     "data": {
      "text/plain": [
       "array([0, 1, 2, 3, 4, 5, 6, 7, 8, 9])"
      ]
     },
     "execution_count": 37,
     "metadata": {},
     "output_type": "execute_result"
    }
   ],
   "source": [
    "c = np.arange(10)\n",
    "c"
   ]
  },
  {
   "cell_type": "code",
   "execution_count": 38,
   "id": "228add01",
   "metadata": {},
   "outputs": [
    {
     "data": {
      "text/plain": [
       "array([[5, 7, 1, 4, 2, 7, 7, 8, 5, 2],\n",
       "       [1, 2, 5, 4, 6, 1, 7, 6, 5, 8]])"
      ]
     },
     "execution_count": 38,
     "metadata": {},
     "output_type": "execute_result"
    }
   ],
   "source": [
    "e = np.random.randint(1, 10, 20).reshape(2, 10)\n",
    "e"
   ]
  },
  {
   "cell_type": "code",
   "execution_count": 39,
   "id": "ba2da1e5",
   "metadata": {},
   "outputs": [
    {
     "data": {
      "text/plain": [
       "array([[ 5,  8,  3,  7,  6, 12, 13, 15, 13, 11],\n",
       "       [ 1,  3,  7,  7, 10,  6, 13, 13, 13, 17]])"
      ]
     },
     "execution_count": 39,
     "metadata": {},
     "output_type": "execute_result"
    }
   ],
   "source": [
    "c + e"
   ]
  },
  {
   "cell_type": "markdown",
   "id": "84711326",
   "metadata": {},
   "source": [
    "##  `sum()`\n",
    "\n",
    "`sum()` 函式可以根據依指定的軸計算陣列元素值加總，基本語法如下：\n",
    "\n",
    "```python\n",
    "numpy.sum(a, axis=None, dtype=None, keepdims=<no value>)\n",
    "```"
   ]
  },
  {
   "cell_type": "markdown",
   "id": "e3abff63",
   "metadata": {},
   "source": [
    "若沒有指定軸的話，則是回傳所有元素加總值\n",
    "\n",
    "numpy.sum(a) == a.sum()"
   ]
  },
  {
   "cell_type": "markdown",
   "id": "a40d7ffa",
   "metadata": {},
   "source": [
    "## 次方 `np.power()`\n",
    "\n",
    "次方的運算，跟四則運算一樣，也要遵循上述的規則，才能成功進行運算。語法如下表：\n",
    "\n",
    "|運算子|函式|a 的 b 次方|\n",
    "|---|---|---|\n",
    "|a ** b |np.power(a, b)|$a^b$|"
   ]
  },
  {
   "cell_type": "code",
   "execution_count": 40,
   "id": "5587d420",
   "metadata": {},
   "outputs": [
    {
     "data": {
      "text/plain": [
       "8"
      ]
     },
     "execution_count": 40,
     "metadata": {},
     "output_type": "execute_result"
    }
   ],
   "source": [
    "# 與 2**3 相同\n",
    "np.power(2, 3)"
   ]
  },
  {
   "cell_type": "markdown",
   "id": "8811b045",
   "metadata": {},
   "source": [
    "## 平方根 `np.sqrt()`"
   ]
  },
  {
   "cell_type": "code",
   "execution_count": 41,
   "id": "70b24171",
   "metadata": {},
   "outputs": [
    {
     "data": {
      "text/plain": [
       "array([[0, 1, 2, 3, 4],\n",
       "       [5, 6, 7, 8, 9]])"
      ]
     },
     "execution_count": 41,
     "metadata": {},
     "output_type": "execute_result"
    }
   ],
   "source": [
    "a = np.arange(10).reshape(2, 5)\n",
    "a"
   ]
  },
  {
   "cell_type": "code",
   "execution_count": 42,
   "id": "b915eca8",
   "metadata": {},
   "outputs": [
    {
     "data": {
      "text/plain": [
       "array([[0.        , 1.        , 1.41421356, 1.73205081, 2.        ],\n",
       "       [2.23606798, 2.44948974, 2.64575131, 2.82842712, 3.        ]])"
      ]
     },
     "execution_count": 42,
     "metadata": {},
     "output_type": "execute_result"
    }
   ],
   "source": [
    "np.sqrt(a)"
   ]
  },
  {
   "cell_type": "markdown",
   "id": "0c22ddb8",
   "metadata": {},
   "source": [
    "## 歐拉數 (Euler's number) 及指數函式 `np.exp()`\n",
    "\n",
    "NumPy 提供歐拉常數 $e$，以及指數函式 `np.exp()`，表示 $e^x$。"
   ]
  },
  {
   "cell_type": "code",
   "execution_count": 43,
   "id": "4718c6cb",
   "metadata": {},
   "outputs": [
    {
     "data": {
      "text/plain": [
       "2.718281828459045"
      ]
     },
     "execution_count": 43,
     "metadata": {},
     "output_type": "execute_result"
    }
   ],
   "source": [
    "np.e"
   ]
  },
  {
   "cell_type": "code",
   "execution_count": 44,
   "id": "e4c0a474",
   "metadata": {},
   "outputs": [
    {
     "data": {
      "text/plain": [
       "array([ 1.        ,  2.71828183,  7.3890561 , 20.08553692, 54.59815003])"
      ]
     },
     "execution_count": 44,
     "metadata": {},
     "output_type": "execute_result"
    }
   ],
   "source": [
    "np.exp(np.arange(5))"
   ]
  },
  {
   "cell_type": "markdown",
   "id": "c5bb47e5",
   "metadata": {},
   "source": [
    "## 對數函式\n",
    "\n",
    "|函式||\n",
    "|---|---|\n",
    "|np.log(x)|底數為e|\n",
    "|np.log2(x)|底數為2|\n",
    "|np.log10(x)|底數為10|\n",
    "|np.log1p(x)|底數為e，計算log(1+x)|\n",
    "\n",
    "若是 log(負數) 則會產生 nan 常數，NaN / NAN / nan (not a number) "
   ]
  },
  {
   "cell_type": "code",
   "execution_count": 45,
   "id": "7a9ba5a6",
   "metadata": {},
   "outputs": [
    {
     "data": {
      "text/plain": [
       "array([0., 1., 2., 3., 4.])"
      ]
     },
     "execution_count": 45,
     "metadata": {},
     "output_type": "execute_result"
    }
   ],
   "source": [
    "# 以 np.log10() 為例\n",
    "np.log10(np.array([1, 10, 100, 1000, 10000]))"
   ]
  },
  {
   "cell_type": "markdown",
   "id": "729de639",
   "metadata": {},
   "source": [
    "若要使用其他底數，可以用下列的方法 (以底數 3 為例)。"
   ]
  },
  {
   "cell_type": "code",
   "execution_count": 46,
   "id": "85a7e1de",
   "metadata": {},
   "outputs": [
    {
     "data": {
      "text/plain": [
       "2.0"
      ]
     },
     "execution_count": 46,
     "metadata": {},
     "output_type": "execute_result"
    }
   ],
   "source": [
    "np.log(9)/np.log(3)"
   ]
  },
  {
   "cell_type": "code",
   "execution_count": 47,
   "id": "0f4bef96",
   "metadata": {},
   "outputs": [
    {
     "data": {
      "text/plain": [
       "array([       nan, 0.        , 0.69314718])"
      ]
     },
     "execution_count": 47,
     "metadata": {},
     "output_type": "execute_result"
    }
   ],
   "source": [
    "import warnings\n",
    "warnings.filterwarnings('ignore')\n",
    "np.log([-1, 1, 2])"
   ]
  },
  {
   "cell_type": "markdown",
   "id": "bc257b6f",
   "metadata": {},
   "source": [
    "##  取近似值\n",
    "\n",
    "取近似值的函式及說明如下表：\n",
    "\n",
    "|函式|常用語法|說明|\n",
    "|---|---|---|\n",
    "|round(), around()|ndarray.round(decimals=0)<br />numpy.round(a, decimals=0)<br />numpy.around(a, decimals=0)|在 Rounding 的方法部分，與 Python 同樣採用 IEEE 754 規範，<br />四捨、五取最近偶數、六入，而非我們一般講的四捨五入。<br /><br />round 與 around 用法及結果相同|\n",
    "|rint()|numpy.rint(a)|Round至最近的整數|\n",
    "|trunc()|numpy.trunc(a)|無條件捨去小數點|\n",
    "|floor()|numpy.floor(a)|向下取整數|\n",
    "|ceil()|numpy.ceil(a)|向上取整數|\n",
    "|fix()|numpy.ceil(a)|向0的方向取整數|"
   ]
  },
  {
   "cell_type": "code",
   "execution_count": 48,
   "id": "3ff3eee0",
   "metadata": {},
   "outputs": [
    {
     "data": {
      "text/plain": [
       "array([ 1.65,  1.55, -3.57,  2.  ])"
      ]
     },
     "execution_count": 48,
     "metadata": {},
     "output_type": "execute_result"
    }
   ],
   "source": [
    "a = np.array([1.65, 1.55, -3.57, 2.0])\n",
    "a"
   ]
  },
  {
   "cell_type": "code",
   "execution_count": 49,
   "id": "47e83c87",
   "metadata": {},
   "outputs": [
    {
     "data": {
      "text/plain": [
       "array([ 1.6,  1.6, -3.6,  2. ])"
      ]
     },
     "execution_count": 49,
     "metadata": {},
     "output_type": "execute_result"
    }
   ],
   "source": [
    "np.round(a, decimals=1)"
   ]
  },
  {
   "cell_type": "markdown",
   "id": "fb1c21d4",
   "metadata": {},
   "source": [
    "`np.rint(a)` 與 `np.round(a, 0)` 的結果完全相同。"
   ]
  },
  {
   "cell_type": "code",
   "execution_count": 50,
   "id": "748f84b0",
   "metadata": {},
   "outputs": [
    {
     "data": {
      "text/plain": [
       "array([ 2.,  2., -4.,  2.])"
      ]
     },
     "execution_count": 50,
     "metadata": {},
     "output_type": "execute_result"
    }
   ],
   "source": [
    "# Round至最近的整數\n",
    "np.rint(a)"
   ]
  },
  {
   "cell_type": "code",
   "execution_count": 51,
   "id": "14f19f99",
   "metadata": {},
   "outputs": [
    {
     "data": {
      "text/plain": [
       "array([ 2.,  2., -4.,  2.])"
      ]
     },
     "execution_count": 51,
     "metadata": {},
     "output_type": "execute_result"
    }
   ],
   "source": [
    "# Round至最近的整數\n",
    "np.round(a, 0)"
   ]
  },
  {
   "cell_type": "code",
   "execution_count": 52,
   "id": "ec2f7b85",
   "metadata": {},
   "outputs": [
    {
     "data": {
      "text/plain": [
       "array([ 1.,  1., -3.,  2.])"
      ]
     },
     "execution_count": 52,
     "metadata": {},
     "output_type": "execute_result"
    }
   ],
   "source": [
    "# 無條件捨去小數點\n",
    "np.trunc(a)"
   ]
  },
  {
   "cell_type": "code",
   "execution_count": 53,
   "id": "4e4bd737",
   "metadata": {},
   "outputs": [
    {
     "data": {
      "text/plain": [
       "array([ 1.,  1., -4.,  2.])"
      ]
     },
     "execution_count": 53,
     "metadata": {},
     "output_type": "execute_result"
    }
   ],
   "source": [
    "# 向下取整數\n",
    "np.floor(a)"
   ]
  },
  {
   "cell_type": "code",
   "execution_count": 54,
   "id": "5682d69e",
   "metadata": {},
   "outputs": [
    {
     "data": {
      "text/plain": [
       "array([ 2.,  2., -3.,  2.])"
      ]
     },
     "execution_count": 54,
     "metadata": {},
     "output_type": "execute_result"
    }
   ],
   "source": [
    "# 向上取整數\n",
    "np.ceil(a)"
   ]
  },
  {
   "cell_type": "code",
   "execution_count": 55,
   "id": "3b117892",
   "metadata": {},
   "outputs": [
    {
     "data": {
      "text/plain": [
       "array([ 1.,  1., -3.,  2.])"
      ]
     },
     "execution_count": 55,
     "metadata": {},
     "output_type": "execute_result"
    }
   ],
   "source": [
    "# 向0的方向取整數\n",
    "np.fix(a)"
   ]
  },
  {
   "cell_type": "markdown",
   "id": "03136ad5",
   "metadata": {},
   "source": [
    "## 取絕對值：`np.abs()`, `np.absolute()`, `np.fabs()`\n",
    "\n",
    "`np.abs()` 是 `np.absolute()` 的簡寫，兩者完全相同；`np.fabs()` 的差異在於無法處理複數 (Complex)。"
   ]
  },
  {
   "cell_type": "markdown",
   "id": "1e575335",
   "metadata": {},
   "source": [
    "如果傳入複數至 fabs() 的話則會產生錯誤。"
   ]
  },
  {
   "cell_type": "code",
   "execution_count": 56,
   "id": "7e9e3c28",
   "metadata": {},
   "outputs": [
    {
     "ename": "TypeError",
     "evalue": "ufunc 'fabs' not supported for the input types, and the inputs could not be safely coerced to any supported types according to the casting rule ''safe''",
     "output_type": "error",
     "traceback": [
      "\u001b[1;31m---------------------------------------------------------------------------\u001b[0m",
      "\u001b[1;31mTypeError\u001b[0m                                 Traceback (most recent call last)",
      "\u001b[1;32m<ipython-input-56-c5279fdbb9cd>\u001b[0m in \u001b[0;36m<module>\u001b[1;34m\u001b[0m\n\u001b[1;32m----> 1\u001b[1;33m \u001b[0mnp\u001b[0m\u001b[1;33m.\u001b[0m\u001b[0mfabs\u001b[0m\u001b[1;33m(\u001b[0m\u001b[1;36m1\u001b[0m\u001b[1;33m+\u001b[0m\u001b[1;36m2j\u001b[0m\u001b[1;33m)\u001b[0m\u001b[1;33m\u001b[0m\u001b[1;33m\u001b[0m\u001b[0m\n\u001b[0m",
      "\u001b[1;31mTypeError\u001b[0m: ufunc 'fabs' not supported for the input types, and the inputs could not be safely coerced to any supported types according to the casting rule ''safe''"
     ]
    }
   ],
   "source": [
    "np.fabs(1+2j)"
   ]
  },
  {
   "cell_type": "markdown",
   "id": "2c5bdcac",
   "metadata": {},
   "source": [
    "# NumPy 運算"
   ]
  },
  {
   "cell_type": "markdown",
   "id": "684d70a0",
   "metadata": {},
   "source": [
    "字典型態轉成有序的 List 再作轉換"
   ]
  },
  {
   "cell_type": "markdown",
   "id": "dba92120",
   "metadata": {},
   "source": [
    "**內建型態做轉換**"
   ]
  },
  {
   "cell_type": "code",
   "execution_count": 1,
   "id": "76317482",
   "metadata": {},
   "outputs": [
    {
     "data": {
      "text/plain": [
       "array([1, 2, 3])"
      ]
     },
     "execution_count": 1,
     "metadata": {},
     "output_type": "execute_result"
    }
   ],
   "source": [
    "# 內建型態做轉換\n",
    "\n",
    "import numpy as np\n",
    "\n",
    "np.array([1, 2, 3])"
   ]
  },
  {
   "cell_type": "markdown",
   "id": "f33a43ae",
   "metadata": {},
   "source": [
    "**會自動轉換成範圍比較大的型態**<br>\n",
    "**也可以指定成想要的型態**"
   ]
  },
  {
   "cell_type": "code",
   "execution_count": 2,
   "id": "112c16f9",
   "metadata": {},
   "outputs": [
    {
     "name": "stdout",
     "output_type": "stream",
     "text": [
      "[1. 2. 3.] float64\n",
      "[1.+0.j 2.+0.j 3.+0.j] complex128\n"
     ]
    }
   ],
   "source": [
    "# 會自動轉換成範圍比較大的型態：\n",
    "\n",
    "print(np.array([1, 2, 3.0]), np.array([1, 2, 3.0]).dtype)\n",
    "\n",
    "# 也可以指定成想要的型態：\n",
    "\n",
    "print(np.array([1, 2, 3], dtype=complex), np.array([1, 2, 3], dtype=complex).dtype)"
   ]
  },
  {
   "cell_type": "markdown",
   "id": "ec901acc",
   "metadata": {},
   "source": [
    "**字典型態被轉成陣列不符合期待**<br>\n",
    "**正確的寫法應該寫轉成有序的 List 再作轉換**"
   ]
  },
  {
   "cell_type": "code",
   "execution_count": null,
   "id": "60c62067",
   "metadata": {},
   "outputs": [],
   "source": [
    "# 字典型態被轉成陣列不符合期待\n",
    "\n",
    "print(np.array({0: 123, 1: 456}))\n",
    "print(np.array({0: 123, 1: 456}).size)\n",
    "\n",
    "# 正確的寫法應該寫轉成有序的 List 再作轉換\n",
    "\n",
    "print(np.array(list({0: 123, 1: 456}.items())))\n",
    "print(np.array(list({0: 123, 1: 456}.items())).size)"
   ]
  },
  {
   "cell_type": "markdown",
   "id": "1858676c",
   "metadata": {},
   "source": [
    "**從固定大小的初始值開始**"
   ]
  },
  {
   "cell_type": "code",
   "execution_count": null,
   "id": "07a62c5a",
   "metadata": {},
   "outputs": [],
   "source": [
    "# 從固定大小的初始值開始\n",
    "print(np.zeros((2, 3)))\n",
    "print(np.ones((2, 3)))\n",
    "print(np.full((2, 3), 9))"
   ]
  },
  {
   "cell_type": "markdown",
   "id": "6feac541",
   "metadata": {},
   "source": [
    "**np.zeros 和 np.empty** "
   ]
  },
  {
   "cell_type": "code",
   "execution_count": null,
   "id": "aa62cae4",
   "metadata": {},
   "outputs": [],
   "source": [
    "# np.zeros 和 np.empty \n",
    "\n",
    "print(np.zeros((2, 3)))\n",
    "print(np.empty((2, 3)))"
   ]
  },
  {
   "cell_type": "markdown",
   "id": "ba744596",
   "metadata": {},
   "source": [
    "**從固定大小的序列值開始**"
   ]
  },
  {
   "cell_type": "code",
   "execution_count": null,
   "id": "99239fca",
   "metadata": {},
   "outputs": [],
   "source": [
    "# 從固定大小的序列值開始\n",
    "\n",
    "print(np.arange( 10, 30, 5 ))\n",
    "print(np.linspace( 0, 2, 3 ))\n",
    "print(np.logspace( 0, 2, 3 ))"
   ]
  },
  {
   "cell_type": "markdown",
   "id": "62805fe4",
   "metadata": {},
   "source": [
    "**從固定大小的亂數值開始（新版）**"
   ]
  },
  {
   "cell_type": "code",
   "execution_count": null,
   "id": "b07daa53",
   "metadata": {},
   "outputs": [],
   "source": [
    "## 從固定大小的亂數值開始（新版）\n",
    "\n",
    "from numpy.random import default_rng\n",
    "rng = default_rng()\n",
    "\n",
    "normal = rng.standard_normal((3,2))\n",
    "random = rng.random((3,2))\n",
    "integers = rng.integers(0, 10, size=(3,2))\n",
    "\n",
    "print(normal)\n",
    "print(random)\n",
    "print(integers)"
   ]
  },
  {
   "cell_type": "markdown",
   "id": "46f14bfa",
   "metadata": {},
   "source": [
    "**從固定大小的亂數值開始（舊版）**"
   ]
  },
  {
   "cell_type": "code",
   "execution_count": null,
   "id": "ba503bca",
   "metadata": {},
   "outputs": [],
   "source": [
    "## 從固定大小的亂數值開始（舊版）\n",
    "\n",
    "normal = np.random.randn(2, 3)\n",
    "random = np.random.random((3,2))\n",
    "integers = np.random.randint(0, 10, size=(3,2))\n",
    "\n",
    "print(normal)\n",
    "print(random)\n",
    "print(integers)"
   ]
  },
  {
   "cell_type": "code",
   "execution_count": null,
   "id": "44f819ff",
   "metadata": {},
   "outputs": [],
   "source": []
  }
 ],
 "metadata": {
  "kernelspec": {
   "display_name": "Python 3",
   "language": "python",
   "name": "python3"
  },
  "language_info": {
   "codemirror_mode": {
    "name": "ipython",
    "version": 3
   },
   "file_extension": ".py",
   "mimetype": "text/x-python",
   "name": "python",
   "nbconvert_exporter": "python",
   "pygments_lexer": "ipython3",
   "version": "3.6.13"
  }
 },
 "nbformat": 4,
 "nbformat_minor": 5
}
