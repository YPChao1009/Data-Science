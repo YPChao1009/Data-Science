{
 "cells": [
  {
   "cell_type": "markdown",
   "id": "cd006e64",
   "metadata": {},
   "source": [
    "![Image of P1](https://raw.githubusercontent.com/tgnco1218/Data-Cleaning-and-Scraping-30Days/f46e69b1c9c73e8d0762809336d9c65e5f26b951/Day07_Pandas_Cheat_Sheet_Translation/P1.jpg)"
   ]
  },
  {
   "cell_type": "markdown",
   "id": "22edf0fc",
   "metadata": {},
   "source": [
    "https://github.com/tgnco1218/Data-Cleaning-and-Scraping-30Days/blob/master/Day07_Pandas_Cheat_Sheet_Translation/Day07%20Pandas%20skills%20Pandas%20cheat%20sheet%20.ipynb"
   ]
  },
  {
   "cell_type": "code",
   "execution_count": null,
   "id": "18853c86",
   "metadata": {},
   "outputs": [],
   "source": []
  }
 ],
 "metadata": {
  "kernelspec": {
   "display_name": "Python 3",
   "language": "python",
   "name": "python3"
  },
  "language_info": {
   "codemirror_mode": {
    "name": "ipython",
    "version": 3
   },
   "file_extension": ".py",
   "mimetype": "text/x-python",
   "name": "python",
   "nbconvert_exporter": "python",
   "pygments_lexer": "ipython3",
   "version": "3.6.13"
  }
 },
 "nbformat": 4,
 "nbformat_minor": 5
}
