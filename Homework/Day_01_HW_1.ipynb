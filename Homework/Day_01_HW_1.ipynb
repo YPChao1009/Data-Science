{
 "cells": [
  {
   "cell_type": "markdown",
   "id": "958f372b",
   "metadata": {},
   "source": [
    "# 作業目標:\n",
    "在array中，可以靈活應用索引幫助資料擷取\n",
    "\n",
    "作業重點:<br>\n",
    "陣列的索引、切片(slicing)、以及屬性，皆需要注意使用方式<br>\n",
    "陣列之中索引由0開始\n",
    "\n",
    "**Hint:<br>\n",
    "要用序列數字產生陣列元素的話，可以使用 `arange()` 函式，`arange()` 函式引數如下，其中結束值為必輸，起始值、間隔值非必輸。產生的序列數字包含起始值但不包含結束值，也就是 `[start, stop)` 的表示方式。<br><br>\n",
    "透過索引存取陣列元素或進行切片 (slicing)，可以使用索引值，或是 [start:stop:step] 語法取得範圍內的元素，要留意的是起始-結束範圍仍是 half-open 的，所以回傳的元素將不包含結束索引的元素。**\n",
    "\n",
    "\n",
    "題目:<br>\n",
    "1.生成一個等差數列，首數為0，尾數為20，公差為1的數列<br>\n",
    "2.承上題，將以上數列取出偶數<br>\n",
    "3.承1題，將數列取出3的倍數<br>"
   ]
  },
  {
   "cell_type": "markdown",
   "id": "daa64e01",
   "metadata": {},
   "source": [
    "**1.生成一個等差數列，首數為0，尾數為20，公差為1的數列<br>**"
   ]
  },
  {
   "cell_type": "code",
   "execution_count": 7,
   "id": "4e578a95",
   "metadata": {},
   "outputs": [
    {
     "name": "stdout",
     "output_type": "stream",
     "text": [
      "NumPy 版本:  1.19.2\n"
     ]
    }
   ],
   "source": [
    "import numpy as np\n",
    "print( 'NumPy 版本: ', np.__version__ )"
   ]
  },
  {
   "cell_type": "code",
   "execution_count": 19,
   "id": "a851d610",
   "metadata": {},
   "outputs": [
    {
     "data": {
      "text/plain": [
       "array([ 0,  1,  2,  3,  4,  5,  6,  7,  8,  9, 10, 11, 12, 13, 14, 15, 16,\n",
       "       17, 18, 19, 20])"
      ]
     },
     "execution_count": 19,
     "metadata": {},
     "output_type": "execute_result"
    }
   ],
   "source": [
    "Arithmetic_sequence = np.arange(0,21)                          #np.arange(0,21)==np.arange(0,21,1)\n",
    "Arithmetic_sequence\n",
    "#print('Arithmetic sequence',Arithmetic_sequence)"
   ]
  },
  {
   "cell_type": "markdown",
   "id": "2ceafcee",
   "metadata": {},
   "source": [
    "**2.承上題，將以上數列取出偶數**"
   ]
  },
  {
   "cell_type": "markdown",
   "id": "8bc62954",
   "metadata": {},
   "source": [
    "**法一**"
   ]
  },
  {
   "cell_type": "code",
   "execution_count": 21,
   "id": "80bc4aeb",
   "metadata": {},
   "outputs": [
    {
     "data": {
      "text/plain": [
       "[0, 2, 4, 6, 8, 10, 12, 14, 16, 18, 20]"
      ]
     },
     "execution_count": 21,
     "metadata": {},
     "output_type": "execute_result"
    }
   ],
   "source": [
    "Arithmetic_sequence_even = [i for i in Arithmetic_sequence if i%2==0]\n",
    "Arithmetic_sequence_even"
   ]
  },
  {
   "cell_type": "markdown",
   "id": "22024cdb",
   "metadata": {},
   "source": [
    "**法二**"
   ]
  },
  {
   "cell_type": "code",
   "execution_count": 26,
   "id": "6d5f605f",
   "metadata": {},
   "outputs": [
    {
     "data": {
      "text/plain": [
       "array([ 0,  2,  4,  6,  8, 10, 12, 14, 16, 18, 20])"
      ]
     },
     "execution_count": 26,
     "metadata": {},
     "output_type": "execute_result"
    }
   ],
   "source": [
    "Arithmetic_sequence_even = Arithmetic_sequence[::2]\n",
    "Arithmetic_sequence_even"
   ]
  },
  {
   "cell_type": "markdown",
   "id": "b0cb32d6",
   "metadata": {},
   "source": [
    "**3.承1題，將數列取出3的倍數**"
   ]
  },
  {
   "cell_type": "markdown",
   "id": "53f4743c",
   "metadata": {},
   "source": [
    "**法一**"
   ]
  },
  {
   "cell_type": "code",
   "execution_count": 30,
   "id": "8e28ac52",
   "metadata": {},
   "outputs": [
    {
     "data": {
      "text/plain": [
       "[3, 6, 9, 12, 15, 18]"
      ]
     },
     "execution_count": 30,
     "metadata": {},
     "output_type": "execute_result"
    }
   ],
   "source": [
    "Arithmetic_sequence_three = [i for i in Arithmetic_sequence if i>0 and i%3==0]\n",
    "Arithmetic_sequence_three"
   ]
  },
  {
   "cell_type": "markdown",
   "id": "7713d2de",
   "metadata": {},
   "source": [
    "**法二**"
   ]
  },
  {
   "cell_type": "code",
   "execution_count": 31,
   "id": "05f211ac",
   "metadata": {},
   "outputs": [
    {
     "data": {
      "text/plain": [
       "array([ 3,  6,  9, 12, 15, 18])"
      ]
     },
     "execution_count": 31,
     "metadata": {},
     "output_type": "execute_result"
    }
   ],
   "source": [
    "Arithmetic_sequence_three = Arithmetic_sequence[3::3]\n",
    "Arithmetic_sequence_three"
   ]
  },
  {
   "cell_type": "code",
   "execution_count": null,
   "id": "5aa1ed62",
   "metadata": {},
   "outputs": [],
   "source": []
  }
 ],
 "metadata": {
  "kernelspec": {
   "display_name": "Python 3",
   "language": "python",
   "name": "python3"
  },
  "language_info": {
   "codemirror_mode": {
    "name": "ipython",
    "version": 3
   },
   "file_extension": ".py",
   "mimetype": "text/x-python",
   "name": "python",
   "nbconvert_exporter": "python",
   "pygments_lexer": "ipython3",
   "version": "3.6.13"
  }
 },
 "nbformat": 4,
 "nbformat_minor": 5
}
