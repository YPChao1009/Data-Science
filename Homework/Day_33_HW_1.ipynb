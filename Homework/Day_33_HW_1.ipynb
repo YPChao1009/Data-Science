{
 "cells": [
  {
   "cell_type": "markdown",
   "id": "d7468202",
   "metadata": {},
   "source": [
    "# 作業:\n",
    "\n",
    "某工廠想知道兩條不同的生產線的產品不良率是否有所不同，<br>\n",
    "由兩條生產線中各抽取 300 個樣本，<br>\n",
    "第一組有  75 個不良品，第二組有 30 個不良品，<br>\n",
    "我們可以宣稱生產線所生產出的產品不良率不相同? (以 0.05 為顯著水準)?   <br>   \n",
    "\n"
   ]
  },
  {
   "cell_type": "code",
   "execution_count": 1,
   "id": "fb3e20f9",
   "metadata": {},
   "outputs": [],
   "source": [
    "# library\n",
    "import matplotlib.pyplot as plt\n",
    "import numpy as np\n",
    "import pandas as pd\n",
    "from scipy import stats\n",
    "import math\n",
    "import statistics\n",
    "import seaborn as sns"
   ]
  },
  {
   "cell_type": "code",
   "execution_count": 2,
   "id": "737991fa",
   "metadata": {},
   "outputs": [
    {
     "data": {
      "text/plain": [
       "(4.834937784152282, 1.3318728439003627e-06)"
      ]
     },
     "execution_count": 2,
     "metadata": {},
     "output_type": "execute_result"
    }
   ],
   "source": [
    "import statsmodels.stats.proportion\n",
    "A = [75,30] \n",
    "B = [300,300] \n",
    "statsmodels.stats.proportion.proportions_ztest(A, B, alternative='two-sided')"
   ]
  },
  {
   "cell_type": "markdown",
   "id": "da88a066",
   "metadata": {},
   "source": [
    "0.05 為顯著水準，拒絕 $H_{0}$ ，所以兩個產品的不良率不相同。"
   ]
  },
  {
   "cell_type": "code",
   "execution_count": null,
   "id": "ea8a3b44",
   "metadata": {},
   "outputs": [],
   "source": []
  }
 ],
 "metadata": {
  "kernelspec": {
   "display_name": "Python 3",
   "language": "python",
   "name": "python3"
  },
  "language_info": {
   "codemirror_mode": {
    "name": "ipython",
    "version": 3
   },
   "file_extension": ".py",
   "mimetype": "text/x-python",
   "name": "python",
   "nbconvert_exporter": "python",
   "pygments_lexer": "ipython3",
   "version": "3.6.13"
  }
 },
 "nbformat": 4,
 "nbformat_minor": 5
}
