{
 "cells": [
  {
   "cell_type": "markdown",
   "id": "4a78c21d",
   "metadata": {},
   "source": [
    "作業:\n",
    "\n",
    "在課堂中，檢定 $𝐻_0$: 𝜇≤0， $𝐻_1$: 𝜇>0 ，\n",
    "\n",
    "假設在 $𝐻_0$ 為真下，分配為 N(0,1)， $𝐻_1$ 為真下，分配為 N(2,1)。      \n",
    "\n",
    "假設 𝑋 ̅>1，拒絕 $𝐻_0$。         \n",
    "\n",
    "如果拒絕域改變時，𝛼 和 𝛽 會怎樣變化"
   ]
  },
  {
   "cell_type": "markdown",
   "id": "8663d32d",
   "metadata": {},
   "source": [
    "**Q1: 假設 𝑋 ̅>2，拒絕 $𝐻_0$，𝛼 會變大/變小? 𝛽 會變大/變小?**"
   ]
  },
  {
   "cell_type": "markdown",
   "id": "7dd8b548",
   "metadata": {},
   "source": [
    "𝛽會變大，𝛼會變小"
   ]
  },
  {
   "cell_type": "markdown",
   "id": "50d7cef3",
   "metadata": {},
   "source": [
    "**Q2: 假設 𝑋 ̅>0.2，拒絕 $𝐻_0$，𝛼 會變大/變小? 𝛽 會變大/變小?**"
   ]
  },
  {
   "cell_type": "markdown",
   "id": "20a2b68e",
   "metadata": {},
   "source": [
    "𝛽會變小，𝛼會變大"
   ]
  },
  {
   "cell_type": "markdown",
   "id": "c1dc849f",
   "metadata": {},
   "source": [
    "**Q3: 𝛼 和 𝛽  有關聯性?**"
   ]
  },
  {
   "cell_type": "markdown",
   "id": "a1c0ac46",
   "metadata": {},
   "source": [
    "彼此是權衡的概念，<br>\n",
    "alpha會變大，beta就會變小<br>\n",
    "alpha會變小，beta就會變大<br>"
   ]
  },
  {
   "cell_type": "code",
   "execution_count": null,
   "id": "410b228b",
   "metadata": {},
   "outputs": [],
   "source": []
  }
 ],
 "metadata": {
  "kernelspec": {
   "display_name": "Python 3",
   "language": "python",
   "name": "python3"
  },
  "language_info": {
   "codemirror_mode": {
    "name": "ipython",
    "version": 3
   },
   "file_extension": ".py",
   "mimetype": "text/x-python",
   "name": "python",
   "nbconvert_exporter": "python",
   "pygments_lexer": "ipython3",
   "version": "3.6.13"
  }
 },
 "nbformat": 4,
 "nbformat_minor": 5
}
