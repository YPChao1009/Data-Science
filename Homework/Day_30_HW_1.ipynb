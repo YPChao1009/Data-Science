{
 "cells": [
  {
   "cell_type": "markdown",
   "id": "52f87522",
   "metadata": {},
   "source": [
    " 作業:\n",
    "\n",
    "貝式定理（Bayes Theorem）<br>\n",
    "$$P(A|B)=\\frac{P(A \\cap B)}{P(B)}=\\frac{P(B|A) \\times P(A)}{P(B|A) \\times P(A) + P(B|A^c) \\times P(A^c)} $$\n",
    "\n",
    "電影院裡通常都是成對情侶一起去看，\n",
    "\n",
    "假設電影院中有100 個人裡面，有 90 名男性和 10 名女性。\n",
    "\n",
    "在這 10 名女性裡，有一半的人有長髮（5 人），另一半有短髮（5人）；\n",
    "\n",
    "在 90 名男性當中，81 個人有短髮，9個人有長髮。\n",
    "\n",
    "Q1: 所以根據這個情況條件下，你會預測照片中的長髮是男性或女性(直覺回答)?<br>\n",
    "Q2: 以上資料，計算當你看到長髮時，是女生的機率?<br>\n",
    "Q3:你的決策因為男生女生比例不同(先驗分配不同)，和投影片的結果相比，決策有沒有改變?"
   ]
  },
  {
   "cell_type": "markdown",
   "id": "0986aa7f",
   "metadata": {},
   "source": [
    "**Q1: 所以根據這個情況條件下，你會預測照片中的長髮是男性或女性(直覺回答)?**"
   ]
  },
  {
   "cell_type": "markdown",
   "id": "a5db1621",
   "metadata": {},
   "source": [
    "男生"
   ]
  },
  {
   "cell_type": "markdown",
   "id": "cc345f29",
   "metadata": {},
   "source": [
    "**Q2:以上圖資料，計算當你看到長髮時，是女生的機率?**"
   ]
  },
  {
   "cell_type": "code",
   "execution_count": 2,
   "id": "9ab4f81f",
   "metadata": {},
   "outputs": [
    {
     "name": "stdout",
     "output_type": "stream",
     "text": [
      "P(A|B) = 35.71\n"
     ]
    }
   ],
   "source": [
    "def bayes_theorem(p_a, p_b_given_a, p_b_given_not_a):\n",
    "\t# calculate P(not A)\n",
    "\tnot_a = 1 - p_a\n",
    "\t# calculate P(B)\n",
    "\tp_b = p_b_given_a * p_a + p_b_given_not_a * not_a\n",
    "\t# calculate P(A|B)\n",
    "\tp_a_given_b = (p_b_given_a * p_a) / p_b\n",
    "\treturn p_a_given_b\n",
    " \n",
    "# P(A): P(女生)\n",
    "# P(not A): P(男生)\n",
    "p_a = 0.1\n",
    "# P(B|A): P(長髮|女生)\n",
    "p_b_given_a = 0.5\n",
    "# P(B|not A): P(長髮|男生)\n",
    "p_b_given_not_a = 0.1\n",
    "# calculate P(A|B): P(女生|長髮)\n",
    "result = bayes_theorem(p_a, p_b_given_a, p_b_given_not_a)\n",
    "# summarize\n",
    "# P(女生|長髮)\n",
    "print('P(A|B) = {0}'.format(round(result * 100,2)))\n",
    "\n",
    "#所以看到長髮男生的可能性大於女生。"
   ]
  },
  {
   "cell_type": "markdown",
   "id": "99341223",
   "metadata": {},
   "source": [
    "$$P(女生|長髮)=\\frac{\\frac{5}{100}}{\\frac{14}{100}}\\approx 0.3571$$"
   ]
  },
  {
   "cell_type": "markdown",
   "id": "443e6abe",
   "metadata": {},
   "source": [
    "**Q3:你的決策因為男生女生比例不同(先驗分配不同)，和投影片的結果相比，決策有沒有改變?**"
   ]
  },
  {
   "cell_type": "markdown",
   "id": "66345240",
   "metadata": {},
   "source": [
    "透過貝式定理的運算，得出長髮男生的可能性大於女生，造成決策上的改變，\n",
    "看到先驗分布的重要性，假設錯誤，決策可能就會錯誤。"
   ]
  }
 ],
 "metadata": {
  "kernelspec": {
   "display_name": "Python 3",
   "language": "python",
   "name": "python3"
  },
  "language_info": {
   "codemirror_mode": {
    "name": "ipython",
    "version": 3
   },
   "file_extension": ".py",
   "mimetype": "text/x-python",
   "name": "python",
   "nbconvert_exporter": "python",
   "pygments_lexer": "ipython3",
   "version": "3.6.13"
  }
 },
 "nbformat": 4,
 "nbformat_minor": 5
}
