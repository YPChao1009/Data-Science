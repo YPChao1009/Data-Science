{
 "cells": [
  {
   "attachments": {},
   "cell_type": "markdown",
   "id": "14c7f4cb",
   "metadata": {},
   "source": [
    "# 作業目標:\n",
    "了解效能優化方法\n",
    "\n",
    "# 作業重點:\n",
    "優化有很多面相可以切入，目前可以先以投影片方法為主\n",
    "\n",
    "題目 : \n",
    "1. 在速度較慢的時候，可以先從哪邊開始檢查?\n",
    "2. 資料過大時應採取什麼方式讓記憶體占用量下降?\n"
   ]
  },
  {
   "cell_type": "markdown",
   "id": "037e8695",
   "metadata": {},
   "source": [
    "**1. 在速度較慢的時候，可以先從哪邊開始檢查?**"
   ]
  },
  {
   "cell_type": "markdown",
   "id": "e39fbf34",
   "metadata": {},
   "source": [
    "先檢查有沒有使用到自訂義的函數，如果有可以查詢pandas中是否有支援相關演算法，如果以上都沒辦法改善，那可以從資料讀取方式下手，將要讀取的資料改成pkl檔\n"
   ]
  },
  {
   "cell_type": "markdown",
   "id": "76ae85c7",
   "metadata": {},
   "source": [
    "**2. 資料過大時應採取什麼方式讓記憶體占用量下降?**"
   ]
  },
  {
   "cell_type": "markdown",
   "id": "54375406",
   "metadata": {},
   "source": [
    "將欄位中的型態降級\n"
   ]
  },
  {
   "cell_type": "code",
   "execution_count": null,
   "id": "f415cf14",
   "metadata": {},
   "outputs": [],
   "source": []
  }
 ],
 "metadata": {
  "kernelspec": {
   "display_name": "Python 3",
   "language": "python",
   "name": "python3"
  },
  "language_info": {
   "codemirror_mode": {
    "name": "ipython",
    "version": 3
   },
   "file_extension": ".py",
   "mimetype": "text/x-python",
   "name": "python",
   "nbconvert_exporter": "python",
   "pygments_lexer": "ipython3",
   "version": "3.6.13"
  }
 },
 "nbformat": 4,
 "nbformat_minor": 5
}
