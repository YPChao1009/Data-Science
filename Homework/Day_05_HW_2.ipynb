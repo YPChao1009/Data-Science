{
 "cells": [
  {
   "cell_type": "markdown",
   "id": "ee74754a",
   "metadata": {},
   "source": [
    "# [作業目標]\n",
    "\n",
    "1. 產生一個 1-11 的一維陣列，並且把 3-6 由正數變成負數。\n",
    "2. 試著從一個隨機陣列中，找出比 0.5 大的數有幾個？"
   ]
  },
  {
   "cell_type": "code",
   "execution_count": 23,
   "id": "91b446c7",
   "metadata": {},
   "outputs": [],
   "source": [
    "import numpy as np"
   ]
  },
  {
   "cell_type": "markdown",
   "id": "18462c54",
   "metadata": {},
   "source": [
    "**1. 產生一個 1-11 的一維陣列，並且把 3-6 由正數變成負數。**"
   ]
  },
  {
   "cell_type": "code",
   "execution_count": 24,
   "id": "ab5866a1",
   "metadata": {},
   "outputs": [
    {
     "data": {
      "text/plain": [
       "array([ 1,  2,  3,  4,  5,  6,  7,  8,  9, 10, 11])"
      ]
     },
     "execution_count": 24,
     "metadata": {},
     "output_type": "execute_result"
    }
   ],
   "source": [
    "a = np.arange(1,12)\n",
    "a"
   ]
  },
  {
   "cell_type": "code",
   "execution_count": 25,
   "id": "448c3a82",
   "metadata": {},
   "outputs": [
    {
     "data": {
      "text/plain": [
       "array([ 1,  2, -3, -4, -5, -6,  7,  8,  9, 10, 11])"
      ]
     },
     "execution_count": 25,
     "metadata": {},
     "output_type": "execute_result"
    }
   ],
   "source": [
    "a[(a>=3)&(a<=6)]*=-1\n",
    "a"
   ]
  },
  {
   "cell_type": "markdown",
   "id": "869aa9b7",
   "metadata": {},
   "source": [
    "**2. 試著從一個隨機陣列中，找出比 0.5 大的數有幾個？**"
   ]
  },
  {
   "cell_type": "code",
   "execution_count": 26,
   "id": "e52b90c6",
   "metadata": {},
   "outputs": [
    {
     "data": {
      "text/plain": [
       "array([[0.00786367, 0.75706907, 0.78319899, 0.36080159, 0.21158342,\n",
       "        0.27171877],\n",
       "       [0.29940016, 0.91252613, 0.43898867, 0.59745923, 0.35940012,\n",
       "        0.65190687],\n",
       "       [0.21256739, 0.31908086, 0.52444919, 0.58267926, 0.04125315,\n",
       "        0.47550604]])"
      ]
     },
     "execution_count": 26,
     "metadata": {},
     "output_type": "execute_result"
    }
   ],
   "source": [
    "A = np.random.rand(3, 6)\n",
    "A"
   ]
  },
  {
   "cell_type": "code",
   "execution_count": 27,
   "id": "b84c5a4c",
   "metadata": {},
   "outputs": [
    {
     "data": {
      "text/plain": [
       "array([0.75706907, 0.78319899, 0.91252613, 0.59745923, 0.65190687,\n",
       "       0.52444919, 0.58267926])"
      ]
     },
     "execution_count": 27,
     "metadata": {},
     "output_type": "execute_result"
    }
   ],
   "source": [
    "A[A>0.5]"
   ]
  },
  {
   "cell_type": "code",
   "execution_count": 28,
   "id": "0b9bec4c",
   "metadata": {},
   "outputs": [
    {
     "data": {
      "text/plain": [
       "7"
      ]
     },
     "execution_count": 28,
     "metadata": {},
     "output_type": "execute_result"
    }
   ],
   "source": [
    "A[A>0.5].size"
   ]
  },
  {
   "cell_type": "code",
   "execution_count": null,
   "id": "87f8ad94",
   "metadata": {},
   "outputs": [],
   "source": []
  }
 ],
 "metadata": {
  "kernelspec": {
   "display_name": "Python 3",
   "language": "python",
   "name": "python3"
  },
  "language_info": {
   "codemirror_mode": {
    "name": "ipython",
    "version": 3
   },
   "file_extension": ".py",
   "mimetype": "text/x-python",
   "name": "python",
   "nbconvert_exporter": "python",
   "pygments_lexer": "ipython3",
   "version": "3.6.13"
  }
 },
 "nbformat": 4,
 "nbformat_minor": 5
}
