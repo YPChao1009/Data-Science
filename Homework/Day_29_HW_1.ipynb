{
 "cells": [
  {
   "cell_type": "markdown",
   "id": "bbb57396",
   "metadata": {},
   "source": [
    "# 作業目標:\n",
    "\n",
    "讓大家熟悉連續型分布的語法，\n",
    "以及怎麼透過 python 語法進行常態分布的機率運算。\n",
    "\n",
    "Q1:計算標準常態分布，小於1的機率有多大?<br>\n",
    "Q2:計算標準常態分布，大於1，小於 -1 的機率有多大?<br>\n",
    "Q3:X~N(2,4),x 服從常態分布，平均數為2,變異數為 4，計算 X小於 6 的機率有多大?"
   ]
  },
  {
   "cell_type": "code",
   "execution_count": 13,
   "id": "c1c256cf",
   "metadata": {},
   "outputs": [],
   "source": [
    "# library\n",
    "# library\n",
    "from numpy.random import normal,uniform\n",
    "from numpy.random import seed\n",
    "import matplotlib.pyplot as plt\n",
    "import numpy as np\n",
    "import seaborn as sns\n",
    "import pandas as pd\n",
    "from scipy import stats\n",
    "import math\n",
    "import pylab\n",
    "%matplotlib inline"
   ]
  },
  {
   "cell_type": "markdown",
   "id": "f4443578",
   "metadata": {},
   "source": [
    "**常態分布**<br>\n",
    "平均值 : mu = 0<br> \n",
    "標準差 : sigma = 1   "
   ]
  },
  {
   "cell_type": "markdown",
   "id": "f925a202",
   "metadata": {},
   "source": [
    "**Q1:計算標準常態分布，小於1的機率有多大?**"
   ]
  },
  {
   "cell_type": "code",
   "execution_count": 14,
   "id": "babbba30",
   "metadata": {},
   "outputs": [
    {
     "name": "stdout",
     "output_type": "stream",
     "text": [
      "P(Z<1)= 0.8413447460685429\n"
     ]
    }
   ],
   "source": [
    "## Q1\n",
    "## 常態分布的計算\n",
    "# 計算標準常態分布記Ｘ　介於 1,-1的比例\n",
    "mu=0\n",
    "sigma=1\n",
    "b=  stats.norm.cdf(1,mu, sigma)\n",
    "print(\"P(Z<1)=\",b)"
   ]
  },
  {
   "cell_type": "markdown",
   "id": "7f97c7da",
   "metadata": {},
   "source": [
    "**Q2:計算標準常態分布，大於1，小於 -1 的機率有多大?**"
   ]
  },
  {
   "cell_type": "code",
   "execution_count": 15,
   "id": "7be4515f",
   "metadata": {},
   "outputs": [
    {
     "name": "stdout",
     "output_type": "stream",
     "text": [
      "P(Z>1 or Z<-1)= 0.31731050786291415\n"
     ]
    }
   ],
   "source": [
    "## Q2\n",
    "## 先算 p(<-1X<1)，再算  P(X>1 or X<-1)\n",
    "mu=0\n",
    "sigma=1\n",
    "b=  stats.norm.cdf(1,mu, sigma)\n",
    "a=  stats.norm.cdf(-1,mu, sigma)\n",
    "print(\"P(Z>1 or Z<-1)=\",1-(b-a))"
   ]
  },
  {
   "cell_type": "markdown",
   "id": "ee2a0d9e",
   "metadata": {},
   "source": [
    "**Q3:X~N(2,4),x 服從常態分布，平均數為2,變異數為 4，計算 X小於 6 的機率有多大?**"
   ]
  },
  {
   "cell_type": "code",
   "execution_count": 16,
   "id": "604d101d",
   "metadata": {},
   "outputs": [
    {
     "name": "stdout",
     "output_type": "stream",
     "text": [
      "P(X<6) = P(Z<2) =  0.9772498680518208\n"
     ]
    }
   ],
   "source": [
    "mu = 0     # 平均值\n",
    "sigma = 1  # 標準差\n",
    "\n",
    "prod = stats.norm.cdf( (6-2)/math.sqrt(4), mu, sigma )\n",
    "print( 'P(X<6) = P(Z<2) = ', prod )"
   ]
  },
  {
   "cell_type": "code",
   "execution_count": 17,
   "id": "297bd19c",
   "metadata": {},
   "outputs": [
    {
     "name": "stdout",
     "output_type": "stream",
     "text": [
      "P(Z<2)= 0.9772498680518208\n"
     ]
    }
   ],
   "source": [
    "## Q3\n",
    "#算法1\n",
    "mu=0\n",
    "sigma=1\n",
    "b=  stats.norm.cdf(2,mu, sigma)\n",
    "print(\"P(Z<2)=\",b)"
   ]
  },
  {
   "cell_type": "code",
   "execution_count": 18,
   "id": "81965999",
   "metadata": {},
   "outputs": [
    {
     "name": "stdout",
     "output_type": "stream",
     "text": [
      "P(X<6)= 0.9772498680518208\n"
     ]
    }
   ],
   "source": [
    "#算法2\n",
    "mu=2\n",
    "sigma=2 #( 4 要開根號)\n",
    "b= stats.norm.cdf(6,mu, sigma)\n",
    "print(\"P(X<6)=\",b)"
   ]
  }
 ],
 "metadata": {
  "kernelspec": {
   "display_name": "Python 3",
   "language": "python",
   "name": "python3"
  },
  "language_info": {
   "codemirror_mode": {
    "name": "ipython",
    "version": 3
   },
   "file_extension": ".py",
   "mimetype": "text/x-python",
   "name": "python",
   "nbconvert_exporter": "python",
   "pygments_lexer": "ipython3",
   "version": "3.6.13"
  }
 },
 "nbformat": 4,
 "nbformat_minor": 5
}
