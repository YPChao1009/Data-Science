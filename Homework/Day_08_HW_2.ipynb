{
 "cells": [
  {
   "cell_type": "markdown",
   "id": "6a84d53f",
   "metadata": {},
   "source": [
    "# [作業目標]\n",
    "\n",
    "1. [簡答題] 請問 Pandas 套件最主要的貢獻是什麼？\n",
    "\n",
    "2. 根據提供的資料集，印出他們的屬性分別為何？\n",
    "（屬性：shape、size、values、index、columns、dtypes、len）"
   ]
  },
  {
   "cell_type": "markdown",
   "id": "28f371a1",
   "metadata": {},
   "source": [
    "1. [簡答題] 請問 Pandas 套件最主要的貢獻是什麼？"
   ]
  },
  {
   "cell_type": "markdown",
   "id": "ef4598f5",
   "metadata": {},
   "source": [
    "將適用於數學的陣列型態，封裝成適合用於資料分析的型態"
   ]
  },
  {
   "cell_type": "markdown",
   "id": "a1ec74b5",
   "metadata": {},
   "source": [
    "2. 根據提供的資料集，印出他們的屬性分別為何？\n",
    "（屬性：shape、size、values、index、columns、dtypes、len）\n"
   ]
  },
  {
   "cell_type": "code",
   "execution_count": 22,
   "id": "08f1eea7",
   "metadata": {},
   "outputs": [],
   "source": [
    "import numpy as np\n",
    "import pandas as pd"
   ]
  },
  {
   "cell_type": "code",
   "execution_count": 33,
   "id": "e38b91f8",
   "metadata": {},
   "outputs": [
    {
     "data": {
      "text/html": [
       "<div>\n",
       "<style scoped>\n",
       "    .dataframe tbody tr th:only-of-type {\n",
       "        vertical-align: middle;\n",
       "    }\n",
       "\n",
       "    .dataframe tbody tr th {\n",
       "        vertical-align: top;\n",
       "    }\n",
       "\n",
       "    .dataframe thead th {\n",
       "        text-align: right;\n",
       "    }\n",
       "</style>\n",
       "<table border=\"1\" class=\"dataframe\">\n",
       "  <thead>\n",
       "    <tr style=\"text-align: right;\">\n",
       "      <th></th>\n",
       "      <th>Country</th>\n",
       "      <th>Age</th>\n",
       "      <th>Salary</th>\n",
       "      <th>Purchased</th>\n",
       "    </tr>\n",
       "  </thead>\n",
       "  <tbody>\n",
       "    <tr>\n",
       "      <th>0</th>\n",
       "      <td>France</td>\n",
       "      <td>44.0</td>\n",
       "      <td>72000.0</td>\n",
       "      <td>No</td>\n",
       "    </tr>\n",
       "    <tr>\n",
       "      <th>1</th>\n",
       "      <td>Spain</td>\n",
       "      <td>27.0</td>\n",
       "      <td>48000.0</td>\n",
       "      <td>Yes</td>\n",
       "    </tr>\n",
       "    <tr>\n",
       "      <th>2</th>\n",
       "      <td>Germany</td>\n",
       "      <td>30.0</td>\n",
       "      <td>54000.0</td>\n",
       "      <td>No</td>\n",
       "    </tr>\n",
       "    <tr>\n",
       "      <th>3</th>\n",
       "      <td>Spain</td>\n",
       "      <td>38.0</td>\n",
       "      <td>61000.0</td>\n",
       "      <td>No</td>\n",
       "    </tr>\n",
       "    <tr>\n",
       "      <th>4</th>\n",
       "      <td>Germany</td>\n",
       "      <td>40.0</td>\n",
       "      <td>NaN</td>\n",
       "      <td>Yes</td>\n",
       "    </tr>\n",
       "    <tr>\n",
       "      <th>5</th>\n",
       "      <td>France</td>\n",
       "      <td>35.0</td>\n",
       "      <td>58000.0</td>\n",
       "      <td>Yes</td>\n",
       "    </tr>\n",
       "    <tr>\n",
       "      <th>6</th>\n",
       "      <td>Spain</td>\n",
       "      <td>NaN</td>\n",
       "      <td>52000.0</td>\n",
       "      <td>No</td>\n",
       "    </tr>\n",
       "    <tr>\n",
       "      <th>7</th>\n",
       "      <td>France</td>\n",
       "      <td>48.0</td>\n",
       "      <td>79000.0</td>\n",
       "      <td>Yes</td>\n",
       "    </tr>\n",
       "    <tr>\n",
       "      <th>8</th>\n",
       "      <td>Germany</td>\n",
       "      <td>50.0</td>\n",
       "      <td>83000.0</td>\n",
       "      <td>No</td>\n",
       "    </tr>\n",
       "    <tr>\n",
       "      <th>9</th>\n",
       "      <td>France</td>\n",
       "      <td>37.0</td>\n",
       "      <td>67000.0</td>\n",
       "      <td>Yes</td>\n",
       "    </tr>\n",
       "  </tbody>\n",
       "</table>\n",
       "</div>"
      ],
      "text/plain": [
       "   Country   Age   Salary Purchased\n",
       "0   France  44.0  72000.0        No\n",
       "1    Spain  27.0  48000.0       Yes\n",
       "2  Germany  30.0  54000.0        No\n",
       "3    Spain  38.0  61000.0        No\n",
       "4  Germany  40.0      NaN       Yes\n",
       "5   France  35.0  58000.0       Yes\n",
       "6    Spain   NaN  52000.0        No\n",
       "7   France  48.0  79000.0       Yes\n",
       "8  Germany  50.0  83000.0        No\n",
       "9   France  37.0  67000.0       Yes"
      ]
     },
     "execution_count": 33,
     "metadata": {},
     "output_type": "execute_result"
    }
   ],
   "source": [
    "df = pd.read_csv('https://raw.githubusercontent.com/MachineLearningLiuMing/scikit-learn-primer-guide/master/Data.csv')\n",
    "df"
   ]
  },
  {
   "cell_type": "code",
   "execution_count": 37,
   "id": "ac86eb33",
   "metadata": {},
   "outputs": [
    {
     "name": "stdout",
     "output_type": "stream",
     "text": [
      "(10, 1)\n",
      "10\n",
      "Country    object\n",
      "dtype: object\n",
      "Index(['Country'], dtype='object')\n",
      "10\n",
      "   Country\n",
      "0   France\n",
      "1    Spain\n",
      "2  Germany\n",
      "3    Spain\n",
      "4  Germany\n",
      "5   France\n",
      "6    Spain\n",
      "7   France\n",
      "8  Germany\n",
      "9   France\n",
      "[['France']\n",
      " ['Spain']\n",
      " ['Germany']\n",
      " ['Spain']\n",
      " ['Germany']\n",
      " ['France']\n",
      " ['Spain']\n",
      " ['France']\n",
      " ['Germany']\n",
      " ['France']]\n"
     ]
    }
   ],
   "source": [
    "Country = pd.DataFrame(df['Country'])\n",
    "print(Country.shape) \n",
    "print(Country.size) \n",
    "print(Country.dtypes) \n",
    "print(Country.columns)\n",
    "print(len(Country)) \n",
    "print(Country)  \n",
    "print(Country.values)  "
   ]
  },
  {
   "cell_type": "code",
   "execution_count": 39,
   "id": "b3dcffea",
   "metadata": {},
   "outputs": [
    {
     "name": "stdout",
     "output_type": "stream",
     "text": [
      "(10,)\n",
      "10\n",
      "object\n",
      "10\n",
      "0     France\n",
      "1      Spain\n",
      "2    Germany\n",
      "3      Spain\n",
      "4    Germany\n",
      "5     France\n",
      "6      Spain\n",
      "7     France\n",
      "8    Germany\n",
      "9     France\n",
      "Name: Country, dtype: object\n",
      "['France' 'Spain' 'Germany' 'Spain' 'Germany' 'France' 'Spain' 'France'\n",
      " 'Germany' 'France']\n"
     ]
    }
   ],
   "source": [
    "Country = pd.Series(df['Country'])\n",
    "print(Country.shape) \n",
    "print(Country.size) \n",
    "print(Country.dtypes) \n",
    "print(len(Country)) \n",
    "print(Country)  \n",
    "print(Country.values)  "
   ]
  },
  {
   "cell_type": "code",
   "execution_count": 40,
   "id": "5113592b",
   "metadata": {},
   "outputs": [
    {
     "name": "stdout",
     "output_type": "stream",
     "text": [
      "(10, 1)\n",
      "10\n",
      "Age    float64\n",
      "dtype: object\n",
      "Index(['Age'], dtype='object')\n",
      "10\n",
      "    Age\n",
      "0  44.0\n",
      "1  27.0\n",
      "2  30.0\n",
      "3  38.0\n",
      "4  40.0\n",
      "5  35.0\n",
      "6   NaN\n",
      "7  48.0\n",
      "8  50.0\n",
      "9  37.0\n",
      "[[44.]\n",
      " [27.]\n",
      " [30.]\n",
      " [38.]\n",
      " [40.]\n",
      " [35.]\n",
      " [nan]\n",
      " [48.]\n",
      " [50.]\n",
      " [37.]]\n"
     ]
    }
   ],
   "source": [
    "Age = pd.DataFrame(df['Age'])\n",
    "print(Age.shape) \n",
    "print(Age.size) \n",
    "print(Age.dtypes) \n",
    "print(Age.columns)\n",
    "print(len(Age)) \n",
    "print(Age)  \n",
    "print(Age.values)  "
   ]
  },
  {
   "cell_type": "code",
   "execution_count": 41,
   "id": "d9222666",
   "metadata": {},
   "outputs": [
    {
     "name": "stdout",
     "output_type": "stream",
     "text": [
      "(10,)\n",
      "10\n",
      "float64\n",
      "10\n",
      "0    44.0\n",
      "1    27.0\n",
      "2    30.0\n",
      "3    38.0\n",
      "4    40.0\n",
      "5    35.0\n",
      "6     NaN\n",
      "7    48.0\n",
      "8    50.0\n",
      "9    37.0\n",
      "Name: Age, dtype: float64\n",
      "[44. 27. 30. 38. 40. 35. nan 48. 50. 37.]\n"
     ]
    }
   ],
   "source": [
    "Age = pd.Series(df['Age'])\n",
    "print(Age.shape) \n",
    "print(Age.size) \n",
    "print(Age.dtypes) \n",
    "print(len(Age)) \n",
    "print(Age)  \n",
    "print(Age.values)  "
   ]
  },
  {
   "cell_type": "code",
   "execution_count": 42,
   "id": "4a2e9110",
   "metadata": {},
   "outputs": [
    {
     "name": "stdout",
     "output_type": "stream",
     "text": [
      "(10, 1)\n",
      "10\n",
      "Salary    float64\n",
      "dtype: object\n",
      "Index(['Salary'], dtype='object')\n",
      "10\n",
      "    Salary\n",
      "0  72000.0\n",
      "1  48000.0\n",
      "2  54000.0\n",
      "3  61000.0\n",
      "4      NaN\n",
      "5  58000.0\n",
      "6  52000.0\n",
      "7  79000.0\n",
      "8  83000.0\n",
      "9  67000.0\n",
      "[[72000.]\n",
      " [48000.]\n",
      " [54000.]\n",
      " [61000.]\n",
      " [   nan]\n",
      " [58000.]\n",
      " [52000.]\n",
      " [79000.]\n",
      " [83000.]\n",
      " [67000.]]\n"
     ]
    }
   ],
   "source": [
    "Salary = pd.DataFrame(df['Salary'])\n",
    "print(Salary.shape) \n",
    "print(Salary.size) \n",
    "print(Salary.dtypes) \n",
    "print(Salary.columns)\n",
    "print(len(Salary)) \n",
    "print(Salary)  \n",
    "print(Salary.values)  "
   ]
  },
  {
   "cell_type": "code",
   "execution_count": 43,
   "id": "e6c71346",
   "metadata": {},
   "outputs": [
    {
     "name": "stdout",
     "output_type": "stream",
     "text": [
      "(10,)\n",
      "10\n",
      "float64\n",
      "10\n",
      "0    72000.0\n",
      "1    48000.0\n",
      "2    54000.0\n",
      "3    61000.0\n",
      "4        NaN\n",
      "5    58000.0\n",
      "6    52000.0\n",
      "7    79000.0\n",
      "8    83000.0\n",
      "9    67000.0\n",
      "Name: Salary, dtype: float64\n",
      "[72000. 48000. 54000. 61000.    nan 58000. 52000. 79000. 83000. 67000.]\n"
     ]
    }
   ],
   "source": [
    "Salary = pd.Series(df['Salary'])\n",
    "print(Salary.shape) \n",
    "print(Salary.size) \n",
    "print(Salary.dtypes) \n",
    "print(len(Salary)) \n",
    "print(Salary)  \n",
    "print(Salary.values)  "
   ]
  },
  {
   "cell_type": "code",
   "execution_count": 44,
   "id": "e8f6174a",
   "metadata": {},
   "outputs": [
    {
     "name": "stdout",
     "output_type": "stream",
     "text": [
      "(10, 1)\n",
      "10\n",
      "Purchased    object\n",
      "dtype: object\n",
      "Index(['Purchased'], dtype='object')\n",
      "10\n",
      "  Purchased\n",
      "0        No\n",
      "1       Yes\n",
      "2        No\n",
      "3        No\n",
      "4       Yes\n",
      "5       Yes\n",
      "6        No\n",
      "7       Yes\n",
      "8        No\n",
      "9       Yes\n",
      "[['No']\n",
      " ['Yes']\n",
      " ['No']\n",
      " ['No']\n",
      " ['Yes']\n",
      " ['Yes']\n",
      " ['No']\n",
      " ['Yes']\n",
      " ['No']\n",
      " ['Yes']]\n"
     ]
    }
   ],
   "source": [
    "Purchased = pd.DataFrame(df['Purchased'])\n",
    "print(Purchased.shape) \n",
    "print(Purchased.size) \n",
    "print(Purchased.dtypes)\n",
    "print(Purchased.columns)\n",
    "print(len(Purchased)) \n",
    "print(Purchased)  \n",
    "print(Purchased.values)  "
   ]
  },
  {
   "cell_type": "code",
   "execution_count": 45,
   "id": "28a6b349",
   "metadata": {},
   "outputs": [
    {
     "name": "stdout",
     "output_type": "stream",
     "text": [
      "(10,)\n",
      "10\n",
      "object\n",
      "10\n",
      "0     No\n",
      "1    Yes\n",
      "2     No\n",
      "3     No\n",
      "4    Yes\n",
      "5    Yes\n",
      "6     No\n",
      "7    Yes\n",
      "8     No\n",
      "9    Yes\n",
      "Name: Purchased, dtype: object\n",
      "['No' 'Yes' 'No' 'No' 'Yes' 'Yes' 'No' 'Yes' 'No' 'Yes']\n"
     ]
    }
   ],
   "source": [
    "Purchased = pd.Series(df['Purchased'])\n",
    "print(Purchased.shape) \n",
    "print(Purchased.size) \n",
    "print(Purchased.dtypes)\n",
    "print(len(Purchased)) \n",
    "print(Purchased)  \n",
    "print(Purchased.values)  "
   ]
  },
  {
   "cell_type": "code",
   "execution_count": null,
   "id": "8aea559b",
   "metadata": {},
   "outputs": [],
   "source": []
  }
 ],
 "metadata": {
  "kernelspec": {
   "display_name": "Python 3",
   "language": "python",
   "name": "python3"
  },
  "language_info": {
   "codemirror_mode": {
    "name": "ipython",
    "version": 3
   },
   "file_extension": ".py",
   "mimetype": "text/x-python",
   "name": "python",
   "nbconvert_exporter": "python",
   "pygments_lexer": "ipython3",
   "version": "3.6.13"
  }
 },
 "nbformat": 4,
 "nbformat_minor": 5
}
