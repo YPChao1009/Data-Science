{
 "cells": [
  {
   "cell_type": "markdown",
   "id": "d019182c",
   "metadata": {},
   "source": [
    "## 作業:\n",
    "AB test中假設檢定的基本概念，最重要的就是如何將抽象情況數值化，<br>\n",
    "並建立自已的 $H_0$ 與 $H_1$。<br>\n",
    "\n",
    "\n",
    "Q1: 吃減肥藥能在一個月內瘦超過十公斤，研究人員想推翻第四台廣告業者的說法，請試著寫出 $H_0$ 與 $H_1$ 。<br>\n",
    "Q2: 一位速食店店長認為其品牌在市場之佔有率至多為12%，於是該店長進行一個市場調查，一共訪問了3000為消費者，其中有311位表示喜歡該品牌，請試著寫出 $H_0$ 與 $H_1$ 。<br>"
   ]
  },
  {
   "cell_type": "markdown",
   "id": "7e05bca2",
   "metadata": {},
   "source": [
    "**Q1: 吃減肥藥能在一個月內瘦超過十公斤，研究人員想推翻第四台廣告業者的說法，請試著寫出 $H_0$ 與 $H_1$ 。**"
   ]
  },
  {
   "cell_type": "markdown",
   "id": "20db40c4",
   "metadata": {},
   "source": [
    "研究人員想推翻第四台廣告業者的說法 :\n",
    "\n",
    "$H_1$ : 吃減肥藥在一個月內\"不能\"瘦超過十公斤(X<10)<br>\n",
    "$H_0$ : 吃減肥藥在一個月內\"能\"瘦超過十公斤(X>=10)\n"
   ]
  },
  {
   "cell_type": "markdown",
   "id": "10bab58d",
   "metadata": {},
   "source": [
    "**Q2: 一位速食店店長認為其品牌在市場之佔有率至多為12%，於是該店長進行一個市場調查，一共訪問了3000為消費者，其中有311位表示喜歡該品牌，請試著寫出 $H_0$ 與 $H_1$ 。**"
   ]
  },
  {
   "cell_type": "markdown",
   "id": "6def0ea4",
   "metadata": {},
   "source": [
    "一位速食店店長認為其品牌在市場之佔有率至多為12%\n",
    "\n",
    "$H_1$ : 其品牌在市場之佔有率至多12%(X<12%)<br>\n",
    "$H_0$ : 其品牌在市場之佔有率超過12%(X$\\geq$12%)"
   ]
  }
 ],
 "metadata": {
  "kernelspec": {
   "display_name": "Python 3",
   "language": "python",
   "name": "python3"
  },
  "language_info": {
   "codemirror_mode": {
    "name": "ipython",
    "version": 3
   },
   "file_extension": ".py",
   "mimetype": "text/x-python",
   "name": "python",
   "nbconvert_exporter": "python",
   "pygments_lexer": "ipython3",
   "version": "3.6.13"
  }
 },
 "nbformat": 4,
 "nbformat_minor": 5
}
