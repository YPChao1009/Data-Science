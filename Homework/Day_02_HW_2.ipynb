{
 "cells": [
  {
   "cell_type": "markdown",
   "id": "83010d4d",
   "metadata": {},
   "source": [
    "# 作業目標:\n",
    "\n",
    " **Hint:<br>\n",
    " type(a) 是回傳 a 變數的型態；a.dtype 是回傳 a 陣列中的元素型態。<br>\n",
    " type() 是檢查變數的型態，而不是元素的型態； is 相對 == 更嚴格，一定要型態正確才會回傳 True。**\n",
    "\n",
    "1. [簡答題] 請問 type(...) 跟 a.dtype 這兩個語法有什麼不同？<br>\n",
    "\n",
    "\n",
    "```\n",
    "print('type(a): ', type(a))\n",
    "print('a.dtype: ', a.dtype)\n",
    "```\n",
    "\n",
    "2. 請撰寫一個判斷 a 的元素是否等於指定資料型態的函式<br>\n",
    "\n",
    "\n",
    "\n",
    "3. [簡答題] 承上題，請判斷下列三種寫法為何不正確？<br>\n",
    "\n",
    "```\n",
    "def is_dtype(a, t):\n",
    "    return a.dtype is t\n",
    "\n",
    "def is_dtype(a, t):\n",
    "    return type(a) == np.dtype(t)\n",
    "\n",
    "def is_dtype(a, t):\n",
    "    return type(a) is np.dtype(t)\n",
    "```"
   ]
  },
  {
   "cell_type": "markdown",
   "id": "20947ce4",
   "metadata": {},
   "source": [
    "1. [簡答題] 請問 type(...) 跟 a.dtype 這兩個語法有什麼不同？<br>\n",
    "\n",
    "\n",
    "```\n",
    "print('type(a): ', type(a))\n",
    "print('a.dtype: ', a.dtype)\n",
    "```"
   ]
  },
  {
   "cell_type": "code",
   "execution_count": 36,
   "id": "17463956",
   "metadata": {},
   "outputs": [
    {
     "name": "stdout",
     "output_type": "stream",
     "text": [
      "NumPy 版本:  1.19.2\n"
     ]
    }
   ],
   "source": [
    "import numpy as np\n",
    "print( 'NumPy 版本: ', np.__version__ )"
   ]
  },
  {
   "cell_type": "code",
   "execution_count": 37,
   "id": "33bbeaf9",
   "metadata": {},
   "outputs": [
    {
     "name": "stdout",
     "output_type": "stream",
     "text": [
      "type(a):  <class 'numpy.ndarray'>\n",
      "a.dtype:  int32\n"
     ]
    }
   ],
   "source": [
    "a = np.random.randint(10, size=6) \n",
    "\n",
    "print('type(a): ', type(a))\n",
    "print('a.dtype: ', a.dtype)"
   ]
  },
  {
   "cell_type": "markdown",
   "id": "99c79014",
   "metadata": {},
   "source": [
    " **type(a) 是回傳 a 變數的型態；a.dtype 是回傳 a 陣列中的元素型態。**"
   ]
  },
  {
   "cell_type": "markdown",
   "id": "ba03462a",
   "metadata": {},
   "source": [
    "**2. 請撰寫一個判斷 a 的元素是否等於指定資料型態的函式**"
   ]
  },
  {
   "cell_type": "code",
   "execution_count": 38,
   "id": "6c52d1ed",
   "metadata": {},
   "outputs": [
    {
     "data": {
      "text/plain": [
       "'\\ndef is_dtype(a, t):\\n    return type(a) == np.dtype(t)\\n==\\ndef is_dtype(a, t):\\n    return type(a) is np.dtype(t)\\n'"
      ]
     },
     "execution_count": 38,
     "metadata": {},
     "output_type": "execute_result"
    }
   ],
   "source": [
    "def is_dtype(a,t):\n",
    "    return a.dtype is np.dtype(t)\n",
    "\n",
    "'''\n",
    "def is_dtype(a, t):\n",
    "    return type(a) == np.dtype(t)\n",
    "==\n",
    "def is_dtype(a, t):\n",
    "    return type(a) is np.dtype(t)\n",
    "'''"
   ]
  },
  {
   "cell_type": "code",
   "execution_count": 39,
   "id": "6bb0695a",
   "metadata": {},
   "outputs": [
    {
     "name": "stdout",
     "output_type": "stream",
     "text": [
      "a.dtype:  int32\n",
      "True\n",
      "True\n",
      "True\n"
     ]
    }
   ],
   "source": [
    "a = np.random.randint(10, size=6) \n",
    "\n",
    "print('a.dtype: ', a.dtype)\n",
    "\n",
    "# 測試一\n",
    "print(is_dtype(a, 'int')) # True\n",
    "\n",
    "# 測試二\n",
    "print(is_dtype(a, np.int)) # True\n",
    "\n",
    "# 測試三\n",
    "print(is_dtype(a, np.dtype('int'))) # True"
   ]
  },
  {
   "cell_type": "markdown",
   "id": "94fab255",
   "metadata": {},
   "source": [
    "**3. [簡答題] 承上題，請判斷下列三種寫法為何不正確？**\n",
    "\n",
    "```\n",
    "def is_dtype(a, t):\n",
    "    return a.dtype is t\n",
    "\n",
    "def is_dtype(a, t):\n",
    "    return type(a) == np.dtype(t)\n",
    "\n",
    "def is_dtype(a, t):\n",
    "    return type(a) is np.dtype(t)\n",
    "```\n",
    "\n",
    "**type() 是檢查變數的型態，而不是元素的型態； is 相對 == 更嚴格，一定要型態正確才會回傳 True。**"
   ]
  },
  {
   "cell_type": "code",
   "execution_count": 40,
   "id": "d51f02d4",
   "metadata": {},
   "outputs": [
    {
     "name": "stdout",
     "output_type": "stream",
     "text": [
      "a.dtype:  int32\n",
      "type:  <class 'numpy.ndarray'>\n",
      "False\n",
      "False\n",
      "True\n"
     ]
    }
   ],
   "source": [
    "def is_dtype(a, t):\n",
    "    return a.dtype is t\n",
    "\n",
    "a = np.random.randint(10, size=6) \n",
    "\n",
    "print('a.dtype: ', a.dtype)\n",
    "print('type: ', type(a))\n",
    "\n",
    "# 測試一\n",
    "print(is_dtype(a, 'int'))\n",
    "\n",
    "# 測試二\n",
    "print(is_dtype(a, np.int))\n",
    "\n",
    "# 測試三\n",
    "print(is_dtype(a, np.dtype('int'))) "
   ]
  },
  {
   "cell_type": "code",
   "execution_count": 41,
   "id": "dc4de14b",
   "metadata": {},
   "outputs": [
    {
     "name": "stdout",
     "output_type": "stream",
     "text": [
      "a.dtype:  int32\n",
      "type:  <class 'numpy.ndarray'>\n",
      "False\n",
      "False\n",
      "False\n"
     ]
    }
   ],
   "source": [
    "def is_dtype(a, t):\n",
    "    return type(a) == np.dtype(t)\n",
    "\n",
    "a = np.random.randint(10, size=6) \n",
    "\n",
    "print('a.dtype: ', a.dtype)\n",
    "print('type: ', type(a))\n",
    "\n",
    "\n",
    "# 測試一\n",
    "print(is_dtype(a, 'int')) \n",
    "\n",
    "# 測試二\n",
    "print(is_dtype(a, np.int))\n",
    "\n",
    "# 測試三\n",
    "print(is_dtype(a, np.dtype('int'))) "
   ]
  },
  {
   "cell_type": "code",
   "execution_count": 42,
   "id": "c0fefd32",
   "metadata": {},
   "outputs": [
    {
     "name": "stdout",
     "output_type": "stream",
     "text": [
      "a.dtype:  int32\n",
      "type:  <class 'numpy.ndarray'>\n",
      "False\n",
      "False\n",
      "False\n"
     ]
    }
   ],
   "source": [
    "def is_dtype(a, t):\n",
    "    return type(a) is np.dtype(t)\n",
    "\n",
    "a = np.random.randint(10, size=6) \n",
    "\n",
    "print('a.dtype: ', a.dtype)\n",
    "print('type: ', type(a))\n",
    "\n",
    "\n",
    "# 測試一\n",
    "print(is_dtype(a, 'int')) \n",
    "\n",
    "# 測試二\n",
    "print(is_dtype(a, np.int))\n",
    "\n",
    "# 測試三\n",
    "print(is_dtype(a, np.dtype('int'))) "
   ]
  },
  {
   "cell_type": "code",
   "execution_count": null,
   "id": "456fca07",
   "metadata": {},
   "outputs": [],
   "source": []
  }
 ],
 "metadata": {
  "kernelspec": {
   "display_name": "Python 3",
   "language": "python",
   "name": "python3"
  },
  "language_info": {
   "codemirror_mode": {
    "name": "ipython",
    "version": 3
   },
   "file_extension": ".py",
   "mimetype": "text/x-python",
   "name": "python",
   "nbconvert_exporter": "python",
   "pygments_lexer": "ipython3",
   "version": "3.6.13"
  }
 },
 "nbformat": 4,
 "nbformat_minor": 5
}
