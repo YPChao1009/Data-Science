{
 "cells": [
  {
   "cell_type": "markdown",
   "id": "e8720a9c",
   "metadata": {},
   "source": [
    "# [作業目標]:\n",
    "\n",
    "計算有缺失值的資料，統計量實作<br>\n",
    "\n",
    "\n",
    "# [作業重點]:\n",
    "\n",
    "當遇到缺失值有函式可以處理，不須額外寫程式刪除<br>\n",
    "計算統計量時不能出現缺失值"
   ]
  },
  {
   "cell_type": "markdown",
   "id": "94b9523f",
   "metadata": {},
   "source": [
    "題目:<br>\n",
    "\n",
    "english_score = np.array([55,89,76,65,48,70])<br>\n",
    "\n",
    "math_score = np.array([60,85,60,68,np.nan,60])<br>\n",
    "\n",
    "chinese_score = np.array([65,90,82,72,66,77])<br>\n",
    "\n",
    "上3列共六位同學的英文、數學、國文成績，\n",
    "\n",
    "第一個元素代表第一位同學，舉例第一位同學英文55分、數學60分、國文65分，今天第五位同學因某原因沒來考試，導致數學成績缺值，\n",
    "\n",
    "運用上列數據回答下列問題。<br>\n",
    "1. 請計算各科成績平均、最大值、最小值、標準差，其中數學缺一筆資料可忽略?\n",
    "2. 第五位同學補考數學後成績為55，請計算補考後數學成績平均、最大值、最小值、標準差?\n",
    "3. 用補考後資料找出與國文成績相關係數最高的學科?"
   ]
  },
  {
   "cell_type": "markdown",
   "id": "7f58570b",
   "metadata": {},
   "source": [
    "**1. 請計算各科成績平均、最大值、最小值、標準差，其中數學缺一筆資料可忽略?**"
   ]
  },
  {
   "cell_type": "code",
   "execution_count": 17,
   "id": "c9154a5c",
   "metadata": {},
   "outputs": [
    {
     "name": "stdout",
     "output_type": "stream",
     "text": [
      "NumPy 版本:  1.19.2\n"
     ]
    }
   ],
   "source": [
    "import numpy as np\n",
    "print( 'NumPy 版本: ', np.__version__ )"
   ]
  },
  {
   "cell_type": "code",
   "execution_count": 18,
   "id": "e01ceb1c",
   "metadata": {},
   "outputs": [],
   "source": [
    "english_score = np.array([55,89,76,65,48,70])\n",
    "math_score = np.array([60,85,60,68,np.nan,60])\n",
    "chinese_score = np.array([65,90,82,72,66,77])"
   ]
  },
  {
   "cell_type": "markdown",
   "id": "d891ec43",
   "metadata": {},
   "source": [
    "**法一**"
   ]
  },
  {
   "cell_type": "code",
   "execution_count": 24,
   "id": "f3b8d2f9",
   "metadata": {},
   "outputs": [
    {
     "name": "stdout",
     "output_type": "stream",
     "text": [
      "\n",
      "英文分數  \n",
      "平均: 67.16666666666667 \n",
      "最大值: 89 \n",
      "最小值: 48 \n",
      "標準差: 13.433995020924426\n",
      "\n",
      "數學分數  \n",
      "平均: 64.66666666666667 \n",
      "最大值: 85.0 \n",
      "最小值: 55.0 \n",
      "標準差: 9.860132971832694\n",
      "\n",
      "國文分數  \n",
      "平均: 75.33333333333333 \n",
      "最大值: 90 \n",
      "最小值: 65 \n",
      "標準差: 8.825468196582484\n"
     ]
    }
   ],
   "source": [
    "print(\"\\n英文分數 \",\"\\n平均:\",np.nanmean(english_score),\"\\n最大值:\",np.nanmax(english_score),\"\\n最小值:\",np.nanmin(english_score),\"\\n標準差:\",np.nanstd(english_score))\n",
    "print(\"\\n數學分數 \",\"\\n平均:\",np.nanmean(math_score),\"\\n最大值:\",np.nanmax(math_score),\"\\n最小值:\",np.nanmin(math_score),\"\\n標準差:\",np.nanstd(math_score))\n",
    "print(\"\\n國文分數 \",\"\\n平均:\",np.nanmean(chinese_score),\"\\n最大值:\",np.nanmax(chinese_score),\"\\n最小值:\",np.nanmin(chinese_score),\"\\n標準差:\",np.nanstd(chinese_score))"
   ]
  },
  {
   "cell_type": "markdown",
   "id": "a7edfc6b",
   "metadata": {},
   "source": [
    "**法二**"
   ]
  },
  {
   "cell_type": "code",
   "execution_count": 20,
   "id": "3ebe9a22",
   "metadata": {},
   "outputs": [
    {
     "name": "stdout",
     "output_type": "stream",
     "text": [
      "英文 :\n",
      "平均 = 67.16666666666667\n",
      "最大值 = 89\n",
      "最小值 = 48\n",
      "標準差 = 13.433995020924426 \n",
      "\n",
      "數學 :\n",
      "平均 = 66.6\n",
      "最大值 = 85.0\n",
      "最小值 = 60.0\n",
      "標準差 = 9.707728879609279 \n",
      "\n",
      "國文 :\n",
      "平均 = 75.33333333333333\n",
      "最大值 = 90\n",
      "最小值 = 65\n",
      "標準差 = 8.825468196582484 \n",
      "\n"
     ]
    }
   ],
   "source": [
    "for subject, score in zip(['英文','數學','國文'],[english_score,math_score,chinese_score]):\n",
    "\n",
    "    if not np.any( np.isnan(score) ) :\n",
    "        print( subject, ':' )\n",
    "        print( '平均 =', np.mean(score) )\n",
    "        print( '最大值 =', np.max(score) )\n",
    "        print( '最小值 =', np.min(score) )\n",
    "        print( '標準差 =', np.std(score), '\\n' )\n",
    "    else: \n",
    "        print( subject, ':' )\n",
    "        print( '平均 =', np.nanmean(score) )\n",
    "        print( '最大值 =', np.nanmax(score) )\n",
    "        print( '最小值 =', np.nanmin(score) )\n",
    "        print( '標準差 =', np.nanstd(score), '\\n' )"
   ]
  },
  {
   "cell_type": "markdown",
   "id": "364d2a3c",
   "metadata": {},
   "source": [
    "**2. 第五位同學補考數學後成績為55，請計算補考後數學成績平均、最大值、最小值、標準差?**"
   ]
  },
  {
   "cell_type": "code",
   "execution_count": 21,
   "id": "69c1760a",
   "metadata": {},
   "outputs": [
    {
     "data": {
      "text/plain": [
       "array([60., 85., 60., 68., 55., 60.])"
      ]
     },
     "execution_count": 21,
     "metadata": {},
     "output_type": "execute_result"
    }
   ],
   "source": [
    "math_score[4] = 55\n",
    "math_score"
   ]
  },
  {
   "cell_type": "code",
   "execution_count": 22,
   "id": "3fe846ec",
   "metadata": {},
   "outputs": [
    {
     "name": "stdout",
     "output_type": "stream",
     "text": [
      "補考數學後\n",
      "數學分數  \n",
      "平均: 64.66666666666667 \n",
      "最大值: 85.0 \n",
      "最小值: 55.0 \n",
      "標準差: 9.860132971832694\n"
     ]
    }
   ],
   "source": [
    "print(\"補考數學後\")\n",
    "print(\"數學分數 \",\"\\n平均:\",np.nanmean(math_score),\"\\n最大值:\",np.nanmax(math_score),\"\\n最小值:\",np.nanmin(math_score),\"\\n標準差:\",np.nanstd(math_score))"
   ]
  },
  {
   "cell_type": "markdown",
   "id": "7b1ba4ed",
   "metadata": {},
   "source": [
    "**3. 用補考後資料找出與國文成績相關係數最高的學科?**"
   ]
  },
  {
   "cell_type": "code",
   "execution_count": 23,
   "id": "c3deaf9a",
   "metadata": {},
   "outputs": [
    {
     "name": "stdout",
     "output_type": "stream",
     "text": [
      "國文與數學相關係數:\n",
      " [[1.         0.74056803]\n",
      " [0.74056803 1.        ]]\n",
      "國文與英文相關係數:\n",
      " [[1.         0.97792828]\n",
      " [0.97792828 1.        ]]\n"
     ]
    }
   ],
   "source": [
    "print(\"國文與數學相關係數:\\n\",np.corrcoef(chinese_score,math_score))\n",
    "print(\"國文與英文相關係數:\\n\",np.corrcoef(chinese_score,english_score))"
   ]
  },
  {
   "cell_type": "code",
   "execution_count": null,
   "id": "97ad0596",
   "metadata": {},
   "outputs": [],
   "source": []
  }
 ],
 "metadata": {
  "kernelspec": {
   "display_name": "Python 3",
   "language": "python",
   "name": "python3"
  },
  "language_info": {
   "codemirror_mode": {
    "name": "ipython",
    "version": 3
   },
   "file_extension": ".py",
   "mimetype": "text/x-python",
   "name": "python",
   "nbconvert_exporter": "python",
   "pygments_lexer": "ipython3",
   "version": "3.6.13"
  }
 },
 "nbformat": 4,
 "nbformat_minor": 5
}
