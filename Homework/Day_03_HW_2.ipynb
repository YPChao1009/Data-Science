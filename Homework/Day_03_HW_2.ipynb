{
 "cells": [
  {
   "cell_type": "markdown",
   "id": "640e5365",
   "metadata": {},
   "source": [
    "# [作業目標]\n",
    "\n",
    "1. [簡答題] 請比較 np.zeros 和 np.empty 產生出來的陣列有何差異？為什麼要設計兩種方法？\n",
    "\n",
    "```\n",
    "print(np.zeros((2, 3)))\n",
    "print(np.empty((2, 3)))\n",
    "```\n",
    "\n",
    "2. 在不用「整數亂數方法」的限制下，如何將包含小數的轉換整數？請將給定的 a 陣列當中的元素變成去掉小數變成整數。<br>\n",
    "3. 承上題，怎樣限制整數的範圍介於 m - n 之間？請將給定的 a 陣列當中的元素的範圍調整成 m - n 之間。"
   ]
  },
  {
   "cell_type": "markdown",
   "id": "29070abf",
   "metadata": {},
   "source": [
    "**1. [簡答題] 請比較 np.zeros 和 np.empty 產生出來的陣列有何差異？為什麼要設計兩種方法？**\n",
    "\n",
    "```\n",
    "print(np.zeros((2, 3)))\n",
    "print(np.empty((2, 3)))\n",
    "```\n"
   ]
  },
  {
   "cell_type": "code",
   "execution_count": 1,
   "id": "3aa19b75",
   "metadata": {},
   "outputs": [
    {
     "name": "stdout",
     "output_type": "stream",
     "text": [
      "NumPy 版本:  1.19.2\n"
     ]
    }
   ],
   "source": [
    "import numpy as np\n",
    "print( 'NumPy 版本: ', np.__version__ )"
   ]
  },
  {
   "cell_type": "code",
   "execution_count": 2,
   "id": "cc586849",
   "metadata": {},
   "outputs": [
    {
     "name": "stdout",
     "output_type": "stream",
     "text": [
      "[[0. 0. 0.]\n",
      " [0. 0. 0.]]\n",
      "[[0. 0. 0.]\n",
      " [0. 0. 0.]]\n"
     ]
    }
   ],
   "source": [
    "print(np.zeros((2, 3)))\n",
    "print(np.empty((2, 3)))"
   ]
  },
  {
   "cell_type": "markdown",
   "id": "42db611d",
   "metadata": {},
   "source": [
    "np.zeros((2, 3)) 會產生真正的 0；np.empty((2, 3)) 會產生一個近似於 0 的陣列。<br>\n",
    "np.empty 可以用於只是想要初始化，但之後就會數值覆寫過的形況。"
   ]
  },
  {
   "cell_type": "markdown",
   "id": "4169dc17",
   "metadata": {},
   "source": [
    "**2. 在不用「整數亂數方法」的限制下，如何將包含小數的轉換整數？請將給定的 a 陣列當中的元素變成去掉小數變成整數。**\n"
   ]
  },
  {
   "cell_type": "markdown",
   "id": "d9dcb3d7",
   "metadata": {},
   "source": [
    "##  取近似值\n",
    "\n",
    "取近似值的函式及說明如下表：\n",
    "\n",
    "|函式|常用語法|說明|\n",
    "|---|---|---|\n",
    "|round(), around()|ndarray.round(decimals=0)<br />numpy.round(a, decimals=0)<br />numpy.around(a, decimals=0)|在 Rounding 的方法部分，與 Python 同樣採用 IEEE 754 規範，<br />四捨、五取最近偶數、六入，而非我們一般講的四捨五入。<br /><br />round 與 around 用法及結果相同|\n",
    "|rint()|numpy.rint(a)|Round至最近的整數|\n",
    "|trunc()|numpy.trunc(a)|無條件捨去小數點|\n",
    "|floor()|numpy.floor(a)|向下取整數|\n",
    "|ceil()|numpy.ceil(a)|向上取整數|\n",
    "|fix()|numpy.ceil(a)|向0的方向取整數|"
   ]
  },
  {
   "cell_type": "code",
   "execution_count": 3,
   "id": "947a40e2",
   "metadata": {},
   "outputs": [
    {
     "name": "stdout",
     "output_type": "stream",
     "text": [
      "[[71.01961829 86.68830592 77.84753929]\n",
      " [26.59236146 34.55391717 57.04015258]]\n"
     ]
    }
   ],
   "source": [
    "a = np.random.rand(2, 3)\n",
    "a = a * 100\n",
    "\n",
    "print(a)"
   ]
  },
  {
   "cell_type": "code",
   "execution_count": 4,
   "id": "1603d179",
   "metadata": {},
   "outputs": [
    {
     "name": "stdout",
     "output_type": "stream",
     "text": [
      "[[71. 87. 78.]\n",
      " [27. 35. 57.]]\n",
      "[[71. 87. 78.]\n",
      " [27. 35. 57.]]\n"
     ]
    }
   ],
   "source": [
    "print(a.round())\n",
    "print(np.round(a))"
   ]
  },
  {
   "cell_type": "markdown",
   "id": "9a4d3772",
   "metadata": {},
   "source": [
    "**3. 承上題，怎樣限制整數的範圍介於 m - n 之間？請將給定的 a 陣列當中的元素的範圍調整成 m - n 之間。**"
   ]
  },
  {
   "cell_type": "code",
   "execution_count": 5,
   "id": "75898eee",
   "metadata": {},
   "outputs": [
    {
     "name": "stdout",
     "output_type": "stream",
     "text": [
      "[[37. 30. 21.]\n",
      " [29. 21. 20.]]\n"
     ]
    }
   ],
   "source": [
    "m = 20\n",
    "n = 40\n",
    "\n",
    "a = np.random.rand(2, 3) * (n - m)\n",
    "b = a\n",
    "\n",
    "print((a - b % 1) + m)"
   ]
  },
  {
   "cell_type": "code",
   "execution_count": null,
   "id": "adbcc55c",
   "metadata": {},
   "outputs": [],
   "source": []
  }
 ],
 "metadata": {
  "kernelspec": {
   "display_name": "Python 3",
   "language": "python",
   "name": "python3"
  },
  "language_info": {
   "codemirror_mode": {
    "name": "ipython",
    "version": 3
   },
   "file_extension": ".py",
   "mimetype": "text/x-python",
   "name": "python",
   "nbconvert_exporter": "python",
   "pygments_lexer": "ipython3",
   "version": "3.6.13"
  }
 },
 "nbformat": 4,
 "nbformat_minor": 5
}
