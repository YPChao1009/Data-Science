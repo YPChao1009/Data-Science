{
 "cells": [
  {
   "cell_type": "markdown",
   "id": "21348df3",
   "metadata": {},
   "source": [
    "題目:<br>\n",
    "1. 將下兩列array存成npz檔<br>\n",
    "array1 = np.array(range(30))<br>\n",
    "array2 = np.array([2,3,5])<br>\n",
    "2. 讀取剛剛的npz檔，加入下列array一起存成新的npz檔"
   ]
  },
  {
   "cell_type": "markdown",
   "id": "01ed4e23",
   "metadata": {},
   "source": [
    "1. 將下兩列array存成npz檔<br>\n",
    "array1 = np.array(range(30))<br>\n",
    "array2 = np.array([2,3,5])<br>"
   ]
  },
  {
   "cell_type": "code",
   "execution_count": 26,
   "id": "2fa47322",
   "metadata": {},
   "outputs": [
    {
     "name": "stdout",
     "output_type": "stream",
     "text": [
      "NumPy 版本:  1.19.2\n"
     ]
    }
   ],
   "source": [
    "import numpy as np\n",
    "print( 'NumPy 版本: ', np.__version__ )"
   ]
  },
  {
   "cell_type": "code",
   "execution_count": 27,
   "id": "9f843e5c",
   "metadata": {},
   "outputs": [
    {
     "name": "stdout",
     "output_type": "stream",
     "text": [
      "[ 0  1  2  3  4  5  6  7  8  9 10 11 12 13 14 15 16 17 18 19 20 21 22 23\n",
      " 24 25 26 27 28 29]\n",
      "[2 3 5]\n"
     ]
    }
   ],
   "source": [
    "array1 = np.array(range(30))\n",
    "array2 = np.array([2,3,5])\n",
    "\n",
    "print( array1 )\n",
    "print( array2 )"
   ]
  },
  {
   "cell_type": "code",
   "execution_count": 37,
   "id": "bfd3f227",
   "metadata": {},
   "outputs": [],
   "source": [
    "np.savez('array.npz',array1,array2)"
   ]
  },
  {
   "cell_type": "code",
   "execution_count": 38,
   "id": "695244ed",
   "metadata": {},
   "outputs": [
    {
     "data": {
      "text/plain": [
       "['arr_0', 'arr_1']"
      ]
     },
     "execution_count": 38,
     "metadata": {},
     "output_type": "execute_result"
    }
   ],
   "source": [
    "load_array = np.load( 'array.npz' )\n",
    "load_array.files"
   ]
  },
  {
   "cell_type": "code",
   "execution_count": 39,
   "id": "51cef023",
   "metadata": {},
   "outputs": [
    {
     "name": "stdout",
     "output_type": "stream",
     "text": [
      "新的 npz 檔中第一個元素內容: \n",
      " [ 0  1  2  3  4  5  6  7  8  9 10 11 12 13 14 15 16 17 18 19 20 21 22 23\n",
      " 24 25 26 27 28 29] \n",
      "\n",
      "新的 npz 檔中第二個元素內容: \n",
      " [2 3 5] \n",
      "\n"
     ]
    }
   ],
   "source": [
    "print( '新的 npz 檔中第一個元素內容: \\n', load_array['arr_0'], '\\n' )\n",
    "print( '新的 npz 檔中第二個元素內容: \\n', load_array['arr_1'], '\\n' )"
   ]
  },
  {
   "cell_type": "code",
   "execution_count": 43,
   "id": "bb77a960",
   "metadata": {},
   "outputs": [],
   "source": [
    "np.savez('array.npz', array1=array1, array2=array2)"
   ]
  },
  {
   "cell_type": "code",
   "execution_count": 44,
   "id": "b30221d7",
   "metadata": {},
   "outputs": [
    {
     "data": {
      "text/plain": [
       "['array1', 'array2']"
      ]
     },
     "execution_count": 44,
     "metadata": {},
     "output_type": "execute_result"
    }
   ],
   "source": [
    "load_array = np.load( 'array.npz' )\n",
    "load_array.files"
   ]
  },
  {
   "cell_type": "code",
   "execution_count": 45,
   "id": "a4fe0032",
   "metadata": {},
   "outputs": [
    {
     "name": "stdout",
     "output_type": "stream",
     "text": [
      "新的 npz 檔中第一個元素內容: \n",
      " [ 0  1  2  3  4  5  6  7  8  9 10 11 12 13 14 15 16 17 18 19 20 21 22 23\n",
      " 24 25 26 27 28 29] \n",
      "\n",
      "新的 npz 檔中第二個元素內容: \n",
      " [2 3 5] \n",
      "\n"
     ]
    }
   ],
   "source": [
    "print( '新的 npz 檔中第一個元素內容: \\n', load_array['array1'], '\\n' )\n",
    "print( '新的 npz 檔中第二個元素內容: \\n', load_array['array2'], '\\n' )"
   ]
  },
  {
   "cell_type": "markdown",
   "id": "1b976b65",
   "metadata": {},
   "source": [
    "2. 讀取剛剛的npz檔，加入下列array一起存成新的npz檔"
   ]
  },
  {
   "cell_type": "code",
   "execution_count": 50,
   "id": "ec78b947",
   "metadata": {},
   "outputs": [],
   "source": [
    "load_array = np.load('array.npz')\n",
    "array3 = np.array([[4,5,6],[1,2,3]])\n",
    "np.savez('new_array.npz',element1=load_array['array1'],element2=load_array['array2'],element3=array3)"
   ]
  },
  {
   "cell_type": "code",
   "execution_count": 51,
   "id": "5fbe14bb",
   "metadata": {},
   "outputs": [
    {
     "data": {
      "text/plain": [
       "['element1', 'element2', 'element3']"
      ]
     },
     "execution_count": 51,
     "metadata": {},
     "output_type": "execute_result"
    }
   ],
   "source": [
    "load_array1 = np.load('new_array.npz')\n",
    "load_array1.files"
   ]
  },
  {
   "cell_type": "code",
   "execution_count": 52,
   "id": "024913c4",
   "metadata": {},
   "outputs": [
    {
     "name": "stdout",
     "output_type": "stream",
     "text": [
      "新的 npz 檔內容:  ['element1', 'element2', 'element3'] \n",
      "\n",
      "新的 npz 檔中第一個元素內容: \n",
      " [ 0  1  2  3  4  5  6  7  8  9 10 11 12 13 14 15 16 17 18 19 20 21 22 23\n",
      " 24 25 26 27 28 29] \n",
      "\n",
      "新的 npz 檔中第二個元素內容: \n",
      " [2 3 5] \n",
      "\n",
      "新的 npz 檔中第三個元素內容: \n",
      " [[4 5 6]\n",
      " [1 2 3]]\n"
     ]
    }
   ],
   "source": [
    "print( '新的 npz 檔內容: ', load_array1.files, '\\n' ) \n",
    "print( '新的 npz 檔中第一個元素內容: \\n', load_array1['element1'], '\\n' )\n",
    "print( '新的 npz 檔中第二個元素內容: \\n', load_array1['element2'], '\\n' )\n",
    "print( '新的 npz 檔中第三個元素內容: \\n', load_array1['element3'] )"
   ]
  },
  {
   "cell_type": "code",
   "execution_count": null,
   "id": "2130aac2",
   "metadata": {},
   "outputs": [],
   "source": []
  }
 ],
 "metadata": {
  "kernelspec": {
   "display_name": "Python 3",
   "language": "python",
   "name": "python3"
  },
  "language_info": {
   "codemirror_mode": {
    "name": "ipython",
    "version": 3
   },
   "file_extension": ".py",
   "mimetype": "text/x-python",
   "name": "python",
   "nbconvert_exporter": "python",
   "pygments_lexer": "ipython3",
   "version": "3.6.13"
  }
 },
 "nbformat": 4,
 "nbformat_minor": 5
}
