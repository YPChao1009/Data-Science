{
 "cells": [
  {
   "cell_type": "markdown",
   "id": "72e97a69",
   "metadata": {},
   "source": [
    "## 作業:\n",
    "\n",
    "\n",
    "離散均勻分布( Discrete Uniform Distribution )   \n",
    "伯努利分布( Bernoulli Distribution )   \n",
    "二項分布(Binomial Distribution)  \n",
    "負二項分布(Negative Binomial Distribution)  \n",
    "超幾何分布(Hypergeometric Distribution)   \n",
    "\n",
    "\n",
    "Q1: 大樂透的頭獎，你必須從49個挑選出 6 個號碼，\n",
    "且這六個號碼與頭獎的六個號碼一致，頭獎的機率是屬於哪一種分布?<br>\n",
    "Q2: 計算大樂透的中頭獎機率?<br>\n",
    "Q3: 你覺得電腦簽注的中獎機率，和人腦簽注相比，哪一個機率高?"
   ]
  },
  {
   "cell_type": "code",
   "execution_count": 6,
   "id": "abe6bbaa",
   "metadata": {},
   "outputs": [],
   "source": [
    "# library\n",
    "import matplotlib.pyplot as plt\n",
    "import numpy as np\n",
    "import pandas as pd\n",
    "from scipy import stats\n",
    "import math\n",
    "import statistics"
   ]
  },
  {
   "cell_type": "markdown",
   "id": "7800766c",
   "metadata": {},
   "source": [
    "**Q1: 大樂透的頭獎，你必須從49個挑選出 6 個號碼，且這六個號碼與頭獎的六個號碼一致，頭獎的機率是屬於哪一種分布?**"
   ]
  },
  {
   "cell_type": "markdown",
   "id": "96216916",
   "metadata": {},
   "source": [
    "可以想像成，大樂透中有49個號碼，6個是屬於開獎抽出的數字那一群，43個是不屬於開獎抽出的數字那一群，  \n",
    "那你挑的六組號碼，有多少個是落在開獎抽出的數字那一群?\n",
    "所以是屬於 **超幾何分布**\n"
   ]
  },
  {
   "cell_type": "markdown",
   "id": "26338670",
   "metadata": {},
   "source": [
    "**Q2: 計算大樂透的中頭獎機率?**"
   ]
  },
  {
   "cell_type": "code",
   "execution_count": 7,
   "id": "d888e2d0",
   "metadata": {},
   "outputs": [
    {
     "name": "stdout",
     "output_type": "stream",
     "text": [
      "中頭獎的機率為== 7.151123842018523e-08\n"
     ]
    }
   ],
   "source": [
    "'''\n",
    "X: HG(49,6,6)\n",
    "p(X=6) 的機率就是中頭獎的機率\n",
    "\n",
    "N = 49  # 總共有 49 個號碼\n",
    "K = 6   # 中頭獎的 6 個號碼\n",
    "n = 6\n",
    "\n",
    "probs = stats.hypergeom.pmf( 6, N, K, n )\n",
    "print( '中頭獎的機率為=',  '{:.8%}'.format(probs) )\n",
    "'''\n",
    "probs = stats.hypergeom.pmf(6,49,6,6)\n",
    "print(\"中頭獎的機率為==\",probs)\n"
   ]
  },
  {
   "cell_type": "markdown",
   "id": "cf60d12a",
   "metadata": {},
   "source": [
    "**Q3: 你覺得電腦簽注的中獎機率，和人腦簽注相比，哪一個機率高?**"
   ]
  },
  {
   "cell_type": "markdown",
   "id": "cd8f17ea",
   "metadata": {},
   "source": [
    "以機率的角度來看，兩者一樣高"
   ]
  },
  {
   "cell_type": "code",
   "execution_count": null,
   "id": "2922362f",
   "metadata": {},
   "outputs": [],
   "source": []
  }
 ],
 "metadata": {
  "kernelspec": {
   "display_name": "Python 3",
   "language": "python",
   "name": "python3"
  },
  "language_info": {
   "codemirror_mode": {
    "name": "ipython",
    "version": 3
   },
   "file_extension": ".py",
   "mimetype": "text/x-python",
   "name": "python",
   "nbconvert_exporter": "python",
   "pygments_lexer": "ipython3",
   "version": "3.6.13"
  }
 },
 "nbformat": 4,
 "nbformat_minor": 5
}
