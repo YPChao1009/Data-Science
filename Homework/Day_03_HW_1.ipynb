{
 "cells": [
  {
   "cell_type": "markdown",
   "id": "5d3c70e8",
   "metadata": {},
   "source": [
    "# [作業目標]:\n",
    "嘗試練習log的函式並應用<br>\n",
    "\n",
    "# [作業重點]:\n",
    "學員需要複習log的轉換方式<br>\n",
    "熟悉運用指數函數以及對數函數"
   ]
  },
  {
   "cell_type": "markdown",
   "id": "9b71be85",
   "metadata": {},
   "source": [
    "題目:<br>\n",
    "運用分貝公式回答下列問題。<br>\n",
    "$$\\displaystyle \\text{分貝} = 20 \\times \\log_{10}( \\frac{\\text{聲壓} V1}{\\text{基準聲壓} V2} ) = 20 \\times \\log_{10}( \\frac{V1}{20} )$$\n",
    "\n",
    "1.正常的談話的聲壓為20000微巴斯卡，請問多少分貝?<br>\n",
    "2.30分貝的聲壓會是50分貝的幾倍?"
   ]
  },
  {
   "cell_type": "markdown",
   "id": "9a1ffa22",
   "metadata": {},
   "source": [
    "**1.正常的談話的聲壓為20000微巴斯卡，請問多少分貝?**"
   ]
  },
  {
   "cell_type": "code",
   "execution_count": 1,
   "id": "d6c30371",
   "metadata": {},
   "outputs": [
    {
     "name": "stdout",
     "output_type": "stream",
     "text": [
      "NumPy 版本:  1.19.2\n"
     ]
    }
   ],
   "source": [
    "import numpy as np \n",
    "print( 'NumPy 版本: ', np.__version__ )"
   ]
  },
  {
   "cell_type": "code",
   "execution_count": 2,
   "id": "ec02d927",
   "metadata": {},
   "outputs": [
    {
     "data": {
      "text/plain": [
       "60.0"
      ]
     },
     "execution_count": 2,
     "metadata": {},
     "output_type": "execute_result"
    }
   ],
   "source": [
    "V1=20000\n",
    "20*np.log10(V1/20)"
   ]
  },
  {
   "cell_type": "markdown",
   "id": "1221907a",
   "metadata": {},
   "source": [
    "**2.30分貝的聲壓會是50分貝的幾倍?**"
   ]
  },
  {
   "cell_type": "code",
   "execution_count": 3,
   "id": "39fcf097",
   "metadata": {},
   "outputs": [
    {
     "data": {
      "text/plain": [
       "0.09999999999999999"
      ]
     },
     "execution_count": 3,
     "metadata": {},
     "output_type": "execute_result"
    }
   ],
   "source": [
    "#V1 = 10^(GdB/20)*20\n",
    "dB1=30\n",
    "dB2=50\n",
    "\n",
    "V3=10**(dB1/20)*20\n",
    "V5=10**(dB2/20)*20\n",
    "V3/V5"
   ]
  },
  {
   "cell_type": "code",
   "execution_count": null,
   "id": "843f316c",
   "metadata": {},
   "outputs": [],
   "source": []
  }
 ],
 "metadata": {
  "kernelspec": {
   "display_name": "Python 3",
   "language": "python",
   "name": "python3"
  },
  "language_info": {
   "codemirror_mode": {
    "name": "ipython",
    "version": 3
   },
   "file_extension": ".py",
   "mimetype": "text/x-python",
   "name": "python",
   "nbconvert_exporter": "python",
   "pygments_lexer": "ipython3",
   "version": "3.6.13"
  }
 },
 "nbformat": 4,
 "nbformat_minor": 5
}
