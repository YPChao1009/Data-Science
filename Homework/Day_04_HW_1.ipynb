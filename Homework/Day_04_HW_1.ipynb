{
 "cells": [
  {
   "cell_type": "markdown",
   "id": "7ffc246a",
   "metadata": {},
   "source": [
    "# [作業目標]:\n",
    "\n",
    "熟悉邏輯運算<br>\n",
    "\n",
    "# [作業重點]:\n",
    "五大類邏輯函式與其對應的函式操作"
   ]
  },
  {
   "cell_type": "markdown",
   "id": "c4ae0761",
   "metadata": {},
   "source": [
    "題目:<br>\n",
    "\n",
    "english_score = np.array([55,89,76,65,48,70])<br>\n",
    "\n",
    "math_score = np.array([60,85,60,68,55,60])<br>\n",
    "\n",
    "chinese_score = np.array([65,90,82,72,66,77])<br>\n",
    "\n",
    "上3列共六位同學的英文、數學、國文成績，\n",
    "\n",
    "第一個元素代表第一位同學，舉例第一位同學英文55分、數學60分、國文65分，\n",
    "\n",
    "運用上列數據回答下列問題。<br>\n",
    "\n",
    "1. 有多少學生英文成績比數學成績高?\n",
    "\n",
    "2. 是否全班同學最高分都是國文?\n",
    "\n",
    "\n"
   ]
  },
  {
   "cell_type": "code",
   "execution_count": 1,
   "id": "0a6a14c1",
   "metadata": {},
   "outputs": [
    {
     "name": "stdout",
     "output_type": "stream",
     "text": [
      "NumPy 版本:  1.19.2\n"
     ]
    }
   ],
   "source": [
    "import numpy as np\n",
    "print( 'NumPy 版本: ', np.__version__ )"
   ]
  },
  {
   "cell_type": "code",
   "execution_count": 2,
   "id": "bd4bcf0e",
   "metadata": {},
   "outputs": [],
   "source": [
    "english_score = np.array([55,89,76,65,48,70])\n",
    "\n",
    "math_score = np.array([60,85,60,68,55,60])\n",
    "\n",
    "chinese_score = np.array([65,90,82,72,66,77])"
   ]
  },
  {
   "cell_type": "markdown",
   "id": "eab461a1",
   "metadata": {},
   "source": [
    "**1. 有多少學生英文成績比數學成績高?**"
   ]
  },
  {
   "cell_type": "code",
   "execution_count": 3,
   "id": "e97d68aa",
   "metadata": {},
   "outputs": [
    {
     "data": {
      "text/plain": [
       "3"
      ]
     },
     "execution_count": 3,
     "metadata": {},
     "output_type": "execute_result"
    }
   ],
   "source": [
    "sum(np.greater(english_score,math_score))"
   ]
  },
  {
   "cell_type": "markdown",
   "id": "08138269",
   "metadata": {},
   "source": [
    "**2. 是否全班同學最高分都是國文?**"
   ]
  },
  {
   "cell_type": "code",
   "execution_count": 6,
   "id": "8832c519",
   "metadata": {},
   "outputs": [],
   "source": [
    "ChineseBest=np.logical_and(np.greater(chinese_score,english_score),np.greater(chinese_score,math_score))"
   ]
  },
  {
   "cell_type": "code",
   "execution_count": 7,
   "id": "ba03ff66",
   "metadata": {},
   "outputs": [
    {
     "data": {
      "text/plain": [
       "True"
      ]
     },
     "execution_count": 7,
     "metadata": {},
     "output_type": "execute_result"
    }
   ],
   "source": [
    "np.all(ChineseBest)"
   ]
  },
  {
   "cell_type": "code",
   "execution_count": null,
   "id": "d3c365ff",
   "metadata": {},
   "outputs": [],
   "source": []
  }
 ],
 "metadata": {
  "kernelspec": {
   "display_name": "Python 3",
   "language": "python",
   "name": "python3"
  },
  "language_info": {
   "codemirror_mode": {
    "name": "ipython",
    "version": 3
   },
   "file_extension": ".py",
   "mimetype": "text/x-python",
   "name": "python",
   "nbconvert_exporter": "python",
   "pygments_lexer": "ipython3",
   "version": "3.6.13"
  }
 },
 "nbformat": 4,
 "nbformat_minor": 5
}
