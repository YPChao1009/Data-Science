{
 "cells": [
  {
   "cell_type": "markdown",
   "id": "13e46bc4",
   "metadata": {},
   "source": [
    "# [作業目標]\n",
    "\n",
    "1. [簡答題] 請問下列這三種方法有什麼不同？\n",
    "\n",
    "```\n",
    "print(a.sum()) \n",
    "print(np.sum(a))\n",
    "print(sum(a)) \n",
    "```\n",
    "\n",
    "2. 請對一個 5x5 的隨機矩陣作正規化的操作。\n",
    "\n",
    "3. 請建立一個長度等於 10 的正整數向量，並且將其中的最大值改成 -1。\n"
   ]
  },
  {
   "cell_type": "markdown",
   "id": "ed9c847f",
   "metadata": {},
   "source": [
    "**1. [簡答題] 請問下列這三種方法有什麼不同？**\n",
    "\n",
    "```\n",
    "print(a.sum()) \n",
    "print(np.sum(a))\n",
    "print(sum(a)) \n",
    "```"
   ]
  },
  {
   "cell_type": "code",
   "execution_count": 1,
   "id": "c0b83916",
   "metadata": {},
   "outputs": [
    {
     "name": "stdout",
     "output_type": "stream",
     "text": [
      "NumPy 版本:  1.19.2\n"
     ]
    }
   ],
   "source": [
    "import numpy as np\n",
    "print( 'NumPy 版本: ', np.__version__ )"
   ]
  },
  {
   "cell_type": "code",
   "execution_count": 2,
   "id": "1227e52a",
   "metadata": {},
   "outputs": [],
   "source": [
    "a = np.random.randint(10, size=6) "
   ]
  },
  {
   "cell_type": "code",
   "execution_count": 3,
   "id": "a2f2971a",
   "metadata": {},
   "outputs": [
    {
     "name": "stdout",
     "output_type": "stream",
     "text": [
      "40\n",
      "40\n",
      "40\n"
     ]
    }
   ],
   "source": [
    "print(a.sum()) \n",
    "print(np.sum(a))\n",
    "print(sum(a)) "
   ]
  },
  {
   "cell_type": "markdown",
   "id": "abf610ed",
   "metadata": {},
   "source": [
    "Ans:<br>\n",
    "    sum() 是 python 內建的函式，所有型態皆可以用。<br>\n",
    "    np.sum(a) 跟 a.sum() 是陣列專有的函式，差別在於定義在 np 或是 array 底下。"
   ]
  },
  {
   "cell_type": "markdown",
   "id": "0e77f13c",
   "metadata": {},
   "source": [
    "**2. 請對一個 5x5 的隨機矩陣作正規化的操作。**"
   ]
  },
  {
   "cell_type": "code",
   "execution_count": 4,
   "id": "0611ff80",
   "metadata": {},
   "outputs": [
    {
     "data": {
      "text/plain": [
       "array([[0.35015546, 0.61233895, 0.36170536, 0.77764934, 0.02330703],\n",
       "       [0.45210023, 0.14214309, 0.31425328, 0.04733821, 0.18254877],\n",
       "       [0.10385734, 0.01309141, 0.26725069, 1.        , 0.47583865],\n",
       "       [0.86056322, 0.23054331, 0.74030512, 0.        , 0.25394335],\n",
       "       [0.80418995, 0.05310815, 0.5975793 , 0.55031541, 0.82443498]])"
      ]
     },
     "execution_count": 4,
     "metadata": {},
     "output_type": "execute_result"
    }
   ],
   "source": [
    "A = np.random.random((5, 5))\n",
    "\n",
    "A = (A - A.min()) / (A.max() - A.min())\n",
    "A"
   ]
  },
  {
   "cell_type": "markdown",
   "id": "71344afe",
   "metadata": {},
   "source": [
    "**3. 請建立一個長度等於 10 的正整數向量，並且將其中的最大值改成 -1。**"
   ]
  },
  {
   "cell_type": "code",
   "execution_count": 8,
   "id": "a4003f10",
   "metadata": {},
   "outputs": [
    {
     "name": "stdout",
     "output_type": "stream",
     "text": [
      "[-1.          0.56085338  0.00758643  0.32930707  0.36644545  0.20994226\n",
      "  0.06379969  0.33599011  0.55527465  0.00973417]\n"
     ]
    }
   ],
   "source": [
    "Z = np.random.random(10)\n",
    "Z[Z.argmax()] = -1\n",
    "print (Z)"
   ]
  },
  {
   "cell_type": "code",
   "execution_count": null,
   "id": "7f383f4a",
   "metadata": {},
   "outputs": [],
   "source": []
  }
 ],
 "metadata": {
  "kernelspec": {
   "display_name": "Python 3",
   "language": "python",
   "name": "python3"
  },
  "language_info": {
   "codemirror_mode": {
    "name": "ipython",
    "version": 3
   },
   "file_extension": ".py",
   "mimetype": "text/x-python",
   "name": "python",
   "nbconvert_exporter": "python",
   "pygments_lexer": "ipython3",
   "version": "3.6.13"
  }
 },
 "nbformat": 4,
 "nbformat_minor": 5
}
