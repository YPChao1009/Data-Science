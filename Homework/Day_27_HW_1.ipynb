{
 "cells": [
  {
   "cell_type": "markdown",
   "id": "77a7292d",
   "metadata": {},
   "source": [
    "## 作業:\n",
    "\n",
    "離散均勻分布( Discrete Uniform Distribution )   \n",
    "伯努利分布( Bernoulli Distribution )   \n",
    "二項分布(Binomial Distribution)  "
   ]
  },
  {
   "cell_type": "markdown",
   "id": "5ae8e3e7",
   "metadata": {},
   "source": [
    "**丟一個銅板，丟了100次，出現正面 50 次的機率有多大。**\n",
    "(提示: 先想是哪一種分布，然後透過 python 語法進行計算)\n"
   ]
  },
  {
   "cell_type": "code",
   "execution_count": 1,
   "id": "b49e0656",
   "metadata": {},
   "outputs": [],
   "source": [
    "# library\n",
    "import matplotlib.pyplot as plt\n",
    "import numpy as np\n",
    "import pandas as pd\n",
    "from scipy import stats\n",
    "import math\n",
    "import statistics"
   ]
  },
  {
   "cell_type": "markdown",
   "id": "b3f932ef",
   "metadata": {},
   "source": [
    "答案 :\n",
    "    \n",
    "二項分布(Binomial Distribution) <br> \n",
    "**二項分布即重複n次獨立的伯努利試驗**\n",
    "\n",
    "- 機率質量函數（Probability Mass Function，PMF）:\n",
    "\n",
    "  是離散隨機變數在各特定取值上的機率\n",
    "\n",
    "  Probability Mass Function (PMF):<br>\n",
    "  `stats.binom.pmf(r, n, p)`                    #重複實驗n次<br>\n"
   ]
  },
  {
   "cell_type": "code",
   "execution_count": 4,
   "id": "deead21b",
   "metadata": {},
   "outputs": [
    {
     "name": "stdout",
     "output_type": "stream",
     "text": [
      "0.07958923738717888\n"
     ]
    }
   ],
   "source": [
    "# 這是 bermoulli分配\n",
    "p = 0.5 # 假設是公平硬幣\n",
    "n = 100  # 重複實驗 100次,\n",
    "r = 50 # 計算出現50次正面\n",
    "\n",
    "\n",
    "# 2.計算二項分佈的概率質量分佈 (probability mass function)\n",
    "# 之所以稱為質量，是因為離散的點\n",
    "# P(X=x) --> 是機率\n",
    "probs = stats.binom.pmf(r, n, p)\n",
    "print(probs)"
   ]
  },
  {
   "cell_type": "code",
   "execution_count": 3,
   "id": "203852d4",
   "metadata": {},
   "outputs": [
    {
     "data": {
      "image/png": "[encoded data removed]",
      "text/plain": [
       "<Figure size 720x360 with 1 Axes>"
      ]
     },
     "metadata": {
      "needs_background": "light"
     },
     "output_type": "display_data"
    }
   ],
   "source": [
    "p = 0.5                # 假設銅板出現正面的機率為 50%\n",
    "n = 100                # 重複 100 次伯努利實驗( Bernoulli trial ) \n",
    "r = np.arange(0,101)   # 出現正面的可能總次數\n",
    "\n",
    "plt.figure( figsize=(10,5) )\n",
    "plt.bar( r, stats.binom.pmf(r, n, p) )\n",
    "plt.ylabel( 'P(X=x)' )\n",
    "plt.xlabel( 'x' )\n",
    "plt.title( 'Binomial(n=100,p=0.5)' )\n",
    "plt.show( )"
   ]
  },
  {
   "cell_type": "code",
   "execution_count": null,
   "id": "1af1ef0b",
   "metadata": {},
   "outputs": [],
   "source": []
  }
 ],
 "metadata": {
  "kernelspec": {
   "display_name": "Python 3",
   "language": "python",
   "name": "python3"
  },
  "language_info": {
   "codemirror_mode": {
    "name": "ipython",
    "version": 3
   },
   "file_extension": ".py",
   "mimetype": "text/x-python",
   "name": "python",
   "nbconvert_exporter": "python",
   "pygments_lexer": "ipython3",
   "version": "3.6.13"
  }
 },
 "nbformat": 4,
 "nbformat_minor": 5
}
