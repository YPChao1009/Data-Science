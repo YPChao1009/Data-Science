{
 "cells": [
  {
   "cell_type": "markdown",
   "id": "8be4c0bc",
   "metadata": {},
   "source": [
    "# [作業目標]\n",
    "\n",
    "**Hint:**<br>\n",
    "**NumPy 陣列的常用屬性**\n",
    "\n",
    "|屬性|說明|\n",
    "|---|---|\n",
    "|shape|陣列的形狀|\n",
    "|ndim|陣列的維度數目，也就是軸(axis)的數目|\n",
    "|dtype|陣列元素的資料型別|\n",
    "|size|陣列元素的數目|\n",
    "|flat|陣列的一維迭代器|\n",
    "|T|陣列轉置|\n",
    "|real|陣列元素複數(complex number)的實數部分|\n",
    "|imag|陣列元素複數(complex number)的虚數部分|\n",
    "|data|顯示buffer物件，指向陣列資料的開始位址|\n",
    "|itemsize|每個元素的記憶體使用量|\n",
    "|nbytes|陣列所有元素的記憶體使用量|\n",
    "|strides|往相郼元素移動時需要的byte數|\n",
    "\n",
    "**使用隨機函式產生陣列的元素**<br>\n",
    "\n",
    "下列是常用的函式及簡介：<br>\n",
    "\n",
    "|函式|說明|產生數值區間|隨機數資料型別|隨機數分佈|\n",
    "|---|---|---|---|---|\n",
    "|rand()|隨機產生指定形狀(shape)的陣列|[0, 1)|浮點數|連續型均勻分布|\n",
    "|randn()|隨機產生指定形狀(shape)的陣列|(-1, 1)|浮點數|常態分佈|\n",
    "|randint((low[, high, size, dtype]))|隨機產生設定區間元素|[low, high)|整數|離散型均勻分布|\n",
    "|random_sample([size])|隨機產生指定大小的一維陣列|[0.0, 1.0)|浮點數|連續型均勻分布|\n",
    "|random([size])|隨機產生指定大小的一維陣列|[0.0, 1.0)|浮點數|連續型均勻分布|\n",
    "|randf([size])|隨機產生指定大小的一維陣列|[0.0, 1.0)|浮點數|連續型均勻分布|\n",
    "|sample([size])|隨機產生指定大小的一維陣列|[0.0, 1.0)|浮點數|連續型均勻分布|\n",
    "\n",
    "<br><br>\n",
    "\n",
    "1. [簡答題] 請問下列兩種將 Array 轉換成 List 的方式有何不同？\n",
    "\n",
    "```\n",
    "print('list(a): ', list(a))\n",
    "print('tolist(): ', a.tolist())\n",
    "```\n",
    "\n",
    "2. 請試著在程式中印出以下三個 NdArray 的屬性？（屬性：ndim、shape、size、dtype、itemsize、length、type）\n",
    "\n",
    "```\n",
    "a = np.random.randint(10, size=6) \n",
    "b = np.random.randint(10, size=(3,4)) \n",
    "c = np.random.randint(10, size=(2,3,2)) \n",
    "```\n",
    "\n",
    "3. 如何利用 list(...) 實現 a.tolist() 的效果？試著用程式實作\n"
   ]
  },
  {
   "cell_type": "markdown",
   "id": "e3da75e5",
   "metadata": {},
   "source": [
    "**1. [簡答題] 請問下列兩種將 Array 轉換成 List 的方式有何不同？**\n",
    "\n",
    "```\n",
    "print('list(a): ', list(a))\n",
    "print('tolist(): ', a.tolist())\n",
    "```\n",
    "Hint: tolist() 方法可以將NumPy 陣列轉換為列表"
   ]
  },
  {
   "cell_type": "code",
   "execution_count": 1,
   "id": "14007748",
   "metadata": {},
   "outputs": [
    {
     "name": "stdout",
     "output_type": "stream",
     "text": [
      "NumPy 版本:  1.19.2\n"
     ]
    }
   ],
   "source": [
    "import numpy as np\n",
    "print( 'NumPy 版本: ', np.__version__ )"
   ]
  },
  {
   "cell_type": "code",
   "execution_count": 4,
   "id": "53d5e50f",
   "metadata": {},
   "outputs": [
    {
     "name": "stdout",
     "output_type": "stream",
     "text": [
      "list(a):  [7, 7, 3, 8, 6, 1]\n",
      "tolist():  [7, 7, 3, 8, 6, 1]\n",
      "list(b):  [array([7, 7]), array([3, 8]), array([6, 1])]\n",
      "b.tolist():  [[7, 7], [3, 8], [6, 1]]\n"
     ]
    }
   ],
   "source": [
    "a = np.random.randint(10, size=6) \n",
    "\n",
    "print('list(a): ', list(a))\n",
    "print('tolist(): ', a.tolist())\n",
    "\n",
    "b = a.reshape(3,2)\n",
    "\n",
    "print('list(b): ', list(b))\n",
    "print('b.tolist(): ', b.tolist())"
   ]
  },
  {
   "cell_type": "markdown",
   "id": "8ee8dc88",
   "metadata": {},
   "source": [
    "**2. 請試著在程式中印出以下三個 NdArray 的屬性？（屬性：ndim、shape、size、dtype、itemsize、length、type）**\n",
    "\n",
    "```\n",
    "a = np.random.randint(10, size=6) \n",
    "b = np.random.randint(10, size=(3,4)) \n",
    "c = np.random.randint(10, size=(2,3,2)) \n",
    "```"
   ]
  },
  {
   "cell_type": "code",
   "execution_count": 15,
   "id": "0532ca79",
   "metadata": {},
   "outputs": [
    {
     "name": "stdout",
     "output_type": "stream",
     "text": [
      "a:  [0 9 8 1 3 7]\n",
      "ndim:  1\n",
      "shape:  (6,)\n",
      "size:  6\n",
      "dtype:  int32\n",
      "itemsize:  4\n",
      "length:  6\n",
      "type:  <class 'numpy.ndarray'>\n",
      "data:  <memory at 0x00000283F7D05D08>\n"
     ]
    }
   ],
   "source": [
    "a = np.random.randint(10, size=6) \n",
    "\n",
    "print('a: ',a)\n",
    "print('ndim: ', a.ndim)\n",
    "print('shape: ', a.shape)\n",
    "print('size: ', a.size)\n",
    "print('dtype: ', a.dtype)\n",
    "print('itemsize: ', a.itemsize)\n",
    "print('length: ', len(a))\n",
    "print('type: ', type(a))\n",
    "print('data: ', a.data)"
   ]
  },
  {
   "cell_type": "code",
   "execution_count": 16,
   "id": "18d202ec",
   "metadata": {},
   "outputs": [
    {
     "name": "stdout",
     "output_type": "stream",
     "text": [
      "b: \n",
      " [[4 9 3 1]\n",
      " [9 9 1 8]\n",
      " [8 1 2 6]]\n",
      "ndim:  2\n",
      "shape:  (3, 4)\n",
      "size:  12\n",
      "dtype:  int32\n",
      "itemsize:  4\n",
      "length:  3\n",
      "type:  <class 'numpy.ndarray'>\n",
      "data:  <memory at 0x00000283F6757C18>\n"
     ]
    }
   ],
   "source": [
    "b = np.random.randint(10, size=(3,4)) \n",
    "\n",
    "print('b: \\n',b)\n",
    "print('ndim: ', b.ndim)\n",
    "print('shape: ', b.shape)\n",
    "print('size: ', b.size)\n",
    "print('dtype: ', b.dtype)\n",
    "print('itemsize: ', b.itemsize)\n",
    "print('length: ', len(b))\n",
    "print('type: ', type(b))\n",
    "print('data: ', b.data)"
   ]
  },
  {
   "cell_type": "code",
   "execution_count": 17,
   "id": "d6c1846c",
   "metadata": {},
   "outputs": [
    {
     "name": "stdout",
     "output_type": "stream",
     "text": [
      "c: \n",
      " [[[2 4]\n",
      "  [3 2]\n",
      "  [4 4]]\n",
      "\n",
      " [[7 8]\n",
      "  [6 5]\n",
      "  [2 8]]]\n",
      "ndim:  3\n",
      "shape:  (2, 3, 2)\n",
      "size:  12\n",
      "dtype:  int32\n",
      "itemsize:  4\n",
      "length:  2\n",
      "type:  <class 'numpy.ndarray'>\n",
      "data:  <memory at 0x00000283F7E48228>\n"
     ]
    }
   ],
   "source": [
    "c = np.random.randint(10, size=(2,3,2)) \n",
    "\n",
    "print('c: \\n',c)\n",
    "print('ndim: ', c.ndim)\n",
    "print('shape: ', c.shape)\n",
    "print('size: ', c.size)\n",
    "print('dtype: ', c.dtype)\n",
    "print('itemsize: ', c.itemsize)\n",
    "print('length: ', len(c))\n",
    "print('type: ', type(c))\n",
    "print('data: ', c.data)"
   ]
  },
  {
   "cell_type": "markdown",
   "id": "f16849a0",
   "metadata": {},
   "source": [
    "**3. 如何利用 list(...) 實現 a.tolist() 的效果？試著用程式實作**"
   ]
  },
  {
   "cell_type": "code",
   "execution_count": 18,
   "id": "84c4e380",
   "metadata": {},
   "outputs": [
    {
     "name": "stdout",
     "output_type": "stream",
     "text": [
      "list(a):  [5, 5, 1, 9, 5, 3]\n",
      "tolist():  [5, 5, 1, 9, 5, 3]\n"
     ]
    }
   ],
   "source": [
    "a = np.random.randint(10, size=6)\n",
    "print('list(a): ', list(a))\n",
    "print('tolist(): ', a.tolist())"
   ]
  },
  {
   "cell_type": "code",
   "execution_count": 19,
   "id": "592ab513",
   "metadata": {},
   "outputs": [
    {
     "name": "stdout",
     "output_type": "stream",
     "text": [
      "list(b):  [array([2, 2, 6, 8]), array([0, 7, 4, 6]), array([8, 4, 9, 8])]\n",
      "tolist():  [[2, 2, 6, 8], [0, 7, 4, 6], [8, 4, 9, 8]]\n"
     ]
    }
   ],
   "source": [
    "b = np.random.randint(10, size=(3,4)) \n",
    "print('list(b): ', list(b))\n",
    "print('tolist(): ', b.tolist())"
   ]
  },
  {
   "cell_type": "code",
   "execution_count": 21,
   "id": "d9bcd119",
   "metadata": {},
   "outputs": [
    {
     "name": "stdout",
     "output_type": "stream",
     "text": [
      "list(c): \n",
      " [array([[9, 2],\n",
      "       [4, 2],\n",
      "       [6, 5]]), array([[2, 2],\n",
      "       [6, 6],\n",
      "       [1, 9]])]\n",
      "tolist():  [[[9, 2], [4, 2], [6, 5]], [[2, 2], [6, 6], [1, 9]]]\n"
     ]
    }
   ],
   "source": [
    "c = np.random.randint(10, size=(2,3,2)) \n",
    "print('list(c): \\n', list(c))\n",
    "print('tolist(): ', c.tolist())"
   ]
  },
  {
   "cell_type": "code",
   "execution_count": 22,
   "id": "d23ac6ff",
   "metadata": {},
   "outputs": [
    {
     "name": "stdout",
     "output_type": "stream",
     "text": [
      "[5, 5, 1, 9, 5, 3]\n",
      "[[2, 2, 6, 8], [0, 7, 4, 6], [8, 4, 9, 8]]\n",
      "[[[9, 2], [4, 2], [6, 5]], [[2, 2], [6, 6], [1, 9]]]\n"
     ]
    }
   ],
   "source": [
    "def tolist(iterable):\n",
    "    if type(iterable) != np.ndarray:\n",
    "        return iterable\n",
    "    newlist = []\n",
    "    for obj in iterable:\n",
    "        newlist.append(tolist(obj))\n",
    "    return list(newlist)\n",
    "\n",
    "print(tolist(a))\n",
    "print(tolist(b))\n",
    "print(tolist(c))"
   ]
  },
  {
   "cell_type": "code",
   "execution_count": null,
   "id": "888507cb",
   "metadata": {},
   "outputs": [],
   "source": []
  }
 ],
 "metadata": {
  "kernelspec": {
   "display_name": "Python 3",
   "language": "python",
   "name": "python3"
  },
  "language_info": {
   "codemirror_mode": {
    "name": "ipython",
    "version": 3
   },
   "file_extension": ".py",
   "mimetype": "text/x-python",
   "name": "python",
   "nbconvert_exporter": "python",
   "pygments_lexer": "ipython3",
   "version": "3.6.13"
  }
 },
 "nbformat": 4,
 "nbformat_minor": 5
}
